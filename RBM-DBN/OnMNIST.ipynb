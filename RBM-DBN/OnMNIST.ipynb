{
 "cells": [
  {
   "cell_type": "code",
   "execution_count": 2,
   "metadata": {},
   "outputs": [],
   "source": [
    "%load_ext autoreload\n",
    "%autoreload 2"
   ]
  },
  {
   "attachments": {},
   "cell_type": "markdown",
   "metadata": {},
   "source": [
    "# Hyperparameters"
   ]
  },
  {
   "cell_type": "code",
   "execution_count": 1,
   "metadata": {},
   "outputs": [],
   "source": [
    "v_dim = 784 # 28 * 28"
   ]
  },
  {
   "attachments": {},
   "cell_type": "markdown",
   "metadata": {},
   "source": [
    "# Load MNIST Data"
   ]
  },
  {
   "cell_type": "code",
   "execution_count": 4,
   "metadata": {},
   "outputs": [],
   "source": [
    "import torch\n",
    "import torchvision\n",
    "from torchvision import transforms\n",
    "from utils import *\n",
    "import pickle"
   ]
  },
  {
   "attachments": {},
   "cell_type": "markdown",
   "metadata": {},
   "source": [
    "# DNN"
   ]
  },
  {
   "cell_type": "code",
   "execution_count": 5,
   "metadata": {},
   "outputs": [
    {
     "name": "stdout",
     "output_type": "stream",
     "text": [
      "pretraining...\n"
     ]
    },
    {
     "name": "stderr",
     "output_type": "stream",
     "text": [
      "layer 0: 100%|██████████| 100/100 [21:27<00:00, 12.88s/epochs, l2_loss=0.0322]\n",
      "layer 1: 100%|██████████| 100/100 [08:47<00:00,  5.28s/epochs, l2_loss=0.106]\n",
      "layer 2: 100%|██████████| 100/100 [08:40<00:00,  5.20s/epochs, l2_loss=0.0848]\n",
      "layer 3: 100%|██████████| 100/100 [09:13<00:00,  5.53s/epochs, l2_loss=0.132]\n",
      "layer 4: 100%|██████████| 100/100 [07:32<00:00,  4.52s/epochs, l2_loss=0.108]\n"
     ]
    },
    {
     "name": "stdout",
     "output_type": "stream",
     "text": [
      "pretrained model saved to ./pretrained/dbn_pretrained_200_200_200_200_200.pkl\n"
     ]
    }
   ],
   "source": [
    "from model.MNISTDNN import MNISTDNN\n",
    "dnn = MNISTDNN(h_dims=[200, 200, 200, 200, 200], pretrain=True, data_dir='./data', data_size=60000, save_pretrain_path='./pretrained/', load_pretrain_path=None)"
   ]
  },
  {
   "cell_type": "code",
   "execution_count": 6,
   "metadata": {},
   "outputs": [
    {
     "name": "stderr",
     "output_type": "stream",
     "text": [
      "GPU available: True (cuda), used: True\n",
      "TPU available: False, using: 0 TPU cores\n",
      "IPU available: False, using: 0 IPUs\n",
      "HPU available: False, using: 0 HPUs\n",
      "LOCAL_RANK: 0 - CUDA_VISIBLE_DEVICES: [0]\n",
      "\n",
      "  | Name      | Type               | Params\n",
      "-------------------------------------------------\n",
      "0 | train_acc | MulticlassAccuracy | 0     \n",
      "1 | val_acc   | MulticlassAccuracy | 0     \n",
      "2 | test_acc  | MulticlassAccuracy | 0     \n",
      "3 | dnn       | DNN                | 319 K \n",
      "-------------------------------------------------\n",
      "319 K     Trainable params\n",
      "0         Non-trainable params\n",
      "319 K     Total params\n",
      "1.279     Total estimated model params size (MB)\n"
     ]
    },
    {
     "data": {
      "application/vnd.jupyter.widget-view+json": {
       "model_id": "8eb2bd06f0f24f2090a1f5804e15ed21",
       "version_major": 2,
       "version_minor": 0
      },
      "text/plain": [
       "Training: 0it [00:00, ?it/s]"
      ]
     },
     "metadata": {},
     "output_type": "display_data"
    },
    {
     "name": "stderr",
     "output_type": "stream",
     "text": [
      "d:\\anaconda\\lib\\site-packages\\pytorch_lightning\\trainer\\call.py:48: UserWarning: Detected KeyboardInterrupt, attempting graceful shutdown...\n",
      "  rank_zero_warn(\"Detected KeyboardInterrupt, attempting graceful shutdown...\")\n",
      "Exception ignored in: <function _MultiProcessingDataLoaderIter.__del__ at 0x000001F5150308B0>\n",
      "Traceback (most recent call last):\n",
      "  File \"d:\\anaconda\\lib\\site-packages\\torch\\utils\\data\\dataloader.py\", line 1466, in __del__\n",
      "    self._shutdown_workers()\n",
      "  File \"d:\\anaconda\\lib\\site-packages\\torch\\utils\\data\\dataloader.py\", line 1424, in _shutdown_workers\n",
      "    if self._persistent_workers or self._workers_status[worker_id]:\n",
      "AttributeError: '_MultiProcessingDataLoaderIter' object has no attribute '_workers_status'\n"
     ]
    }
   ],
   "source": [
    "from pytorch_lightning import Trainer\n",
    "from pytorch_lightning.loggers import CSVLogger\n",
    "logger = CSVLogger('.')\n",
    "trainer = Trainer(logger=logger, max_epochs=200, accelerator='gpu', enable_progress_bar=True)\n",
    "trainer.fit(dnn)"
   ]
  },
  {
   "cell_type": "code",
   "execution_count": 7,
   "metadata": {},
   "outputs": [
    {
     "name": "stderr",
     "output_type": "stream",
     "text": [
      "LOCAL_RANK: 0 - CUDA_VISIBLE_DEVICES: [0]\n"
     ]
    },
    {
     "data": {
      "application/vnd.jupyter.widget-view+json": {
       "model_id": "0b21e547454349bfbda08b1fdd616f08",
       "version_major": 2,
       "version_minor": 0
      },
      "text/plain": [
       "Testing: 0it [00:00, ?it/s]"
      ]
     },
     "metadata": {},
     "output_type": "display_data"
    },
    {
     "name": "stdout",
     "output_type": "stream",
     "text": [
      "────────────────────────────────────────────────────────────────────────────────────────────────────────────────────────\n",
      "       Test metric             DataLoader 0\n",
      "────────────────────────────────────────────────────────────────────────────────────────────────────────────────────────\n",
      "        test_acc            0.9804999828338623\n",
      "        test_loss           0.10524427145719528\n",
      "────────────────────────────────────────────────────────────────────────────────────────────────────────────────────────\n"
     ]
    },
    {
     "data": {
      "text/plain": [
       "[{'test_loss': 0.10524427145719528, 'test_acc': 0.9804999828338623}]"
      ]
     },
     "execution_count": 7,
     "metadata": {},
     "output_type": "execute_result"
    }
   ],
   "source": [
    "trainer.test(dnn)"
   ]
  },
  {
   "attachments": {},
   "cell_type": "markdown",
   "metadata": {},
   "source": [
    "# Analysis"
   ]
  },
  {
   "cell_type": "code",
   "execution_count": null,
   "metadata": {},
   "outputs": [],
   "source": [
    "def do_experiment(h_dims, pretrain, data_size, save_pretrain_path='./pretrained/'):\n",
    "\tdnn = MNISTDNN(h_dims=h_dims, pretrain=pretrain, data_dir='./data', data_size=data_size, save_pretrain_path=save_pretrain_path, load_pretrain_path='./pretrained/')\n",
    "\tlogger = CSVLogger('.')\n",
    "\ttrainer = Trainer(logger=logger, max_epochs=200, accelerator='gpu', enable_progress_bar=True)\n",
    "\ttrainer.fit(dnn)\n",
    "\ttrainer.test(dnn)"
   ]
  },
  {
   "cell_type": "code",
   "execution_count": null,
   "metadata": {},
   "outputs": [],
   "source": [
    "do_experiment(h_dims=[200,200],pretrain=True, data_size=60000)\n",
    "do_experiment(h_dims=[200,200],pretrain=False, data_size=60000)\n",
    "do_experiment(h_dims=[200,200,200],pretrain=True, data_size=60000)\n",
    "do_experiment(h_dims=[200,200,200],pretrain=False, data_size=60000)\n",
    "do_experiment(h_dims=[200,200,200,200],pretrain=True, data_size=60000)\n",
    "do_experiment(h_dims=[200,200,200,200],pretrain=False, data_size=60000)\n",
    "do_experiment(h_dims=[200,200,200,200,200],pretrain=True, data_size=60000)\n",
    "do_experiment(h_dims=[200,200,200,200,200],pretrain=False, data_size=60000)\n",
    "\n",
    "do_experiment(h_dims=[100,100],pretrain=True, data_size=60000)\n",
    "do_experiment(h_dims=[100,100],pretrain=False, data_size=60000)\n",
    "do_experiment(h_dims=[300,300],pretrain=True, data_size=60000)\n",
    "do_experiment(h_dims=[300,300],pretrain=False, data_size=60000)\n",
    "do_experiment(h_dims=[500,500],pretrain=True, data_size=60000)\n",
    "do_experiment(h_dims=[500,500],pretrain=False, data_size=60000)\n",
    "do_experiment(h_dims=[700,700],pretrain=True, data_size=60000)\n",
    "do_experiment(h_dims=[700,700],pretrain=False, data_size=60000)\n"
   ]
  },
  {
   "cell_type": "code",
   "execution_count": null,
   "metadata": {},
   "outputs": [],
   "source": [
    "do_experiment(h_dims=[200,200],pretrain=True, data_size=1000, save_pretrain_path='./pretrained/1000/')\n",
    "do_experiment(h_dims=[200,200],pretrain=False, data_size=1000)\n",
    "do_experiment(h_dims=[200,200],pretrain=True, data_size=3000, save_pretrain_path='./pretrained/3000/')\n",
    "do_experiment(h_dims=[200,200],pretrain=False, data_size=3000)\n",
    "do_experiment(h_dims=[200,200],pretrain=True, data_size=7000, save_pretrain_path='./pretrained/7000/')\n",
    "do_experiment(h_dims=[200,200],pretrain=False, data_size=7000)\n",
    "do_experiment(h_dims=[200,200],pretrain=True, data_size=10000, save_pretrain_path='./pretrained/10000/')\n",
    "do_experiment(h_dims=[200,200],pretrain=False, data_size=10000)\n",
    "do_experiment(h_dims=[200,200],pretrain=True, data_size=30000, save_pretrain_path='./pretrained/30000/')\n",
    "do_experiment(h_dims=[200,200],pretrain=False, data_size=30000)"
   ]
  }
 ],
 "metadata": {
  "kernelspec": {
   "display_name": "base",
   "language": "python",
   "name": "python3"
  },
  "language_info": {
   "codemirror_mode": {
    "name": "ipython",
    "version": 3
   },
   "file_extension": ".py",
   "mimetype": "text/x-python",
   "name": "python",
   "nbconvert_exporter": "python",
   "pygments_lexer": "ipython3",
   "version": "3.9.15"
  },
  "orig_nbformat": 4,
  "vscode": {
   "interpreter": {
    "hash": "5179d32cf6ec497baf3f8a3ef987cc77c5d2dc691fdde20a56316522f61a7323"
   }
  }
 },
 "nbformat": 4,
 "nbformat_minor": 2
}
