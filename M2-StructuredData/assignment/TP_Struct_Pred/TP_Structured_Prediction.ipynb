{
 "cells": [
  {
   "cell_type": "code",
   "execution_count": 1,
   "id": "d845c513",
   "metadata": {},
   "outputs": [],
   "source": [
    "%load_ext autoreload\n",
    "%autoreload 2"
   ]
  },
  {
   "cell_type": "markdown",
   "metadata": {},
   "source": [
    "**Import**"
   ]
  },
  {
   "cell_type": "code",
   "execution_count": 2,
   "metadata": {},
   "outputs": [
    {
     "name": "stdout",
     "output_type": "stream",
     "text": [
      "Collecting liac-arff\n",
      "  Downloading liac-arff-2.5.0.tar.gz (13 kB)\n",
      "  Preparing metadata (setup.py): started\n",
      "  Preparing metadata (setup.py): finished with status 'done'\n",
      "Building wheels for collected packages: liac-arff\n",
      "  Building wheel for liac-arff (setup.py): started\n",
      "  Building wheel for liac-arff (setup.py): finished with status 'done'\n",
      "  Created wheel for liac-arff: filename=liac_arff-2.5.0-py3-none-any.whl size=11727 sha256=81aedbd385f878bafaabda8a816d17af0de2ad1c2a7b1eb1b6819f7a2a889c6c\n",
      "  Stored in directory: c:\\users\\pc\\appdata\\local\\pip\\cache\\wheels\\cb\\9b\\84\\26c4ed30c02e893caea7e0d9e1bb45e0fb2e06998250c64f5e\n",
      "Successfully built liac-arff\n",
      "Installing collected packages: liac-arff\n",
      "Successfully installed liac-arff-2.5.0\n"
     ]
    }
   ],
   "source": [
    "!pip install liac-arff"
   ]
  },
  {
   "cell_type": "code",
   "execution_count": 2,
   "metadata": {},
   "outputs": [],
   "source": [
    "import os\n",
    "import time\n",
    "import numpy as np\n",
    "\n",
    "# torch\n",
    "import torch\n",
    "import torch.nn as nn\n",
    "import arff\n",
    "\n",
    "# sklearn\n",
    "from sklearn.model_selection import KFold\n",
    "from sklearn.metrics.pairwise import rbf_kernel\n",
    "from sklearn.metrics import f1_score\n",
    "\n",
    "# spen\n",
    "from src.multilabel_classification.feature_network import FeatureNetwork\n",
    "from src.multilabel_classification.spen_multilabel import SPENClassification\n",
    "from src.multilabel_classification.utils import (\n",
    "    PATH_MODELS_ML_BIB, PATH_BIBTEX, train_for_num_epochs\n",
    ")\n",
    "from utils_data import get_bibtex, load_data_loader\n",
    "from src.multilabel_classification.feature_network import FILE_FEATURE_NETWORK"
   ]
  },
  {
   "cell_type": "markdown",
   "metadata": {},
   "source": [
    "# Practical Session on Structured Prediction\n",
    "\n",
    "This practical session is divided in two parts, each one being dedicated to a structured prediction algorithm.\n",
    "\n",
    "- Part 1. Input output kernel regression method (IOKR)\n",
    "- Part 2. Structured prediction energy network (SPEN)"
   ]
  },
  {
   "cell_type": "markdown",
   "metadata": {},
   "source": [
    "**References**\n",
    "\n",
    "[1] Belanger, David, and Andrew McCallum. \"Structured prediction energy networks.\" International Conference on Machine Learning. PMLR, 2016.\n",
    "\n",
    "[2] Brouard, Céline, Marie Szafranski, and Florence d'Alché-Buc. \"Input output kernel regression: Supervised and semi-supervised structured output prediction with operator-valued kernels.\" Journal of Machine Learning Research 17 (2016).\n",
    "\n",
    "[3] Tsochantaridis, Ioannis, et al. \"Support vector machine learning for interdependent and structured output spaces.\" Proceedings of the twenty-first international conference on Machine learning. 2004.\n",
    "\n",
    "[4] Katakis, Ioannis, Grigorios Tsoumakas, and Ioannis Vlahavas. \"Multilabel text classification for automated tag suggestion.\" Proceedings of the ECML/PKDD. Vol. 18. 2008."
   ]
  },
  {
   "cell_type": "markdown",
   "metadata": {},
   "source": [
    "## Structured prediction\n",
    "\n",
    "Recall that in structured prediction the goal is to learn a map $f: \\mathcal{X} \\rightarrow \\mathcal{Y}$ from an input space $\\mathcal{X}$ to an output space $\\mathcal{Y}$, thanks to a finite set of training points $(x_i, y_i)_{i=1}^n$, that minimizes the following risk\n",
    "\n",
    "$$\\mathbb{E}_{\\rho}[l(f(x), y)]$$\n",
    "\n",
    "for a given loss $l(\\hat y, y)$ defining the discrepancy between a predicted output $\\hat y $ and a true output $y$, and $\\rho$ is an unknown distribution on $\\mathcal{X} \\times \\mathcal{Y}$. In structured prediction we consider **complex output** spaces $\\mathcal{Y}$."
   ]
  },
  {
   "cell_type": "markdown",
   "metadata": {},
   "source": [
    "## Bibtex dataset\n",
    "\n",
    "You are going to test the two structured prediction methods above on the the bibtex dataset. This is a standard dataset in multi-label classification. Multi-label classification can be seen as a particular instance of structured prediction where $\\mathcal{Y} \\subset \\{0,1\\}^d$.\n",
    "\n",
    "Bibtex is a tag recommendation problem, in which the objective is to propose a relevant set of tags (e.g. url, description, journal volume) to users when they add a new Bibtex entry to the social bookmarking system Bibsonomy (see [4] for more details)."
   ]
  },
  {
   "cell_type": "code",
   "execution_count": 3,
   "metadata": {},
   "outputs": [
    {
     "name": "stdout",
     "output_type": "stream",
     "text": [
      "Train set size = 4880\n",
      "Test set size = 2515\n",
      "Input dim. = 1836\n",
      "Output dim. = 159\n"
     ]
    }
   ],
   "source": [
    "# Load the bibtex dataset\n",
    "\n",
    "Y_tr, X_tr, _, _ = get_bibtex(PATH_BIBTEX, use_train=True)\n",
    "Y_te, X_te, _, _ = get_bibtex(PATH_BIBTEX, use_train=False)\n",
    "n_tr = X_tr.shape[0]\n",
    "n_te = X_te.shape[0]\n",
    "input_dim = X_tr.shape[1]\n",
    "label_dim = Y_tr.shape[1]\n",
    "\n",
    "print(f'Train set size = {n_tr}')\n",
    "print(f'Test set size = {n_te}')\n",
    "print(f'Input dim. = {input_dim}')\n",
    "print(f'Output dim. = {label_dim}')"
   ]
  },
  {
   "cell_type": "markdown",
   "metadata": {},
   "source": [
    "**Definition (f1 score).** In this practical session we will evaluate the performances using the f1 score. In multilabel classification there are several ways to define this score. We will use the one corresponding to the sklearn function sklearn.metrics.f1_score(y, y', average=\"samples\").\n",
    "\n",
    "The best f1 scores which have been obtained on the Bibtex dataset are around 40%."
   ]
  },
  {
   "attachments": {},
   "cell_type": "markdown",
   "metadata": {},
   "source": [
    "## I. IOKR for Structured Prediction\n",
    "\n",
    "***\n",
    "\n",
    "In this section, you are going to implement and test an elegant method for structured prediction called **Input Output Kernel Regression (IOKR)**. This method belongs to the family of surrogate methods for structured prediction (cf. lectures).\n",
    "\n",
    "**Kernel methods (quick reminder).** A kernel over a space $\\mathcal{Z}$ is a map $k : \\mathcal{Z} \\times \\mathcal{Z} \\rightarrow \\mathbb{R}$ that can be written:\n",
    "\n",
    "$$k(z, z') = \\langle \\phi(z),\\, \\phi(z')\\rangle_{\\mathcal{G}}$$\n",
    "\n",
    "where $\\mathcal{G}$ is a Hilbert space and $\\phi: \\mathcal{Z} \\rightarrow \\mathcal{G}$ a map. Hence, $k$ define a similarity between any couple of points in $\\mathcal{Z}$. \n",
    "\n",
    "**Two examples of kernel.**\n",
    "\n",
    "The most simple example of kernel is the linear kernel $k(z, z') = \\langle z,\\, z'\\rangle_{\\mathcal{Z}}$. So $\\phi(x) = x$.\n",
    "\n",
    "Another famous kernel is the gaussian kernel, defined, for a given $\\sigma^2 >0$ by: $k(z, z') = \\exp(-\\frac{\\|z-z\\|^2}{2\\sigma^2})$. Here there also exists a $\\phi$ verifying the kernel definition above, but with valued in an infinite dimensional space! This is not an issue as we never need to explicitely compute any $\\phi(x)$ (see below).\n",
    "\n",
    "**Description of the method.** Consider that we are given two kernels, one over the input and another over the output space.\n",
    "\n",
    "$$k_x(x,x') = \\langle \\phi(x),\\, \\phi(x')\\rangle_{\\mathcal{G}}$$\n",
    "\n",
    "$$k_y(y,y') = \\langle \\psi(y),\\, \\psi(y')\\rangle_{\\mathcal{H}}$$ \n",
    "\n",
    "The IOKR method for structured prediction can be described in two steps:\n",
    "\n",
    "- 1/Learning step. Learn the linear map $W : \\mathcal{G} \\times \\mathcal{H}$ thanks to\n",
    "\n",
    "$$\\min_{W} \\sum_{i=1}^n \\|W\\phi(x_i) - \\psi(y_i)\\|^2_{\\mathcal{H}_y} + \\lambda \\|W\\|^2_{F}$$\n",
    "\n",
    "- 2/Testing step. For a given new inputs $x$ predict $\\hat f(x) = \\text{argmax}_{y \\in \\mathcal{Y}}\\; \\langle \\psi(y),\\,\\hat W\\phi(x) \\rangle_{\\mathcal{H}}$\n",
    "\n",
    "Observe that the predictor $\\hat f: \\mathcal{X} \\rightarrow \\mathcal{Y}$ is non-linear w.r.t $x$ and also $y$.\n",
    "\n",
    "**Algorithm.** Finally, one can derive a closed-form formula for $\\hat f : \\mathcal{X} \\rightarrow \\mathcal{Y}$ defined above. Here we do not ask you to derive this formula but we give it to you:\n",
    "\n",
    "\\begin{equation}\n",
    "\\hat f(x) = \\text{argmax}_{y \\in \\mathcal{Y}} \\; \\alpha_x(x)^T M \\alpha_y(y)\n",
    "\\end{equation}\n",
    "\n",
    "with $\\alpha_x(x) = \\left(k_x(x, x_1), \\dots, k_x(x, x_n)\\right) \\in \\mathbb{R}^{n}$, $\\alpha_y(y) = \\left(k_y(y, y_1), \\dots, k_y(y, y_n)\\right) \\in \\mathbb{R}^{n}$, $K_x = \\left(k_x(x_i, x_j)\\right)_{i,j} \\in \\mathbb{R}^{n \\times n}$, and $M = \\left( K_x + \\lambda I_{\\mathbb{R}^n} \\right)^{-1} \\in \\mathbb{R}^{n \\times n}$.\n",
    "\n",
    "![](img/IOKR.png)\n",
    "\n",
    "**Remark (link with operator-valued kernel).** The IOKR approach is illustrated on the figure above. Observe that we perform a linear regression from $\\mathcal{G}$ to $\\mathcal{H}$, which can be both infinite dimensional spaces (called reproducing kernel Hilbert space) when $\\phi$ and $\\psi$ are defined with the non linear gaussian kernel. Moreover, notice also, that the approach corresponds to a vector-valued kernel regression from $\\mathcal{X}$ to $\\mathcal{H}$. This situation can be interpreted through the use of an operator-valued kernel (ovk). Here we use the ovk defined by $\\tilde k_x(x,x') =  k_x(x,x') I_{\\mathcal{H}}$, where $I_{\\mathcal{H}}$ denotes the identity operator of $\\mathcal{H}$.\n",
    "\n",
    "***\n"
   ]
  },
  {
   "cell_type": "markdown",
   "metadata": {},
   "source": [
    "#### Question 1. (decoding) \n",
    "During the decoding step, for a given input $x$ one needs to compute the scores $s(x,y) = \\alpha_x(x)^T M \\alpha_y(y)$ for all $y \\in \\mathcal{Y}$ in order to predict $y$ with the maximum $s(x,y)$. Considering all the $\\{0,1\\}^{159}$ possible 0-1 vectors is too costly. Hence, here we consider only points in the training set Y_tr as possible candidates.\n",
    "\n",
    "Show that, for any test set X_te of size $n_{te}$, you can compute all the $n \\times n_{te}$ scores, by only making matrix multiplications of the three following matrices: $M \\in \\mathbb{R}^{n \\times n}$ (defined above), $K_x = \\left(k_x(x_i, x_j)\\right)_{i,j} \\in \\mathbb{R}^{n \\times n_{te}}$, and $K_y = \\left(k_y(y_i, y_j)\\right)_{i,j} \\in \\mathbb{R}^{n \\times n}$."
   ]
  },
  {
   "attachments": {},
   "cell_type": "markdown",
   "id": "211b5204",
   "metadata": {},
   "source": [
    "Answer 1:\n",
    "We want to compute $s(x_j,y_k) = \\alpha_x(x_j)^T M \\alpha_y(y_k)$ for all $x_j \\in X_{te}$ and all $y_k \\in Y_{tr}$, we notice that \n",
    "$$\\alpha_x(x_j) = \\left(k_x(x_j, x_1), \\dots, k_x(x_j, x_n)\\right) = (K_x(x_j,x_i))^T_{x_i \\in X_{tr}}$$\n",
    "is actually the j-th row of $K_x^T$ defined in question 1.\n",
    "Meanwhile\n",
    "$$\\alpha_y(y_k) = \\left(k_y(y_k, y_1), \\dots, k_y(y_k, y_n)\\right) = (K_y(y_k,y_i))_{y_i \\in {Y_{tr}}}$$\n",
    "is actually the k-th column of $K_y$ defined in question 1.\n",
    "\n",
    "Therefore if we let $x_j, y_k$ running over $X_{te}$ and $Y_{tr}$, we will get a matrix:\n",
    "\n",
    "$$(s(x_j,y_k))_{x_j \\in X_{te}, y_k \\in Y_{tr}} = (K_x^T(x_i,x_j) M K_y(y_k,y_i))_{x_j,y_k} = K_x^T M K_y$$"
   ]
  },
  {
   "cell_type": "markdown",
   "metadata": {},
   "source": [
    "#### Question 2. (implementation)\n",
    "Implement the method IOKR using gaussian input and output kernels, with parameters $\\sigma_x^2, \\sigma_y^2 >0$ respectively. Define a python class with a method fit(X_tr, Y_tr, lambda, sigmax, sigmay), and a method predict(X_te). Use the rbf_kernel python function loaded above to compute the gram matrices $K_x, K_y$. "
   ]
  },
  {
   "cell_type": "code",
   "execution_count": null,
   "metadata": {},
   "outputs": [],
   "source": [
    "# Implementation\n",
    "\n",
    "from typing import Optional\n",
    "\n",
    "\n",
    "class IOKR:\n",
    "    \n",
    "    def __init__(self, is_linear=False):\n",
    "        self.X_tr = None\n",
    "        self.Y_tr = None\n",
    "        self.Ky = None\n",
    "        self.sy = None\n",
    "        self.M = None\n",
    "        self.verbose = 0\n",
    "        self.linear = is_linear\n",
    "        \n",
    "    def fit(self, X, Y, L:float, sx:float, sy: Optional[float]):\n",
    "        self.X_tr = X\n",
    "        self.Y_tr = Y\n",
    "        self.sx = sx\n",
    "        self.sy = sy\n",
    "        Kx = rbf_kernel(self.X_tr, self.X_tr, 1/(2*sx**2))\n",
    "        if self.linear:\n",
    "            self.Ky = self.Y_tr @ self.Y_tr.T\n",
    "        else:\n",
    "            self.Ky = rbf_kernel(self.Y_tr, self.Y_tr, 1/(2*sy**2))\n",
    "        self.M = np.linalg.inv((Kx + L * np.identity(Kx.shape[0])))\n",
    "    \n",
    "    def predict(self, X_te):\n",
    "        Kx = rbf_kernel(X_te, self.X_tr, 1/(2*self.sx**2)) \n",
    "        score = Kx @ self.M @ self.Ky\n",
    "        assert score.shape == (X_te.shape[0], self.Y_tr.shape[0])\n",
    "        index = np.argmax(score, axis=1)\n",
    "        return self.Y_tr[index]"
   ]
  },
  {
   "cell_type": "markdown",
   "metadata": {},
   "source": [
    "#### Question 3. (sanity check)\n",
    "Verify that your algorithm is able to learn a predictor that overfits the training set, i.e. such that the f1 score on the train set is close to $1$. For instance, plot the train f1 score w.r.t $\\lambda$ (for $s_x, s_y$ big enough)."
   ]
  },
  {
   "cell_type": "code",
   "execution_count": 72,
   "id": "7edb3d51",
   "metadata": {},
   "outputs": [],
   "source": [
    "iokr_predictor = IOKR()\n",
    "iokr_predictor.fit(X_tr, Y_tr, L=0.1, sx=1, sy=1)"
   ]
  },
  {
   "cell_type": "code",
   "execution_count": 73,
   "id": "6b19046a",
   "metadata": {},
   "outputs": [],
   "source": [
    "y_pred = iokr_predictor.predict(X_tr)"
   ]
  },
  {
   "cell_type": "code",
   "execution_count": 74,
   "id": "296b0073",
   "metadata": {},
   "outputs": [
    {
     "name": "stdout",
     "output_type": "stream",
     "text": [
      "0.9982887467723532\n"
     ]
    }
   ],
   "source": [
    "print(f1_score(Y_tr, y_pred, average='samples'))"
   ]
  },
  {
   "cell_type": "code",
   "execution_count": 75,
   "id": "5273ddad",
   "metadata": {},
   "outputs": [
    {
     "data": {
      "text/plain": [
       "<matplotlib.image.AxesImage at 0x1c0b07cb1f0>"
      ]
     },
     "execution_count": 75,
     "metadata": {},
     "output_type": "execute_result"
    },
    {
     "data": {
      "image/png": "[encoded data removed]",
      "text/plain": [
       "<Figure size 640x480 with 1 Axes>"
      ]
     },
     "metadata": {},
     "output_type": "display_data"
    },
    {
     "data": {
      "image/png": "[encoded data removed]",
      "text/plain": [
       "<Figure size 640x480 with 1 Axes>"
      ]
     },
     "metadata": {},
     "output_type": "display_data"
    }
   ],
   "source": [
    "import matplotlib.pyplot as plt\n",
    "plt.imshow(Y_tr[:200], cmap='gray')\n",
    "plt.figure()\n",
    "plt.imshow(y_pred[:200], cmap='gray')"
   ]
  },
  {
   "cell_type": "code",
   "execution_count": 78,
   "id": "aaf2b669",
   "metadata": {},
   "outputs": [
    {
     "name": "stdout",
     "output_type": "stream",
     "text": [
      "L=1\n",
      "L=0.1\n",
      "L=0.01\n",
      "L=0.001\n",
      "L=0.0001\n"
     ]
    }
   ],
   "source": [
    "iokr_predictor = IOKR()\n",
    "L = [1, 1e-1, 1e-2, 1e-3, 1e-4]\n",
    "F1_scores = []\n",
    "for l in L:\n",
    "\tprint(f'L={l}')\n",
    "\tiokr_predictor.fit(X_tr, Y_tr, L=l, sx=1, sy=1)\n",
    "\ty_pred_tr = iokr_predictor.predict(X_tr)\n",
    "\tF1_scores.append(f1_score(Y_tr, y_pred_tr, average='samples'))"
   ]
  },
  {
   "cell_type": "code",
   "execution_count": 84,
   "id": "08f9b433",
   "metadata": {},
   "outputs": [
    {
     "data": {
      "image/png": "[encoded data removed]",
      "text/plain": [
       "<Figure size 640x480 with 1 Axes>"
      ]
     },
     "metadata": {},
     "output_type": "display_data"
    }
   ],
   "source": [
    "plt.plot(L, F1_scores, marker='x')\n",
    "plt.xscale('log')"
   ]
  },
  {
   "cell_type": "markdown",
   "metadata": {},
   "source": [
    "#### Question 4. (hyperparameters selection)\n",
    "\n",
    "We would like to assess the performance of IOKR on the bibtex dataset.\n",
    "\n",
    "In order to select the hyperparameters $\\lambda, \\sigma_x^2, \\sigma_y^2$, proceed as follows. For a given tuples of parameters, train with $\\frac{4}{5}$ of the train set, and then compute the f1 score (called validation score) on the remaining $\\frac{1}{5}$ of the train set (called validation set). By repeating this over a grid of hyperparameters select the best tuples with the highest validation score.\n",
    "\n",
    "Explain the role of the validation set. Why it is extracted from the train set? Then, compute the test f1 score on the test set, using the best selected parameters."
   ]
  },
  {
   "attachments": {},
   "cell_type": "markdown",
   "id": "008b3861",
   "metadata": {},
   "source": [
    "Answer 4: The role of the validation set is to do model selection, i.e. to find the hyperparameter of the model that has best generality on unseen data. Therefore, we extract it from the train set to ensure the model doesn't know it and use them as a validation of the model performance (since they are labeled)."
   ]
  },
  {
   "cell_type": "code",
   "execution_count": 111,
   "id": "96562f22",
   "metadata": {},
   "outputs": [],
   "source": [
    "from itertools import product\n",
    "from typing import List\n",
    "import pandas as pd\n",
    "from tqdm import tqdm\n",
    "\n",
    "def KFold_score(sx, sy, l):\n",
    "\tkf = KFold(5, shuffle=False)\n",
    "\tf1_scores = []\n",
    "\tfor i, (idx_train, idx_val) in enumerate(kf.split(X_tr)):\n",
    "\t\tX_train = X_tr[idx_train]\n",
    "\t\tX_val = X_tr[idx_val]\n",
    "\t\tY_train = Y_tr[idx_train]\n",
    "\t\tY_val = Y_tr[idx_val]\n",
    "\t\tiokr_predictor.fit(X_train, Y_train, L=l, sx=sx, sy=sy)\n",
    "\t\t# print(len(idx_train))\n",
    "\t\t# print(len(idx_val))\n",
    "\t\ty_val_pred = iokr_predictor.predict(X_val)\n",
    "\t\tf1 = f1_score(Y_val, y_val_pred, average='samples')\n",
    "\t\tf1_scores.append(f1) \n",
    "\t\treturn np.mean(f1_scores)\n",
    "\n",
    "\n",
    "def grid_search(sigma_x:List[float], sigma_y:List[float], L:List[float]):\n",
    "\trecords = []\n",
    "\tfor sx, sy, l in tqdm(product(sigma_x, sigma_y, L), total=len(sigma_x)*len(sigma_y)*len(L)):\n",
    "\t\tf1_score = KFold_score(sx, sy, l)\n",
    "\t\trecords.append({'sx': sx, 'sy': sy, 'l': l, 'f1_score': f1_score})\n",
    "\tgrid = pd.DataFrame.from_records(records)\n",
    "\treturn grid"
   ]
  },
  {
   "cell_type": "code",
   "execution_count": 113,
   "id": "cac7b92b",
   "metadata": {},
   "outputs": [
    {
     "name": "stderr",
     "output_type": "stream",
     "text": [
      "100%|██████████| 64/64 [07:09<00:00,  6.71s/it]\n"
     ]
    }
   ],
   "source": [
    "grid = grid_search([1, 1e-1, 1e-2, 1e-3],[1, 1e-1, 1e-2, 1e-3],[1, 1e-1, 1e-2, 1e-3])"
   ]
  },
  {
   "cell_type": "code",
   "execution_count": 114,
   "id": "a9b1c7f3",
   "metadata": {},
   "outputs": [],
   "source": [
    "grid.to_csv('grid.csv')"
   ]
  },
  {
   "cell_type": "code",
   "execution_count": 119,
   "id": "055def25",
   "metadata": {},
   "outputs": [
    {
     "data": {
      "text/plain": [
       "sx          1.000000\n",
       "sy          1.000000\n",
       "l           0.100000\n",
       "f1_score    0.230706\n",
       "Name: 1, dtype: float64"
      ]
     },
     "execution_count": 119,
     "metadata": {},
     "output_type": "execute_result"
    }
   ],
   "source": [
    "grid.iloc[grid['f1_score'].idxmax()]"
   ]
  },
  {
   "cell_type": "code",
   "execution_count": 120,
   "id": "aa3ddb53",
   "metadata": {},
   "outputs": [
    {
     "name": "stderr",
     "output_type": "stream",
     "text": [
      "100%|██████████| 27/27 [02:15<00:00,  5.02s/it]\n"
     ]
    }
   ],
   "source": [
    "grid2 = grid_search([1, 5, 10],[1, 5, 10],[1, 0.1, 0.01])"
   ]
  },
  {
   "cell_type": "code",
   "execution_count": 121,
   "id": "e2776d95",
   "metadata": {},
   "outputs": [],
   "source": [
    "grid2.to_csv('grid2.csv')"
   ]
  },
  {
   "cell_type": "code",
   "execution_count": 123,
   "id": "b91b964f",
   "metadata": {},
   "outputs": [
    {
     "data": {
      "text/plain": [
       "sx          10.000000\n",
       "sy           1.000000\n",
       "l            0.100000\n",
       "f1_score     0.440631\n",
       "Name: 19, dtype: float64"
      ]
     },
     "execution_count": 123,
     "metadata": {},
     "output_type": "execute_result"
    }
   ],
   "source": [
    "grid2.iloc[grid2['f1_score'].idxmax()]"
   ]
  },
  {
   "cell_type": "code",
   "execution_count": 143,
   "id": "0bbaf37d",
   "metadata": {},
   "outputs": [
    {
     "name": "stderr",
     "output_type": "stream",
     "text": [
      "100%|██████████| 27/27 [02:05<00:00,  4.65s/it]\n"
     ]
    }
   ],
   "source": [
    "grid3 = grid_search([10, 11, 12],[0.8, 0.9, 1],[0.09, 0.1, 0.11])"
   ]
  },
  {
   "cell_type": "code",
   "execution_count": 144,
   "id": "c4d586c9",
   "metadata": {},
   "outputs": [],
   "source": [
    "grid3.to_csv('grid3.csv')"
   ]
  },
  {
   "cell_type": "code",
   "execution_count": 145,
   "id": "c81b0a52",
   "metadata": {},
   "outputs": [
    {
     "data": {
      "text/plain": [
       "sx          10.000000\n",
       "sy           0.900000\n",
       "l            0.090000\n",
       "f1_score     0.445343\n",
       "Name: 3, dtype: float64"
      ]
     },
     "execution_count": 145,
     "metadata": {},
     "output_type": "execute_result"
    }
   ],
   "source": [
    "grid3.iloc[grid3['f1_score'].idxmax()]"
   ]
  },
  {
   "cell_type": "code",
   "execution_count": 147,
   "id": "65c9310e",
   "metadata": {},
   "outputs": [
    {
     "name": "stdout",
     "output_type": "stream",
     "text": [
      "0.45665049238137023\n"
     ]
    }
   ],
   "source": [
    "iokr_predictor.fit(X_tr, Y_tr, 0.09, 11, 0.9)\n",
    "y_pred_te = iokr_predictor.predict(X_te)\n",
    "print(f1_score(Y_te, y_pred_te, average='samples'))"
   ]
  },
  {
   "attachments": {},
   "cell_type": "markdown",
   "id": "c845da82",
   "metadata": {},
   "source": [
    "Answer 4 continued: with careful hyperparameter sweeping, we find $\\sigma_x = 11, \\sigma_y = 0.9, \\lambda=0.09$, with such configuration the test f1 score is 0.4567"
   ]
  },
  {
   "cell_type": "markdown",
   "metadata": {},
   "source": [
    "#### Question 5. (linear vs non linear)\n",
    "\n",
    "Modify your code such that you can use IOKR with an output linear kernel $k_y(y,y') = \\langle y, y' \\rangle_{\\mathbb{R}^d}$. Then, compare the performance of the linear and the gaussian (output) kernels on the bibtex dataset. For this purpose, you need to select the hyper-parameters ($\\lambda, \\sigma_x^2$ in the case of the linear output kernel, and $\\lambda, \\sigma_x^2, \\sigma_y^2$ for the gaussian kernel)."
   ]
  },
  {
   "cell_type": "code",
   "execution_count": 150,
   "id": "b5e71d61",
   "metadata": {},
   "outputs": [],
   "source": [
    "iokr_predictor = IOKR(is_linear=True)"
   ]
  },
  {
   "cell_type": "code",
   "execution_count": 153,
   "id": "e8387169",
   "metadata": {},
   "outputs": [
    {
     "name": "stderr",
     "output_type": "stream",
     "text": [
      "100%|██████████| 9/9 [01:25<00:00,  9.55s/it]\n"
     ]
    }
   ],
   "source": [
    "grid4 = grid_search([10, 1, 1e-1], [None], [10, 1e-1, 1e-2])"
   ]
  },
  {
   "cell_type": "code",
   "execution_count": 154,
   "id": "36541725",
   "metadata": {},
   "outputs": [],
   "source": [
    "grid4.to_csv('grid4.csv')"
   ]
  },
  {
   "cell_type": "code",
   "execution_count": 155,
   "id": "eb460bac",
   "metadata": {},
   "outputs": [
    {
     "data": {
      "text/plain": [
       "sx              10.0\n",
       "sy              None\n",
       "l                0.1\n",
       "f1_score    0.304209\n",
       "Name: 1, dtype: object"
      ]
     },
     "execution_count": 155,
     "metadata": {},
     "output_type": "execute_result"
    }
   ],
   "source": [
    "grid4.iloc[grid4['f1_score'].idxmax()]"
   ]
  },
  {
   "cell_type": "code",
   "execution_count": 156,
   "id": "9f08a4c4",
   "metadata": {},
   "outputs": [
    {
     "data": {
      "text/html": [
       "<div>\n",
       "<style scoped>\n",
       "    .dataframe tbody tr th:only-of-type {\n",
       "        vertical-align: middle;\n",
       "    }\n",
       "\n",
       "    .dataframe tbody tr th {\n",
       "        vertical-align: top;\n",
       "    }\n",
       "\n",
       "    .dataframe thead th {\n",
       "        text-align: right;\n",
       "    }\n",
       "</style>\n",
       "<table border=\"1\" class=\"dataframe\">\n",
       "  <thead>\n",
       "    <tr style=\"text-align: right;\">\n",
       "      <th></th>\n",
       "      <th>sx</th>\n",
       "      <th>sy</th>\n",
       "      <th>l</th>\n",
       "      <th>f1_score</th>\n",
       "    </tr>\n",
       "  </thead>\n",
       "  <tbody>\n",
       "    <tr>\n",
       "      <th>0</th>\n",
       "      <td>10.0</td>\n",
       "      <td>None</td>\n",
       "      <td>10.00</td>\n",
       "      <td>0.150733</td>\n",
       "    </tr>\n",
       "    <tr>\n",
       "      <th>1</th>\n",
       "      <td>10.0</td>\n",
       "      <td>None</td>\n",
       "      <td>0.10</td>\n",
       "      <td>0.304209</td>\n",
       "    </tr>\n",
       "    <tr>\n",
       "      <th>2</th>\n",
       "      <td>10.0</td>\n",
       "      <td>None</td>\n",
       "      <td>0.01</td>\n",
       "      <td>0.292076</td>\n",
       "    </tr>\n",
       "    <tr>\n",
       "      <th>3</th>\n",
       "      <td>1.0</td>\n",
       "      <td>None</td>\n",
       "      <td>10.00</td>\n",
       "      <td>0.129498</td>\n",
       "    </tr>\n",
       "    <tr>\n",
       "      <th>4</th>\n",
       "      <td>1.0</td>\n",
       "      <td>None</td>\n",
       "      <td>0.10</td>\n",
       "      <td>0.147119</td>\n",
       "    </tr>\n",
       "    <tr>\n",
       "      <th>5</th>\n",
       "      <td>1.0</td>\n",
       "      <td>None</td>\n",
       "      <td>0.01</td>\n",
       "      <td>0.147574</td>\n",
       "    </tr>\n",
       "    <tr>\n",
       "      <th>6</th>\n",
       "      <td>0.1</td>\n",
       "      <td>None</td>\n",
       "      <td>10.00</td>\n",
       "      <td>0.057670</td>\n",
       "    </tr>\n",
       "    <tr>\n",
       "      <th>7</th>\n",
       "      <td>0.1</td>\n",
       "      <td>None</td>\n",
       "      <td>0.10</td>\n",
       "      <td>0.057670</td>\n",
       "    </tr>\n",
       "    <tr>\n",
       "      <th>8</th>\n",
       "      <td>0.1</td>\n",
       "      <td>None</td>\n",
       "      <td>0.01</td>\n",
       "      <td>0.057670</td>\n",
       "    </tr>\n",
       "  </tbody>\n",
       "</table>\n",
       "</div>"
      ],
      "text/plain": [
       "     sx    sy      l  f1_score\n",
       "0  10.0  None  10.00  0.150733\n",
       "1  10.0  None   0.10  0.304209\n",
       "2  10.0  None   0.01  0.292076\n",
       "3   1.0  None  10.00  0.129498\n",
       "4   1.0  None   0.10  0.147119\n",
       "5   1.0  None   0.01  0.147574\n",
       "6   0.1  None  10.00  0.057670\n",
       "7   0.1  None   0.10  0.057670\n",
       "8   0.1  None   0.01  0.057670"
      ]
     },
     "execution_count": 156,
     "metadata": {},
     "output_type": "execute_result"
    }
   ],
   "source": [
    "grid4"
   ]
  },
  {
   "cell_type": "code",
   "execution_count": 157,
   "id": "6687f0a1",
   "metadata": {},
   "outputs": [
    {
     "name": "stderr",
     "output_type": "stream",
     "text": [
      "100%|██████████| 9/9 [01:21<00:00,  9.04s/it]\n"
     ]
    }
   ],
   "source": [
    "grid5 = grid_search([9, 10, 11], [None], [0.09, 0.1, 0.11])"
   ]
  },
  {
   "cell_type": "code",
   "execution_count": 158,
   "id": "68b7971d",
   "metadata": {},
   "outputs": [],
   "source": [
    "grid5.to_csv('grid5.csv')"
   ]
  },
  {
   "cell_type": "code",
   "execution_count": 159,
   "id": "9eef8eec",
   "metadata": {},
   "outputs": [
    {
     "data": {
      "text/plain": [
       "sx                 9\n",
       "sy              None\n",
       "l                0.1\n",
       "f1_score    0.305157\n",
       "Name: 1, dtype: object"
      ]
     },
     "execution_count": 159,
     "metadata": {},
     "output_type": "execute_result"
    }
   ],
   "source": [
    "grid5.iloc[grid5['f1_score'].idxmax()]"
   ]
  },
  {
   "cell_type": "code",
   "execution_count": 160,
   "id": "7c3fdfcc",
   "metadata": {},
   "outputs": [
    {
     "data": {
      "text/html": [
       "<div>\n",
       "<style scoped>\n",
       "    .dataframe tbody tr th:only-of-type {\n",
       "        vertical-align: middle;\n",
       "    }\n",
       "\n",
       "    .dataframe tbody tr th {\n",
       "        vertical-align: top;\n",
       "    }\n",
       "\n",
       "    .dataframe thead th {\n",
       "        text-align: right;\n",
       "    }\n",
       "</style>\n",
       "<table border=\"1\" class=\"dataframe\">\n",
       "  <thead>\n",
       "    <tr style=\"text-align: right;\">\n",
       "      <th></th>\n",
       "      <th>sx</th>\n",
       "      <th>sy</th>\n",
       "      <th>l</th>\n",
       "      <th>f1_score</th>\n",
       "    </tr>\n",
       "  </thead>\n",
       "  <tbody>\n",
       "    <tr>\n",
       "      <th>0</th>\n",
       "      <td>9</td>\n",
       "      <td>None</td>\n",
       "      <td>0.09</td>\n",
       "      <td>0.304613</td>\n",
       "    </tr>\n",
       "    <tr>\n",
       "      <th>1</th>\n",
       "      <td>9</td>\n",
       "      <td>None</td>\n",
       "      <td>0.10</td>\n",
       "      <td>0.305157</td>\n",
       "    </tr>\n",
       "    <tr>\n",
       "      <th>2</th>\n",
       "      <td>9</td>\n",
       "      <td>None</td>\n",
       "      <td>0.11</td>\n",
       "      <td>0.304296</td>\n",
       "    </tr>\n",
       "    <tr>\n",
       "      <th>3</th>\n",
       "      <td>10</td>\n",
       "      <td>None</td>\n",
       "      <td>0.09</td>\n",
       "      <td>0.303973</td>\n",
       "    </tr>\n",
       "    <tr>\n",
       "      <th>4</th>\n",
       "      <td>10</td>\n",
       "      <td>None</td>\n",
       "      <td>0.10</td>\n",
       "      <td>0.304209</td>\n",
       "    </tr>\n",
       "    <tr>\n",
       "      <th>5</th>\n",
       "      <td>10</td>\n",
       "      <td>None</td>\n",
       "      <td>0.11</td>\n",
       "      <td>0.304779</td>\n",
       "    </tr>\n",
       "    <tr>\n",
       "      <th>6</th>\n",
       "      <td>11</td>\n",
       "      <td>None</td>\n",
       "      <td>0.09</td>\n",
       "      <td>0.302587</td>\n",
       "    </tr>\n",
       "    <tr>\n",
       "      <th>7</th>\n",
       "      <td>11</td>\n",
       "      <td>None</td>\n",
       "      <td>0.10</td>\n",
       "      <td>0.302338</td>\n",
       "    </tr>\n",
       "    <tr>\n",
       "      <th>8</th>\n",
       "      <td>11</td>\n",
       "      <td>None</td>\n",
       "      <td>0.11</td>\n",
       "      <td>0.302243</td>\n",
       "    </tr>\n",
       "  </tbody>\n",
       "</table>\n",
       "</div>"
      ],
      "text/plain": [
       "   sx    sy     l  f1_score\n",
       "0   9  None  0.09  0.304613\n",
       "1   9  None  0.10  0.305157\n",
       "2   9  None  0.11  0.304296\n",
       "3  10  None  0.09  0.303973\n",
       "4  10  None  0.10  0.304209\n",
       "5  10  None  0.11  0.304779\n",
       "6  11  None  0.09  0.302587\n",
       "7  11  None  0.10  0.302338\n",
       "8  11  None  0.11  0.302243"
      ]
     },
     "execution_count": 160,
     "metadata": {},
     "output_type": "execute_result"
    }
   ],
   "source": [
    "grid5"
   ]
  },
  {
   "cell_type": "code",
   "execution_count": 163,
   "id": "07128ade",
   "metadata": {},
   "outputs": [
    {
     "name": "stdout",
     "output_type": "stream",
     "text": [
      "0.3077509805514733\n"
     ]
    }
   ],
   "source": [
    "iokr_predictor.fit(X_tr, Y_tr, 0.1, 9, None)\n",
    "y_pred_te = iokr_predictor.predict(X_te)\n",
    "print(f1_score(Y_te, y_pred_te, average='samples'))"
   ]
  },
  {
   "attachments": {},
   "cell_type": "markdown",
   "id": "f5d41354",
   "metadata": {},
   "source": [
    "Answer 5: best hyperparameter configuration for linear output kernel is $\\sigma_x=9, \\lambda=0.1$, test f1 score is 0.3078"
   ]
  },
  {
   "attachments": {},
   "cell_type": "markdown",
   "metadata": {},
   "source": [
    "#### Question 6. (computational complexity)\n",
    "\n",
    "What is the complexity in time and space of IOKR (for training and decoding)?"
   ]
  },
  {
   "attachments": {},
   "cell_type": "markdown",
   "id": "89fb8eb0",
   "metadata": {},
   "source": [
    "Answer 6:\n",
    "\n",
    "|complexity| space | time |\n",
    "|:-:|:-:|:-:|\n",
    "|training|$O(n^2)$|$O(n_{tr}^2 (n_\\text{input dim}+n_\\text{label dim}))$|\n",
    "|decoding|$O(n_e n$)|$O(n_e n^2)$|"
   ]
  },
  {
   "cell_type": "markdown",
   "metadata": {},
   "source": [
    "## II. Structured prediction energy network (SPEN)"
   ]
  },
  {
   "attachments": {},
   "cell_type": "markdown",
   "metadata": {},
   "source": [
    "Structured Prediction Energy Networks (SPENs) are deep energy-based models, constituting a flexible framework for structured prediction, in particular multi-label classification.\n",
    "\n",
    "SPENs tackle multi-label classification, then $\\mathcal{Y} = \\{0,1\\}^L$ with $L \\in \\mathbb{N}^*$. Thus, for a given input $x$, a SPEN performs prediction by solving the following problem::\n",
    "$$\n",
    "    \\underset{y}{\\operatorname{min}} ~ E_x(y) \\quad \\text{subject to} \\quad y \\in \\{0,1\\}^L, \\quad \\text{(1)}\n",
    "$$\n",
    "where enery function $E_x$ is encoded by a deep architecture.\\\\\n",
    "Authors choose to solve an easier problem and optimize over a convex relaxation of the constraint set:\n",
    "$$\n",
    "    \\underset{\\bar{y}}{\\operatorname{min}} ~ E_x(\\bar{y}) \\quad \\text{subject to} \\quad \\bar{y} \\in [0,1]^L. \\quad \\text{(2)}\n",
    "$$\n",
    "Optimization over $[0,1]^L$ to obtain a prediction $\\bar{y}^* \\in [0,1]^L$ can be performed using projected gradient descent or entropic mirror descent. Finally, for an input $x$, prediction $f(x) = (f(x)_1, \\ldots, f(x)_L)^\\top \\in \\{0,1\\}^L$ is obtained by rounding each coordinate $\\bar{y}_i^*$ to $0$ or $1$. Hence, for all $1 \\leq i \\leq L$:\n",
    "$$\n",
    "    f(x)_i = \\left\\{\n",
    "            \\begin{array}{ll}\n",
    "                 0 & \\text{if } \\bar{y}_i^* < 0.5\\\\\n",
    "                1 & \\text{otherwise.}\n",
    "            \\end{array}\n",
    "            \\right.\n",
    "$$\n",
    "Where $\\bar{y}^* = \\underset{\\bar{y} \\in [0,1]^L}{\\operatorname{argmin}} ~ E_x(\\bar{y})$.\n",
    "\n",
    "A SPEN parameterizes $E_x(\\bar{y})$ as a neural network that takes both $x$ and $\\bar{y}$ as inputs and returns the energy. It consists of two deep architectures as illustrated in the following image:\n",
    "\n",
    "- a feature extraction network;\n",
    "- an energy network.\n",
    "\n",
    "![A SPEN architecture](img/Spen_architecture.png)\n",
    "\n",
    "This practical session is divided in two sections:\n",
    "\n",
    "- A) Learning feature extraction network;\n",
    "- B) Learning energy network.\n",
    "\n",
    "We used an implementation of SPEN in python with PyTorch by Philippe Beardsell and Chih-Chao Hsu (cf. https://github.com/philqc/deep-value-networks-pytorch). Small changes have been made."
   ]
  },
  {
   "cell_type": "markdown",
   "metadata": {},
   "source": [
    "### A) Feature extraction network"
   ]
  },
  {
   "cell_type": "markdown",
   "metadata": {},
   "source": [
    "In this section, the goal is to learn the feature extractor part of a SPEN architecture encoded by this deep network:\n",
    "$$\n",
    "    F(x) = g(A_2g(A_1x)). \\quad \\text{(3)}\n",
    "$$\n",
    "Hence, by gradient descent and backpropagation we learn the parameters $A_1$ and $A_2$.\n",
    "This training is performed by adding a third layer (which is used only during training and removed later) with a sigmoid activation function and performing a classification task with a Binary Cross Entropy loss.\n",
    "The optimizer used can be rather \"adam\" or \"sgd\" solver.\n",
    "The rest of hyperparameters are indicated below."
   ]
  },
  {
   "cell_type": "markdown",
   "metadata": {},
   "source": [
    "#### Question 7.  (learning feature extractor network)\n",
    "\n",
    "Use functions train_feature_extraction and test_feature_extraction to train and test feature extraction network and study the influence of optimisation hyperparameters (learning rate, momentum, batch size and number of epochs)."
   ]
  },
  {
   "attachments": {},
   "cell_type": "markdown",
   "id": "adcef0ef",
   "metadata": {},
   "source": [
    "Answer 7: With a careful hypertuning step, we find that the proper learning rate is $10^{-3}$, neither too big nor too small lr will cause a degradation of performance. Momentum and batch size seems have little influence on the performance. The valid loss stops to decrease after 15 epochs. The best test f1 score we could achieve is around 0.35. "
   ]
  },
  {
   "cell_type": "code",
   "execution_count": 84,
   "metadata": {},
   "outputs": [],
   "source": [
    "# optimization solver's parameters\n",
    "lr = 1e-3\n",
    "momentum = 10"
   ]
  },
  {
   "cell_type": "code",
   "execution_count": 85,
   "metadata": {},
   "outputs": [],
   "source": [
    "# Feature extractor network instantiation\n",
    "f_net = FeatureNetwork(lr=lr, momentum=momentum,\n",
    "                       optimizer=\"adam\", weight_decay=0,\n",
    "                       input_dim=input_dim, label_dim=label_dim)"
   ]
  },
  {
   "cell_type": "code",
   "execution_count": 86,
   "metadata": {},
   "outputs": [],
   "source": [
    "# function for training the feature extractor\n",
    "\n",
    "def train_feature_extraction(X_tr, Y_tr, X_val, Y_val,\n",
    "                             f_net: FeatureNetwork,\n",
    "                             path_save: str, n_epochs: int,\n",
    "                             batch_size: int,\n",
    "                             step_size_scheduler: int,\n",
    "                             norm_inputs=True):\n",
    "    \"\"\"\n",
    "    Trains a feature extractor network\n",
    "    \"\"\"\n",
    "    \n",
    "    use_cuda = torch.cuda.is_available()\n",
    "    \n",
    "    train_loader = load_data_loader(X_tr, Y_tr, use_cuda,\n",
    "                                    batch_size=batch_size,\n",
    "                                    norm_inputs=norm_inputs,\n",
    "                                    shuffle=False)\n",
    "    \n",
    "    valid_loader = load_data_loader(X_val, Y_val, use_cuda,\n",
    "                                    batch_size=batch_size,\n",
    "                                    norm_inputs=norm_inputs,\n",
    "                                    shuffle=False)\n",
    "\n",
    "    scheduler = torch.optim.lr_scheduler.StepLR(\n",
    "        f_net.optimizer, step_size=step_size_scheduler, gamma=0.1\n",
    "    )\n",
    "\n",
    "    loss_train, loss_valid, list_f1_valid = train_for_num_epochs(\n",
    "        f_net,\n",
    "        train_loader,\n",
    "        valid_loader,\n",
    "        os.path.join(path_save, FILE_FEATURE_NETWORK),\n",
    "        n_epochs,\n",
    "        scheduler\n",
    "    )\n",
    "    \n",
    "    return loss_train, loss_valid, list_f1_valid"
   ]
  },
  {
   "cell_type": "code",
   "execution_count": 87,
   "metadata": {},
   "outputs": [],
   "source": [
    "# Split the training set in train/validation sets\n",
    "\n",
    "train_valid_ratio=0.8\n",
    "\n",
    "n_train = int(len(X_tr) * train_valid_ratio)\n",
    "indices = list(range(len(X_tr)))\n",
    "\n",
    "x_train, y_train = X_tr[:n_train], Y_tr[:n_train]\n",
    "x_valid, y_valid = X_tr[n_train:], Y_tr[n_train:]"
   ]
  },
  {
   "cell_type": "code",
   "execution_count": 88,
   "metadata": {},
   "outputs": [],
   "source": [
    "# Number of epochs and batch size settings\n",
    "\n",
    "n_epochs = 50\n",
    "batch_size = 128"
   ]
  },
  {
   "cell_type": "code",
   "execution_count": 89,
   "metadata": {},
   "outputs": [
    {
     "name": "stdout",
     "output_type": "stream",
     "text": [
      "Preparing the data loader...\n",
      "Preparing the data loader...\n",
      "Epoch 0\n",
      "Training: [3904 / 3904 (100%)]: Avg_Loss = 52.74844\n",
      "Avg_Loss = 17.89; F1_Score = 0.00\n",
      "--- Saving model at F1 = 0.00 ---\n",
      "Epoch 1\n",
      "Training: [3904 / 3904 (100%)]: Avg_Loss = 13.89941\n",
      "Avg_Loss = 11.97; F1_Score = 3.98\n",
      "--- Saving model at F1 = 3.98 ---\n",
      "Epoch 2\n",
      "Training: [3904 / 3904 (100%)]: Avg_Loss = 10.41032\n",
      "Avg_Loss = 10.20; F1_Score = 14.29\n",
      "--- Saving model at F1 = 14.29 ---\n",
      "Epoch 3\n",
      "Training: [3904 / 3904 (100%)]: Avg_Loss = 9.19918\n",
      "Avg_Loss = 9.43; F1_Score = 17.77\n",
      "--- Saving model at F1 = 17.77 ---\n",
      "Epoch 4\n",
      "Training: [3904 / 3904 (100%)]: Avg_Loss = 8.44295\n",
      "Avg_Loss = 8.91; F1_Score = 19.27\n",
      "--- Saving model at F1 = 19.27 ---\n",
      "Epoch 5\n",
      "Training: [3904 / 3904 (100%)]: Avg_Loss = 7.78247\n",
      "Avg_Loss = 8.46; F1_Score = 20.52\n",
      "--- Saving model at F1 = 20.52 ---\n",
      "Epoch 6\n",
      "Training: [3904 / 3904 (100%)]: Avg_Loss = 7.16810\n",
      "Avg_Loss = 8.12; F1_Score = 23.21\n",
      "--- Saving model at F1 = 23.21 ---\n",
      "Epoch 7\n",
      "Training: [3904 / 3904 (100%)]: Avg_Loss = 6.58899\n",
      "Avg_Loss = 7.83; F1_Score = 24.36\n",
      "--- Saving model at F1 = 24.36 ---\n",
      "Epoch 8\n",
      "Training: [3904 / 3904 (100%)]: Avg_Loss = 6.01545\n",
      "Avg_Loss = 7.65; F1_Score = 26.50\n",
      "--- Saving model at F1 = 26.50 ---\n",
      "Epoch 9\n",
      "Training: [3904 / 3904 (100%)]: Avg_Loss = 5.47253\n",
      "Avg_Loss = 7.52; F1_Score = 27.95\n",
      "--- Saving model at F1 = 27.95 ---\n",
      "Epoch 10\n",
      "Training: [3904 / 3904 (100%)]: Avg_Loss = 4.94235\n",
      "Avg_Loss = 7.41; F1_Score = 29.55\n",
      "--- Saving model at F1 = 29.55 ---\n",
      "Epoch 11\n",
      "Training: [3904 / 3904 (100%)]: Avg_Loss = 4.43304\n",
      "Avg_Loss = 7.45; F1_Score = 29.58\n",
      "--- Saving model at F1 = 29.58 ---\n",
      "Epoch 12\n",
      "Training: [3904 / 3904 (100%)]: Avg_Loss = 3.94100\n",
      "Avg_Loss = 7.47; F1_Score = 31.19\n",
      "--- Saving model at F1 = 31.19 ---\n",
      "Epoch 13\n",
      "Training: [3904 / 3904 (100%)]: Avg_Loss = 3.46382\n",
      "Avg_Loss = 7.59; F1_Score = 31.90\n",
      "--- Saving model at F1 = 31.90 ---\n",
      "Epoch 14\n",
      "Training: [3904 / 3904 (100%)]: Avg_Loss = 3.00923\n",
      "Avg_Loss = 7.74; F1_Score = 32.33\n",
      "--- Saving model at F1 = 32.33 ---\n",
      "Epoch 15\n",
      "Training: [3904 / 3904 (100%)]: Avg_Loss = 2.59393\n",
      "Avg_Loss = 7.93; F1_Score = 33.87\n",
      "--- Saving model at F1 = 33.87 ---\n",
      "Epoch 16\n",
      "Training: [3904 / 3904 (100%)]: Avg_Loss = 2.22691\n",
      "Avg_Loss = 8.20; F1_Score = 33.20\n",
      "Epoch 17\n",
      "Training: [3904 / 3904 (100%)]: Avg_Loss = 1.90042\n",
      "Avg_Loss = 8.56; F1_Score = 33.73\n",
      "Epoch 18\n",
      "Training: [3904 / 3904 (100%)]: Avg_Loss = 1.61903\n",
      "Avg_Loss = 8.83; F1_Score = 34.71\n",
      "--- Saving model at F1 = 34.71 ---\n",
      "Epoch 19\n",
      "Training: [3904 / 3904 (100%)]: Avg_Loss = 1.39113\n",
      "Avg_Loss = 9.18; F1_Score = 34.69\n",
      "Epoch 20\n",
      "Training: [3904 / 3904 (100%)]: Avg_Loss = 1.19927\n",
      "Avg_Loss = 9.20; F1_Score = 34.57\n",
      "Epoch 21\n",
      "Training: [3904 / 3904 (100%)]: Avg_Loss = 1.15450\n",
      "Avg_Loss = 9.21; F1_Score = 34.54\n",
      "Epoch 22\n",
      "Training: [3904 / 3904 (100%)]: Avg_Loss = 1.13080\n",
      "Avg_Loss = 9.26; F1_Score = 34.57\n",
      "Epoch 23\n",
      "Training: [3904 / 3904 (100%)]: Avg_Loss = 1.11054\n",
      "Avg_Loss = 9.30; F1_Score = 34.59\n",
      "Epoch 24\n",
      "Training: [3904 / 3904 (100%)]: Avg_Loss = 1.09230\n",
      "Avg_Loss = 9.34; F1_Score = 34.75\n",
      "--- Saving model at F1 = 34.75 ---\n",
      "Epoch 25\n",
      "Training: [3904 / 3904 (100%)]: Avg_Loss = 1.07357\n",
      "Avg_Loss = 9.39; F1_Score = 34.65\n",
      "Epoch 26\n",
      "Training: [3904 / 3904 (100%)]: Avg_Loss = 1.05610\n",
      "Avg_Loss = 9.42; F1_Score = 34.65\n",
      "Epoch 27\n",
      "Training: [3904 / 3904 (100%)]: Avg_Loss = 1.03916\n",
      "Avg_Loss = 9.46; F1_Score = 34.78\n",
      "--- Saving model at F1 = 34.78 ---\n",
      "Epoch 28\n",
      "Training: [3904 / 3904 (100%)]: Avg_Loss = 1.02163\n",
      "Avg_Loss = 9.51; F1_Score = 34.78\n",
      "Epoch 29\n",
      "Training: [3904 / 3904 (100%)]: Avg_Loss = 1.00507\n",
      "Avg_Loss = 9.55; F1_Score = 34.72\n",
      "Epoch 30\n",
      "Training: [3904 / 3904 (100%)]: Avg_Loss = 0.98853\n",
      "Avg_Loss = 9.59; F1_Score = 34.94\n",
      "--- Saving model at F1 = 34.94 ---\n",
      "Epoch 31\n",
      "Training: [3904 / 3904 (100%)]: Avg_Loss = 0.97214\n",
      "Avg_Loss = 9.63; F1_Score = 35.03\n",
      "--- Saving model at F1 = 35.03 ---\n",
      "Epoch 32\n",
      "Training: [3904 / 3904 (100%)]: Avg_Loss = 0.95608\n",
      "Avg_Loss = 9.68; F1_Score = 34.96\n",
      "Epoch 33\n",
      "Training: [3904 / 3904 (100%)]: Avg_Loss = 0.94029\n",
      "Avg_Loss = 9.72; F1_Score = 35.19\n",
      "--- Saving model at F1 = 35.19 ---\n",
      "Epoch 34\n",
      "Training: [3904 / 3904 (100%)]: Avg_Loss = 0.92519\n",
      "Avg_Loss = 9.77; F1_Score = 35.18\n",
      "Epoch 35\n",
      "Training: [3904 / 3904 (100%)]: Avg_Loss = 0.90953\n",
      "Avg_Loss = 9.80; F1_Score = 35.24\n",
      "--- Saving model at F1 = 35.24 ---\n",
      "Epoch 36\n",
      "Training: [3904 / 3904 (100%)]: Avg_Loss = 0.89411\n",
      "Avg_Loss = 9.86; F1_Score = 35.29\n",
      "--- Saving model at F1 = 35.29 ---\n",
      "Epoch 37\n",
      "Training: [3904 / 3904 (100%)]: Avg_Loss = 0.87938\n",
      "Avg_Loss = 9.91; F1_Score = 35.28\n",
      "Epoch 38\n",
      "Training: [3904 / 3904 (100%)]: Avg_Loss = 0.86429\n",
      "Avg_Loss = 9.95; F1_Score = 35.29\n",
      "--- Saving model at F1 = 35.29 ---\n",
      "Epoch 39\n",
      "Training: [3904 / 3904 (100%)]: Avg_Loss = 0.84942\n",
      "Avg_Loss = 10.00; F1_Score = 35.29\n",
      "Epoch 40\n",
      "Training: [3904 / 3904 (100%)]: Avg_Loss = 0.83331\n",
      "Avg_Loss = 10.00; F1_Score = 35.29\n",
      "Epoch 41\n",
      "Training: [3904 / 3904 (100%)]: Avg_Loss = 0.83172\n",
      "Avg_Loss = 10.01; F1_Score = 35.29\n",
      "Epoch 42\n",
      "Training: [3904 / 3904 (100%)]: Avg_Loss = 0.83014\n",
      "Avg_Loss = 10.01; F1_Score = 35.28\n",
      "Epoch 43\n",
      "Training: [3904 / 3904 (100%)]: Avg_Loss = 0.82867\n",
      "Avg_Loss = 10.02; F1_Score = 35.29\n",
      "Epoch 44\n",
      "Training: [3904 / 3904 (100%)]: Avg_Loss = 0.82705\n",
      "Avg_Loss = 10.02; F1_Score = 35.28\n",
      "Epoch 45\n",
      "Training: [3904 / 3904 (100%)]: Avg_Loss = 0.82559\n",
      "Avg_Loss = 10.03; F1_Score = 35.28\n",
      "Epoch 46\n",
      "Training: [3904 / 3904 (100%)]: Avg_Loss = 0.82406\n",
      "Avg_Loss = 10.03; F1_Score = 35.28\n",
      "Epoch 47\n",
      "Training: [3904 / 3904 (100%)]: Avg_Loss = 0.82242\n",
      "Avg_Loss = 10.04; F1_Score = 35.35\n",
      "--- Saving model at F1 = 35.35 ---\n",
      "Epoch 48\n",
      "Training: [3904 / 3904 (100%)]: Avg_Loss = 0.82092\n",
      "Avg_Loss = 10.04; F1_Score = 35.27\n",
      "Epoch 49\n",
      "Training: [3904 / 3904 (100%)]: Avg_Loss = 0.81933\n",
      "Avg_Loss = 10.05; F1_Score = 35.35\n"
     ]
    },
    {
     "data": {
      "image/png": "[encoded data removed]",
      "text/plain": [
       "<Figure size 1000x400 with 2 Axes>"
      ]
     },
     "metadata": {},
     "output_type": "display_data"
    }
   ],
   "source": [
    "# feature extractor training\n",
    "loss_train, loss_valid, list_f1_valid = train_feature_extraction(x_train, y_train,\n",
    "                                                                 x_valid, y_valid,\n",
    "                                                                 f_net,\n",
    "                                                                 PATH_MODELS_ML_BIB,\n",
    "                                                                 n_epochs=n_epochs,\n",
    "                                                                 batch_size=batch_size,\n",
    "                                                                 step_size_scheduler=20)"
   ]
  },
  {
   "cell_type": "code",
   "execution_count": 90,
   "metadata": {},
   "outputs": [],
   "source": [
    "# function for testing the feature extractor\n",
    "\n",
    "def test_feature_extractor(X_te, Y_te, path_save, f_net):\n",
    "    \"\"\"\n",
    "    Tests a feature extractor network\n",
    "    \"\"\"\n",
    "    use_cuda = torch.cuda.is_available()\n",
    "\n",
    "    test_loader = load_data_loader(X_te, Y_te, use_cuda)\n",
    "\n",
    "    print('Computing the F1 Score on the test set...')\n",
    "    test_loss, test_mean_f1 = f_net.valid(test_loader)\n",
    "    \n",
    "    return test_loss, test_mean_f1"
   ]
  },
  {
   "cell_type": "code",
   "execution_count": 91,
   "metadata": {},
   "outputs": [
    {
     "name": "stdout",
     "output_type": "stream",
     "text": [
      "Preparing the data loader...\n",
      "Computing the F1 Score on the test set...\n",
      "Avg_Loss = 10.62; F1_Score = 34.99\n"
     ]
    }
   ],
   "source": [
    "# compute the test f1 score of the feature extractor network\n",
    "\n",
    "test_loss, test_mean_f1 = test_feature_extractor(X_te, Y_te, PATH_MODELS_ML_BIB, f_net)"
   ]
  },
  {
   "cell_type": "markdown",
   "metadata": {},
   "source": [
    "### B) Energy network"
   ]
  },
  {
   "attachments": {},
   "cell_type": "markdown",
   "metadata": {},
   "source": [
    "Now, the goal is to learn the energy network part of a SPEN architecture encoded by this deep network:\n",
    "$$\n",
    "    E_x(\\bar{y}) = E(F(x),\\bar{y}) = E_{x}^{\\text {local }}(\\bar{y}) + E_{x}^{\\text {label }}(\\bar{y}) \\quad \\text{(4)}\n",
    "$$\n",
    "where:\n",
    "$$\n",
    "    E_{x}^{\\text {local }}(\\bar{y})=\\sum_{i=1}^{L} \\bar{y}_{i} b_{i}^{\\top} F(x) \\quad \\text{(5)}\n",
    "$$\n",
    "and\n",
    "$$\n",
    "    E_{x}^{\\text {label }}(\\bar{y})=c_{2}^{\\top} g\\left(C_{1} \\bar{y}\\right) \\quad \\text{(6)}\n",
    "$$\n",
    "and $F(x)$ is the feature extractor previously trained (with only 2 layers, the third one is now removed as said earlier).\n",
    "Hence, parameters to learn are $b_i$ s, $C_1$ and $c_2$.\n",
    "\n",
    "To achieve learning, authors use a structured Hinge loss, similarly to Structured Support Vector Machine (SSVM) (see Lecture 1).\n",
    "\n",
    "Then, they define $\\Delta\\left(y_{p}, y_{g}\\right)$ to be an error function between a prediction $y_{p}$ and the ground truth $y_{g}$ not dependent on the structured output set, such as the Hamming loss. Let $[\\cdot]_{+}=\\max (0, \\cdot) .$ The SSVM minimizes:\n",
    "$$\n",
    "    \\sum_{\\left\\{x_{i}, y_{i}\\right\\}} \\max _{y}\\left[\\Delta\\left(y_{i}, y\\right)-E_{x_{i}}(y)+E_{x_{i}}\\left(y_{i}\\right)\\right]_{+}. \\quad \\text{(7)}\n",
    "$$\n",
    " Learning is performed by minimizing the loss with respect to the parameters of the deep architecture $E_{x}$ using mini-batch stochastic gradient descent. For $\\left\\{x_{i}, y_{i}\\right\\}$, computing the subgradient of (7) with respect to the prediction requires loss-augmented inference:\n",
    "$$\n",
    "     y_{p}=\\underset{y}{\\arg \\min }\\left(-\\Delta\\left(y_{i}, y\\right)+E_{x_{i}}(y)\\right). \\quad \\text{(8)}\n",
    "$$\n",
    "With this, the subgradient of (7) with respect to the model parameters is obtained by back-propagation through $E_{x}$."
   ]
  },
  {
   "attachments": {},
   "cell_type": "markdown",
   "metadata": {},
   "source": [
    "#### Question 8.  (role of $E_x^{label}$)\n",
    "\n",
    "What is the role of $E_x^{label}$? Describe briefly its specificity and difference from $E_x^{local}$."
   ]
  },
  {
   "attachments": {},
   "cell_type": "markdown",
   "id": "abfde64c",
   "metadata": {},
   "source": [
    "Answer *: In the figure, $E_x^{\\text{label}}$ is called the global energy term contains only the $\\bar{y}$, which can be regarded as a regularization term penalizing a particular configuration of $\\bar{y}$. While the local energy term $E_x^{\\text{local}}$ is a loss that measures the correlation between the extracted feature and the labels."
   ]
  },
  {
   "attachments": {},
   "cell_type": "markdown",
   "metadata": {},
   "source": [
    "#### Question 9.  (learning energy network)\n",
    "\n",
    "Once the feature extraction network is trained, use functions train_energy_network and test_energy_network to train and test energy network and study the influence of :\n",
    "\n",
    "- The size of $c_2$: num_pairwise.\n",
    "- optimisation hyperparameters for network learning (optimisation part associated to learning $b_i$ s, $C_1$ and $c_2$): learning rate, momentum, batch size and number of epochs;\n",
    "- optimisation hyperparameters for inference (computation of $\\bar y$): learning rate and momentum."
   ]
  },
  {
   "cell_type": "code",
   "execution_count": 92,
   "metadata": {},
   "outputs": [],
   "source": [
    "# optimization solver's parameters\n",
    "learning_rate = 1e-5\n",
    "momentum = 0.90"
   ]
  },
  {
   "cell_type": "code",
   "execution_count": 93,
   "metadata": {},
   "outputs": [],
   "source": [
    "# Optimisation hyperparameters for loss-augmented inference\n",
    "inf_lr = 0.1\n",
    "momentum_inf = 0.95"
   ]
  },
  {
   "cell_type": "code",
   "execution_count": 94,
   "metadata": {},
   "outputs": [],
   "source": [
    "# num_pairwise x dim label\n",
    "num_pairwise = 16"
   ]
  },
  {
   "cell_type": "code",
   "execution_count": 110,
   "metadata": {},
   "outputs": [
    {
     "name": "stdout",
     "output_type": "stream",
     "text": [
      "Using Mean Squared Error Loss\n"
     ]
    }
   ],
   "source": [
    "# Energy network instantiation\n",
    "\n",
    "feature_extractor_file = \"saved_results/bibtex/feature_network.pth\"\n",
    "\n",
    "spen = SPENClassification(feature_extractor_file, # Loading feature extractor trained earlier\n",
    "                          loss_fn=\"mse\",\n",
    "                          input_dim=input_dim,\n",
    "                          label_dim=label_dim,\n",
    "                          optim=\"adam\",\n",
    "                          learning_rate=learning_rate,\n",
    "                          momentum=momentum,\n",
    "                          non_linearity=nn.Softplus(),\n",
    "                          num_pairwise=num_pairwise\n",
    "                         )"
   ]
  },
  {
   "cell_type": "code",
   "execution_count": 111,
   "id": "c69dfc3c",
   "metadata": {},
   "outputs": [
    {
     "data": {
      "text/plain": [
       "device(type='cuda')"
      ]
     },
     "execution_count": 111,
     "metadata": {},
     "output_type": "execute_result"
    }
   ],
   "source": [
    "spen.device"
   ]
  },
  {
   "cell_type": "code",
   "execution_count": null,
   "metadata": {},
   "outputs": [],
   "source": [
    "# function for training SPEN\n",
    "\n",
    "def train_energy_network(X_tr, Y_tr, X_val, Y_val,\n",
    "                         path_save, spen,\n",
    "                         n_epochs=10, batch_size=32,\n",
    "                         norm_inputs=True):\n",
    "    \"\"\"\n",
    "    Trains an energy network\n",
    "    \"\"\"\n",
    "    use_cuda = torch.cuda.is_available()\n",
    "\n",
    "    train_loader = load_data_loader(X_tr, Y_tr, use_cuda,\n",
    "                                    batch_size=batch_size,\n",
    "                                    norm_inputs=norm_inputs,\n",
    "                                    shuffle=False)\n",
    "    \n",
    "    valid_loader = load_data_loader(X_val, Y_val, use_cuda,\n",
    "                                    batch_size=batch_size,\n",
    "                                    norm_inputs=norm_inputs,\n",
    "                                    shuffle=False)\n",
    "\n",
    "    input_dim = X_tr.shape[1]\n",
    "    label_dim = Y_tr.shape[1]\n",
    "\n",
    "    name = 'spen_bibtex'\n",
    "    path_save_model = os.path.join(path_save, name + '.pth')\n",
    "\n",
    "    scheduler = torch.optim.lr_scheduler.StepLR(spen.optimizer, step_size=10, gamma=0.1)\n",
    "    n_epochs = n_epochs\n",
    "\n",
    "    loss_train, loss_valid, list_f1_valid = train_for_num_epochs(spen,\n",
    "                                                                 train_loader,\n",
    "                                                                 valid_loader,\n",
    "                                                                 path_save_model,\n",
    "                                                                 n_epochs,\n",
    "                                                                 scheduler)\n",
    "    \n",
    "    return loss_train, loss_valid, list_f1_valid"
   ]
  },
  {
   "cell_type": "code",
   "execution_count": 105,
   "metadata": {},
   "outputs": [],
   "source": [
    "# Number of epochs and batch size settings\n",
    "\n",
    "n_epochs = 10\n",
    "batch_size = 32"
   ]
  },
  {
   "cell_type": "code",
   "execution_count": 106,
   "metadata": {},
   "outputs": [
    {
     "name": "stdout",
     "output_type": "stream",
     "text": [
      "Preparing the data loader...\n",
      "Preparing the data loader...\n",
      "Epoch 0\n"
     ]
    },
    {
     "ename": "RuntimeError",
     "evalue": "Expected all tensors to be on the same device, but found at least two devices, cpu and cuda:0! (when checking argument for argument mat1 in method wrapper_addmm)",
     "output_type": "error",
     "traceback": [
      "\u001b[1;31m---------------------------------------------------------------------------\u001b[0m",
      "\u001b[1;31mRuntimeError\u001b[0m                              Traceback (most recent call last)",
      "Cell \u001b[1;32mIn[106], line 3\u001b[0m\n\u001b[0;32m      1\u001b[0m \u001b[39m# SPEN training\u001b[39;00m\n\u001b[1;32m----> 3\u001b[0m loss_train, loss_valid, list_f1_valid \u001b[39m=\u001b[39m train_energy_network(x_train, y_train,\n\u001b[0;32m      4\u001b[0m                                                              x_valid, y_valid,\n\u001b[0;32m      5\u001b[0m                                                              PATH_MODELS_ML_BIB,\n\u001b[0;32m      6\u001b[0m                                                              spen, n_epochs\u001b[39m=\u001b[39;49mn_epochs,\n\u001b[0;32m      7\u001b[0m                                                              batch_size\u001b[39m=\u001b[39;49mbatch_size,\n\u001b[0;32m      8\u001b[0m                                                              norm_inputs\u001b[39m=\u001b[39;49m\u001b[39mTrue\u001b[39;49;00m)\n",
      "Cell \u001b[1;32mIn[96], line 31\u001b[0m, in \u001b[0;36mtrain_energy_network\u001b[1;34m(X_tr, Y_tr, X_val, Y_val, path_save, spen, n_epochs, batch_size, norm_inputs)\u001b[0m\n\u001b[0;32m     28\u001b[0m scheduler \u001b[39m=\u001b[39m torch\u001b[39m.\u001b[39moptim\u001b[39m.\u001b[39mlr_scheduler\u001b[39m.\u001b[39mStepLR(spen\u001b[39m.\u001b[39moptimizer, step_size\u001b[39m=\u001b[39m\u001b[39m10\u001b[39m, gamma\u001b[39m=\u001b[39m\u001b[39m0.1\u001b[39m)\n\u001b[0;32m     29\u001b[0m n_epochs \u001b[39m=\u001b[39m n_epochs\n\u001b[1;32m---> 31\u001b[0m loss_train, loss_valid, list_f1_valid \u001b[39m=\u001b[39m train_for_num_epochs(spen,\n\u001b[0;32m     32\u001b[0m                                                              train_loader,\n\u001b[0;32m     33\u001b[0m                                                              valid_loader,\n\u001b[0;32m     34\u001b[0m                                                              path_save_model,\n\u001b[0;32m     35\u001b[0m                                                              n_epochs,\n\u001b[0;32m     36\u001b[0m                                                              scheduler)\n\u001b[0;32m     38\u001b[0m \u001b[39mreturn\u001b[39;00m loss_train, loss_valid, list_f1_valid\n",
      "File \u001b[1;32me:\\WORKS\\CS\\MachineDeepLearning\\M2-StructuredData\\TP_Struct_Pred\\src\\multilabel_classification\\utils.py:155\u001b[0m, in \u001b[0;36mtrain_for_num_epochs\u001b[1;34m(meta_model, train_loader, valid_loader, path_save_model, n_epochs, scheduler)\u001b[0m\n\u001b[0;32m    153\u001b[0m \u001b[39mfor\u001b[39;00m epoch \u001b[39min\u001b[39;00m \u001b[39mrange\u001b[39m(n_epochs):\n\u001b[0;32m    154\u001b[0m     \u001b[39mprint\u001b[39m(\u001b[39mf\u001b[39m\u001b[39m\"\u001b[39m\u001b[39mEpoch \u001b[39m\u001b[39m{\u001b[39;00mepoch\u001b[39m}\u001b[39;00m\u001b[39m\"\u001b[39m)\n\u001b[1;32m--> 155\u001b[0m     t_loss \u001b[39m=\u001b[39m meta_model\u001b[39m.\u001b[39;49mtrain(train_loader)\n\u001b[0;32m    156\u001b[0m     v_loss, f1_valid \u001b[39m=\u001b[39m meta_model\u001b[39m.\u001b[39mvalid(valid_loader)\n\u001b[0;32m    157\u001b[0m     scheduler\u001b[39m.\u001b[39mstep()\n",
      "File \u001b[1;32me:\\WORKS\\CS\\MachineDeepLearning\\M2-StructuredData\\TP_Struct_Pred\\src\\multilabel_classification\\spen_multilabel.py:100\u001b[0m, in \u001b[0;36mSPENClassification.train\u001b[1;34m(self, loader)\u001b[0m\n\u001b[0;32m     96\u001b[0m t_size \u001b[39m+\u001b[39m\u001b[39m=\u001b[39m \u001b[39mlen\u001b[39m(inputs)\n\u001b[0;32m     98\u001b[0m \u001b[39mself\u001b[39m\u001b[39m.\u001b[39mmodel\u001b[39m.\u001b[39mzero_grad()\n\u001b[1;32m--> 100\u001b[0m pred_labels, loss \u001b[39m=\u001b[39m \u001b[39mself\u001b[39;49m\u001b[39m.\u001b[39;49m_compute_loss(inputs, targets, \u001b[39mTrue\u001b[39;49;00m)\n\u001b[0;32m    101\u001b[0m t_loss \u001b[39m+\u001b[39m\u001b[39m=\u001b[39m loss\u001b[39m.\u001b[39mitem()\n\u001b[0;32m    103\u001b[0m loss\u001b[39m.\u001b[39mbackward()\n",
      "File \u001b[1;32me:\\WORKS\\CS\\MachineDeepLearning\\M2-StructuredData\\TP_Struct_Pred\\src\\multilabel_classification\\spen_multilabel.py:71\u001b[0m, in \u001b[0;36mSPENClassification._compute_loss\u001b[1;34m(self, inputs, targets, training)\u001b[0m\n\u001b[0;32m     70\u001b[0m \u001b[39mdef\u001b[39;00m \u001b[39m_compute_loss\u001b[39m(\u001b[39mself\u001b[39m, inputs, targets, training: \u001b[39mbool\u001b[39m):\n\u001b[1;32m---> 71\u001b[0m     f_x \u001b[39m=\u001b[39m \u001b[39mself\u001b[39;49m\u001b[39m.\u001b[39;49mfeature_extractor(inputs)\n\u001b[0;32m     73\u001b[0m     pred_labels \u001b[39m=\u001b[39m \u001b[39mself\u001b[39m\u001b[39m.\u001b[39minference(f_x, training, \u001b[39mself\u001b[39m\u001b[39m.\u001b[39mn_steps_inf)\n\u001b[0;32m     74\u001b[0m     pred_energy \u001b[39m=\u001b[39m \u001b[39mself\u001b[39m\u001b[39m.\u001b[39mmodel(f_x, pred_labels)\n",
      "File \u001b[1;32md:\\Anaconda\\lib\\site-packages\\torch\\nn\\modules\\module.py:1194\u001b[0m, in \u001b[0;36mModule._call_impl\u001b[1;34m(self, *input, **kwargs)\u001b[0m\n\u001b[0;32m   1190\u001b[0m \u001b[39m# If we don't have any hooks, we want to skip the rest of the logic in\u001b[39;00m\n\u001b[0;32m   1191\u001b[0m \u001b[39m# this function, and just call forward.\u001b[39;00m\n\u001b[0;32m   1192\u001b[0m \u001b[39mif\u001b[39;00m \u001b[39mnot\u001b[39;00m (\u001b[39mself\u001b[39m\u001b[39m.\u001b[39m_backward_hooks \u001b[39mor\u001b[39;00m \u001b[39mself\u001b[39m\u001b[39m.\u001b[39m_forward_hooks \u001b[39mor\u001b[39;00m \u001b[39mself\u001b[39m\u001b[39m.\u001b[39m_forward_pre_hooks \u001b[39mor\u001b[39;00m _global_backward_hooks\n\u001b[0;32m   1193\u001b[0m         \u001b[39mor\u001b[39;00m _global_forward_hooks \u001b[39mor\u001b[39;00m _global_forward_pre_hooks):\n\u001b[1;32m-> 1194\u001b[0m     \u001b[39mreturn\u001b[39;00m forward_call(\u001b[39m*\u001b[39m\u001b[39minput\u001b[39m, \u001b[39m*\u001b[39m\u001b[39m*\u001b[39mkwargs)\n\u001b[0;32m   1195\u001b[0m \u001b[39m# Do not call functions when jit is used\u001b[39;00m\n\u001b[0;32m   1196\u001b[0m full_backward_hooks, non_full_backward_hooks \u001b[39m=\u001b[39m [], []\n",
      "File \u001b[1;32me:\\WORKS\\CS\\MachineDeepLearning\\M2-StructuredData\\TP_Struct_Pred\\src\\multilabel_classification\\model\\feature_mlp.py:34\u001b[0m, in \u001b[0;36mFeatureMLP.forward\u001b[1;34m(self, x)\u001b[0m\n\u001b[0;32m     33\u001b[0m \u001b[39mdef\u001b[39;00m \u001b[39mforward\u001b[39m(\u001b[39mself\u001b[39m, x):\n\u001b[1;32m---> 34\u001b[0m     x \u001b[39m=\u001b[39m F\u001b[39m.\u001b[39mrelu(\u001b[39mself\u001b[39;49m\u001b[39m.\u001b[39;49mfc1(x))\n\u001b[0;32m     35\u001b[0m     x \u001b[39m=\u001b[39m F\u001b[39m.\u001b[39mrelu(\u001b[39mself\u001b[39m\u001b[39m.\u001b[39mfc2(x))\n\u001b[0;32m     36\u001b[0m     \u001b[39mif\u001b[39;00m \u001b[39mnot\u001b[39;00m \u001b[39mself\u001b[39m\u001b[39m.\u001b[39monly_feature_extraction:\n",
      "File \u001b[1;32md:\\Anaconda\\lib\\site-packages\\torch\\nn\\modules\\module.py:1194\u001b[0m, in \u001b[0;36mModule._call_impl\u001b[1;34m(self, *input, **kwargs)\u001b[0m\n\u001b[0;32m   1190\u001b[0m \u001b[39m# If we don't have any hooks, we want to skip the rest of the logic in\u001b[39;00m\n\u001b[0;32m   1191\u001b[0m \u001b[39m# this function, and just call forward.\u001b[39;00m\n\u001b[0;32m   1192\u001b[0m \u001b[39mif\u001b[39;00m \u001b[39mnot\u001b[39;00m (\u001b[39mself\u001b[39m\u001b[39m.\u001b[39m_backward_hooks \u001b[39mor\u001b[39;00m \u001b[39mself\u001b[39m\u001b[39m.\u001b[39m_forward_hooks \u001b[39mor\u001b[39;00m \u001b[39mself\u001b[39m\u001b[39m.\u001b[39m_forward_pre_hooks \u001b[39mor\u001b[39;00m _global_backward_hooks\n\u001b[0;32m   1193\u001b[0m         \u001b[39mor\u001b[39;00m _global_forward_hooks \u001b[39mor\u001b[39;00m _global_forward_pre_hooks):\n\u001b[1;32m-> 1194\u001b[0m     \u001b[39mreturn\u001b[39;00m forward_call(\u001b[39m*\u001b[39m\u001b[39minput\u001b[39m, \u001b[39m*\u001b[39m\u001b[39m*\u001b[39mkwargs)\n\u001b[0;32m   1195\u001b[0m \u001b[39m# Do not call functions when jit is used\u001b[39;00m\n\u001b[0;32m   1196\u001b[0m full_backward_hooks, non_full_backward_hooks \u001b[39m=\u001b[39m [], []\n",
      "File \u001b[1;32md:\\Anaconda\\lib\\site-packages\\torch\\nn\\modules\\linear.py:114\u001b[0m, in \u001b[0;36mLinear.forward\u001b[1;34m(self, input)\u001b[0m\n\u001b[0;32m    113\u001b[0m \u001b[39mdef\u001b[39;00m \u001b[39mforward\u001b[39m(\u001b[39mself\u001b[39m, \u001b[39minput\u001b[39m: Tensor) \u001b[39m-\u001b[39m\u001b[39m>\u001b[39m Tensor:\n\u001b[1;32m--> 114\u001b[0m     \u001b[39mreturn\u001b[39;00m F\u001b[39m.\u001b[39;49mlinear(\u001b[39minput\u001b[39;49m, \u001b[39mself\u001b[39;49m\u001b[39m.\u001b[39;49mweight, \u001b[39mself\u001b[39;49m\u001b[39m.\u001b[39;49mbias)\n",
      "\u001b[1;31mRuntimeError\u001b[0m: Expected all tensors to be on the same device, but found at least two devices, cpu and cuda:0! (when checking argument for argument mat1 in method wrapper_addmm)"
     ]
    }
   ],
   "source": [
    "# SPEN training\n",
    "\n",
    "loss_train, loss_valid, list_f1_valid = train_energy_network(x_train, y_train,\n",
    "                                                             x_valid, y_valid,\n",
    "                                                             PATH_MODELS_ML_BIB,\n",
    "                                                             spen, n_epochs=n_epochs,\n",
    "                                                             batch_size=batch_size,\n",
    "                                                             norm_inputs=True)"
   ]
  },
  {
   "cell_type": "code",
   "execution_count": null,
   "metadata": {},
   "outputs": [],
   "source": [
    "# function for testing SPEN\n",
    "\n",
    "def test_energy_network(X_te, Y_te, path_save, spen):\n",
    "    \"\"\"\n",
    "    Tests an energy network\n",
    "    \"\"\"\n",
    "    use_cuda = torch.cuda.is_available()\n",
    "\n",
    "    test_loader = load_data_loader(X_te, Y_te, use_cuda)\n",
    "\n",
    "    print('Computing the F1 Score on the test set...')\n",
    "    test_loss, test_mean_f1 = spen.valid(test_loader)\n",
    "    \n",
    "    return test_loss, test_mean_f1"
   ]
  },
  {
   "cell_type": "code",
   "execution_count": null,
   "metadata": {},
   "outputs": [],
   "source": [
    "# Test of SPEN on the test set\n",
    "\n",
    "test_loss, test_mean_f1 = test_energy_network(X_te, Y_te, PATH_MODELS_ML_BIB, spen)"
   ]
  },
  {
   "cell_type": "markdown",
   "metadata": {},
   "source": [
    "#### Question 10.  ( structured network)\n",
    "\n",
    "Is the structured part of the SPEN's model $E^{label}_x$ useful with the Bibtex dataset? What can you conclude? "
   ]
  }
 ],
 "metadata": {
  "kernelspec": {
   "display_name": "base",
   "language": "python",
   "name": "python3"
  },
  "language_info": {
   "codemirror_mode": {
    "name": "ipython",
    "version": 3
   },
   "file_extension": ".py",
   "mimetype": "text/x-python",
   "name": "python",
   "nbconvert_exporter": "python",
   "pygments_lexer": "ipython3",
   "version": "3.9.15"
  },
  "vscode": {
   "interpreter": {
    "hash": "88279d2366fe020547cde40dd65aa0e3aa662a6ec1f3ca12d88834876c85e1a6"
   }
  }
 },
 "nbformat": 4,
 "nbformat_minor": 5
}
