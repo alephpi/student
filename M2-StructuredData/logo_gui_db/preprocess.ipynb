{
 "cells": [
  {
   "cell_type": "code",
   "execution_count": 1,
   "metadata": {},
   "outputs": [],
   "source": [
    "%load_ext autoreload\n",
    "%autoreload 2"
   ]
  },
  {
   "cell_type": "code",
   "execution_count": 2,
   "metadata": {},
   "outputs": [],
   "source": [
    "from make_dataset import *\n",
    "from tqdm import tqdm"
   ]
  },
  {
   "cell_type": "code",
   "execution_count": 11,
   "metadata": {},
   "outputs": [],
   "source": [
    "png_dir = './gui/png/'\n",
    "svg_dir = './gui/svg/'\n",
    "raw_data='./gui/gui.html'\n",
    "\n",
    "with open(raw_data, 'r', encoding='utf-8') as f:\n",
    "\t\tfor i, l in tqdm(enumerate(f)):\n",
    "\t\t\t\twith open(f'{svg_dir}/gui_{i:03}.svg', 'w', encoding='utf-8') as g:\n",
    "\t\t\t\t\t\tg.write(l)\n",
    "\t\t\t\tsvg2png(f'{svg_dir}/gui_{i:03}.svg',f'{png_dir}/gui_{i:03}.png')\n",
    "\t\t\t\tpng_bk_color(f'{png_dir}/gui_{i:03}.png', f'{png_dir}/gui_{i:03}_wbk.png')\n"
   ]
  },
  {
   "cell_type": "code",
   "execution_count": 6,
   "metadata": {},
   "outputs": [],
   "source": [
    "import os\n",
    "\n",
    "# specify the directory containing the files\n",
    "view_dir = './view/'\n",
    "\n",
    "# get a list of all the files in the directory\n",
    "files = os.listdir(view_dir)\n",
    "\n",
    "# loop over the files and rename them by number\n",
    "for i, file in enumerate(files):\n",
    "    # construct the new filename using the file extension\n",
    "    filename, extension = os.path.splitext(file)\n",
    "    new_filename = f\"view_{i:03}{extension}\"\n",
    "    \n",
    "    # construct the full file paths for the old and new filenames\n",
    "    old_path = os.path.join(view_dir, file)\n",
    "    new_path = os.path.join(view_dir, new_filename)\n",
    "    \n",
    "    # rename the file\n",
    "    os.rename(old_path, new_path)"
   ]
  },
  {
   "cell_type": "code",
   "execution_count": 9,
   "metadata": {},
   "outputs": [
    {
     "data": {
      "text/plain": [
       "126"
      ]
     },
     "execution_count": 9,
     "metadata": {},
     "output_type": "execute_result"
    }
   ],
   "source": [
    "len(files)"
   ]
  },
  {
   "attachments": {},
   "cell_type": "markdown",
   "metadata": {},
   "source": [
    "# make paste images"
   ]
  },
  {
   "cell_type": "code",
   "execution_count": 15,
   "metadata": {},
   "outputs": [
    {
     "name": "stderr",
     "output_type": "stream",
     "text": [
      "100%|██████████| 340/340 [00:09<00:00, 37.07it/s]\n"
     ]
    }
   ],
   "source": [
    "img_dir = './paste/images/'\n",
    "\n",
    "guis = os.listdir(png_dir)\n",
    "i = 0\n",
    "for gui in tqdm(guis):\n",
    "\tif not 'wbk' in gui:\n",
    "\t\tgui_path = png_dir + gui\n",
    "\t\tview_path = view_dir + f'view_{i%126:03}.jpg'\n",
    "\t\tsuperpose(view_path, gui_path, img_dir+f'image{i:03}.jpg')\n",
    "\t\ti += 1"
   ]
  },
  {
   "cell_type": "code",
   "execution_count": 28,
   "metadata": {},
   "outputs": [],
   "source": [
    "from PIL import ImageOps"
   ]
  },
  {
   "cell_type": "code",
   "execution_count": 33,
   "metadata": {},
   "outputs": [
    {
     "name": "stderr",
     "output_type": "stream",
     "text": [
      "100%|██████████| 170/170 [00:00<00:00, 485.40it/s]\n"
     ]
    }
   ],
   "source": [
    "label_dir = './paste/labels/'\n",
    "\n",
    "for i in tqdm(range(170)):\n",
    "\timg = Image.open(png_dir+f'gui_{i:03}_wbk.png').convert('L')\n",
    "\tinverted_img = ImageOps.invert(img)\n",
    "\tinverted_img = inverted_img.convert('L')\n",
    "\tinverted_img.save(label_dir+f'labels{i:03}.jpg')"
   ]
  },
  {
   "attachments": {},
   "cell_type": "markdown",
   "metadata": {},
   "source": [
    "# make embed images"
   ]
  },
  {
   "cell_type": "code",
   "execution_count": 24,
   "metadata": {},
   "outputs": [],
   "source": [
    "import random"
   ]
  },
  {
   "cell_type": "code",
   "execution_count": 27,
   "metadata": {},
   "outputs": [
    {
     "name": "stderr",
     "output_type": "stream",
     "text": [
      "100%|██████████| 170/170 [00:18<00:00,  9.38it/s]\n"
     ]
    }
   ],
   "source": [
    "img_dir = './embed/images/'\n",
    "label_dir = './embed/labels/'\n",
    "\n",
    "views = os.listdir(view_dir)\n",
    "\n",
    "for i in tqdm(range(170)):\n",
    "\timg1_path, img2_path = random.sample(views, 2)\n",
    "\tembed(view_dir+img1_path, view_dir+img2_path, png_dir+f'/gui_{i:03}_wbk.png', img_dir+f'image{i:03}.jpg')"
   ]
  },
  {
   "cell_type": "code",
   "execution_count": null,
   "metadata": {},
   "outputs": [],
   "source": []
  }
 ],
 "metadata": {
  "kernelspec": {
   "display_name": "base",
   "language": "python",
   "name": "python3"
  },
  "language_info": {
   "codemirror_mode": {
    "name": "ipython",
    "version": 3
   },
   "file_extension": ".py",
   "mimetype": "text/x-python",
   "name": "python",
   "nbconvert_exporter": "python",
   "pygments_lexer": "ipython3",
   "version": "3.9.15"
  },
  "orig_nbformat": 4
 },
 "nbformat": 4,
 "nbformat_minor": 2
}
