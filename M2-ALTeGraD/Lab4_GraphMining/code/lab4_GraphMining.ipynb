{
 "cells": [
  {
   "cell_type": "markdown",
   "metadata": {},
   "source": [
    "# Graph Mining - ALTEGRAD - Nov 2022\n",
    "## Sicheng Mao"
   ]
  },
  {
   "cell_type": "markdown",
   "metadata": {},
   "source": [
    "### part1"
   ]
  },
  {
   "cell_type": "code",
   "execution_count": 1,
   "metadata": {},
   "outputs": [],
   "source": [
    "import networkx as nx\n",
    "import matplotlib.pyplot as plt\n",
    "import numpy as np"
   ]
  },
  {
   "cell_type": "code",
   "execution_count": 5,
   "metadata": {},
   "outputs": [],
   "source": [
    "############## Task 1\n",
    "G = nx.read_edgelist('../datasets/CA-HepTh.txt', comments='#', delimiter='\\t')"
   ]
  },
  {
   "cell_type": "code",
   "execution_count": 6,
   "metadata": {},
   "outputs": [
    {
     "name": "stdout",
     "output_type": "stream",
     "text": [
      "9877\n",
      "25998\n"
     ]
    }
   ],
   "source": [
    "print(G.number_of_nodes())\n",
    "print(G.number_of_edges())"
   ]
  },
  {
   "cell_type": "code",
   "execution_count": 9,
   "metadata": {},
   "outputs": [],
   "source": [
    "############## Task 2\n",
    "largest_cc = max(nx.connected_components(G), key=len)\n",
    "S = G.subgraph(largest_cc).copy()"
   ]
  },
  {
   "cell_type": "code",
   "execution_count": 13,
   "metadata": {},
   "outputs": [
    {
     "name": "stdout",
     "output_type": "stream",
     "text": [
      "8638 0.8745570517363572\n",
      "24827 0.9549580736979768\n"
     ]
    }
   ],
   "source": [
    "print(S.number_of_nodes(), S.number_of_nodes()/G.number_of_nodes())\n",
    "print(S.number_of_edges(), S.number_of_edges()/G.number_of_edges())"
   ]
  },
  {
   "cell_type": "code",
   "execution_count": 17,
   "metadata": {},
   "outputs": [
    {
     "name": "stdout",
     "output_type": "stream",
     "text": [
      "1\n",
      "65\n",
      "3.0\n",
      "5.264351523742027\n"
     ]
    }
   ],
   "source": [
    "############## Task 3\n",
    "# Degree\n",
    "degree_sequence = [G.degree(node) for node in G.nodes()]\n",
    "\n",
    "print(min(degree_sequence))\n",
    "print(max(degree_sequence))\n",
    "print(np.median(degree_sequence))\n",
    "print(np.mean(degree_sequence))"
   ]
  },
  {
   "cell_type": "code",
   "execution_count": 18,
   "metadata": {},
   "outputs": [],
   "source": [
    "import matplotlib.pyplot as plt"
   ]
  },
  {
   "cell_type": "code",
   "execution_count": 23,
   "metadata": {},
   "outputs": [
    {
     "data": {
      "text/plain": [
       "[<matplotlib.lines.Line2D at 0x168d06f1f70>]"
      ]
     },
     "execution_count": 23,
     "metadata": {},
     "output_type": "execute_result"
    },
    {
     "data": {
      "image/png": "[encoded data removed]",
      "text/plain": [
       "<Figure size 640x480 with 1 Axes>"
      ]
     },
     "metadata": {},
     "output_type": "display_data"
    }
   ],
   "source": [
    "############## Task 4\n",
    "##################\n",
    "hist = nx.degree_histogram(G)\n",
    "plt.xlabel('degree')\n",
    "plt.ylabel('frequency')\n",
    "plt.xscale('log')\n",
    "plt.yscale('log')\n",
    "plt.plot(hist)\n",
    "##################"
   ]
  },
  {
   "cell_type": "code",
   "execution_count": 24,
   "metadata": {},
   "outputs": [
    {
     "data": {
      "text/plain": [
       "0.2839996525875546"
      ]
     },
     "execution_count": 24,
     "metadata": {},
     "output_type": "execute_result"
    }
   ],
   "source": [
    "############## Task 5\n",
    "\n",
    "##################\n",
    "nx.transitivity(G)\n",
    "##################"
   ]
  },
  {
   "cell_type": "markdown",
   "metadata": {},
   "source": [
    "### part2"
   ]
  },
  {
   "cell_type": "code",
   "execution_count": 25,
   "metadata": {},
   "outputs": [],
   "source": [
    "from scipy.sparse.linalg import eigs\n",
    "from scipy.sparse import diags, eye\n",
    "from random import randint\n",
    "from sklearn.cluster import KMeans"
   ]
  },
  {
   "cell_type": "code",
   "execution_count": 29,
   "metadata": {},
   "outputs": [],
   "source": [
    "############## Task 6\n",
    "# Perform spectral clustering to partition graph G into k clusters\n",
    "def spectral_clustering(G, k):\n",
    "    clustering = {}\n",
    "    A = nx.adjacency_matrix(G)\n",
    "    D_inv = diags([1/G.degree(node) for node in G.nodes()])\n",
    "    L = eye(G.number_of_nodes()) - D_inv @ A\n",
    "    w, U = eigs(L, k, which='SR')\n",
    "    U = U.real\n",
    "    kmeans = KMeans(n_clusters=k)\n",
    "    labels = kmeans.fit_predict(U)\n",
    "    for i, node in enumerate(G.nodes()):\n",
    "        clustering[node] = labels[i]\n",
    "    return clustering"
   ]
  },
  {
   "cell_type": "code",
   "execution_count": 33,
   "metadata": {},
   "outputs": [],
   "source": [
    "############## Task 7\n",
    "\n",
    "##################\n",
    "clustering = spectral_clustering(S, 50)\n",
    "##################"
   ]
  },
  {
   "cell_type": "code",
   "execution_count": 34,
   "metadata": {},
   "outputs": [
    {
     "data": {
      "text/plain": [
       "-0.007396449704141939"
      ]
     },
     "execution_count": 34,
     "metadata": {},
     "output_type": "execute_result"
    }
   ],
   "source": [
    "6/13 - (11/26)**2 - (14/26)**2"
   ]
  },
  {
   "cell_type": "code",
   "execution_count": 74,
   "metadata": {},
   "outputs": [],
   "source": [
    "############## Task 8\n",
    "# Compute modularity value from graph G based on clustering\n",
    "def modularity(G, clustering):\n",
    "    modularity = 0\n",
    "    m = G.number_of_edges()\n",
    "    labels = set(clustering.values())\n",
    "    label_nodes = {label: set() for label in labels}\n",
    "    for (node, label) in clustering.items():\n",
    "        label_nodes[label].update({node})\n",
    "    # print(label_nodes)\n",
    "    for (label, nodes) in label_nodes.items():\n",
    "        c = G.subgraph(nodes)\n",
    "        lc = c.number_of_edges()\n",
    "        dc = sum([degree for (_, degree) in c.degree()])\n",
    "        modularity += lc/m - (dc /(2 * m)) ** 2\n",
    "\n",
    "    return modularity"
   ]
  },
  {
   "cell_type": "code",
   "execution_count": 75,
   "metadata": {},
   "outputs": [
    {
     "name": "stdout",
     "output_type": "stream",
     "text": [
      "0.23391396964192845 0.020210359575157415\n"
     ]
    }
   ],
   "source": [
    "############## Task 9\n",
    "\n",
    "##################\n",
    "random_clustering = {node: randint(0,49) for node in S.nodes()}\n",
    "mod = modularity(S, clustering)\n",
    "mod_random = modularity(S, random_clustering)\n",
    "print(mod, mod_random)\n",
    "##################"
   ]
  },
  {
   "cell_type": "markdown",
   "metadata": {},
   "source": [
    "### part3"
   ]
  },
  {
   "cell_type": "code",
   "execution_count": 76,
   "metadata": {},
   "outputs": [],
   "source": [
    "from sklearn.model_selection import train_test_split\n",
    "from sklearn.svm import SVC\n",
    "from sklearn.metrics import accuracy_score"
   ]
  },
  {
   "cell_type": "code",
   "execution_count": 77,
   "metadata": {},
   "outputs": [],
   "source": [
    "############## Task 10\n",
    "# Generate simple dataset\n",
    "def create_dataset():\n",
    "    Gs = list()\n",
    "    y = list()\n",
    "\n",
    "    for i in range(3,103):\n",
    "        Gs.append(nx.cycle_graph(i))\n",
    "        y.append(0)\n",
    "        Gs.append(nx.path_graph(i))\n",
    "        y.append(1)\n",
    "\n",
    "    return Gs, y"
   ]
  },
  {
   "cell_type": "code",
   "execution_count": 78,
   "metadata": {},
   "outputs": [],
   "source": [
    "Gs, y = create_dataset()\n",
    "G_train, G_test, y_train, y_test = train_test_split(Gs, y, test_size=0.1)"
   ]
  },
  {
   "cell_type": "code",
   "execution_count": 79,
   "metadata": {},
   "outputs": [],
   "source": [
    "# Compute the shortest path kernel\n",
    "def shortest_path_kernel(Gs_train, Gs_test):    \n",
    "    all_paths = dict()\n",
    "    sp_counts_train = dict()\n",
    "    \n",
    "    for i,G in enumerate(Gs_train):\n",
    "        sp_lengths = dict(nx.shortest_path_length(G))\n",
    "        sp_counts_train[i] = dict()\n",
    "        nodes = G.nodes()\n",
    "        for v1 in nodes:\n",
    "            for v2 in nodes:\n",
    "                if v2 in sp_lengths[v1]:\n",
    "                    length = sp_lengths[v1][v2]\n",
    "                    if length in sp_counts_train[i]:\n",
    "                        sp_counts_train[i][length] += 1\n",
    "                    else:\n",
    "                        sp_counts_train[i][length] = 1\n",
    "\n",
    "                    if length not in all_paths:\n",
    "                        all_paths[length] = len(all_paths)\n",
    "                        \n",
    "    sp_counts_test = dict()\n",
    "\n",
    "    for i,G in enumerate(Gs_test):\n",
    "        sp_lengths = dict(nx.shortest_path_length(G))\n",
    "        sp_counts_test[i] = dict()\n",
    "        nodes = G.nodes()\n",
    "        for v1 in nodes:\n",
    "            for v2 in nodes:\n",
    "                if v2 in sp_lengths[v1]:\n",
    "                    length = sp_lengths[v1][v2]\n",
    "                    if length in sp_counts_test[i]:\n",
    "                        sp_counts_test[i][length] += 1\n",
    "                    else:\n",
    "                        sp_counts_test[i][length] = 1\n",
    "\n",
    "                    if length not in all_paths:\n",
    "                        all_paths[length] = len(all_paths)\n",
    "\n",
    "    phi_train = np.zeros((len(Gs_train), len(all_paths)))\n",
    "    for i in range(len(Gs_train)):\n",
    "        for length in sp_counts_train[i]:\n",
    "            phi_train[i,all_paths[length]] = sp_counts_train[i][length]\n",
    "    \n",
    "  \n",
    "    phi_test = np.zeros((len(Gs_test), len(all_paths)))\n",
    "    for i in range(len(Gs_test)):\n",
    "        for length in sp_counts_test[i]:\n",
    "            phi_test[i,all_paths[length]] = sp_counts_test[i][length]\n",
    "\n",
    "    K_train = np.dot(phi_train, phi_train.T)\n",
    "    K_test = np.dot(phi_test, phi_train.T)\n",
    "\n",
    "    return K_train, K_test"
   ]
  },
  {
   "cell_type": "code",
   "execution_count": 83,
   "metadata": {},
   "outputs": [],
   "source": [
    "############## Task 11\n",
    "# Compute the graphlet kernel\n",
    "def graphlet_kernel(Gs_train, Gs_test, n_samples=200):\n",
    "    graphlets = [nx.Graph(), nx.Graph(), nx.Graph(), nx.Graph()]\n",
    "    \n",
    "    graphlets[0].add_nodes_from(range(3))\n",
    "\n",
    "    graphlets[1].add_nodes_from(range(3))\n",
    "    graphlets[1].add_edge(0,1)\n",
    "\n",
    "    graphlets[2].add_nodes_from(range(3))\n",
    "    graphlets[2].add_edge(0,1)\n",
    "    graphlets[2].add_edge(1,2)\n",
    "\n",
    "    graphlets[3].add_nodes_from(range(3))\n",
    "    graphlets[3].add_edge(0,1)\n",
    "    graphlets[3].add_edge(1,2)\n",
    "    graphlets[3].add_edge(0,2)\n",
    "\n",
    "    \n",
    "    phi_train = np.zeros((len(Gs_train), 4))\n",
    "    \n",
    "    ##################\n",
    "    for k, G in enumerate(Gs_train):\n",
    "        for i in range(n_samples):\n",
    "            s = np.random.choice(G.nodes(), 3)\n",
    "            sub = G.subgraph(s)\n",
    "            for i, graphlet in enumerate(graphlets):\n",
    "                if nx.is_isomorphic(sub, graphlet):\n",
    "                    phi_train[k, i] += 1\n",
    "                    break\n",
    "    ##################\n",
    "\n",
    "\n",
    "    phi_test = np.zeros((len(Gs_test), 4))\n",
    "    \n",
    "    ##################\n",
    "    for k, G in enumerate(Gs_test):\n",
    "        for i in range(n_samples):\n",
    "            s = np.random.choice(G.nodes(), 3)\n",
    "            sub = G.subgraph(s)\n",
    "            for i, graphlet in enumerate(graphlets):\n",
    "                if nx.is_isomorphic(sub, graphlet):\n",
    "                    phi_test[i] += 1\n",
    "                    break\n",
    "    ##################\n",
    "\n",
    "\n",
    "    K_train = np.dot(phi_train, phi_train.T)\n",
    "    K_test = np.dot(phi_test, phi_train.T)\n",
    "\n",
    "    return K_train, K_test"
   ]
  },
  {
   "cell_type": "code",
   "execution_count": 84,
   "metadata": {},
   "outputs": [],
   "source": [
    "K_train_sp, K_test_sp = shortest_path_kernel(G_train, G_test)"
   ]
  },
  {
   "cell_type": "code",
   "execution_count": 85,
   "metadata": {},
   "outputs": [],
   "source": [
    "############## Task 12\n",
    "\n",
    "##################\n",
    "K_train_gl, K_test_gl = graphlet_kernel(G_train, G_test)\n",
    "##################"
   ]
  },
  {
   "cell_type": "code",
   "execution_count": 86,
   "metadata": {},
   "outputs": [
    {
     "name": "stdout",
     "output_type": "stream",
     "text": [
      "1.0\n"
     ]
    }
   ],
   "source": [
    "############## Task 13\n",
    "\n",
    "##################\n",
    "clf = SVC(kernel='precomputed')\n",
    "clf.fit(K_train_sp, y_train)\n",
    "y_pred_sp = clf.predict(K_test_sp)\n",
    "print(accuracy_score(y_test, y_pred_sp))"
   ]
  },
  {
   "cell_type": "code",
   "execution_count": 87,
   "metadata": {},
   "outputs": [
    {
     "name": "stdout",
     "output_type": "stream",
     "text": [
      "0.65\n"
     ]
    }
   ],
   "source": [
    "clf.fit(K_train_gl, y_train)\n",
    "y_pred_gl = clf.predict(K_test_gl)\n",
    "print(accuracy_score(y_test, y_pred_gl))\n",
    "##################"
   ]
  },
  {
   "cell_type": "markdown",
   "metadata": {},
   "source": [
    "this is quite reasonable since loop really reduce the shortest path, however add one edge up won't change dramatically the graphlet sampling. (only one edge is involved)"
   ]
  }
 ],
 "metadata": {
  "kernelspec": {
   "display_name": "Python 3.9.13 ('base')",
   "language": "python",
   "name": "python3"
  },
  "language_info": {
   "codemirror_mode": {
    "name": "ipython",
    "version": 3
   },
   "file_extension": ".py",
   "mimetype": "text/x-python",
   "name": "python",
   "nbconvert_exporter": "python",
   "pygments_lexer": "ipython3",
   "version": "3.9.13"
  },
  "orig_nbformat": 4,
  "vscode": {
   "interpreter": {
    "hash": "88279d2366fe020547cde40dd65aa0e3aa662a6ec1f3ca12d88834876c85e1a6"
   }
  }
 },
 "nbformat": 4,
 "nbformat_minor": 2
}
