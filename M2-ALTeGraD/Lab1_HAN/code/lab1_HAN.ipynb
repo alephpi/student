{
 "cells": [
  {
   "cell_type": "markdown",
   "metadata": {
    "id": "MuVouapRmjEW"
   },
   "source": [
    "<center><h2>ALTeGraD 2022<br>Lab Session 1: HAN</h2><h3>Hierarchical Attention Network Using GRU</h3> 27 / 10 / 2022<br> M. Kamal Eddine, H. Abdine<br><br>\n",
    "\n",
    "\n",
    "<b>Student name:</b> Sicheng MAO\n",
    "\n",
    "\n",
    "</center>\n",
    "In this lab, you will get familiar with recurrent neural networks (RNNs), self-attention, and the HAN architecture <b>(Yang et al. 2016)</b> using PyTorch. In this architecture, sentence embeddings are first individually produced, and a document embedding is then computed from the sentence embeddings.<br>\n",
    "<b>The deadline for this lab is November 14, 2022 11:59 PM.</b> More details about the submission and the architecture for this lab can be found in the handout PDF.\n"
   ]
  },
  {
   "cell_type": "markdown",
   "metadata": {
    "id": "xJaSJaIP1xRy"
   },
   "source": [
    "### = = = = =  Attention Layer = = = = =\n",
    "In this section, you will fill the gaps in the code to implement the self-attention layer. This layer will be used later to define the HAN architecture. The basic idea behind attention is that rather than considering the last annotation $h_T$ as a summary of the entire sequence, which is prone to information loss, the annotations at <i>all</i> time steps are used.\n",
    "The self-attention mechanism computes a weighted sum of the annotations, where the weights are determined by trainable parameters. Refer to <b>section 2.2</b> in the handout for the theoretical part, it will be needed to finish the first task.\n",
    "\n",
    "#### <b>Task 1:</b>"
   ]
  },
  {
   "cell_type": "code",
   "execution_count": 1,
   "metadata": {
    "id": "yoM7H0KQncpF"
   },
   "outputs": [],
   "source": [
    "import torch\n",
    "from torch import nn\n",
    "from torch.utils.data import DataLoader"
   ]
  },
  {
   "cell_type": "code",
   "execution_count": 2,
   "metadata": {
    "id": "yoM7H0KQncpF"
   },
   "outputs": [],
   "source": [
    "class AttentionWithContext(nn.Module):\n",
    "    \"\"\"\n",
    "    Follows the work of Yang et al. [https://www.cs.cmu.edu/~diyiy/docs/naacl16.pdf]\n",
    "    \"Hierarchical Attention Networks for Document Classification\"\n",
    "    by using a context vector to assist the attention\n",
    "    # Input shape\n",
    "        3D tensor with shape: `(samples, steps, features)`.\n",
    "    # Output shape\n",
    "        2D tensor with shape: `(samples, features)`.\n",
    "    \"\"\"\n",
    "\n",
    "    def __init__(self, input_shape, return_coefficients=False, bias=True):\n",
    "        super(AttentionWithContext, self).__init__()\n",
    "        self.return_coefficients = return_coefficients\n",
    "\n",
    "        self.W = nn.Linear(input_shape, input_shape, bias=bias)\n",
    "        self.tanh = nn.Tanh()\n",
    "        self.u = nn.Linear(input_shape, 1, bias=False)\n",
    "\n",
    "        self.init_weights()\n",
    "\n",
    "    def init_weights(self):\n",
    "        initrange = 0.1\n",
    "        self.W.weight.data.uniform_(-initrange, initrange)\n",
    "        self.W.bias.data.uniform_(-initrange, initrange)\n",
    "        self.u.weight.data.uniform_(-initrange, initrange)\n",
    "\n",
    "    def generate_square_subsequent_mask(self, sz):\n",
    "        # do not pass the mask to the next layers\n",
    "        # torch.triu return the upper triangle part of matrix\n",
    "        mask = (torch.triu(torch.ones(sz, sz)) == 1).transpose(0, 1)\n",
    "        # () are used for line breaking, alternatively use \\ explicitly.\n",
    "        mask = (\n",
    "            mask.float()\n",
    "            .masked_fill(mask == 0, float(\"-inf\"))\n",
    "            .masked_fill(mask == 1, float(0.0))\n",
    "        )\n",
    "        # can be replaced by\n",
    "        # mask = torch.triu(torch.ones(sz,sz)).transpose(0,1)\n",
    "        # mask = mask.masked_fill(mask==0, float(\"-inf\"))..masked_fill(mask == 1, float(0.0))\n",
    "        return mask\n",
    "\n",
    "    def forward(self, x, mask=None):\n",
    "        # compute uit = W . x  where x represents ht\n",
    "        uit = self.W(x)  # fill the gap\n",
    "        uit = self.tanh(uit)\n",
    "        ait = self.u(uit)\n",
    "        a = torch.exp(ait)\n",
    "\n",
    "        # apply mask after the exp. will be re-normalized next\n",
    "        if mask is not None:\n",
    "            a = a*mask.double()\n",
    "\n",
    "        # in some cases especially in the early stages of training the sum may be almost zero\n",
    "        # and this results in NaN's. A workaround is to add a very small positive number ε to the sum.\n",
    "        eps = 1e-9\n",
    "        a = a / (torch.sum(a, axis=1, keepdim=True) + eps)\n",
    "        weighted_input = a * x  # compute the attentional vector\n",
    "        if self.return_coefficients:\n",
    "            return weighted_input.sum(axis=1), a  # [attentional vector, coefficients] ### use torch.sum to compute s\n",
    "        else:\n",
    "            return weighted_input.sum(axis=1)  # attentional vector only ###"
   ]
  },
  {
   "cell_type": "markdown",
   "metadata": {
    "id": "DgTP6GrOHlss"
   },
   "source": [
    "### = = = = = Parameters = = = = =\n",
    "In this section, we define the parameters to use in our training. Such as data path, the embedding dimention <b>d</b>, the GRU layer dimensionality <b>n_units</b>, etc..<br>\n",
    "The parameter <b>device</b> is used to train the model on GPU if it is available. for this purpose, if you are using Google Colab, switch your runtime to a GPU runtime to train the model with a maximum speed.<br>\n",
    "<b>Bonus question:</b> What is the purpose of the parameter <i>my_patience</i>?"
   ]
  },
  {
   "cell_type": "code",
   "execution_count": 3,
   "metadata": {
    "id": "czsVjxgYnczb"
   },
   "outputs": [],
   "source": [
    "import sys\n",
    "import json\n",
    "import operator\n",
    "import numpy as np\n",
    "\n",
    "path_root = ''\n",
    "path_to_data = path_root + 'data/'\n",
    "\n",
    "d = 30 # dimensionality of word embeddings\n",
    "n_units = 50 # RNN layer dimensionality\n",
    "drop_rate = 0.5 # dropout\n",
    "mfw_idx = 2 # index of the most frequent words in the dictionary \n",
    "            # 0 is for the special padding token\n",
    "            # 1 is for the special out-of-vocabulary token\n",
    "\n",
    "padding_idx = 0\n",
    "oov_idx = 1\n",
    "batch_size = 64\n",
    "nb_epochs = 15\n",
    "my_patience = 2 # for early stopping strategy\n",
    "device = torch.device(\"cuda\" if torch.cuda.is_available() else \"cpu\")"
   ]
  },
  {
   "cell_type": "markdown",
   "metadata": {
    "id": "K8Vot_C7Hlst"
   },
   "source": [
    "### = = = = = Data Loading = = = = =\n",
    "In this section we will use first <b>wget</b> to download the data the we will load it using numpy in the first cell. While in the second cell, we will use these data to define our Pytorch data loader. Note that the data is already preprocessed, tokenized and padded.<br><br>\n",
    "<b>Note: if you are running your notebook on Windows or on MacOS, <i>wget</i> will probably not work if you did not install it manually. In this case, use the provided link to download the data and change the <i>path_to_data</i> in the <i>Parameters</i> section accordingly. Otherwise, you will face no problem on Ubuntu and Google Colab.</b>\n",
    "\n",
    "#### <b>Task 2.1:</b>"
   ]
  },
  {
   "cell_type": "code",
   "execution_count": 4,
   "metadata": {
    "id": "UD6hRh0OHlst"
   },
   "outputs": [],
   "source": [
    "# !wget -c \"https://onedrive.live.com/download?cid=AE69638675180117&resid=AE69638675180117%2199289&authkey=AHgxt3xmgG0Fu5A\" -O \"data.zip\"\n",
    "# !unzip data.zip\n",
    "\n",
    "my_docs_array_train = np.load(path_to_data + 'docs_train.npy')\n",
    "my_docs_array_test = np.load(path_to_data + 'docs_test.npy')\n",
    "\n",
    "my_labels_array_train = np.load(path_to_data + 'labels_train.npy')\n",
    "my_labels_array_test = np.load(path_to_data + 'labels_test.npy')\n",
    "\n",
    "# load dictionary of word indexes (sorted by decreasing frequency across the corpus)\n",
    "with open(path_to_data + 'word_to_index.json', 'r') as my_file:\n",
    "    word_to_index = json.load(my_file)\n",
    "\n",
    "# invert mapping\n",
    "index_to_word = {index: word for (word, index) in word_to_index.items()} ### fill the gap (use a dict comprehension) ###\n",
    "input_size = my_docs_array_train.shape"
   ]
  },
  {
   "cell_type": "code",
   "execution_count": 5,
   "metadata": {
    "id": "DpsCvmaiJfZc"
   },
   "outputs": [],
   "source": [
    "import numpy\n",
    "from torch.utils.data import Dataset\n",
    "\n",
    "class Dataset_(Dataset):\n",
    "    def __init__(self, x, y):\n",
    "        self.documents = x\n",
    "        self.labels = y\n",
    "\n",
    "    def __len__(self):\n",
    "        return len(self.documents)\n",
    "\n",
    "    def __getitem__(self, index):\n",
    "        document = self.documents[index]\n",
    "        label = self.labels[index] \n",
    "        sample = {\n",
    "            \"document\": torch.tensor(document),\n",
    "            \"label\": torch.tensor(label),\n",
    "            }\n",
    "        return sample\n",
    "\n",
    "\n",
    "def get_loader(x, y, batch_size=32):\n",
    "    dataset = Dataset_(x, y)\n",
    "    data_loader = DataLoader(dataset=dataset,\n",
    "                            batch_size=batch_size,\n",
    "                            shuffle=True,\n",
    "                            pin_memory=True,\n",
    "                            drop_last=True,\n",
    "                            )\n",
    "    return data_loader"
   ]
  },
  {
   "cell_type": "markdown",
   "metadata": {
    "id": "6rzqEGOdHlst"
   },
   "source": [
    "### = = = = = Defining Architecture = = = = =\n",
    "In this section, we define the HAN architecture. We start with <i>AttentionBiGRU</i> module in order to define the sentence encoder (check Figure 3 in the handout). Then, we define the <i>TimeDistributed</i> module to allow us to forward our input (batch of document) as to the sentence encoder as <b>batch of sentences</b>, where each sentence in the document will be considered as a time step. This module also reshape the output to a batch of timesteps representations per document. Finally we define the <b>HAN</b> architecture using <i>TimeDistributed</i>, <i>AttentionWithContext</i> and <i>GRU</i>.\n",
    "\n",
    "#### <b>Task 2.2:</b>"
   ]
  },
  {
   "cell_type": "code",
   "execution_count": 6,
   "metadata": {},
   "outputs": [
    {
     "data": {
      "text/plain": [
       "torch.nn.modules.rnn.GRU"
      ]
     },
     "execution_count": 6,
     "metadata": {},
     "output_type": "execute_result"
    }
   ],
   "source": [
    "nn.GRU"
   ]
  },
  {
   "cell_type": "code",
   "execution_count": 7,
   "metadata": {
    "id": "AMj9j1_pHlst"
   },
   "outputs": [],
   "source": [
    "class AttentionBiGRU(nn.Module):\n",
    "    def __init__(self, input_shape, n_units, index_to_word, dropout=0):\n",
    "        super(AttentionBiGRU, self).__init__()\n",
    "        self.embedding = nn.Embedding(len(index_to_word)+2,  # vocab size\n",
    "                                      d,  # dimensionality of embedding space\n",
    "                                      padding_idx=0)\n",
    "        self.dropout = nn.Dropout(drop_rate)\n",
    "        self.gru = nn.GRU(input_size=d,\n",
    "                          hidden_size=n_units,\n",
    "                          num_layers=1,\n",
    "                          bias=True,\n",
    "                          batch_first=True,\n",
    "                          bidirectional=True)\n",
    "        self.attention = AttentionWithContext(2 * n_units,   # the input shape for the attention layer == output shape of GRU\n",
    "                                              return_coefficients=True)\n",
    "\n",
    "    def forward(self, sent_ints):\n",
    "        sent_wv = self.embedding(sent_ints)\n",
    "        sent_wv_dr = self.dropout(sent_wv)\n",
    "        sent_wa, _ = self.gru(sent_wv_dr)  # fill the gap # RNN layer\n",
    "        sent_att_vec, word_att_coeffs = self.attention(sent_wa)  # attentional vector for the sent\n",
    "        sent_att_vec_dr = self.dropout(sent_att_vec)\n",
    "        return sent_att_vec_dr, word_att_coeffs\n",
    "\n",
    "\n",
    "class TimeDistributed(nn.Module): # mimic keras TimeDistributed layer\n",
    "    def __init__(self, module, batch_first=False):\n",
    "        super(TimeDistributed, self).__init__()\n",
    "        self.module = module\n",
    "        self.batch_first = batch_first\n",
    "\n",
    "    def forward(self, x):\n",
    "        if len(x.size()) <= 2:\n",
    "            return self.module(x)\n",
    "        # Squash samples and timesteps into a single axis\n",
    "        x_reshape = x.contiguous().view(-1, x.size(-1))  # (samples * timesteps, input_size) (448, 30)\n",
    "        sent_att_vec_dr, word_att_coeffs = self.module(x_reshape)\n",
    "        # We have to reshape the output\n",
    "        if self.batch_first:\n",
    "            sent_att_vec_dr = sent_att_vec_dr.contiguous().view(x.size(0), -1, sent_att_vec_dr.size(-1))  # (samples, timesteps, output_size)\n",
    "            word_att_coeffs = word_att_coeffs.contiguous().view(x.size(0), -1, word_att_coeffs.size(-1))  # (samples, timesteps, output_size)\n",
    "        else:\n",
    "            sent_att_vec_dr = sent_att_vec_dr.view(-1, x.size(1), sent_att_vec_dr.size(-1))  # (timesteps, samples, output_size)\n",
    "            word_att_coeffs = word_att_coeffs.view(-1, x.size(1), word_att_coeffs.size(-1))  # (timesteps, samples, output_size)\n",
    "        return sent_att_vec_dr, word_att_coeffs\n",
    "\n",
    "\n",
    "class HAN(nn.Module):\n",
    "    def __init__(self, input_shape, n_units, index_to_word, dropout=0):\n",
    "        super(HAN, self).__init__()\n",
    "        self.encoder = AttentionBiGRU(input_shape, n_units, index_to_word, dropout)\n",
    "        self.timeDistributed = TimeDistributed(self.encoder, True)\n",
    "        self.dropout = nn.Dropout(drop_rate)\n",
    "        self.gru = nn.GRU(input_size=2 * n_units,  # the input shape of GRU layer\n",
    "                          hidden_size=n_units,\n",
    "                          num_layers=1,\n",
    "                          bias=True,\n",
    "                          batch_first=True,\n",
    "                          bidirectional=True)\n",
    "        self.attention = AttentionWithContext(2 * n_units,  # fill the gap # the input shape of between-sentence attention layer\n",
    "                                              return_coefficients=True)\n",
    "        self.lin_out = nn.Linear(2 * n_units,  # fill the gap # the input size of the last linear layer\n",
    "                                 1)\n",
    "        self.preds = nn.Sigmoid()\n",
    "\n",
    "    def forward(self, doc_ints):\n",
    "        sent_att_vecs_dr, word_att_coeffs = self.timeDistributed(doc_ints) # get sentence representation\n",
    "        doc_sa, _ = self.gru(sent_att_vecs_dr)\n",
    "        doc_att_vec, sent_att_coeffs = self.attention(doc_sa)\n",
    "        doc_att_vec_dr = self.dropout(doc_att_vec)\n",
    "        doc_att_vec_dr = self.lin_out(doc_att_vec_dr)\n",
    "        return self.preds(doc_att_vec_dr), word_att_coeffs, sent_att_coeffs\n"
   ]
  },
  {
   "cell_type": "markdown",
   "metadata": {
    "id": "sgreR5AcHlst"
   },
   "source": [
    "### = = = = = Training = = = = =\n",
    "In this section, we have two code cells. In the first one, we define our evaluation function to compute the training and validation accuracies. While in the second one, we define our model, loss and optimizer and train the model over <i>nb_epochs</i>.<br>\n",
    "<b>Bonus task:</b> use <a href=\"https://pytorch.org/tutorials/recipes/recipes/tensorboard_with_pytorch.html\" target=\"_blank\">tensorboard</a> to visualize the loss and the validation accuray during the training.\n",
    "\n",
    "#### <b>Task 2.3:</b>"
   ]
  },
  {
   "cell_type": "code",
   "execution_count": 8,
   "metadata": {
    "id": "ztF2Lkie-C25"
   },
   "outputs": [],
   "source": [
    "def evaluate_accuracy(data_loader, verbose=True):\n",
    "    model.eval()\n",
    "    total_loss = 0.0\n",
    "    ncorrect = ntotal = 0\n",
    "    with torch.no_grad():\n",
    "        for idx, data in enumerate(data_loader):\n",
    "            # inference\n",
    "            output = model(data[\"document\"].to(device))[0]\n",
    "            output = output[:, -1]  # only last vector\n",
    "            # total number of examples\n",
    "            ntotal += output.shape[0]\n",
    "            # number of correct predictions\n",
    "            predictions = torch.round(output)\n",
    "            ncorrect += torch.sum(data['label'].to(device) == predictions)  # number of correct prediction - hint: use torch.sum \n",
    "        acc = ncorrect.item() / ntotal\n",
    "        if verbose:\n",
    "          print(\"validation accuracy: {:3.2f}\".format(acc*100))\n",
    "        return acc"
   ]
  },
  {
   "cell_type": "code",
   "execution_count": 9,
   "metadata": {
    "id": "RRYiKhZEEidb"
   },
   "outputs": [],
   "source": [
    "from tqdm import tqdm"
   ]
  },
  {
   "cell_type": "code",
   "execution_count": 10,
   "metadata": {},
   "outputs": [
    {
     "data": {
      "text/plain": [
       "(7, 30)"
      ]
     },
     "execution_count": 10,
     "metadata": {},
     "output_type": "execute_result"
    }
   ],
   "source": [
    "my_docs_array_train[0].shape"
   ]
  },
  {
   "cell_type": "code",
   "execution_count": 11,
   "metadata": {},
   "outputs": [
    {
     "data": {
      "text/plain": [
       "(25000, 7, 30)"
      ]
     },
     "execution_count": 11,
     "metadata": {},
     "output_type": "execute_result"
    }
   ],
   "source": [
    "input_size"
   ]
  },
  {
   "cell_type": "code",
   "execution_count": 12,
   "metadata": {
    "id": "RRYiKhZEEidb"
   },
   "outputs": [
    {
     "name": "stderr",
     "output_type": "stream",
     "text": [
      "Epoch 1: 100%|██████████| 390/390 [00:10<00:00, 35.71batch/s, accuracy=60.9, loss=0.649]\n"
     ]
    },
    {
     "name": "stdout",
     "output_type": "stream",
     "text": [
      "===> Epoch 1 Complete: Avg. Loss: 0.6494, Validation Accuracy: 70.36%\n",
      "Validation accuracy improved, saving model...\n",
      "\n"
     ]
    },
    {
     "name": "stderr",
     "output_type": "stream",
     "text": [
      "Epoch 2: 100%|██████████| 390/390 [00:10<00:00, 36.06batch/s, accuracy=71.2, loss=0.561]\n"
     ]
    },
    {
     "name": "stdout",
     "output_type": "stream",
     "text": [
      "===> Epoch 2 Complete: Avg. Loss: 0.5606, Validation Accuracy: 76.10%\n",
      "Validation accuracy improved, saving model...\n",
      "\n"
     ]
    },
    {
     "name": "stderr",
     "output_type": "stream",
     "text": [
      "Epoch 3: 100%|██████████| 390/390 [00:10<00:00, 36.30batch/s, accuracy=75.6, loss=0.503]\n"
     ]
    },
    {
     "name": "stdout",
     "output_type": "stream",
     "text": [
      "===> Epoch 3 Complete: Avg. Loss: 0.5030, Validation Accuracy: 77.07%\n",
      "Validation accuracy improved, saving model...\n",
      "\n"
     ]
    },
    {
     "name": "stderr",
     "output_type": "stream",
     "text": [
      "Epoch 4: 100%|██████████| 390/390 [00:10<00:00, 36.23batch/s, accuracy=78.5, loss=0.46] \n"
     ]
    },
    {
     "name": "stdout",
     "output_type": "stream",
     "text": [
      "===> Epoch 4 Complete: Avg. Loss: 0.4599, Validation Accuracy: 80.59%\n",
      "Validation accuracy improved, saving model...\n",
      "\n"
     ]
    },
    {
     "name": "stderr",
     "output_type": "stream",
     "text": [
      "Epoch 5: 100%|██████████| 390/390 [00:10<00:00, 35.95batch/s, accuracy=80.3, loss=0.429]\n"
     ]
    },
    {
     "name": "stdout",
     "output_type": "stream",
     "text": [
      "===> Epoch 5 Complete: Avg. Loss: 0.4287, Validation Accuracy: 81.81%\n",
      "Validation accuracy improved, saving model...\n",
      "\n"
     ]
    },
    {
     "name": "stderr",
     "output_type": "stream",
     "text": [
      "Epoch 6: 100%|██████████| 390/390 [00:11<00:00, 35.42batch/s, accuracy=82, loss=0.403]  \n"
     ]
    },
    {
     "name": "stdout",
     "output_type": "stream",
     "text": [
      "===> Epoch 6 Complete: Avg. Loss: 0.4030, Validation Accuracy: 82.62%\n",
      "Validation accuracy improved, saving model...\n",
      "\n"
     ]
    },
    {
     "name": "stderr",
     "output_type": "stream",
     "text": [
      "Epoch 7: 100%|██████████| 390/390 [00:10<00:00, 35.69batch/s, accuracy=83.1, loss=0.381]\n"
     ]
    },
    {
     "name": "stdout",
     "output_type": "stream",
     "text": [
      "===> Epoch 7 Complete: Avg. Loss: 0.3807, Validation Accuracy: 81.73%\n"
     ]
    },
    {
     "name": "stderr",
     "output_type": "stream",
     "text": [
      "Epoch 8: 100%|██████████| 390/390 [00:10<00:00, 35.50batch/s, accuracy=84.1, loss=0.362]\n"
     ]
    },
    {
     "name": "stdout",
     "output_type": "stream",
     "text": [
      "===> Epoch 8 Complete: Avg. Loss: 0.3620, Validation Accuracy: 83.38%\n",
      "Validation accuracy improved, saving model...\n",
      "\n"
     ]
    },
    {
     "name": "stderr",
     "output_type": "stream",
     "text": [
      "Epoch 9: 100%|██████████| 390/390 [00:11<00:00, 35.30batch/s, accuracy=85.4, loss=0.341]\n"
     ]
    },
    {
     "name": "stdout",
     "output_type": "stream",
     "text": [
      "===> Epoch 9 Complete: Avg. Loss: 0.3412, Validation Accuracy: 83.96%\n",
      "Validation accuracy improved, saving model...\n",
      "\n"
     ]
    },
    {
     "name": "stderr",
     "output_type": "stream",
     "text": [
      "Epoch 10: 100%|██████████| 390/390 [00:11<00:00, 35.30batch/s, accuracy=86.2, loss=0.322]\n"
     ]
    },
    {
     "name": "stdout",
     "output_type": "stream",
     "text": [
      "===> Epoch 10 Complete: Avg. Loss: 0.3223, Validation Accuracy: 84.32%\n",
      "Validation accuracy improved, saving model...\n",
      "\n"
     ]
    },
    {
     "name": "stderr",
     "output_type": "stream",
     "text": [
      "Epoch 11: 100%|██████████| 390/390 [00:11<00:00, 35.12batch/s, accuracy=86.5, loss=0.317]\n"
     ]
    },
    {
     "name": "stdout",
     "output_type": "stream",
     "text": [
      "===> Epoch 11 Complete: Avg. Loss: 0.3166, Validation Accuracy: 83.68%\n"
     ]
    },
    {
     "name": "stderr",
     "output_type": "stream",
     "text": [
      "Epoch 12: 100%|██████████| 390/390 [00:11<00:00, 35.12batch/s, accuracy=87.3, loss=0.301]\n"
     ]
    },
    {
     "name": "stdout",
     "output_type": "stream",
     "text": [
      "===> Epoch 12 Complete: Avg. Loss: 0.3013, Validation Accuracy: 84.68%\n",
      "Validation accuracy improved, saving model...\n",
      "\n"
     ]
    },
    {
     "name": "stderr",
     "output_type": "stream",
     "text": [
      "Epoch 13: 100%|██████████| 390/390 [00:11<00:00, 34.95batch/s, accuracy=87.8, loss=0.289]\n"
     ]
    },
    {
     "name": "stdout",
     "output_type": "stream",
     "text": [
      "===> Epoch 13 Complete: Avg. Loss: 0.2891, Validation Accuracy: 84.79%\n",
      "Validation accuracy improved, saving model...\n",
      "\n"
     ]
    },
    {
     "name": "stderr",
     "output_type": "stream",
     "text": [
      "Epoch 14: 100%|██████████| 390/390 [00:11<00:00, 34.80batch/s, accuracy=88.3, loss=0.28] \n"
     ]
    },
    {
     "name": "stdout",
     "output_type": "stream",
     "text": [
      "===> Epoch 14 Complete: Avg. Loss: 0.2798, Validation Accuracy: 84.85%\n",
      "Validation accuracy improved, saving model...\n",
      "\n"
     ]
    },
    {
     "name": "stderr",
     "output_type": "stream",
     "text": [
      "Epoch 15: 100%|██████████| 390/390 [00:11<00:00, 34.71batch/s, accuracy=89, loss=0.267]  \n"
     ]
    },
    {
     "name": "stdout",
     "output_type": "stream",
     "text": [
      "===> Epoch 15 Complete: Avg. Loss: 0.2674, Validation Accuracy: 84.23%\n",
      "Loading best checkpoint...\n",
      "done.\n"
     ]
    }
   ],
   "source": [
    "model = HAN(input_size, n_units, index_to_word).to(device)\n",
    "model = model.double()\n",
    "lr = 0.001  # learning rate\n",
    "criterion = torch.nn.BCELoss()  # fill the gap, use Binary cross entropy from torch.nn: https://pytorch.org/docs/stable/nn.html#loss-functions\n",
    "optimizer = torch.optim.Adam(model.parameters(), lr=lr)\n",
    "\n",
    "def train(x_train=my_docs_array_train,\n",
    "          y_train=my_labels_array_train,\n",
    "          x_test=my_docs_array_test,\n",
    "          y_test=my_labels_array_test,\n",
    "          word_dict=index_to_word,\n",
    "          batch_size=batch_size):\n",
    "\n",
    "    train_data = get_loader(x_train, y_train, batch_size)\n",
    "    test_data = get_loader(my_docs_array_test, my_labels_array_test, batch_size)\n",
    "\n",
    "    best_validation_acc = 0.0\n",
    "    p = 0  # patience\n",
    "\n",
    "    for epoch in range(1, nb_epochs + 1):\n",
    "        losses = []\n",
    "        accuracies = []\n",
    "        with tqdm(train_data, unit=\"batch\") as tepoch:\n",
    "            for idx, data in enumerate(tepoch):\n",
    "                tepoch.set_description(f\"Epoch {epoch}\")\n",
    "                model.train()\n",
    "                optimizer.zero_grad()\n",
    "                input = data['document'].to(device)\n",
    "                # print(input.shape)\n",
    "                # break\n",
    "                label = data['label'].to(device)\n",
    "                label = label.double()\n",
    "                output = model.forward(input)[0]\n",
    "                output = output[:, -1]\n",
    "                loss = criterion(output, label)  # compute the loss\n",
    "                loss.backward()\n",
    "                torch.nn.utils.clip_grad_norm_(model.parameters(), 0.5)  # prevent exploding gradient \n",
    "                optimizer.step()\n",
    "\n",
    "                losses.append(loss.item())\n",
    "                accuracy = torch.sum(torch.round(output) == label).item() / batch_size\n",
    "                accuracies.append(accuracy)\n",
    "                tepoch.set_postfix(loss=sum(losses)/len(losses), accuracy=100. * sum(accuracies)/len(accuracies))\n",
    "\n",
    "        # train_acc = evaluate_accuracy(train_data, False)\n",
    "        test_acc = evaluate_accuracy(test_data, False)\n",
    "        print(\"===> Epoch {} Complete: Avg. Loss: {:.4f}, Validation Accuracy: {:3.2f}%\"\n",
    "              .format(epoch, sum(losses)/len(losses), 100.*test_acc))\n",
    "        if test_acc >= best_validation_acc:\n",
    "            best_validation_acc = test_acc\n",
    "            print(\"Validation accuracy improved, saving model...\")\n",
    "            torch.save(model.state_dict(), './best_model.pt')\n",
    "            p = 0\n",
    "            print()\n",
    "        else:\n",
    "            p += 1\n",
    "            if p==my_patience:\n",
    "                print(\"Validation accuracy did not improve for {} epochs, stopping training...\".format(my_patience))\n",
    "    print(\"Loading best checkpoint...\")    \n",
    "    model.load_state_dict(torch.load('./best_model.pt'))\n",
    "    model.eval()\n",
    "    print('done.')\n",
    "\n",
    "train()"
   ]
  },
  {
   "cell_type": "markdown",
   "metadata": {
    "id": "Dvyr8B5QHlst"
   },
   "source": [
    "### = = = = = Extraction of Attention Coefficients = = = = =\n",
    "In this section, we will extract and display the attention coefficients on two levels: sentence level and word level. To do so, we will extract the corresponding weights from our model.\n",
    "#### <b>Task 3:</b>"
   ]
  },
  {
   "cell_type": "code",
   "execution_count": 13,
   "metadata": {
    "id": "UVr8cS4MHlst"
   },
   "outputs": [],
   "source": [
    "# select last review:\n",
    "my_review = my_docs_array_test[-1:, :, :]\n",
    "# convert integer review to text:\n",
    "index_to_word[1] = 'OOV'\n",
    "my_review_text = [[index_to_word[idx] for idx in sent if idx in index_to_word] for sent in my_review.tolist()[0]]"
   ]
  },
  {
   "cell_type": "code",
   "execution_count": 14,
   "metadata": {},
   "outputs": [
    {
     "name": "stdout",
     "output_type": "stream",
     "text": [
      "(1, 7, 30)\n",
      "<class 'numpy.ndarray'>\n"
     ]
    }
   ],
   "source": [
    "print(my_review.shape)\n",
    "print(type(my_review))"
   ]
  },
  {
   "cell_type": "markdown",
   "metadata": {
    "id": "wHDJ7JiqHlsu"
   },
   "source": [
    "###   &emsp;&emsp;  = = = = = Attention Over Sentences in the Document = = = = ="
   ]
  },
  {
   "cell_type": "code",
   "execution_count": 15,
   "metadata": {
    "colab": {
     "base_uri": "https://localhost:8080/"
    },
    "id": "yooWg3kkHlsu",
    "outputId": "2421291a-c557-46a9-8f75-74c998053f74"
   },
   "outputs": [
    {
     "name": "stdout",
     "output_type": "stream",
     "text": [
      "6.26 There 's a sign on The Lost Highway that says : OOV SPOILERS OOV ( but you already knew that , did n't you ? )\n",
      "7.48 Since there 's a great deal of people that apparently did not get the point of this movie , I 'd like to contribute my interpretation of why the plot\n",
      "9.92 As others have pointed out , one single viewing of this movie is not sufficient .\n",
      "17.47 If you have the DVD of MD , you can OOV ' by looking at David Lynch 's 'Top 10 OOV to OOV MD ' ( but only upon second\n",
      "22.55 ; ) First of all , Mulholland Drive is downright brilliant .\n",
      "26.68 A masterpiece .\n",
      "9.65 This is the kind of movie that refuse to leave your head .\n"
     ]
    }
   ],
   "source": [
    "sent_coeffs = model.forward(torch.Tensor(my_review).int().to(device))[2]  # get sentence attention coeffs by passing the review to the model - (you need to convert the inout torch tensor)\n",
    "sent_coeffs = sent_coeffs[0,:,:]\n",
    "\n",
    "for elt in zip(sent_coeffs[:,0].tolist(),[' '.join(elt) for elt in my_review_text]):\n",
    "    print(round(elt[0]*100,2),elt[1])"
   ]
  },
  {
   "cell_type": "code",
   "execution_count": 17,
   "metadata": {},
   "outputs": [],
   "source": [
    "import matplotlib.pyplot as plt"
   ]
  },
  {
   "cell_type": "markdown",
   "metadata": {
    "id": "rII-DNrKHlsu",
    "tags": []
   },
   "source": [
    "### &emsp;&emsp; = = = = = Attention Over Words in Each Sentence = = = = ="
   ]
  },
  {
   "cell_type": "markdown",
   "metadata": {},
   "source": [
    "Notice that due to padding, sum of word attention in short sentences is less than 1"
   ]
  },
  {
   "cell_type": "code",
   "execution_count": 16,
   "metadata": {
    "colab": {
     "base_uri": "https://localhost:8080/"
    },
    "id": "JyFjAga6Hlsu",
    "outputId": "d9640e73-a3a1-4745-b215-d55470036a3c"
   },
   "outputs": [
    {
     "name": "stdout",
     "output_type": "stream",
     "text": [
      "('There', 0.03889559125801324)\n",
      "(\"'s\", 0.023873977798934663)\n",
      "('a', 0.03315303444564445)\n",
      "('sign', 0.03902794493102821)\n",
      "('on', 0.028495436109275706)\n",
      "('The', 0.02202037034989289)\n",
      "('Lost', 0.03589686330249601)\n",
      "('Highway', 0.039496466606913576)\n",
      "('that', 0.03101618687831968)\n",
      "('says', 0.03460194084007355)\n",
      "(':', 0.034469388716209214)\n",
      "('OOV', 0.026308862940549394)\n",
      "('SPOILERS', 0.02724132073675315)\n",
      "('OOV', 0.026433721283606472)\n",
      "('(', 0.02757673324485127)\n",
      "('but', 0.044679000904633746)\n",
      "('you', 0.06402837934581311)\n",
      "('already', 0.03706032350754792)\n",
      "('knew', 0.031163507613516155)\n",
      "('that', 0.027524386895823868)\n",
      "(',', 0.03400208405639647)\n",
      "('did', 0.03666231247783293)\n",
      "(\"n't\", 0.026234464207184383)\n",
      "('you', 0.03713430137548305)\n",
      "('?', 0.03857142790185892)\n",
      "(')', 0.03582578989825407)\n",
      "= = = =\n",
      "('Since', 0.03355075266357415)\n",
      "('there', 0.04106674677512241)\n",
      "(\"'s\", 0.035149862042709916)\n",
      "('a', 0.03937334385081633)\n",
      "('great', 0.0682926958098518)\n",
      "('deal', 0.05213710603125568)\n",
      "('of', 0.051550833192459504)\n",
      "('people', 0.0457058480988)\n",
      "('that', 0.028984866378075947)\n",
      "('apparently', 0.04078700736765079)\n",
      "('did', 0.030426288522786653)\n",
      "('not', 0.02458868365189306)\n",
      "('get', 0.01926954174957845)\n",
      "('the', 0.025094995664465606)\n",
      "('point', 0.025707103495897436)\n",
      "('of', 0.017637559390028756)\n",
      "('this', 0.021416169529466157)\n",
      "('movie', 0.03782716238023012)\n",
      "(',', 0.03474636572884283)\n",
      "('I', 0.030757445576381572)\n",
      "(\"'d\", 0.04603928375765004)\n",
      "('like', 0.04028727458921457)\n",
      "('to', 0.03749107515378984)\n",
      "('contribute', 0.033584541059621276)\n",
      "('my', 0.021554122201620562)\n",
      "('interpretation', 0.0271700159116751)\n",
      "('of', 0.022500559824651982)\n",
      "('why', 0.023114836659841397)\n",
      "('the', 0.01879076117822243)\n",
      "('plot', 0.025397151671667808)\n",
      "= = = =\n",
      "('As', 0.04645128045282441)\n",
      "('others', 0.0679516003743507)\n",
      "('have', 0.03873618968857563)\n",
      "('pointed', 0.03319682028214327)\n",
      "('out', 0.02795946928617216)\n",
      "(',', 0.030839131132678062)\n",
      "('one', 0.05029611159648964)\n",
      "('single', 0.039671203358176456)\n",
      "('viewing', 0.035319014551732496)\n",
      "('of', 0.02663419570366772)\n",
      "('this', 0.032731544792174064)\n",
      "('movie', 0.05016413734547871)\n",
      "('is', 0.08255539667156521)\n",
      "('not', 0.07019944031655342)\n",
      "('sufficient', 0.0641801596820371)\n",
      "('.', 0.03495364944791152)\n",
      "= = = =\n",
      "('If', 0.0348462943523354)\n",
      "('you', 0.02133527521168454)\n",
      "('have', 0.016477617542351636)\n",
      "('the', 0.016491464574404664)\n",
      "('DVD', 0.01772757714971905)\n",
      "('of', 0.0155575407288109)\n",
      "('MD', 0.018629694385828698)\n",
      "(',', 0.02255615502263688)\n",
      "('you', 0.0239783661265538)\n",
      "('can', 0.025324890896249758)\n",
      "('OOV', 0.021732123827497687)\n",
      "(\"'\", 0.021955192840364388)\n",
      "('by', 0.026520163790443297)\n",
      "('looking', 0.0329430355531066)\n",
      "('at', 0.02296074070536493)\n",
      "('David', 0.019349361443431627)\n",
      "('Lynch', 0.025683362999664547)\n",
      "(\"'s\", 0.034319516177733426)\n",
      "(\"'Top\", 0.11347198751657855)\n",
      "('10', 0.03783545799243936)\n",
      "('OOV', 0.029651307189461462)\n",
      "('to', 0.02994745206106315)\n",
      "('OOV', 0.026184450838794823)\n",
      "('MD', 0.04858201740090214)\n",
      "(\"'\", 0.03198434129776048)\n",
      "('(', 0.03607643856110002)\n",
      "('but', 0.07160908480190827)\n",
      "('only', 0.06108452269487504)\n",
      "('upon', 0.0471784415038561)\n",
      "('second', 0.04800612472250928)\n",
      "= = = =\n",
      "(';', 0.03950103991111692)\n",
      "(')', 0.04263003874739746)\n",
      "('First', 0.1012649732051418)\n",
      "('of', 0.026749633955804396)\n",
      "('all', 0.02209048731691829)\n",
      "(',', 0.020317744518875715)\n",
      "('Mulholland', 0.02542346696877565)\n",
      "('Drive', 0.022693850478526425)\n",
      "('is', 0.04217607894725324)\n",
      "('downright', 0.1026711792283646)\n",
      "('brilliant', 0.13532231520112123)\n",
      "('.', 0.055048388583378495)\n",
      "= = = =\n",
      "('A', 0.0391823704499646)\n",
      "('masterpiece', 0.1267727964556786)\n",
      "('.', 0.060952015478915336)\n",
      "= = = =\n",
      "('This', 0.05057298103160136)\n",
      "('is', 0.11372414974566372)\n",
      "('the', 0.11811363597355762)\n",
      "('kind', 0.0963524559543861)\n",
      "('of', 0.03406518532190329)\n",
      "('movie', 0.043443391115739485)\n",
      "('that', 0.026629001539619678)\n",
      "('refuse', 0.03581741429040317)\n",
      "('to', 0.04241227890540049)\n",
      "('leave', 0.04358610624338662)\n",
      "('your', 0.031989451423506225)\n",
      "('head', 0.04764085293834376)\n",
      "('.', 0.027001056669214592)\n",
      "= = = =\n",
      "('you', 0.06402837934581311)\n",
      "('but', 0.044679000904633746)\n",
      "('Highway', 0.039496466606913576)\n",
      "('sign', 0.03902794493102821)\n",
      "('There', 0.03889559125801324)\n",
      "('?', 0.03857142790185892)\n",
      "('you', 0.03713430137548305)\n",
      "('already', 0.03706032350754792)\n",
      "('did', 0.03666231247783293)\n",
      "('Lost', 0.03589686330249601)\n",
      "(')', 0.03582578989825407)\n",
      "('says', 0.03460194084007355)\n",
      "(':', 0.034469388716209214)\n",
      "(',', 0.03400208405639647)\n",
      "('a', 0.03315303444564445)\n",
      "('knew', 0.031163507613516155)\n",
      "('that', 0.03101618687831968)\n",
      "('on', 0.028495436109275706)\n",
      "('(', 0.02757673324485127)\n",
      "('that', 0.027524386895823868)\n",
      "('SPOILERS', 0.02724132073675315)\n",
      "('OOV', 0.026433721283606472)\n",
      "('OOV', 0.026308862940549394)\n",
      "(\"n't\", 0.026234464207184383)\n",
      "(\"'s\", 0.023873977798934663)\n",
      "('The', 0.02202037034989289)\n",
      "= = = =\n",
      "('great', 0.0682926958098518)\n",
      "('deal', 0.05213710603125568)\n",
      "('of', 0.051550833192459504)\n",
      "(\"'d\", 0.04603928375765004)\n",
      "('people', 0.0457058480988)\n",
      "('there', 0.04106674677512241)\n",
      "('apparently', 0.04078700736765079)\n",
      "('like', 0.04028727458921457)\n",
      "('a', 0.03937334385081633)\n",
      "('movie', 0.03782716238023012)\n",
      "('to', 0.03749107515378984)\n",
      "(\"'s\", 0.035149862042709916)\n",
      "(',', 0.03474636572884283)\n",
      "('contribute', 0.033584541059621276)\n",
      "('Since', 0.03355075266357415)\n",
      "('I', 0.030757445576381572)\n",
      "('did', 0.030426288522786653)\n",
      "('that', 0.028984866378075947)\n",
      "('interpretation', 0.0271700159116751)\n",
      "('point', 0.025707103495897436)\n",
      "('plot', 0.025397151671667808)\n",
      "('the', 0.025094995664465606)\n",
      "('not', 0.02458868365189306)\n",
      "('why', 0.023114836659841397)\n",
      "('of', 0.022500559824651982)\n",
      "('my', 0.021554122201620562)\n",
      "('this', 0.021416169529466157)\n",
      "('get', 0.01926954174957845)\n",
      "('the', 0.01879076117822243)\n",
      "('of', 0.017637559390028756)\n",
      "= = = =\n",
      "('is', 0.08255539667156521)\n",
      "('not', 0.07019944031655342)\n",
      "('others', 0.0679516003743507)\n",
      "('sufficient', 0.0641801596820371)\n",
      "('one', 0.05029611159648964)\n",
      "('movie', 0.05016413734547871)\n",
      "('As', 0.04645128045282441)\n",
      "('single', 0.039671203358176456)\n",
      "('have', 0.03873618968857563)\n",
      "('viewing', 0.035319014551732496)\n",
      "('.', 0.03495364944791152)\n",
      "('pointed', 0.03319682028214327)\n",
      "('this', 0.032731544792174064)\n",
      "(',', 0.030839131132678062)\n",
      "('out', 0.02795946928617216)\n",
      "('of', 0.02663419570366772)\n",
      "= = = =\n",
      "(\"'Top\", 0.11347198751657855)\n",
      "('but', 0.07160908480190827)\n",
      "('only', 0.06108452269487504)\n",
      "('MD', 0.04858201740090214)\n",
      "('second', 0.04800612472250928)\n",
      "('upon', 0.0471784415038561)\n",
      "('10', 0.03783545799243936)\n",
      "('(', 0.03607643856110002)\n",
      "('If', 0.0348462943523354)\n",
      "(\"'s\", 0.034319516177733426)\n",
      "('looking', 0.0329430355531066)\n",
      "(\"'\", 0.03198434129776048)\n",
      "('to', 0.02994745206106315)\n",
      "('OOV', 0.029651307189461462)\n",
      "('by', 0.026520163790443297)\n",
      "('OOV', 0.026184450838794823)\n",
      "('Lynch', 0.025683362999664547)\n",
      "('can', 0.025324890896249758)\n",
      "('you', 0.0239783661265538)\n",
      "('at', 0.02296074070536493)\n",
      "(',', 0.02255615502263688)\n",
      "(\"'\", 0.021955192840364388)\n",
      "('OOV', 0.021732123827497687)\n",
      "('you', 0.02133527521168454)\n",
      "('David', 0.019349361443431627)\n",
      "('MD', 0.018629694385828698)\n",
      "('DVD', 0.01772757714971905)\n",
      "('the', 0.016491464574404664)\n",
      "('have', 0.016477617542351636)\n",
      "('of', 0.0155575407288109)\n",
      "= = = =\n",
      "('brilliant', 0.13532231520112123)\n",
      "('downright', 0.1026711792283646)\n",
      "('First', 0.1012649732051418)\n",
      "('.', 0.055048388583378495)\n",
      "(')', 0.04263003874739746)\n",
      "('is', 0.04217607894725324)\n",
      "(';', 0.03950103991111692)\n",
      "('of', 0.026749633955804396)\n",
      "('Mulholland', 0.02542346696877565)\n",
      "('Drive', 0.022693850478526425)\n",
      "('all', 0.02209048731691829)\n",
      "(',', 0.020317744518875715)\n",
      "= = = =\n",
      "('masterpiece', 0.1267727964556786)\n",
      "('.', 0.060952015478915336)\n",
      "('A', 0.0391823704499646)\n",
      "= = = =\n",
      "('the', 0.11811363597355762)\n",
      "('is', 0.11372414974566372)\n",
      "('kind', 0.0963524559543861)\n",
      "('This', 0.05057298103160136)\n",
      "('head', 0.04764085293834376)\n",
      "('leave', 0.04358610624338662)\n",
      "('movie', 0.043443391115739485)\n",
      "('to', 0.04241227890540049)\n",
      "('refuse', 0.03581741429040317)\n",
      "('of', 0.03406518532190329)\n",
      "('your', 0.031989451423506225)\n",
      "('.', 0.027001056669214592)\n",
      "('that', 0.026629001539619678)\n",
      "= = = =\n"
     ]
    }
   ],
   "source": [
    "word_coeffs = model.forward(torch.Tensor(my_review).int().to(device))[1]  # get words attention coeffs by passing the review to the model - (you need to convert the inout torch tensor)\n",
    "\n",
    "word_coeffs_list = word_coeffs.reshape(7,30).tolist()\n",
    "\n",
    "# match text and coefficients:\n",
    "text_word_coeffs = [list(zip(words,word_coeffs_list[idx][:len(words)])) for idx,words in enumerate(my_review_text)]\n",
    "\n",
    "for sent in text_word_coeffs:\n",
    "    [print(elt) for elt in sent]\n",
    "    print('= = = =')\n",
    "\n",
    "# sort words by importance within each sentence:\n",
    "text_word_coeffs_sorted = [sorted(elt,key=operator.itemgetter(1),reverse=True) for elt in text_word_coeffs]\n",
    "\n",
    "for sent in text_word_coeffs_sorted:\n",
    "    [print(elt) for elt in sent]\n",
    "    print('= = = =')"
   ]
  }
 ],
 "metadata": {
  "accelerator": "GPU",
  "colab": {
   "collapsed_sections": [],
   "provenance": []
  },
  "kernelspec": {
   "display_name": "d2l:Python",
   "language": "python",
   "name": "conda-env-d2l-py"
  },
  "language_info": {
   "codemirror_mode": {
    "name": "ipython",
    "version": 3
   },
   "file_extension": ".py",
   "mimetype": "text/x-python",
   "name": "python",
   "nbconvert_exporter": "python",
   "pygments_lexer": "ipython3",
   "version": "3.9.12"
  },
  "vscode": {
   "interpreter": {
    "hash": "88279d2366fe020547cde40dd65aa0e3aa662a6ec1f3ca12d88834876c85e1a6"
   }
  }
 },
 "nbformat": 4,
 "nbformat_minor": 4
}
