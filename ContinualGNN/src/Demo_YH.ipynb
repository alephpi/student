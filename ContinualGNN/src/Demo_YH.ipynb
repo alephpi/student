{
 "cells": [
  {
   "cell_type": "code",
   "execution_count": 1,
   "id": "5547cf0e-4b54-4476-bdc0-1fa9990cf1a5",
   "metadata": {},
   "outputs": [
    {
     "name": "stderr",
     "output_type": "stream",
     "text": [
      "/home/studio-lab-user/.conda/envs/d2l/lib/python3.9/site-packages/tqdm/auto.py:22: TqdmWarning: IProgress not found. Please update jupyter and ipywidgets. See https://ipywidgets.readthedocs.io/en/stable/user_install.html\n",
      "  from .autonotebook import tqdm as notebook_tqdm\n"
     ]
    }
   ],
   "source": [
    "import torch\n",
    "import numpy as np\n",
    "import os\n",
    "from torch_geometric.data import Data"
   ]
  },
  {
   "cell_type": "code",
   "execution_count": 2,
   "id": "3dc57e2d-d63d-49b6-9487-6cb25f447525",
   "metadata": {},
   "outputs": [],
   "source": [
    "data_name = 'cora' \n",
    "attributes_file_name = os.path.join('../data', data_name, 'attributes')\n",
    "labels_file_name = os.path.join('../data', data_name, 'labels')\n",
    "valid_file_name = os.path.join('../data', data_name, 'valid_nodes')\n",
    "\n",
    "features = np.loadtxt(attributes_file_name)\n",
    "labels = np.loadtxt(labels_file_name, dtype=np.int64)[:,1]\n",
    "valid_all_nodes_list = np.loadtxt(valid_file_name, dtype = np.int64)"
   ]
  },
  {
   "cell_type": "markdown",
   "id": "16602b10-31f5-44e3-a8c3-85b8762ec1b3",
   "metadata": {
    "tags": []
   },
   "source": [
    "# Test"
   ]
  },
  {
   "cell_type": "code",
   "execution_count": 3,
   "id": "5a66943c-94a3-4f86-a534-0cd491d70792",
   "metadata": {},
   "outputs": [],
   "source": [
    "from data_handler import update_viewed_training_nodes_and_edges, generate_graph"
   ]
  },
  {
   "cell_type": "code",
   "execution_count": 4,
   "id": "2c064488-6183-4fba-8f05-9567d6ad3e00",
   "metadata": {
    "tags": []
   },
   "outputs": [
    {
     "name": "stdout",
     "output_type": "stream",
     "text": [
      "At timestep 0, graph structure is: Data(x=[522, 1433], edge_index=[2, 1056], y=[522], num_nodes=522)\n",
      "\n",
      "Number of total viewed training nodes is 522.\n",
      "\n",
      "Number of total viewed training edges is 528.\n",
      "\n",
      "------------------------------\n",
      "At timestep 1, graph structure is: Data(x=[772, 1433], edge_index=[2, 1584], y=[772], num_nodes=772)\n",
      "\n",
      "Number of total viewed training nodes is 772.\n",
      "\n",
      "Number of total viewed training edges is 792.\n",
      "\n",
      "------------------------------\n",
      "At timestep 2, graph structure is: Data(x=[901, 1433], edge_index=[2, 1924], y=[901], num_nodes=901)\n",
      "\n",
      "Number of total viewed training nodes is 901.\n",
      "\n",
      "Number of total viewed training edges is 962.\n",
      "\n",
      "------------------------------\n",
      "At timestep 3, graph structure is: Data(x=[933, 1433], edge_index=[2, 2022], y=[933], num_nodes=933)\n",
      "\n",
      "Number of total viewed training nodes is 933.\n",
      "\n",
      "Number of total viewed training edges is 1011.\n",
      "\n",
      "------------------------------\n",
      "At timestep 4, graph structure is: Data(x=[1083, 1433], edge_index=[2, 2478], y=[1083], num_nodes=1083)\n",
      "\n",
      "Number of total viewed training nodes is 1083.\n",
      "\n",
      "Number of total viewed training edges is 1239.\n",
      "\n",
      "------------------------------\n",
      "At timestep 5, graph structure is: Data(x=[1103, 1433], edge_index=[2, 2626], y=[1103], num_nodes=1103)\n",
      "\n",
      "Number of total viewed training nodes is 1103.\n",
      "\n",
      "Number of total viewed training edges is 1313.\n",
      "\n",
      "------------------------------\n",
      "At timestep 6, graph structure is: Data(x=[1291, 1433], edge_index=[2, 3140], y=[1291], num_nodes=1291)\n",
      "\n",
      "Number of total viewed training nodes is 1291.\n",
      "\n",
      "Number of total viewed training edges is 1570.\n",
      "\n",
      "------------------------------\n",
      "At timestep 7, graph structure is: Data(x=[1385, 1433], edge_index=[2, 3438], y=[1385], num_nodes=1385)\n",
      "\n",
      "Number of total viewed training nodes is 1385.\n",
      "\n",
      "Number of total viewed training edges is 1719.\n",
      "\n",
      "------------------------------\n",
      "At timestep 8, graph structure is: Data(x=[1510, 1433], edge_index=[2, 3996], y=[1510], num_nodes=1510)\n",
      "\n",
      "Number of total viewed training nodes is 1510.\n",
      "\n",
      "Number of total viewed training edges is 1998.\n",
      "\n",
      "------------------------------\n",
      "At timestep 9, graph structure is: Data(x=[1536, 1433], edge_index=[2, 4130], y=[1536], num_nodes=1536)\n",
      "\n",
      "Number of total viewed training nodes is 1536.\n",
      "\n",
      "Number of total viewed training edges is 2065.\n",
      "\n",
      "------------------------------\n",
      "At timestep 10, graph structure is: Data(x=[1770, 1433], edge_index=[2, 5094], y=[1770], num_nodes=1770)\n",
      "\n",
      "Number of total viewed training nodes is 1770.\n",
      "\n",
      "Number of total viewed training edges is 2547.\n",
      "\n",
      "------------------------------\n",
      "At timestep 11, graph structure is: Data(x=[1783, 1433], edge_index=[2, 5128], y=[1783], num_nodes=1783)\n",
      "\n",
      "Number of total viewed training nodes is 1783.\n",
      "\n",
      "Number of total viewed training edges is 2564.\n",
      "\n",
      "------------------------------\n",
      "At timestep 12, graph structure is: Data(x=[1897, 1433], edge_index=[2, 5508], y=[1897], num_nodes=1897)\n",
      "\n",
      "Number of total viewed training nodes is 1897.\n",
      "\n",
      "Number of total viewed training edges is 2754.\n",
      "\n",
      "------------------------------\n",
      "At timestep 13, graph structure is: Data(x=[1908, 1433], edge_index=[2, 5580], y=[1908], num_nodes=1908)\n",
      "\n",
      "Number of total viewed training nodes is 1908.\n",
      "\n",
      "Number of total viewed training edges is 2790.\n",
      "\n",
      "------------------------------\n"
     ]
    }
   ],
   "source": [
    "stream_edges_dir_name = os.path.join('../data', data_name, 'stream_edges')\n",
    "viewed_training_nodes, viewed_training_edges = None, None\n",
    "for t in range(14):\n",
    "    coming_edges = np.loadtxt(os.path.join(stream_edges_dir_name, str(t)), dtype=int)\n",
    "    viewed_training_nodes, viewed_training_edges = update_viewed_training_nodes_and_edges(\n",
    "            coming_edges, viewed_training_nodes, viewed_training_edges, valid_all_nodes_list)\n",
    "    graph = generate_graph(viewed_training_nodes, viewed_training_edges, features, labels)\n",
    "    print(f\"At timestep {t}, graph structure is: {graph}\\n\")\n",
    "    print(f\"Number of total viewed training nodes is {len(viewed_training_nodes)}.\\n\")\n",
    "    print(f\"Number of total viewed training edges is {viewed_training_edges.shape[0]}.\\n\")\n",
    "    print(f\"{'-':->30s}\")"
   ]
  },
  {
   "cell_type": "markdown",
   "id": "c89c2f33-96e2-40ce-a016-c193a03ccb77",
   "metadata": {},
   "source": [
    "# Valid set inclus"
   ]
  },
  {
   "cell_type": "code",
   "execution_count": 5,
   "id": "3772323d-158d-45db-a8d1-4582d1850078",
   "metadata": {},
   "outputs": [],
   "source": [
    "from data_handler import update_viewed_all_nodes_and_edges, generate_whole_graph"
   ]
  },
  {
   "cell_type": "code",
   "execution_count": 6,
   "id": "02a3bd0f-62e7-4e23-8097-e9a0cf890b11",
   "metadata": {},
   "outputs": [
    {
     "name": "stdout",
     "output_type": "stream",
     "text": [
      "At timestep 0, graph structure is: Data(x=[735, 1433], edge_index=[2, 2168], y=[735], num_nodes=735)\n",
      "\n",
      "Number of all viewed nodes / edges is 735 / 1084.\n",
      "\n",
      "Number of viewed valid nodes is 213.\n",
      "\n",
      "------------------------------\n",
      "At timestep 1, graph structure is: Data(x=[1097, 1433], edge_index=[2, 3326], y=[1097], num_nodes=1097)\n",
      "\n",
      "Number of all viewed nodes / edges is 1097 / 1663.\n",
      "\n",
      "Number of viewed valid nodes is 325.\n",
      "\n",
      "------------------------------\n",
      "At timestep 2, graph structure is: Data(x=[1270, 1433], edge_index=[2, 3900], y=[1270], num_nodes=1270)\n",
      "\n",
      "Number of all viewed nodes / edges is 1270 / 1950.\n",
      "\n",
      "Number of viewed valid nodes is 369.\n",
      "\n",
      "------------------------------\n",
      "At timestep 3, graph structure is: Data(x=[1319, 1433], edge_index=[2, 4104], y=[1319], num_nodes=1319)\n",
      "\n",
      "Number of all viewed nodes / edges is 1319 / 2052.\n",
      "\n",
      "Number of viewed valid nodes is 386.\n",
      "\n",
      "------------------------------\n",
      "At timestep 4, graph structure is: Data(x=[1533, 1433], edge_index=[2, 4966], y=[1533], num_nodes=1533)\n",
      "\n",
      "Number of all viewed nodes / edges is 1533 / 2483.\n",
      "\n",
      "Number of viewed valid nodes is 450.\n",
      "\n",
      "------------------------------\n",
      "At timestep 5, graph structure is: Data(x=[1560, 1433], edge_index=[2, 5206], y=[1560], num_nodes=1560)\n",
      "\n",
      "Number of all viewed nodes / edges is 1560 / 2603.\n",
      "\n",
      "Number of viewed valid nodes is 457.\n",
      "\n",
      "------------------------------\n",
      "At timestep 6, graph structure is: Data(x=[1822, 1433], edge_index=[2, 6216], y=[1822], num_nodes=1822)\n",
      "\n",
      "Number of all viewed nodes / edges is 1822 / 3108.\n",
      "\n",
      "Number of viewed valid nodes is 531.\n",
      "\n",
      "------------------------------\n",
      "At timestep 7, graph structure is: Data(x=[1949, 1433], edge_index=[2, 6744], y=[1949], num_nodes=1949)\n",
      "\n",
      "Number of all viewed nodes / edges is 1949 / 3372.\n",
      "\n",
      "Number of viewed valid nodes is 564.\n",
      "\n",
      "------------------------------\n",
      "At timestep 8, graph structure is: Data(x=[2135, 1433], edge_index=[2, 7694], y=[2135], num_nodes=2135)\n",
      "\n",
      "Number of all viewed nodes / edges is 2135 / 3847.\n",
      "\n",
      "Number of viewed valid nodes is 625.\n",
      "\n",
      "------------------------------\n",
      "At timestep 9, graph structure is: Data(x=[2176, 1433], edge_index=[2, 8008], y=[2176], num_nodes=2176)\n",
      "\n",
      "Number of all viewed nodes / edges is 2176 / 4004.\n",
      "\n",
      "Number of viewed valid nodes is 640.\n",
      "\n",
      "------------------------------\n",
      "At timestep 10, graph structure is: Data(x=[2508, 1433], edge_index=[2, 9646], y=[2508], num_nodes=2508)\n",
      "\n",
      "Number of all viewed nodes / edges is 2508 / 4823.\n",
      "\n",
      "Number of viewed valid nodes is 738.\n",
      "\n",
      "------------------------------\n",
      "At timestep 11, graph structure is: Data(x=[2526, 1433], edge_index=[2, 9722], y=[2526], num_nodes=2526)\n",
      "\n",
      "Number of all viewed nodes / edges is 2526 / 4861.\n",
      "\n",
      "Number of viewed valid nodes is 743.\n",
      "\n",
      "------------------------------\n",
      "At timestep 12, graph structure is: Data(x=[2691, 1433], edge_index=[2, 10440], y=[2691], num_nodes=2691)\n",
      "\n",
      "Number of all viewed nodes / edges is 2691 / 5220.\n",
      "\n",
      "Number of viewed valid nodes is 794.\n",
      "\n",
      "------------------------------\n",
      "At timestep 13, graph structure is: Data(x=[2708, 1433], edge_index=[2, 10556], y=[2708], num_nodes=2708)\n",
      "\n",
      "Number of all viewed nodes / edges is 2708 / 5278.\n",
      "\n",
      "Number of viewed valid nodes is 800.\n",
      "\n",
      "------------------------------\n"
     ]
    }
   ],
   "source": [
    "stream_edges_dir_name = os.path.join('../data', data_name, 'stream_edges')\n",
    "\n",
    "viewed_all_nodes, viewed_all_edges = None, None\n",
    "for t in range(14):\n",
    "    coming_edges = np.loadtxt(os.path.join(stream_edges_dir_name, str(t)), dtype=int)\n",
    "    viewed_all_nodes, viewed_all_edges = update_viewed_all_nodes_and_edges(\n",
    "            coming_edges, viewed_all_nodes, viewed_all_edges) \n",
    "    graph, valid_nodes = generate_whole_graph(viewed_all_nodes, viewed_all_edges, valid_all_nodes_list, features, labels)\n",
    "    print(f\"At timestep {t}, graph structure is: {graph}\\n\")\n",
    "    print(f\"Number of all viewed nodes / edges is {len(viewed_all_nodes)} / {viewed_all_edges.shape[0]}.\\n\")\n",
    "    print(f\"Number of viewed valid nodes is {len(valid_nodes)}.\\n\")\n",
    "    print(f\"{'-':->30s}\")"
   ]
  },
  {
   "cell_type": "code",
   "execution_count": null,
   "id": "788cb5bc-7ed5-44eb-8895-6739996b90db",
   "metadata": {},
   "outputs": [],
   "source": []
  }
 ],
 "metadata": {
  "kernelspec": {
   "display_name": "d2l:Python",
   "language": "python",
   "name": "conda-env-d2l-py"
  },
  "language_info": {
   "codemirror_mode": {
    "name": "ipython",
    "version": 3
   },
   "file_extension": ".py",
   "mimetype": "text/x-python",
   "name": "python",
   "nbconvert_exporter": "python",
   "pygments_lexer": "ipython3",
   "version": "3.9.15"
  },
  "vscode": {
   "interpreter": {
    "hash": "5179d32cf6ec497baf3f8a3ef987cc77c5d2dc691fdde20a56316522f61a7323"
   }
  }
 },
 "nbformat": 4,
 "nbformat_minor": 5
}
