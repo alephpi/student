{
 "cells": [
  {
   "cell_type": "code",
   "execution_count": 1,
   "metadata": {},
   "outputs": [],
   "source": [
    "# interactive reimport\n",
    "%load_ext autoreload\n",
    "%autoreload 2"
   ]
  },
  {
   "cell_type": "code",
   "execution_count": 2,
   "metadata": {},
   "outputs": [],
   "source": [
    "from handlers.stream_data_handler import *\n",
    "data = StreamDataHandler()\n",
    "data.load('cora', 0)"
   ]
  },
  {
   "cell_type": "code",
   "execution_count": 3,
   "metadata": {},
   "outputs": [
    {
     "data": {
      "text/plain": [
       "['__class__',\n",
       " '__delattr__',\n",
       " '__dict__',\n",
       " '__dir__',\n",
       " '__doc__',\n",
       " '__eq__',\n",
       " '__format__',\n",
       " '__ge__',\n",
       " '__getattribute__',\n",
       " '__gt__',\n",
       " '__hash__',\n",
       " '__init__',\n",
       " '__init_subclass__',\n",
       " '__le__',\n",
       " '__lt__',\n",
       " '__module__',\n",
       " '__ne__',\n",
       " '__new__',\n",
       " '__reduce__',\n",
       " '__reduce_ex__',\n",
       " '__repr__',\n",
       " '__setattr__',\n",
       " '__sizeof__',\n",
       " '__str__',\n",
       " '__subclasshook__',\n",
       " '__weakref__',\n",
       " '_assign_node',\n",
       " 'adj_lists',\n",
       " 'data_name',\n",
       " 'data_size',\n",
       " 'feature_size',\n",
       " 'features',\n",
       " 'label_size',\n",
       " 'labels',\n",
       " 'load',\n",
       " 'nodes',\n",
       " 'split',\n",
       " 't',\n",
       " 'train_all_nodes_list',\n",
       " 'train_cha_nodes_list',\n",
       " 'train_nodes',\n",
       " 'train_old_nodes_list',\n",
       " 'train_size',\n",
       " 'valid_all_nodes_list',\n",
       " 'valid_cha_nodes_list',\n",
       " 'valid_nodes',\n",
       " 'valid_old_nodes_list',\n",
       " 'valid_size']"
      ]
     },
     "execution_count": 3,
     "metadata": {},
     "output_type": "execute_result"
    }
   ],
   "source": [
    "dir(data)"
   ]
  },
  {
   "cell_type": "code",
   "execution_count": 22,
   "metadata": {},
   "outputs": [
    {
     "name": "stdout",
     "output_type": "stream",
     "text": [
      "adj_lists is of <class 'collections.defaultdict'> of <class 'int'>\n",
      "data_name is of <class 'str'> of <class 'str'>\n",
      "data_size is of <class 'int'>\n",
      "feature_size is of <class 'int'>\n",
      "features is of <class 'numpy.ndarray'> of <class 'numpy.ndarray'>\n",
      "label_size is of <class 'int'>\n",
      "labels is of <class 'numpy.ndarray'> of <class 'numpy.int64'>\n",
      "load is of <class 'method'>\n",
      "nodes is of <class 'set'> of <class 'int'>\n",
      "split is of <class 'method'>\n",
      "t is of <class 'int'>\n",
      "train_all_nodes_list is of <class 'numpy.ndarray'> of <class 'numpy.int64'>\n",
      "train_cha_nodes_list is of <class 'list'> of <class 'int'>\n",
      "train_nodes is of <class 'list'> of <class 'int'>\n",
      "train_old_nodes_list is of <class 'list'>\n",
      "train_size is of <class 'int'>\n",
      "valid_all_nodes_list is of <class 'numpy.ndarray'> of <class 'numpy.int64'>\n",
      "valid_cha_nodes_list is of <class 'list'> of <class 'int'>\n",
      "valid_nodes is of <class 'list'> of <class 'int'>\n",
      "valid_old_nodes_list is of <class 'list'>\n",
      "valid_size is of <class 'int'>\n"
     ]
    }
   ],
   "source": [
    "for attr in dir(data):\n",
    "\tif not attr.startswith('_'):\n",
    "\t\tinstance = getattr(data,attr)\n",
    "\t\t# inspect type of attributes\n",
    "\t\ttry:\n",
    "\t\t\tit =  iter(instance)\n",
    "\t\t\tele_type = type(next(it))\n",
    "\t\t\tprint(f'{attr} is of {type(getattr(data,attr))} of {ele_type}')\n",
    "\t\texcept:\n",
    "\t\t\tprint(f'{attr} is of {type(getattr(data,attr))}')"
   ]
  },
  {
   "cell_type": "code",
   "execution_count": 26,
   "metadata": {},
   "outputs": [],
   "source": [
    "from layers.sampler import *"
   ]
  },
  {
   "cell_type": "code",
   "execution_count": 27,
   "metadata": {},
   "outputs": [],
   "source": [
    "sampler = Sampler(data.adj_lists) "
   ]
  },
  {
   "cell_type": "code",
   "execution_count": 32,
   "metadata": {},
   "outputs": [],
   "source": [
    "node_idxs, unique_neighs, nodes_2_idxs_mask = sampler.sample_neighbors(list(data.nodes))"
   ]
  },
  {
   "cell_type": "code",
   "execution_count": 50,
   "metadata": {},
   "outputs": [],
   "source": [
    "node_idxs, unique_neighs, nodes_2_idxs_mask = sampler.sample_neighbors([0])"
   ]
  },
  {
   "cell_type": "code",
   "execution_count": 62,
   "metadata": {},
   "outputs": [
    {
     "data": {
      "text/plain": [
       "([1, 4],\n",
       " [544, 0, 258, 435, 1, 8, 14],\n",
       " tensor([[0.1667, 0.0000, 0.1667, 0.1667, 0.0000, 0.1667, 0.1667],\n",
       "         [0.0000, 0.0000, 0.0000, 0.0000, 0.0000, 0.0000, 0.0000]]))"
      ]
     },
     "execution_count": 62,
     "metadata": {},
     "output_type": "execute_result"
    }
   ],
   "source": [
    "sampler.sample_neighbors([0,1])"
   ]
  },
  {
   "cell_type": "code",
   "execution_count": 51,
   "metadata": {},
   "outputs": [
    {
     "data": {
      "text/plain": [
       "1"
      ]
     },
     "execution_count": 51,
     "metadata": {},
     "output_type": "execute_result"
    }
   ],
   "source": [
    "len(node_idxs)"
   ]
  },
  {
   "cell_type": "code",
   "execution_count": 52,
   "metadata": {},
   "outputs": [
    {
     "data": {
      "text/plain": [
       "6"
      ]
     },
     "execution_count": 52,
     "metadata": {},
     "output_type": "execute_result"
    }
   ],
   "source": [
    "len(unique_neighs)"
   ]
  },
  {
   "cell_type": "code",
   "execution_count": 53,
   "metadata": {},
   "outputs": [
    {
     "data": {
      "text/plain": [
       "torch.Size([5, 2])"
      ]
     },
     "execution_count": 53,
     "metadata": {},
     "output_type": "execute_result"
    }
   ],
   "source": [
    "nodes_2_idxs_mask.nonzero().shape"
   ]
  },
  {
   "cell_type": "code",
   "execution_count": 44,
   "metadata": {},
   "outputs": [
    {
     "data": {
      "text/plain": [
       "{1}"
      ]
     },
     "execution_count": 44,
     "metadata": {},
     "output_type": "execute_result"
    }
   ],
   "source": [
    "set() | set([1])"
   ]
  },
  {
   "cell_type": "code",
   "execution_count": null,
   "metadata": {},
   "outputs": [],
   "source": []
  }
 ],
 "metadata": {
  "kernelspec": {
   "display_name": "base",
   "language": "python",
   "name": "python3"
  },
  "language_info": {
   "codemirror_mode": {
    "name": "ipython",
    "version": 3
   },
   "file_extension": ".py",
   "mimetype": "text/x-python",
   "name": "python",
   "nbconvert_exporter": "python",
   "pygments_lexer": "ipython3",
   "version": "3.9.12 (main, Apr  4 2022, 05:22:27) [MSC v.1916 64 bit (AMD64)]"
  },
  "orig_nbformat": 4,
  "vscode": {
   "interpreter": {
    "hash": "5179d32cf6ec497baf3f8a3ef987cc77c5d2dc691fdde20a56316522f61a7323"
   }
  }
 },
 "nbformat": 4,
 "nbformat_minor": 2
}
