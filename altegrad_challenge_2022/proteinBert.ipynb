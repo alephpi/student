{
  "nbformat": 4,
  "nbformat_minor": 0,
  "metadata": {
    "colab": {
      "provenance": [],
      "collapsed_sections": [
        "FIBPY3OOtxLw",
        "ZPdFOEaXxG3C",
        "SK1R8LNEXEjN",
        "LXrsi9itXIbt",
        "MepEzoDtxdS4"
      ]
    },
    "kernelspec": {
      "name": "python3",
      "display_name": "Python 3"
    },
    "language_info": {
      "name": "python"
    },
    "gpuClass": "standard"
  },
  "cells": [
    {
      "cell_type": "code",
      "execution_count": null,
      "metadata": {
        "id": "Dj4NuMdpDpID"
      },
      "outputs": [],
      "source": [
        "# ! pip install autogluon"
      ]
    },
    {
      "cell_type": "code",
      "source": [
        "# ! pip install biovec"
      ],
      "metadata": {
        "id": "jtn7ArVKEMwI"
      },
      "execution_count": null,
      "outputs": []
    },
    {
      "cell_type": "code",
      "source": [
        "! pip install protein-bert"
      ],
      "metadata": {
        "colab": {
          "base_uri": "https://localhost:8080/"
        },
        "id": "OLaRlZ1AV_cI",
        "outputId": "a75d7d50-3096-41f3-99db-85b66ad1f48e"
      },
      "execution_count": 1,
      "outputs": [
        {
          "output_type": "stream",
          "name": "stdout",
          "text": [
            "Looking in indexes: https://pypi.org/simple, https://us-python.pkg.dev/colab-wheels/public/simple/\n",
            "Requirement already satisfied: protein-bert in /usr/local/lib/python3.8/dist-packages (1.0.1)\n",
            "Requirement already satisfied: pyfaidx in /usr/local/lib/python3.8/dist-packages (from protein-bert) (0.7.1)\n",
            "Requirement already satisfied: numpy in /usr/local/lib/python3.8/dist-packages (from protein-bert) (1.21.6)\n",
            "Requirement already satisfied: pandas in /usr/local/lib/python3.8/dist-packages (from protein-bert) (1.3.5)\n",
            "Requirement already satisfied: tensorflow in /usr/local/lib/python3.8/dist-packages (from protein-bert) (2.9.2)\n",
            "Requirement already satisfied: lxml in /usr/local/lib/python3.8/dist-packages (from protein-bert) (4.9.1)\n",
            "Requirement already satisfied: h5py in /usr/local/lib/python3.8/dist-packages (from protein-bert) (3.1.0)\n",
            "Requirement already satisfied: tensorflow-addons in /usr/local/lib/python3.8/dist-packages (from protein-bert) (0.19.0)\n",
            "Requirement already satisfied: pytz>=2017.3 in /usr/local/lib/python3.8/dist-packages (from pandas->protein-bert) (2022.6)\n",
            "Requirement already satisfied: python-dateutil>=2.7.3 in /usr/local/lib/python3.8/dist-packages (from pandas->protein-bert) (2.8.2)\n",
            "Requirement already satisfied: six>=1.5 in /usr/local/lib/python3.8/dist-packages (from python-dateutil>=2.7.3->pandas->protein-bert) (1.15.0)\n",
            "Requirement already satisfied: setuptools>=0.7 in /usr/local/lib/python3.8/dist-packages (from pyfaidx->protein-bert) (57.4.0)\n",
            "Requirement already satisfied: flatbuffers<2,>=1.12 in /usr/local/lib/python3.8/dist-packages (from tensorflow->protein-bert) (1.12)\n",
            "Requirement already satisfied: keras-preprocessing>=1.1.1 in /usr/local/lib/python3.8/dist-packages (from tensorflow->protein-bert) (1.1.2)\n",
            "Requirement already satisfied: opt-einsum>=2.3.2 in /usr/local/lib/python3.8/dist-packages (from tensorflow->protein-bert) (3.3.0)\n",
            "Requirement already satisfied: tensorflow-estimator<2.10.0,>=2.9.0rc0 in /usr/local/lib/python3.8/dist-packages (from tensorflow->protein-bert) (2.9.0)\n",
            "Requirement already satisfied: google-pasta>=0.1.1 in /usr/local/lib/python3.8/dist-packages (from tensorflow->protein-bert) (0.2.0)\n",
            "Requirement already satisfied: protobuf<3.20,>=3.9.2 in /usr/local/lib/python3.8/dist-packages (from tensorflow->protein-bert) (3.19.6)\n",
            "Requirement already satisfied: wrapt>=1.11.0 in /usr/local/lib/python3.8/dist-packages (from tensorflow->protein-bert) (1.14.1)\n",
            "Requirement already satisfied: keras<2.10.0,>=2.9.0rc0 in /usr/local/lib/python3.8/dist-packages (from tensorflow->protein-bert) (2.9.0)\n",
            "Requirement already satisfied: absl-py>=1.0.0 in /usr/local/lib/python3.8/dist-packages (from tensorflow->protein-bert) (1.3.0)\n",
            "Requirement already satisfied: astunparse>=1.6.0 in /usr/local/lib/python3.8/dist-packages (from tensorflow->protein-bert) (1.6.3)\n",
            "Requirement already satisfied: libclang>=13.0.0 in /usr/local/lib/python3.8/dist-packages (from tensorflow->protein-bert) (14.0.6)\n",
            "Requirement already satisfied: tensorboard<2.10,>=2.9 in /usr/local/lib/python3.8/dist-packages (from tensorflow->protein-bert) (2.9.1)\n",
            "Requirement already satisfied: packaging in /usr/local/lib/python3.8/dist-packages (from tensorflow->protein-bert) (21.3)\n",
            "Requirement already satisfied: termcolor>=1.1.0 in /usr/local/lib/python3.8/dist-packages (from tensorflow->protein-bert) (2.1.1)\n",
            "Requirement already satisfied: typing-extensions>=3.6.6 in /usr/local/lib/python3.8/dist-packages (from tensorflow->protein-bert) (4.4.0)\n",
            "Requirement already satisfied: grpcio<2.0,>=1.24.3 in /usr/local/lib/python3.8/dist-packages (from tensorflow->protein-bert) (1.51.1)\n",
            "Requirement already satisfied: tensorflow-io-gcs-filesystem>=0.23.1 in /usr/local/lib/python3.8/dist-packages (from tensorflow->protein-bert) (0.28.0)\n",
            "Requirement already satisfied: gast<=0.4.0,>=0.2.1 in /usr/local/lib/python3.8/dist-packages (from tensorflow->protein-bert) (0.4.0)\n",
            "Requirement already satisfied: wheel<1.0,>=0.23.0 in /usr/local/lib/python3.8/dist-packages (from astunparse>=1.6.0->tensorflow->protein-bert) (0.38.4)\n",
            "Requirement already satisfied: tensorboard-data-server<0.7.0,>=0.6.0 in /usr/local/lib/python3.8/dist-packages (from tensorboard<2.10,>=2.9->tensorflow->protein-bert) (0.6.1)\n",
            "Requirement already satisfied: google-auth-oauthlib<0.5,>=0.4.1 in /usr/local/lib/python3.8/dist-packages (from tensorboard<2.10,>=2.9->tensorflow->protein-bert) (0.4.6)\n",
            "Requirement already satisfied: tensorboard-plugin-wit>=1.6.0 in /usr/local/lib/python3.8/dist-packages (from tensorboard<2.10,>=2.9->tensorflow->protein-bert) (1.8.1)\n",
            "Requirement already satisfied: werkzeug>=1.0.1 in /usr/local/lib/python3.8/dist-packages (from tensorboard<2.10,>=2.9->tensorflow->protein-bert) (1.0.1)\n",
            "Requirement already satisfied: requests<3,>=2.21.0 in /usr/local/lib/python3.8/dist-packages (from tensorboard<2.10,>=2.9->tensorflow->protein-bert) (2.23.0)\n",
            "Requirement already satisfied: google-auth<3,>=1.6.3 in /usr/local/lib/python3.8/dist-packages (from tensorboard<2.10,>=2.9->tensorflow->protein-bert) (2.15.0)\n",
            "Requirement already satisfied: markdown>=2.6.8 in /usr/local/lib/python3.8/dist-packages (from tensorboard<2.10,>=2.9->tensorflow->protein-bert) (3.4.1)\n",
            "Requirement already satisfied: pyasn1-modules>=0.2.1 in /usr/local/lib/python3.8/dist-packages (from google-auth<3,>=1.6.3->tensorboard<2.10,>=2.9->tensorflow->protein-bert) (0.2.8)\n",
            "Requirement already satisfied: cachetools<6.0,>=2.0.0 in /usr/local/lib/python3.8/dist-packages (from google-auth<3,>=1.6.3->tensorboard<2.10,>=2.9->tensorflow->protein-bert) (5.2.0)\n",
            "Requirement already satisfied: rsa<5,>=3.1.4 in /usr/local/lib/python3.8/dist-packages (from google-auth<3,>=1.6.3->tensorboard<2.10,>=2.9->tensorflow->protein-bert) (4.9)\n",
            "Requirement already satisfied: requests-oauthlib>=0.7.0 in /usr/local/lib/python3.8/dist-packages (from google-auth-oauthlib<0.5,>=0.4.1->tensorboard<2.10,>=2.9->tensorflow->protein-bert) (1.3.1)\n",
            "Requirement already satisfied: importlib-metadata>=4.4 in /usr/local/lib/python3.8/dist-packages (from markdown>=2.6.8->tensorboard<2.10,>=2.9->tensorflow->protein-bert) (4.13.0)\n",
            "Requirement already satisfied: zipp>=0.5 in /usr/local/lib/python3.8/dist-packages (from importlib-metadata>=4.4->markdown>=2.6.8->tensorboard<2.10,>=2.9->tensorflow->protein-bert) (3.11.0)\n",
            "Requirement already satisfied: pyasn1<0.5.0,>=0.4.6 in /usr/local/lib/python3.8/dist-packages (from pyasn1-modules>=0.2.1->google-auth<3,>=1.6.3->tensorboard<2.10,>=2.9->tensorflow->protein-bert) (0.4.8)\n",
            "Requirement already satisfied: idna<3,>=2.5 in /usr/local/lib/python3.8/dist-packages (from requests<3,>=2.21.0->tensorboard<2.10,>=2.9->tensorflow->protein-bert) (2.10)\n",
            "Requirement already satisfied: urllib3!=1.25.0,!=1.25.1,<1.26,>=1.21.1 in /usr/local/lib/python3.8/dist-packages (from requests<3,>=2.21.0->tensorboard<2.10,>=2.9->tensorflow->protein-bert) (1.24.3)\n",
            "Requirement already satisfied: certifi>=2017.4.17 in /usr/local/lib/python3.8/dist-packages (from requests<3,>=2.21.0->tensorboard<2.10,>=2.9->tensorflow->protein-bert) (2022.9.24)\n",
            "Requirement already satisfied: chardet<4,>=3.0.2 in /usr/local/lib/python3.8/dist-packages (from requests<3,>=2.21.0->tensorboard<2.10,>=2.9->tensorflow->protein-bert) (3.0.4)\n",
            "Requirement already satisfied: oauthlib>=3.0.0 in /usr/local/lib/python3.8/dist-packages (from requests-oauthlib>=0.7.0->google-auth-oauthlib<0.5,>=0.4.1->tensorboard<2.10,>=2.9->tensorflow->protein-bert) (3.2.2)\n",
            "Requirement already satisfied: pyparsing!=3.0.5,>=2.0.2 in /usr/local/lib/python3.8/dist-packages (from packaging->tensorflow->protein-bert) (3.0.9)\n",
            "Requirement already satisfied: typeguard>=2.7 in /usr/local/lib/python3.8/dist-packages (from tensorflow-addons->protein-bert) (2.7.1)\n"
          ]
        }
      ]
    },
    {
      "cell_type": "code",
      "source": [
        "%cd drive/MyDrive/altegrad"
      ],
      "metadata": {
        "colab": {
          "base_uri": "https://localhost:8080/"
        },
        "id": "JtkMw20SDsoo",
        "outputId": "cbe69c21-5868-4d4f-ae89-4f7c7f26734e"
      },
      "execution_count": 2,
      "outputs": [
        {
          "output_type": "stream",
          "name": "stdout",
          "text": [
            "/content/drive/MyDrive/altegrad\n"
          ]
        }
      ]
    },
    {
      "cell_type": "code",
      "source": [
        "import csv\n",
        "import numpy as np\n",
        "import pandas as pd\n",
        "from sklearn.metrics import accuracy_score, log_loss\n",
        "from sklearn.feature_extraction.text import TfidfVectorizer\n",
        "from sklearn.linear_model import LogisticRegression\n",
        "\n",
        "# Read sequences\n",
        "sequences = list()\n",
        "with open('sequences.txt', 'r') as f:\n",
        "    for line in f:\n",
        "        sequences.append(line[:-1])\n",
        "\n",
        "# Split data into training and test sets\n",
        "sequences_train = list()\n",
        "sequences_test = list()\n",
        "proteins_test = list()\n",
        "y_train = list()\n",
        "with open('graph_labels.txt', 'r') as f:\n",
        "    for i,line in enumerate(f):\n",
        "        t = line.split(',')\n",
        "        if len(t[1][:-1]) == 0:\n",
        "            proteins_test.append(t[0])\n",
        "            sequences_test.append(sequences[i])\n",
        "        else:\n",
        "            sequences_train.append(sequences[i])\n",
        "            y_train.append(int(t[1][:-1]))"
      ],
      "metadata": {
        "id": "D-MjYt6MFIV5"
      },
      "execution_count": 3,
      "outputs": []
    },
    {
      "cell_type": "code",
      "source": [
        "train_set = pd.DataFrame()\n",
        "train_set['seq'] = sequences_train\n",
        "train_set['label'] = y_train\n",
        "test_set = pd.DataFrame()\n",
        "test_set['seq'] = sequences_test"
      ],
      "metadata": {
        "id": "d50TZSsMYzZn"
      },
      "execution_count": 4,
      "outputs": []
    },
    {
      "cell_type": "code",
      "source": [
        "train_set.head()"
      ],
      "metadata": {
        "colab": {
          "base_uri": "https://localhost:8080/",
          "height": 206
        },
        "id": "0I7gv-3xZFWJ",
        "outputId": "f513d98a-7cc5-4380-ab8d-f4e0b203c545"
      },
      "execution_count": 5,
      "outputs": [
        {
          "output_type": "execute_result",
          "data": {
            "text/plain": [
              "                                                 seq  label\n",
              "0  RTDCYGNVNRIDTTGASCKTAKPEGLSYCGVSASKKIAERDLQAMD...      8\n",
              "1  MNIFEMLRIDEGLRLKIYKDTEGYYTIGIGHLLTKSPSLAAAKAAL...      4\n",
              "2  SPLLETCVPDRGREYRGRLAVTTHGSRCLAWSSEQAKALSKDQDFN...      8\n",
              "3  IVGGYECRKNSASYQASLQSGYHFCGGSLISSTWVVSAAHCYKSRI...      8\n",
              "4  QDLARIEQFLDALWLEKNLAENTLNAYRRDLSMMVEWLHHRGLTLA...     15"
            ],
            "text/html": [
              "\n",
              "  <div id=\"df-c381f09c-762f-4a4e-80e8-e8a53e3a9b95\">\n",
              "    <div class=\"colab-df-container\">\n",
              "      <div>\n",
              "<style scoped>\n",
              "    .dataframe tbody tr th:only-of-type {\n",
              "        vertical-align: middle;\n",
              "    }\n",
              "\n",
              "    .dataframe tbody tr th {\n",
              "        vertical-align: top;\n",
              "    }\n",
              "\n",
              "    .dataframe thead th {\n",
              "        text-align: right;\n",
              "    }\n",
              "</style>\n",
              "<table border=\"1\" class=\"dataframe\">\n",
              "  <thead>\n",
              "    <tr style=\"text-align: right;\">\n",
              "      <th></th>\n",
              "      <th>seq</th>\n",
              "      <th>label</th>\n",
              "    </tr>\n",
              "  </thead>\n",
              "  <tbody>\n",
              "    <tr>\n",
              "      <th>0</th>\n",
              "      <td>RTDCYGNVNRIDTTGASCKTAKPEGLSYCGVSASKKIAERDLQAMD...</td>\n",
              "      <td>8</td>\n",
              "    </tr>\n",
              "    <tr>\n",
              "      <th>1</th>\n",
              "      <td>MNIFEMLRIDEGLRLKIYKDTEGYYTIGIGHLLTKSPSLAAAKAAL...</td>\n",
              "      <td>4</td>\n",
              "    </tr>\n",
              "    <tr>\n",
              "      <th>2</th>\n",
              "      <td>SPLLETCVPDRGREYRGRLAVTTHGSRCLAWSSEQAKALSKDQDFN...</td>\n",
              "      <td>8</td>\n",
              "    </tr>\n",
              "    <tr>\n",
              "      <th>3</th>\n",
              "      <td>IVGGYECRKNSASYQASLQSGYHFCGGSLISSTWVVSAAHCYKSRI...</td>\n",
              "      <td>8</td>\n",
              "    </tr>\n",
              "    <tr>\n",
              "      <th>4</th>\n",
              "      <td>QDLARIEQFLDALWLEKNLAENTLNAYRRDLSMMVEWLHHRGLTLA...</td>\n",
              "      <td>15</td>\n",
              "    </tr>\n",
              "  </tbody>\n",
              "</table>\n",
              "</div>\n",
              "      <button class=\"colab-df-convert\" onclick=\"convertToInteractive('df-c381f09c-762f-4a4e-80e8-e8a53e3a9b95')\"\n",
              "              title=\"Convert this dataframe to an interactive table.\"\n",
              "              style=\"display:none;\">\n",
              "        \n",
              "  <svg xmlns=\"http://www.w3.org/2000/svg\" height=\"24px\"viewBox=\"0 0 24 24\"\n",
              "       width=\"24px\">\n",
              "    <path d=\"M0 0h24v24H0V0z\" fill=\"none\"/>\n",
              "    <path d=\"M18.56 5.44l.94 2.06.94-2.06 2.06-.94-2.06-.94-.94-2.06-.94 2.06-2.06.94zm-11 1L8.5 8.5l.94-2.06 2.06-.94-2.06-.94L8.5 2.5l-.94 2.06-2.06.94zm10 10l.94 2.06.94-2.06 2.06-.94-2.06-.94-.94-2.06-.94 2.06-2.06.94z\"/><path d=\"M17.41 7.96l-1.37-1.37c-.4-.4-.92-.59-1.43-.59-.52 0-1.04.2-1.43.59L10.3 9.45l-7.72 7.72c-.78.78-.78 2.05 0 2.83L4 21.41c.39.39.9.59 1.41.59.51 0 1.02-.2 1.41-.59l7.78-7.78 2.81-2.81c.8-.78.8-2.07 0-2.86zM5.41 20L4 18.59l7.72-7.72 1.47 1.35L5.41 20z\"/>\n",
              "  </svg>\n",
              "      </button>\n",
              "      \n",
              "  <style>\n",
              "    .colab-df-container {\n",
              "      display:flex;\n",
              "      flex-wrap:wrap;\n",
              "      gap: 12px;\n",
              "    }\n",
              "\n",
              "    .colab-df-convert {\n",
              "      background-color: #E8F0FE;\n",
              "      border: none;\n",
              "      border-radius: 50%;\n",
              "      cursor: pointer;\n",
              "      display: none;\n",
              "      fill: #1967D2;\n",
              "      height: 32px;\n",
              "      padding: 0 0 0 0;\n",
              "      width: 32px;\n",
              "    }\n",
              "\n",
              "    .colab-df-convert:hover {\n",
              "      background-color: #E2EBFA;\n",
              "      box-shadow: 0px 1px 2px rgba(60, 64, 67, 0.3), 0px 1px 3px 1px rgba(60, 64, 67, 0.15);\n",
              "      fill: #174EA6;\n",
              "    }\n",
              "\n",
              "    [theme=dark] .colab-df-convert {\n",
              "      background-color: #3B4455;\n",
              "      fill: #D2E3FC;\n",
              "    }\n",
              "\n",
              "    [theme=dark] .colab-df-convert:hover {\n",
              "      background-color: #434B5C;\n",
              "      box-shadow: 0px 1px 3px 1px rgba(0, 0, 0, 0.15);\n",
              "      filter: drop-shadow(0px 1px 2px rgba(0, 0, 0, 0.3));\n",
              "      fill: #FFFFFF;\n",
              "    }\n",
              "  </style>\n",
              "\n",
              "      <script>\n",
              "        const buttonEl =\n",
              "          document.querySelector('#df-c381f09c-762f-4a4e-80e8-e8a53e3a9b95 button.colab-df-convert');\n",
              "        buttonEl.style.display =\n",
              "          google.colab.kernel.accessAllowed ? 'block' : 'none';\n",
              "\n",
              "        async function convertToInteractive(key) {\n",
              "          const element = document.querySelector('#df-c381f09c-762f-4a4e-80e8-e8a53e3a9b95');\n",
              "          const dataTable =\n",
              "            await google.colab.kernel.invokeFunction('convertToInteractive',\n",
              "                                                     [key], {});\n",
              "          if (!dataTable) return;\n",
              "\n",
              "          const docLinkHtml = 'Like what you see? Visit the ' +\n",
              "            '<a target=\"_blank\" href=https://colab.research.google.com/notebooks/data_table.ipynb>data table notebook</a>'\n",
              "            + ' to learn more about interactive tables.';\n",
              "          element.innerHTML = '';\n",
              "          dataTable['output_type'] = 'display_data';\n",
              "          await google.colab.output.renderOutput(dataTable, element);\n",
              "          const docLink = document.createElement('div');\n",
              "          docLink.innerHTML = docLinkHtml;\n",
              "          element.appendChild(docLink);\n",
              "        }\n",
              "      </script>\n",
              "    </div>\n",
              "  </div>\n",
              "  "
            ]
          },
          "metadata": {},
          "execution_count": 5
        }
      ]
    },
    {
      "cell_type": "code",
      "source": [
        "import os\n",
        "\n",
        "import pandas as pd\n",
        "from IPython.display import display\n",
        "\n",
        "from tensorflow import keras\n",
        "\n",
        "from sklearn.model_selection import train_test_split\n",
        "\n",
        "from proteinbert import OutputType, OutputSpec, FinetuningModelGenerator, load_pretrained_model, finetune, evaluate_by_len\n",
        "from proteinbert.conv_and_global_attention_model import get_model_with_hidden_layers_as_outputs\n",
        "# A local (non-global) bianry output\n",
        "OUTPUT_TYPE = OutputType(False, 'categorical')\n",
        "UNIQUE_LABELS = np.unique(train_set['label'])\n",
        "OUTPUT_SPEC = OutputSpec(OUTPUT_TYPE, UNIQUE_LABELS)\n",
        "\n"
      ],
      "metadata": {
        "id": "0sZ3N0tZXPxa"
      },
      "execution_count": 5,
      "outputs": []
    },
    {
      "cell_type": "markdown",
      "source": [
        "### finetune"
      ],
      "metadata": {
        "id": "FIBPY3OOtxLw"
      }
    },
    {
      "cell_type": "code",
      "source": [
        "# Loading the dataset\n",
        "\n",
        "# train_set_file_path = os.path.join(BENCHMARKS_DIR, '%s.train.csv' % BENCHMARK_NAME)\n",
        "# train_set = pd.read_csv(train_set_file_path).dropna().drop_duplicates()\n",
        "train_set, valid_set = train_test_split(train_set, stratify = train_set['label'], test_size = 0.1, random_state = 0)\n"
      ],
      "metadata": {
        "id": "glLO-6WrZ-N1"
      },
      "execution_count": 10,
      "outputs": []
    },
    {
      "cell_type": "code",
      "source": [
        "# test_set_file_path = os.path.join(BENCHMARKS_DIR, '%s.test.csv' % BENCHMARK_NAME)\n",
        "# test_set = pd.read_csv(test_set_file_path).dropna().drop_duplicates()\n",
        "\n",
        "print(f'{len(train_set)} training set records, {len(valid_set)} validation set records, {len(test_set)} test set records.')\n",
        "\n",
        "\n",
        "# Loading the pre-trained model and fine-tuning it on the loaded dataset\n",
        "\n",
        "pretrained_model_generator, input_encoder = load_pretrained_model('./trained_models','epoch_92400_sample_23500000.pkl')\n",
        "\n",
        "# get_model_with_hidden_layers_as_outputs gives the model output access to the hidden layers (on top of the output)\n",
        "model_generator = FinetuningModelGenerator(pretrained_model_generator, OUTPUT_SPEC, pretraining_model_manipulation_function = \\\n",
        "        get_model_with_hidden_layers_as_outputs, dropout_rate = 0.5)\n",
        "\n",
        "training_callbacks = [\n",
        "    keras.callbacks.ReduceLROnPlateau(patience = 1, factor = 0.25, min_lr = 1e-05, verbose = 1),\n",
        "    keras.callbacks.EarlyStopping(patience = 2, restore_best_weights = True),\n",
        "]\n",
        "\n",
        "finetune(model_generator, input_encoder, OUTPUT_SPEC, train_set['seq'], train_set['label'], valid_set['seq'], valid_set['label'], \\\n",
        "        seq_len = 512, batch_size = 32, max_epochs_per_stage = 40, lr = 1e-04, begin_with_frozen_pretrained_layers = True, \\\n",
        "        lr_with_frozen_pretrained_layers = 1e-02, n_final_epochs = 1, final_seq_len = 1024, final_lr = 1e-05, callbacks = training_callbacks)\n",
        "\n",
        "\n",
        "# Evaluating the performance on the test-set\n",
        "\n",
        "# results, confusion_matrix = evaluate_by_len(model_generator, input_encoder, OUTPUT_SPEC, test_set['seq'], test_set['label'], \\\n",
        "        # start_seq_len = 512, start_batch_size = 32)\n",
        "\n",
        "# print('Test-set performance:')\n",
        "# display(results)\n",
        "\n",
        "# print('Confusion matrix:')\n",
        "# display(confusion_matrix)"
      ],
      "metadata": {
        "colab": {
          "base_uri": "https://localhost:8080/"
        },
        "id": "flch7ukKal4X",
        "outputId": "0d3a631e-7034-4d78-fe1b-ac847d82de4c"
      },
      "execution_count": 11,
      "outputs": [
        {
          "output_type": "stream",
          "name": "stdout",
          "text": [
            "4399 training set records, 489 validation set records, 1223 test set records.\n",
            "[2022_12_13-07:47:19] Training set: Filtered out 344 of 4399 (7.8%) records of lengths exceeding 510.\n",
            "[2022_12_13-07:47:19] Validation set: Filtered out 32 of 489 (6.5%) records of lengths exceeding 510.\n",
            "[2022_12_13-07:47:19] Training with frozen pretrained layers...\n"
          ]
        },
        {
          "output_type": "stream",
          "name": "stderr",
          "text": [
            "/usr/local/lib/python3.8/dist-packages/keras/optimizers/optimizer_v2/adam.py:110: UserWarning: The `lr` argument is deprecated, use `learning_rate` instead.\n",
            "  super(Adam, self).__init__(name, **kwargs)\n"
          ]
        },
        {
          "output_type": "stream",
          "name": "stdout",
          "text": [
            "Epoch 1/40\n",
            "127/127 [==============================] - ETA: 0s - loss: 1.4894"
          ]
        },
        {
          "output_type": "stream",
          "name": "stderr",
          "text": [
            "WARNING:tensorflow:`evaluate()` received a value for `sample_weight`, but `weighted_metrics` were not provided.  Did you mean to pass metrics to `weighted_metrics` in `compile()`?  If this is intentional you can pass `weighted_metrics=[]` to `compile()` in order to silence this warning.\n"
          ]
        },
        {
          "output_type": "stream",
          "name": "stdout",
          "text": [
            "\b\b\b\b\b\b\b\b\b\b\b\b\b\b\b\b\b\b\b\b\b\b\b\b\b\b\b\b\b\b\b\b\b\b\b\b\b\b\b\b\b\b\b\b\b\b\b\b\b\b\b\b\b\b\b\b\b\b\b\b\b\b\b\b\b\r127/127 [==============================] - 27s 92ms/step - loss: 1.4894 - val_loss: 1.1810 - lr: 0.0100\n",
            "Epoch 2/40\n",
            "126/127 [============================>.] - ETA: 0s - loss: 0.9540"
          ]
        },
        {
          "output_type": "stream",
          "name": "stderr",
          "text": [
            "WARNING:tensorflow:`evaluate()` received a value for `sample_weight`, but `weighted_metrics` were not provided.  Did you mean to pass metrics to `weighted_metrics` in `compile()`?  If this is intentional you can pass `weighted_metrics=[]` to `compile()` in order to silence this warning.\n"
          ]
        },
        {
          "output_type": "stream",
          "name": "stdout",
          "text": [
            "\b\b\b\b\b\b\b\b\b\b\b\b\b\b\b\b\b\b\b\b\b\b\b\b\b\b\b\b\b\b\b\b\b\b\b\b\b\b\b\b\b\b\b\b\b\b\b\b\b\b\b\b\b\b\b\b\b\b\b\b\b\b\b\b\b\r127/127 [==============================] - 9s 69ms/step - loss: 0.9519 - val_loss: 1.1499 - lr: 0.0100\n",
            "Epoch 3/40\n",
            "126/127 [============================>.] - ETA: 0s - loss: 0.7393"
          ]
        },
        {
          "output_type": "stream",
          "name": "stderr",
          "text": [
            "WARNING:tensorflow:`evaluate()` received a value for `sample_weight`, but `weighted_metrics` were not provided.  Did you mean to pass metrics to `weighted_metrics` in `compile()`?  If this is intentional you can pass `weighted_metrics=[]` to `compile()` in order to silence this warning.\n"
          ]
        },
        {
          "output_type": "stream",
          "name": "stdout",
          "text": [
            "\n",
            "Epoch 3: ReduceLROnPlateau reducing learning rate to 0.0024999999441206455.\n",
            "127/127 [==============================] - 9s 69ms/step - loss: 0.7402 - val_loss: 1.1719 - lr: 0.0100\n",
            "Epoch 4/40\n",
            "127/127 [==============================] - ETA: 0s - loss: 0.5148"
          ]
        },
        {
          "output_type": "stream",
          "name": "stderr",
          "text": [
            "WARNING:tensorflow:`evaluate()` received a value for `sample_weight`, but `weighted_metrics` were not provided.  Did you mean to pass metrics to `weighted_metrics` in `compile()`?  If this is intentional you can pass `weighted_metrics=[]` to `compile()` in order to silence this warning.\n"
          ]
        },
        {
          "output_type": "stream",
          "name": "stdout",
          "text": [
            "\b\b\b\b\b\b\b\b\b\b\b\b\b\b\b\b\b\b\b\b\b\b\b\b\b\b\b\b\b\b\b\b\b\b\b\b\b\b\b\b\b\b\b\b\b\b\b\b\b\b\b\b\b\b\b\b\b\b\b\b\b\b\b\b\b\r127/127 [==============================] - 9s 71ms/step - loss: 0.5148 - val_loss: 1.0262 - lr: 0.0025\n",
            "Epoch 5/40\n",
            "127/127 [==============================] - ETA: 0s - loss: 0.4761"
          ]
        },
        {
          "output_type": "stream",
          "name": "stderr",
          "text": [
            "WARNING:tensorflow:`evaluate()` received a value for `sample_weight`, but `weighted_metrics` were not provided.  Did you mean to pass metrics to `weighted_metrics` in `compile()`?  If this is intentional you can pass `weighted_metrics=[]` to `compile()` in order to silence this warning.\n"
          ]
        },
        {
          "output_type": "stream",
          "name": "stdout",
          "text": [
            "\b\b\b\b\b\b\b\b\b\b\b\b\b\b\b\b\b\b\b\b\b\b\b\b\b\b\b\b\b\b\b\b\b\b\b\b\b\b\b\b\b\b\b\b\b\b\b\b\b\b\b\b\b\b\b\b\b\b\b\b\b\b\b\b\b\r127/127 [==============================] - 9s 71ms/step - loss: 0.4761 - val_loss: 1.0013 - lr: 0.0025\n",
            "Epoch 6/40\n",
            "127/127 [==============================] - ETA: 0s - loss: 0.4358"
          ]
        },
        {
          "output_type": "stream",
          "name": "stderr",
          "text": [
            "WARNING:tensorflow:`evaluate()` received a value for `sample_weight`, but `weighted_metrics` were not provided.  Did you mean to pass metrics to `weighted_metrics` in `compile()`?  If this is intentional you can pass `weighted_metrics=[]` to `compile()` in order to silence this warning.\n"
          ]
        },
        {
          "output_type": "stream",
          "name": "stdout",
          "text": [
            "\n",
            "Epoch 6: ReduceLROnPlateau reducing learning rate to 0.0006249999860301614.\n",
            "127/127 [==============================] - 9s 71ms/step - loss: 0.4358 - val_loss: 1.0124 - lr: 0.0025\n",
            "Epoch 7/40\n",
            "126/127 [============================>.] - ETA: 0s - loss: 0.3951"
          ]
        },
        {
          "output_type": "stream",
          "name": "stderr",
          "text": [
            "WARNING:tensorflow:`evaluate()` received a value for `sample_weight`, but `weighted_metrics` were not provided.  Did you mean to pass metrics to `weighted_metrics` in `compile()`?  If this is intentional you can pass `weighted_metrics=[]` to `compile()` in order to silence this warning.\n"
          ]
        },
        {
          "output_type": "stream",
          "name": "stdout",
          "text": [
            "\n",
            "Epoch 7: ReduceLROnPlateau reducing learning rate to 0.00015624999650754035.\n",
            "127/127 [==============================] - 9s 71ms/step - loss: 0.3950 - val_loss: 1.0013 - lr: 6.2500e-04\n",
            "[2022_12_13-07:48:46] Training the entire fine-tuned model...\n",
            "[2022_12_13-07:48:57] Incompatible number of optimizer weights - will not initialize them.\n",
            "Epoch 1/40\n",
            "127/127 [==============================] - ETA: 0s - loss: 0.3798"
          ]
        },
        {
          "output_type": "stream",
          "name": "stderr",
          "text": [
            "WARNING:tensorflow:`evaluate()` received a value for `sample_weight`, but `weighted_metrics` were not provided.  Did you mean to pass metrics to `weighted_metrics` in `compile()`?  If this is intentional you can pass `weighted_metrics=[]` to `compile()` in order to silence this warning.\n"
          ]
        },
        {
          "output_type": "stream",
          "name": "stdout",
          "text": [
            "\b\b\b\b\b\b\b\b\b\b\b\b\b\b\b\b\b\b\b\b\b\b\b\b\b\b\b\b\b\b\b\b\b\b\b\b\b\b\b\b\b\b\b\b\b\b\b\b\b\b\b\b\b\b\b\b\b\b\b\b\b\b\b\b\b\r127/127 [==============================] - 33s 198ms/step - loss: 0.3798 - val_loss: 1.0231 - lr: 1.0000e-04\n",
            "Epoch 2/40\n",
            "127/127 [==============================] - ETA: 0s - loss: 0.2872"
          ]
        },
        {
          "output_type": "stream",
          "name": "stderr",
          "text": [
            "WARNING:tensorflow:`evaluate()` received a value for `sample_weight`, but `weighted_metrics` were not provided.  Did you mean to pass metrics to `weighted_metrics` in `compile()`?  If this is intentional you can pass `weighted_metrics=[]` to `compile()` in order to silence this warning.\n"
          ]
        },
        {
          "output_type": "stream",
          "name": "stdout",
          "text": [
            "\n",
            "Epoch 2: ReduceLROnPlateau reducing learning rate to 2.499999936844688e-05.\n",
            "127/127 [==============================] - 22s 177ms/step - loss: 0.2872 - val_loss: 1.1045 - lr: 1.0000e-04\n",
            "Epoch 3/40\n",
            "127/127 [==============================] - ETA: 0s - loss: 0.2195"
          ]
        },
        {
          "output_type": "stream",
          "name": "stderr",
          "text": [
            "WARNING:tensorflow:`evaluate()` received a value for `sample_weight`, but `weighted_metrics` were not provided.  Did you mean to pass metrics to `weighted_metrics` in `compile()`?  If this is intentional you can pass `weighted_metrics=[]` to `compile()` in order to silence this warning.\n"
          ]
        },
        {
          "output_type": "stream",
          "name": "stdout",
          "text": [
            "\n",
            "Epoch 3: ReduceLROnPlateau reducing learning rate to 1e-05.\n",
            "127/127 [==============================] - 23s 179ms/step - loss: 0.2195 - val_loss: 1.0749 - lr: 2.5000e-05\n",
            "[2022_12_13-07:50:16] Training on final epochs of sequence length 1024...\n",
            "[2022_12_13-07:50:16] Training set: Filtered out 0 of 4399 (0.0%) records of lengths exceeding 1022.\n",
            "[2022_12_13-07:50:28] Validation set: Filtered out 0 of 489 (0.0%) records of lengths exceeding 1022.\n",
            "275/275 [==============================] - ETA: 0s - loss: 0.4825"
          ]
        },
        {
          "output_type": "stream",
          "name": "stderr",
          "text": [
            "WARNING:tensorflow:`evaluate()` received a value for `sample_weight`, but `weighted_metrics` were not provided.  Did you mean to pass metrics to `weighted_metrics` in `compile()`?  If this is intentional you can pass `weighted_metrics=[]` to `compile()` in order to silence this warning.\n"
          ]
        },
        {
          "output_type": "stream",
          "name": "stdout",
          "text": [
            "\b\b\b\b\b\b\b\b\b\b\b\b\b\b\b\b\b\b\b\b\b\b\b\b\b\b\b\b\b\b\b\b\b\b\b\b\b\b\b\b\b\b\b\b\b\b\b\b\b\b\b\b\b\b\b\b\b\b\b\b\b\b\b\b\b\r275/275 [==============================] - 59s 189ms/step - loss: 0.4825 - val_loss: 1.0265 - lr: 1.0000e-05\n"
          ]
        }
      ]
    },
    {
      "cell_type": "code",
      "source": [
        "type(pretrained_model_generator)"
      ],
      "metadata": {
        "colab": {
          "base_uri": "https://localhost:8080/"
        },
        "id": "j4oQrK-LiUJH",
        "outputId": "3d8d64d7-04a8-4778-9d6e-404a1778df2e"
      },
      "execution_count": 21,
      "outputs": [
        {
          "output_type": "execute_result",
          "data": {
            "text/plain": [
              "proteinbert.model_generation.PretrainingModelGenerator"
            ]
          },
          "metadata": {},
          "execution_count": 21
        }
      ]
    },
    {
      "cell_type": "code",
      "source": [
        "type(model_generator)"
      ],
      "metadata": {
        "colab": {
          "base_uri": "https://localhost:8080/"
        },
        "id": "6zAVNK_miXBJ",
        "outputId": "7de8a085-5d5d-4374-e87e-dafefce3f5c5"
      },
      "execution_count": 22,
      "outputs": [
        {
          "output_type": "execute_result",
          "data": {
            "text/plain": [
              "proteinbert.model_generation.FinetuningModelGenerator"
            ]
          },
          "metadata": {},
          "execution_count": 22
        }
      ]
    },
    {
      "cell_type": "code",
      "source": [
        "from proteinbert.conv_and_global_attention_model import get_model_with_hidden_layers_as_outputs"
      ],
      "metadata": {
        "id": "UIkCo5Jgf1o9"
      },
      "execution_count": 19,
      "outputs": []
    },
    {
      "cell_type": "code",
      "source": [
        "model.outputs[0].shape"
      ],
      "metadata": {
        "colab": {
          "base_uri": "https://localhost:8080/"
        },
        "id": "O2gxKVmQiuAo",
        "outputId": "cfb9e6a0-3f8c-4007-c5d4-cd9818151341"
      },
      "execution_count": 23,
      "outputs": [
        {
          "output_type": "execute_result",
          "data": {
            "text/plain": [
              "TensorShape([None, 18])"
            ]
          },
          "metadata": {},
          "execution_count": 23
        }
      ]
    },
    {
      "cell_type": "markdown",
      "source": [
        "### predict"
      ],
      "metadata": {
        "id": "ZKRFbNJUt6xm"
      }
    },
    {
      "cell_type": "code",
      "source": [
        "import pickle"
      ],
      "metadata": {
        "id": "c0spdI7Ejgn-"
      },
      "execution_count": 7,
      "outputs": []
    },
    {
      "cell_type": "code",
      "source": [
        "# with open('finetuned_model_weights.pkl', 'wb') as f:\n",
        "#   pickle.dump(model_generator.model_weights, f)"
      ],
      "metadata": {
        "id": "D8Tw3dUYpEA1"
      },
      "execution_count": 8,
      "outputs": []
    },
    {
      "cell_type": "code",
      "source": [
        "\n",
        "# unpickling the weights\n",
        "with open('./trained_models/finetuned_model_weights.pkl', 'rb') as f:\n",
        "    saved_model_weights = pickle.load(f)\n",
        "\n",
        "saved_pretrained_model_generator, saved_input_encoder = load_pretrained_model(local_model_dump_dir='./trained_models/', \n",
        "                                        local_model_dump_file_name= \"epoch_92400_sample_23500000.pkl\",)\n",
        "saved_model_generator = FinetuningModelGenerator(saved_pretrained_model_generator, OUTPUT_SPEC, \n",
        "                                           pretraining_model_manipulation_function = get_model_with_hidden_layers_as_outputs, \n",
        "                                           dropout_rate = 0.5,\n",
        "                                            model_weights = saved_model_weights,)"
      ],
      "metadata": {
        "id": "B_8edgtYpeyp"
      },
      "execution_count": 9,
      "outputs": []
    },
    {
      "cell_type": "code",
      "source": [
        "model = saved_model_generator.create_model(seq_len=1024)"
      ],
      "metadata": {
        "colab": {
          "base_uri": "https://localhost:8080/"
        },
        "id": "U3DCQLuMszUM",
        "outputId": "6368b0c6-0c6b-4142-daf3-bc4243c9229b"
      },
      "execution_count": 10,
      "outputs": [
        {
          "output_type": "stream",
          "name": "stderr",
          "text": [
            "/usr/local/lib/python3.8/dist-packages/keras/optimizers/optimizer_v2/adam.py:110: UserWarning: The `lr` argument is deprecated, use `learning_rate` instead.\n",
            "  super(Adam, self).__init__(name, **kwargs)\n"
          ]
        }
      ]
    },
    {
      "cell_type": "code",
      "source": [
        "X_train = saved_input_encoder.encode_X(train_set['seq'],1024) "
      ],
      "metadata": {
        "id": "En06txVF0gGp"
      },
      "execution_count": 18,
      "outputs": []
    },
    {
      "cell_type": "code",
      "source": [
        "X_train"
      ],
      "metadata": {
        "colab": {
          "base_uri": "https://localhost:8080/"
        },
        "id": "9P07Iyyf02qn",
        "outputId": "4dc7d55c-c760-4731-a6d5-906f91488533"
      },
      "execution_count": 20,
      "outputs": [
        {
          "output_type": "execute_result",
          "data": {
            "text/plain": [
              "[array([[23, 14, 16, ..., 25, 25, 25],\n",
              "        [23, 10, 11, ..., 25, 25, 25],\n",
              "        [23, 15, 12, ..., 25, 25, 25],\n",
              "        ...,\n",
              "        [23, 10, 12, ..., 25, 25, 25],\n",
              "        [23,  9, 15, ..., 25, 25, 25],\n",
              "        [23, 15,  4, ..., 25, 25, 25]], dtype=int32),\n",
              " array([[0, 0, 0, ..., 0, 0, 0],\n",
              "        [0, 0, 0, ..., 0, 0, 0],\n",
              "        [0, 0, 0, ..., 0, 0, 0],\n",
              "        ...,\n",
              "        [0, 0, 0, ..., 0, 0, 0],\n",
              "        [0, 0, 0, ..., 0, 0, 0],\n",
              "        [0, 0, 0, ..., 0, 0, 0]], dtype=int8)]"
            ]
          },
          "metadata": {},
          "execution_count": 20
        }
      ]
    },
    {
      "cell_type": "code",
      "source": [
        "X_test = saved_input_encoder.encode_X(test_set['seq'], 1024)"
      ],
      "metadata": {
        "id": "OeeLiepVvjhK"
      },
      "execution_count": 27,
      "outputs": []
    },
    {
      "cell_type": "code",
      "source": [
        "y_pred_proba = model.predict(X_test, batch_size=32)"
      ],
      "metadata": {
        "colab": {
          "base_uri": "https://localhost:8080/"
        },
        "id": "KXHsfnnfi-Om",
        "outputId": "99c269bc-2d79-40ba-eea4-7b4f1376044d"
      },
      "execution_count": 12,
      "outputs": [
        {
          "output_type": "stream",
          "name": "stdout",
          "text": [
            "39/39 [==============================] - 15s 103ms/step\n"
          ]
        }
      ]
    },
    {
      "cell_type": "markdown",
      "source": [
        "### embedding"
      ],
      "metadata": {
        "id": "ZPdFOEaXxG3C"
      }
    },
    {
      "cell_type": "code",
      "source": [
        "train_set['seq']"
      ],
      "metadata": {
        "colab": {
          "base_uri": "https://localhost:8080/"
        },
        "id": "d1hc2nYU3zwm",
        "outputId": "7484bc09-dcfb-4c56-de63-61c1660d1721"
      },
      "execution_count": 29,
      "outputs": [
        {
          "output_type": "execute_result",
          "data": {
            "text/plain": [
              "0       RTDCYGNVNRIDTTGASCKTAKPEGLSYCGVSASKKIAERDLQAMD...\n",
              "1       MNIFEMLRIDEGLRLKIYKDTEGYYTIGIGHLLTKSPSLAAAKAAL...\n",
              "2       SPLLETCVPDRGREYRGRLAVTTHGSRCLAWSSEQAKALSKDQDFN...\n",
              "3       IVGGYECRKNSASYQASLQSGYHFCGGSLISSTWVVSAAHCYKSRI...\n",
              "4       QDLARIEQFLDALWLEKNLAENTLNAYRRDLSMMVEWLHHRGLTLA...\n",
              "                              ...                        \n",
              "4883    KTLARYLKPYWIFAVLAPLFMVVEVICDLSQPTLLARIVDEGIARG...\n",
              "4884    YVAALFFLIPLVALGFAAANFAAVVRKPEGTERMKEISSYIRSGAD...\n",
              "4885    MPGFLTAFEYSEKRKMVFHITTGSQEFDKLLGGGIESMAITEAFGE...\n",
              "4886    LSFFTLLPFLVAAGTCYIKFSIVFVMVRNALGLQQVPSNMTLNGIA...\n",
              "4887    SFTPLVVIELAQDVKEETKEWLKNRIIAKKKDGGAQLLFRPLLNKY...\n",
              "Name: seq, Length: 4888, dtype: object"
            ]
          },
          "metadata": {},
          "execution_count": 29
        }
      ]
    },
    {
      "cell_type": "code",
      "source": [
        "seq_len = 1024\n",
        "pretrained_model_generator, input_encoder = load_pretrained_model('./trained_models','epoch_92400_sample_23500000.pkl')\n",
        "model = get_model_with_hidden_layers_as_outputs(pretrained_model_generator.create_model(seq_len))\n",
        "X_train = input_encoder.encode_X(sequences_train, seq_len)\n",
        "X_test = input_encoder.encode_X(sequences_test, seq_len)"
      ],
      "metadata": {
        "colab": {
          "base_uri": "https://localhost:8080/"
        },
        "id": "1zsSXQEIeE2x",
        "outputId": "0b90a3f9-f15d-4c37-fc13-bdc1f51c0335"
      },
      "execution_count": 6,
      "outputs": [
        {
          "output_type": "stream",
          "name": "stderr",
          "text": [
            "/usr/local/lib/python3.8/dist-packages/keras/optimizers/optimizer_v2/adam.py:110: UserWarning: The `lr` argument is deprecated, use `learning_rate` instead.\n",
            "  super(Adam, self).__init__(name, **kwargs)\n"
          ]
        }
      ]
    },
    {
      "cell_type": "code",
      "source": [
        "model.summary()"
      ],
      "metadata": {
        "colab": {
          "base_uri": "https://localhost:8080/"
        },
        "id": "ype5Jduc_sVX",
        "outputId": "ae52979e-468d-413f-c623-ce057ef40f0b"
      },
      "execution_count": 7,
      "outputs": [
        {
          "output_type": "stream",
          "name": "stdout",
          "text": [
            "Model: \"model_1\"\n",
            "__________________________________________________________________________________________________\n",
            " Layer (type)                   Output Shape         Param #     Connected to                     \n",
            "==================================================================================================\n",
            " input-annotations (InputLayer)  [(None, 8943)]      0           []                               \n",
            "                                                                                                  \n",
            " input-seq (InputLayer)         [(None, 1024)]       0           []                               \n",
            "                                                                                                  \n",
            " dense-global-input (Dense)     (None, 512)          4579328     ['input-annotations[0][0]']      \n",
            "                                                                                                  \n",
            " embedding-seq-input (Embedding  (None, 1024, 128)   3328        ['input-seq[0][0]']              \n",
            " )                                                                                                \n",
            "                                                                                                  \n",
            " global-to-seq-dense-block1 (De  (None, 128)         65664       ['dense-global-input[0][0]']     \n",
            " nse)                                                                                             \n",
            "                                                                                                  \n",
            " global-to-seq-reshape-block1 (  (None, 1, 128)      0           ['global-to-seq-dense-block1[0][0\n",
            " Reshape)                                                        ]']                              \n",
            "                                                                                                  \n",
            " narrow-conv-block1 (Conv1D)    (None, 1024, 128)    147584      ['embedding-seq-input[0][0]']    \n",
            "                                                                                                  \n",
            " wide-conv-block1 (Conv1D)      (None, 1024, 128)    147584      ['embedding-seq-input[0][0]']    \n",
            "                                                                                                  \n",
            " seq-merge1-block1 (Add)        (None, 1024, 128)    0           ['embedding-seq-input[0][0]',    \n",
            "                                                                  'global-to-seq-reshape-block1[0]\n",
            "                                                                 [0]',                            \n",
            "                                                                  'narrow-conv-block1[0][0]',     \n",
            "                                                                  'wide-conv-block1[0][0]']       \n",
            "                                                                                                  \n",
            " seq-merge1-norm-block1 (LayerN  (None, 1024, 128)   256         ['seq-merge1-block1[0][0]']      \n",
            " ormalization)                                                                                    \n",
            "                                                                                                  \n",
            " seq-dense-block1 (Dense)       (None, 1024, 128)    16512       ['seq-merge1-norm-block1[0][0]'] \n",
            "                                                                                                  \n",
            " seq-merge2-block1 (Add)        (None, 1024, 128)    0           ['seq-merge1-norm-block1[0][0]', \n",
            "                                                                  'seq-dense-block1[0][0]']       \n",
            "                                                                                                  \n",
            " seq-merge2-norm-block1 (LayerN  (None, 1024, 128)   256         ['seq-merge2-block1[0][0]']      \n",
            " ormalization)                                                                                    \n",
            "                                                                                                  \n",
            " global-dense1-block1 (Dense)   (None, 512)          262656      ['dense-global-input[0][0]']     \n",
            "                                                                                                  \n",
            " global-attention-block1 (Globa  (None, 512)         229376      ['dense-global-input[0][0]',     \n",
            " lAttention)                                                      'seq-merge2-norm-block1[0][0]'] \n",
            "                                                                                                  \n",
            " global-merge1-block1 (Add)     (None, 512)          0           ['dense-global-input[0][0]',     \n",
            "                                                                  'global-dense1-block1[0][0]',   \n",
            "                                                                  'global-attention-block1[0][0]']\n",
            "                                                                                                  \n",
            " global-merge1-norm-block1 (Lay  (None, 512)         1024        ['global-merge1-block1[0][0]']   \n",
            " erNormalization)                                                                                 \n",
            "                                                                                                  \n",
            " global-dense2-block1 (Dense)   (None, 512)          262656      ['global-merge1-norm-block1[0][0]\n",
            "                                                                 ']                               \n",
            "                                                                                                  \n",
            " global-merge2-block1 (Add)     (None, 512)          0           ['global-merge1-norm-block1[0][0]\n",
            "                                                                 ',                               \n",
            "                                                                  'global-dense2-block1[0][0]']   \n",
            "                                                                                                  \n",
            " global-merge2-norm-block1 (Lay  (None, 512)         1024        ['global-merge2-block1[0][0]']   \n",
            " erNormalization)                                                                                 \n",
            "                                                                                                  \n",
            " global-to-seq-dense-block2 (De  (None, 128)         65664       ['global-merge2-norm-block1[0][0]\n",
            " nse)                                                            ']                               \n",
            "                                                                                                  \n",
            " global-to-seq-reshape-block2 (  (None, 1, 128)      0           ['global-to-seq-dense-block2[0][0\n",
            " Reshape)                                                        ]']                              \n",
            "                                                                                                  \n",
            " narrow-conv-block2 (Conv1D)    (None, 1024, 128)    147584      ['seq-merge2-norm-block1[0][0]'] \n",
            "                                                                                                  \n",
            " wide-conv-block2 (Conv1D)      (None, 1024, 128)    147584      ['seq-merge2-norm-block1[0][0]'] \n",
            "                                                                                                  \n",
            " seq-merge1-block2 (Add)        (None, 1024, 128)    0           ['seq-merge2-norm-block1[0][0]', \n",
            "                                                                  'global-to-seq-reshape-block2[0]\n",
            "                                                                 [0]',                            \n",
            "                                                                  'narrow-conv-block2[0][0]',     \n",
            "                                                                  'wide-conv-block2[0][0]']       \n",
            "                                                                                                  \n",
            " seq-merge1-norm-block2 (LayerN  (None, 1024, 128)   256         ['seq-merge1-block2[0][0]']      \n",
            " ormalization)                                                                                    \n",
            "                                                                                                  \n",
            " seq-dense-block2 (Dense)       (None, 1024, 128)    16512       ['seq-merge1-norm-block2[0][0]'] \n",
            "                                                                                                  \n",
            " seq-merge2-block2 (Add)        (None, 1024, 128)    0           ['seq-merge1-norm-block2[0][0]', \n",
            "                                                                  'seq-dense-block2[0][0]']       \n",
            "                                                                                                  \n",
            " seq-merge2-norm-block2 (LayerN  (None, 1024, 128)   256         ['seq-merge2-block2[0][0]']      \n",
            " ormalization)                                                                                    \n",
            "                                                                                                  \n",
            " global-dense1-block2 (Dense)   (None, 512)          262656      ['global-merge2-norm-block1[0][0]\n",
            "                                                                 ']                               \n",
            "                                                                                                  \n",
            " global-attention-block2 (Globa  (None, 512)         229376      ['global-merge2-norm-block1[0][0]\n",
            " lAttention)                                                     ',                               \n",
            "                                                                  'seq-merge2-norm-block2[0][0]'] \n",
            "                                                                                                  \n",
            " global-merge1-block2 (Add)     (None, 512)          0           ['global-merge2-norm-block1[0][0]\n",
            "                                                                 ',                               \n",
            "                                                                  'global-dense1-block2[0][0]',   \n",
            "                                                                  'global-attention-block2[0][0]']\n",
            "                                                                                                  \n",
            " global-merge1-norm-block2 (Lay  (None, 512)         1024        ['global-merge1-block2[0][0]']   \n",
            " erNormalization)                                                                                 \n",
            "                                                                                                  \n",
            " global-dense2-block2 (Dense)   (None, 512)          262656      ['global-merge1-norm-block2[0][0]\n",
            "                                                                 ']                               \n",
            "                                                                                                  \n",
            " global-merge2-block2 (Add)     (None, 512)          0           ['global-merge1-norm-block2[0][0]\n",
            "                                                                 ',                               \n",
            "                                                                  'global-dense2-block2[0][0]']   \n",
            "                                                                                                  \n",
            " global-merge2-norm-block2 (Lay  (None, 512)         1024        ['global-merge2-block2[0][0]']   \n",
            " erNormalization)                                                                                 \n",
            "                                                                                                  \n",
            " global-to-seq-dense-block3 (De  (None, 128)         65664       ['global-merge2-norm-block2[0][0]\n",
            " nse)                                                            ']                               \n",
            "                                                                                                  \n",
            " global-to-seq-reshape-block3 (  (None, 1, 128)      0           ['global-to-seq-dense-block3[0][0\n",
            " Reshape)                                                        ]']                              \n",
            "                                                                                                  \n",
            " narrow-conv-block3 (Conv1D)    (None, 1024, 128)    147584      ['seq-merge2-norm-block2[0][0]'] \n",
            "                                                                                                  \n",
            " wide-conv-block3 (Conv1D)      (None, 1024, 128)    147584      ['seq-merge2-norm-block2[0][0]'] \n",
            "                                                                                                  \n",
            " seq-merge1-block3 (Add)        (None, 1024, 128)    0           ['seq-merge2-norm-block2[0][0]', \n",
            "                                                                  'global-to-seq-reshape-block3[0]\n",
            "                                                                 [0]',                            \n",
            "                                                                  'narrow-conv-block3[0][0]',     \n",
            "                                                                  'wide-conv-block3[0][0]']       \n",
            "                                                                                                  \n",
            " seq-merge1-norm-block3 (LayerN  (None, 1024, 128)   256         ['seq-merge1-block3[0][0]']      \n",
            " ormalization)                                                                                    \n",
            "                                                                                                  \n",
            " seq-dense-block3 (Dense)       (None, 1024, 128)    16512       ['seq-merge1-norm-block3[0][0]'] \n",
            "                                                                                                  \n",
            " seq-merge2-block3 (Add)        (None, 1024, 128)    0           ['seq-merge1-norm-block3[0][0]', \n",
            "                                                                  'seq-dense-block3[0][0]']       \n",
            "                                                                                                  \n",
            " seq-merge2-norm-block3 (LayerN  (None, 1024, 128)   256         ['seq-merge2-block3[0][0]']      \n",
            " ormalization)                                                                                    \n",
            "                                                                                                  \n",
            " global-dense1-block3 (Dense)   (None, 512)          262656      ['global-merge2-norm-block2[0][0]\n",
            "                                                                 ']                               \n",
            "                                                                                                  \n",
            " global-attention-block3 (Globa  (None, 512)         229376      ['global-merge2-norm-block2[0][0]\n",
            " lAttention)                                                     ',                               \n",
            "                                                                  'seq-merge2-norm-block3[0][0]'] \n",
            "                                                                                                  \n",
            " global-merge1-block3 (Add)     (None, 512)          0           ['global-merge2-norm-block2[0][0]\n",
            "                                                                 ',                               \n",
            "                                                                  'global-dense1-block3[0][0]',   \n",
            "                                                                  'global-attention-block3[0][0]']\n",
            "                                                                                                  \n",
            " global-merge1-norm-block3 (Lay  (None, 512)         1024        ['global-merge1-block3[0][0]']   \n",
            " erNormalization)                                                                                 \n",
            "                                                                                                  \n",
            " global-dense2-block3 (Dense)   (None, 512)          262656      ['global-merge1-norm-block3[0][0]\n",
            "                                                                 ']                               \n",
            "                                                                                                  \n",
            " global-merge2-block3 (Add)     (None, 512)          0           ['global-merge1-norm-block3[0][0]\n",
            "                                                                 ',                               \n",
            "                                                                  'global-dense2-block3[0][0]']   \n",
            "                                                                                                  \n",
            " global-merge2-norm-block3 (Lay  (None, 512)         1024        ['global-merge2-block3[0][0]']   \n",
            " erNormalization)                                                                                 \n",
            "                                                                                                  \n",
            " global-to-seq-dense-block4 (De  (None, 128)         65664       ['global-merge2-norm-block3[0][0]\n",
            " nse)                                                            ']                               \n",
            "                                                                                                  \n",
            " global-to-seq-reshape-block4 (  (None, 1, 128)      0           ['global-to-seq-dense-block4[0][0\n",
            " Reshape)                                                        ]']                              \n",
            "                                                                                                  \n",
            " narrow-conv-block4 (Conv1D)    (None, 1024, 128)    147584      ['seq-merge2-norm-block3[0][0]'] \n",
            "                                                                                                  \n",
            " wide-conv-block4 (Conv1D)      (None, 1024, 128)    147584      ['seq-merge2-norm-block3[0][0]'] \n",
            "                                                                                                  \n",
            " seq-merge1-block4 (Add)        (None, 1024, 128)    0           ['seq-merge2-norm-block3[0][0]', \n",
            "                                                                  'global-to-seq-reshape-block4[0]\n",
            "                                                                 [0]',                            \n",
            "                                                                  'narrow-conv-block4[0][0]',     \n",
            "                                                                  'wide-conv-block4[0][0]']       \n",
            "                                                                                                  \n",
            " seq-merge1-norm-block4 (LayerN  (None, 1024, 128)   256         ['seq-merge1-block4[0][0]']      \n",
            " ormalization)                                                                                    \n",
            "                                                                                                  \n",
            " seq-dense-block4 (Dense)       (None, 1024, 128)    16512       ['seq-merge1-norm-block4[0][0]'] \n",
            "                                                                                                  \n",
            " seq-merge2-block4 (Add)        (None, 1024, 128)    0           ['seq-merge1-norm-block4[0][0]', \n",
            "                                                                  'seq-dense-block4[0][0]']       \n",
            "                                                                                                  \n",
            " seq-merge2-norm-block4 (LayerN  (None, 1024, 128)   256         ['seq-merge2-block4[0][0]']      \n",
            " ormalization)                                                                                    \n",
            "                                                                                                  \n",
            " global-dense1-block4 (Dense)   (None, 512)          262656      ['global-merge2-norm-block3[0][0]\n",
            "                                                                 ']                               \n",
            "                                                                                                  \n",
            " global-attention-block4 (Globa  (None, 512)         229376      ['global-merge2-norm-block3[0][0]\n",
            " lAttention)                                                     ',                               \n",
            "                                                                  'seq-merge2-norm-block4[0][0]'] \n",
            "                                                                                                  \n",
            " global-merge1-block4 (Add)     (None, 512)          0           ['global-merge2-norm-block3[0][0]\n",
            "                                                                 ',                               \n",
            "                                                                  'global-dense1-block4[0][0]',   \n",
            "                                                                  'global-attention-block4[0][0]']\n",
            "                                                                                                  \n",
            " global-merge1-norm-block4 (Lay  (None, 512)         1024        ['global-merge1-block4[0][0]']   \n",
            " erNormalization)                                                                                 \n",
            "                                                                                                  \n",
            " global-dense2-block4 (Dense)   (None, 512)          262656      ['global-merge1-norm-block4[0][0]\n",
            "                                                                 ']                               \n",
            "                                                                                                  \n",
            " global-merge2-block4 (Add)     (None, 512)          0           ['global-merge1-norm-block4[0][0]\n",
            "                                                                 ',                               \n",
            "                                                                  'global-dense2-block4[0][0]']   \n",
            "                                                                                                  \n",
            " global-merge2-norm-block4 (Lay  (None, 512)         1024        ['global-merge2-block4[0][0]']   \n",
            " erNormalization)                                                                                 \n",
            "                                                                                                  \n",
            " global-to-seq-dense-block5 (De  (None, 128)         65664       ['global-merge2-norm-block4[0][0]\n",
            " nse)                                                            ']                               \n",
            "                                                                                                  \n",
            " global-to-seq-reshape-block5 (  (None, 1, 128)      0           ['global-to-seq-dense-block5[0][0\n",
            " Reshape)                                                        ]']                              \n",
            "                                                                                                  \n",
            " narrow-conv-block5 (Conv1D)    (None, 1024, 128)    147584      ['seq-merge2-norm-block4[0][0]'] \n",
            "                                                                                                  \n",
            " wide-conv-block5 (Conv1D)      (None, 1024, 128)    147584      ['seq-merge2-norm-block4[0][0]'] \n",
            "                                                                                                  \n",
            " seq-merge1-block5 (Add)        (None, 1024, 128)    0           ['seq-merge2-norm-block4[0][0]', \n",
            "                                                                  'global-to-seq-reshape-block5[0]\n",
            "                                                                 [0]',                            \n",
            "                                                                  'narrow-conv-block5[0][0]',     \n",
            "                                                                  'wide-conv-block5[0][0]']       \n",
            "                                                                                                  \n",
            " seq-merge1-norm-block5 (LayerN  (None, 1024, 128)   256         ['seq-merge1-block5[0][0]']      \n",
            " ormalization)                                                                                    \n",
            "                                                                                                  \n",
            " seq-dense-block5 (Dense)       (None, 1024, 128)    16512       ['seq-merge1-norm-block5[0][0]'] \n",
            "                                                                                                  \n",
            " seq-merge2-block5 (Add)        (None, 1024, 128)    0           ['seq-merge1-norm-block5[0][0]', \n",
            "                                                                  'seq-dense-block5[0][0]']       \n",
            "                                                                                                  \n",
            " seq-merge2-norm-block5 (LayerN  (None, 1024, 128)   256         ['seq-merge2-block5[0][0]']      \n",
            " ormalization)                                                                                    \n",
            "                                                                                                  \n",
            " global-dense1-block5 (Dense)   (None, 512)          262656      ['global-merge2-norm-block4[0][0]\n",
            "                                                                 ']                               \n",
            "                                                                                                  \n",
            " global-attention-block5 (Globa  (None, 512)         229376      ['global-merge2-norm-block4[0][0]\n",
            " lAttention)                                                     ',                               \n",
            "                                                                  'seq-merge2-norm-block5[0][0]'] \n",
            "                                                                                                  \n",
            " global-merge1-block5 (Add)     (None, 512)          0           ['global-merge2-norm-block4[0][0]\n",
            "                                                                 ',                               \n",
            "                                                                  'global-dense1-block5[0][0]',   \n",
            "                                                                  'global-attention-block5[0][0]']\n",
            "                                                                                                  \n",
            " global-merge1-norm-block5 (Lay  (None, 512)         1024        ['global-merge1-block5[0][0]']   \n",
            " erNormalization)                                                                                 \n",
            "                                                                                                  \n",
            " global-dense2-block5 (Dense)   (None, 512)          262656      ['global-merge1-norm-block5[0][0]\n",
            "                                                                 ']                               \n",
            "                                                                                                  \n",
            " global-merge2-block5 (Add)     (None, 512)          0           ['global-merge1-norm-block5[0][0]\n",
            "                                                                 ',                               \n",
            "                                                                  'global-dense2-block5[0][0]']   \n",
            "                                                                                                  \n",
            " global-merge2-norm-block5 (Lay  (None, 512)         1024        ['global-merge2-block5[0][0]']   \n",
            " erNormalization)                                                                                 \n",
            "                                                                                                  \n",
            " global-to-seq-dense-block6 (De  (None, 128)         65664       ['global-merge2-norm-block5[0][0]\n",
            " nse)                                                            ']                               \n",
            "                                                                                                  \n",
            " global-to-seq-reshape-block6 (  (None, 1, 128)      0           ['global-to-seq-dense-block6[0][0\n",
            " Reshape)                                                        ]']                              \n",
            "                                                                                                  \n",
            " narrow-conv-block6 (Conv1D)    (None, 1024, 128)    147584      ['seq-merge2-norm-block5[0][0]'] \n",
            "                                                                                                  \n",
            " wide-conv-block6 (Conv1D)      (None, 1024, 128)    147584      ['seq-merge2-norm-block5[0][0]'] \n",
            "                                                                                                  \n",
            " seq-merge1-block6 (Add)        (None, 1024, 128)    0           ['seq-merge2-norm-block5[0][0]', \n",
            "                                                                  'global-to-seq-reshape-block6[0]\n",
            "                                                                 [0]',                            \n",
            "                                                                  'narrow-conv-block6[0][0]',     \n",
            "                                                                  'wide-conv-block6[0][0]']       \n",
            "                                                                                                  \n",
            " seq-merge1-norm-block6 (LayerN  (None, 1024, 128)   256         ['seq-merge1-block6[0][0]']      \n",
            " ormalization)                                                                                    \n",
            "                                                                                                  \n",
            " seq-dense-block6 (Dense)       (None, 1024, 128)    16512       ['seq-merge1-norm-block6[0][0]'] \n",
            "                                                                                                  \n",
            " seq-merge2-block6 (Add)        (None, 1024, 128)    0           ['seq-merge1-norm-block6[0][0]', \n",
            "                                                                  'seq-dense-block6[0][0]']       \n",
            "                                                                                                  \n",
            " seq-merge2-norm-block6 (LayerN  (None, 1024, 128)   256         ['seq-merge2-block6[0][0]']      \n",
            " ormalization)                                                                                    \n",
            "                                                                                                  \n",
            " global-dense1-block6 (Dense)   (None, 512)          262656      ['global-merge2-norm-block5[0][0]\n",
            "                                                                 ']                               \n",
            "                                                                                                  \n",
            " global-attention-block6 (Globa  (None, 512)         229376      ['global-merge2-norm-block5[0][0]\n",
            " lAttention)                                                     ',                               \n",
            "                                                                  'seq-merge2-norm-block6[0][0]'] \n",
            "                                                                                                  \n",
            " global-merge1-block6 (Add)     (None, 512)          0           ['global-merge2-norm-block5[0][0]\n",
            "                                                                 ',                               \n",
            "                                                                  'global-dense1-block6[0][0]',   \n",
            "                                                                  'global-attention-block6[0][0]']\n",
            "                                                                                                  \n",
            " global-merge1-norm-block6 (Lay  (None, 512)         1024        ['global-merge1-block6[0][0]']   \n",
            " erNormalization)                                                                                 \n",
            "                                                                                                  \n",
            " global-dense2-block6 (Dense)   (None, 512)          262656      ['global-merge1-norm-block6[0][0]\n",
            "                                                                 ']                               \n",
            "                                                                                                  \n",
            " global-merge2-block6 (Add)     (None, 512)          0           ['global-merge1-norm-block6[0][0]\n",
            "                                                                 ',                               \n",
            "                                                                  'global-dense2-block6[0][0]']   \n",
            "                                                                                                  \n",
            " global-merge2-norm-block6 (Lay  (None, 512)         1024        ['global-merge2-block6[0][0]']   \n",
            " erNormalization)                                                                                 \n",
            "                                                                                                  \n",
            " output-seq (Dense)             (None, 1024, 26)     3354        ['seq-merge2-norm-block6[0][0]'] \n",
            "                                                                                                  \n",
            " output-annotations (Dense)     (None, 8943)         4587759     ['global-merge2-norm-block6[0][0]\n",
            "                                                                 ']                               \n",
            "                                                                                                  \n",
            " all-seq-layers (Concatenate)   (None, 1024, 1562)   0           ['seq-merge1-norm-block1[0][0]', \n",
            "                                                                  'seq-merge2-norm-block1[0][0]', \n",
            "                                                                  'seq-merge1-norm-block2[0][0]', \n",
            "                                                                  'seq-merge2-norm-block2[0][0]', \n",
            "                                                                  'seq-merge1-norm-block3[0][0]', \n",
            "                                                                  'seq-merge2-norm-block3[0][0]', \n",
            "                                                                  'seq-merge1-norm-block4[0][0]', \n",
            "                                                                  'seq-merge2-norm-block4[0][0]', \n",
            "                                                                  'seq-merge1-norm-block5[0][0]', \n",
            "                                                                  'seq-merge2-norm-block5[0][0]', \n",
            "                                                                  'seq-merge1-norm-block6[0][0]', \n",
            "                                                                  'seq-merge2-norm-block6[0][0]', \n",
            "                                                                  'output-seq[0][0]']             \n",
            "                                                                                                  \n",
            " all-global-layers (Concatenate  (None, 15599)       0           ['dense-global-input[0][0]',     \n",
            " )                                                                'global-merge1-norm-block1[0][0]\n",
            "                                                                 ',                               \n",
            "                                                                  'global-merge2-norm-block1[0][0]\n",
            "                                                                 ',                               \n",
            "                                                                  'global-merge1-norm-block2[0][0]\n",
            "                                                                 ',                               \n",
            "                                                                  'global-merge2-norm-block2[0][0]\n",
            "                                                                 ',                               \n",
            "                                                                  'global-merge1-norm-block3[0][0]\n",
            "                                                                 ',                               \n",
            "                                                                  'global-merge2-norm-block3[0][0]\n",
            "                                                                 ',                               \n",
            "                                                                  'global-merge1-norm-block4[0][0]\n",
            "                                                                 ',                               \n",
            "                                                                  'global-merge2-norm-block4[0][0]\n",
            "                                                                 ',                               \n",
            "                                                                  'global-merge1-norm-block5[0][0]\n",
            "                                                                 ',                               \n",
            "                                                                  'global-merge2-norm-block5[0][0]\n",
            "                                                                 ',                               \n",
            "                                                                  'global-merge1-norm-block6[0][0]\n",
            "                                                                 ',                               \n",
            "                                                                  'global-merge2-norm-block6[0][0]\n",
            "                                                                 ',                               \n",
            "                                                                  'output-annotations[0][0]']     \n",
            "                                                                                                  \n",
            "==================================================================================================\n",
            "Total params: 15,981,321\n",
            "Trainable params: 15,981,321\n",
            "Non-trainable params: 0\n",
            "__________________________________________________________________________________________________\n"
          ]
        }
      ]
    },
    {
      "cell_type": "code",
      "source": [
        "train_embedding,_ = model.predict(X_train, 32)\n",
        "test_embedding,_ = model.predict(X_test, 32)"
      ],
      "metadata": {
        "colab": {
          "base_uri": "https://localhost:8080/"
        },
        "id": "wAweH2S94Ein",
        "outputId": "4040d3d1-a97b-4d57-f45c-cfd70d63c9e6"
      },
      "execution_count": null,
      "outputs": [
        {
          "output_type": "stream",
          "name": "stdout",
          "text": [
            " 52/153 [=========>....................] - ETA: 8:58"
          ]
        }
      ]
    },
    {
      "cell_type": "markdown",
      "source": [
        "### legacy"
      ],
      "metadata": {
        "id": "SK1R8LNEXEjN"
      }
    },
    {
      "cell_type": "code",
      "source": [
        "# import biovec\n",
        "# # load trained model from file\n",
        "# pv = biovec.models.load_protvec('./trained_models/swissprot-reviewed-protvec.model')\n",
        "# # The n-gram \"QAT\" should be trained in advance\n",
        "# pv[\"QAT\"]\n",
        "# # convert whole amino acid sequence into three vectors\n",
        "# np.concatenate(pv.to_vecs(\"ATATQSQSMTEEL\")).shape\n",
        "# def protein_vectorizer(pv, sequences):\n",
        "#   vecs = []\n",
        "#   for seq in sequences:\n",
        "#     vecs.append(np.concatenate(pv.to_vecs(seq)))\n",
        "#   return np.array(vecs)\n",
        "# X_train = protein_vectorizer(pv, sequences_train)\n",
        "# X_test = protein_vectorizer(pv, sequences_test)"
      ],
      "metadata": {
        "id": "JJfqwTlDF-Z4"
      },
      "execution_count": 6,
      "outputs": []
    },
    {
      "cell_type": "code",
      "source": [
        "# vec = TfidfVectorizer(analyzer='char', ngram_range=(1, 3))\n",
        "# X_train = vec.fit_transform(sequences_train)\n",
        "# X_test = vec.transform(sequences_test)"
      ],
      "metadata": {
        "id": "AWAxfy0vFRuL"
      },
      "execution_count": null,
      "outputs": []
    },
    {
      "cell_type": "markdown",
      "source": [
        "### dimension reduction"
      ],
      "metadata": {
        "id": "LXrsi9itXIbt"
      }
    },
    {
      "cell_type": "code",
      "source": [
        "X_train.shape, X_test.shape"
      ],
      "metadata": {
        "colab": {
          "base_uri": "https://localhost:8080/"
        },
        "id": "YKms9BtGIpJA",
        "outputId": "d96bedbd-d0fa-4000-9fbb-1ac24e440123"
      },
      "execution_count": 20,
      "outputs": [
        {
          "output_type": "execute_result",
          "data": {
            "text/plain": [
              "((4888, 300), (1223, 300))"
            ]
          },
          "metadata": {},
          "execution_count": 20
        }
      ]
    },
    {
      "cell_type": "code",
      "source": [
        "import scipy.sparse as sp\n",
        "# X = np.vstack((X_train.toarray(), X_test.toarray()))\n",
        "X = np.vstack((X_train, X_test))\n",
        "X.shape"
      ],
      "metadata": {
        "colab": {
          "base_uri": "https://localhost:8080/"
        },
        "id": "mlXIzsjeU0Ub",
        "outputId": "e563274f-bee3-44ed-cba5-cd1a8d46aa55"
      },
      "execution_count": 21,
      "outputs": [
        {
          "output_type": "execute_result",
          "data": {
            "text/plain": [
              "(6111, 300)"
            ]
          },
          "metadata": {},
          "execution_count": 21
        }
      ]
    },
    {
      "cell_type": "code",
      "source": [
        "X_sparse = sp.csr_matrix(X)\n",
        "from sklearn.decomposition import PCA, TruncatedSVD\n",
        "# pca = PCA()\n",
        "# pca.fit(X)\n",
        "svd = TruncatedSVD(n_components=100)\n",
        "svd.fit(X)"
      ],
      "metadata": {
        "colab": {
          "base_uri": "https://localhost:8080/"
        },
        "id": "_noVC-ICUGBM",
        "outputId": "ad89259f-e394-4843-f630-bebfc4013595"
      },
      "execution_count": 22,
      "outputs": [
        {
          "output_type": "execute_result",
          "data": {
            "text/plain": [
              "TruncatedSVD(n_components=100)"
            ]
          },
          "metadata": {},
          "execution_count": 22
        }
      ]
    },
    {
      "cell_type": "code",
      "source": [
        "import matplotlib.pyplot as plt\n",
        "plt.plot(svd.explained_variance_ratio_)"
      ],
      "metadata": {
        "colab": {
          "base_uri": "https://localhost:8080/",
          "height": 282
        },
        "id": "VbnOzLkUXbDl",
        "outputId": "7bab03f3-63bd-4212-bd8b-b505784f7372"
      },
      "execution_count": 23,
      "outputs": [
        {
          "output_type": "execute_result",
          "data": {
            "text/plain": [
              "[<matplotlib.lines.Line2D at 0x7f20164e1fa0>]"
            ]
          },
          "metadata": {},
          "execution_count": 23
        },
        {
          "output_type": "display_data",
          "data": {
            "text/plain": [
              "<Figure size 432x288 with 1 Axes>"
            ],
            "image/png": "[encoded data removed]"
          },
          "metadata": {
            "needs_background": "light"
          }
        }
      ]
    },
    {
      "cell_type": "code",
      "source": [
        "X_new = svd.transform(X)"
      ],
      "metadata": {
        "id": "u39_wUzKWAdq"
      },
      "execution_count": 24,
      "outputs": []
    },
    {
      "cell_type": "code",
      "source": [
        "X_train_new,X_test_new = np.split(X_new,[X_train.shape[0]])"
      ],
      "metadata": {
        "id": "rT3HtWRbX9mk"
      },
      "execution_count": 25,
      "outputs": []
    },
    {
      "cell_type": "code",
      "source": [
        "X_train_new.shape, X_test_new.shape"
      ],
      "metadata": {
        "colab": {
          "base_uri": "https://localhost:8080/"
        },
        "id": "MSNdOJwdYNt4",
        "outputId": "835a8813-a6b3-4ce4-c9c0-783e69cb6a8d"
      },
      "execution_count": 26,
      "outputs": [
        {
          "output_type": "execute_result",
          "data": {
            "text/plain": [
              "((4888, 100), (1223, 100))"
            ]
          },
          "metadata": {},
          "execution_count": 26
        }
      ]
    },
    {
      "cell_type": "code",
      "source": [
        "import pandas as pd\n",
        "df_train = pd.DataFrame(X_train_new)"
      ],
      "metadata": {
        "id": "Bx2Kk57bJPJs"
      },
      "execution_count": 27,
      "outputs": []
    },
    {
      "cell_type": "code",
      "source": [
        "df_test = pd.DataFrame(X_test_new)"
      ],
      "metadata": {
        "id": "HO2-ejvyflHp"
      },
      "execution_count": 28,
      "outputs": []
    },
    {
      "cell_type": "code",
      "source": [
        "df_train.columns = range(df_train.shape[1])"
      ],
      "metadata": {
        "id": "cIETg3NgJfNG"
      },
      "execution_count": 29,
      "outputs": []
    },
    {
      "cell_type": "code",
      "source": [
        "df_train.head()"
      ],
      "metadata": {
        "colab": {
          "base_uri": "https://localhost:8080/",
          "height": 299
        },
        "id": "ljpdD-9TKNbG",
        "outputId": "5eb05fdf-2c75-47d7-8a4a-680ec1f31223"
      },
      "execution_count": 30,
      "outputs": [
        {
          "output_type": "execute_result",
          "data": {
            "text/plain": [
              "           0          1          2          3         4         5         6   \\\n",
              "0  109.356285  -3.833646   1.947854  -3.292883 -3.311949 -3.826015  2.099040   \n",
              "1   95.190033   3.552568  -1.110898   1.178499 -3.149377  2.008976  0.319801   \n",
              "2   91.898407   4.611051  -9.922841  -3.976764  2.506440 -3.109526  0.744523   \n",
              "3  130.014771  -0.600953  10.946375 -12.460989  7.522354 -5.938076 -4.659488   \n",
              "4  159.222198  15.575222 -13.679247   8.938797  5.937868  9.212132 -7.184511   \n",
              "\n",
              "         7         8         9   ...        90        91        92        93  \\\n",
              "0  0.767798  2.387406  1.107896  ...  0.157269  0.009353  1.469527 -0.574874   \n",
              "1  2.897786  1.612790  0.802957  ... -1.144361  0.307865 -0.397985 -0.630404   \n",
              "2 -2.573282 -0.899285 -0.975165  ...  0.857180  0.173358  0.051491  0.699263   \n",
              "3  4.595666 -1.887816  1.056845  ...  1.295376  1.773097 -0.730816  0.430094   \n",
              "4 -0.538958  1.536754  4.107922  ... -0.326325 -0.220549  1.570862 -0.138844   \n",
              "\n",
              "         94        95        96        97        98        99  \n",
              "0 -0.819050 -1.247810 -0.380742  0.439964 -0.922429  0.744784  \n",
              "1 -0.072420  0.736623  0.101293  0.568477  0.358596  0.272354  \n",
              "2  0.703107  0.195032 -1.067464  0.141507 -0.181663 -0.193661  \n",
              "3  1.107836 -1.247855  0.662269 -0.096713 -0.239922  0.811489  \n",
              "4 -0.994112  0.336825 -0.717504 -0.661034  1.895639 -2.432443  \n",
              "\n",
              "[5 rows x 100 columns]"
            ],
            "text/html": [
              "\n",
              "  <div id=\"df-dfa4f4cf-a212-4b11-a9ad-782946447636\">\n",
              "    <div class=\"colab-df-container\">\n",
              "      <div>\n",
              "<style scoped>\n",
              "    .dataframe tbody tr th:only-of-type {\n",
              "        vertical-align: middle;\n",
              "    }\n",
              "\n",
              "    .dataframe tbody tr th {\n",
              "        vertical-align: top;\n",
              "    }\n",
              "\n",
              "    .dataframe thead th {\n",
              "        text-align: right;\n",
              "    }\n",
              "</style>\n",
              "<table border=\"1\" class=\"dataframe\">\n",
              "  <thead>\n",
              "    <tr style=\"text-align: right;\">\n",
              "      <th></th>\n",
              "      <th>0</th>\n",
              "      <th>1</th>\n",
              "      <th>2</th>\n",
              "      <th>3</th>\n",
              "      <th>4</th>\n",
              "      <th>5</th>\n",
              "      <th>6</th>\n",
              "      <th>7</th>\n",
              "      <th>8</th>\n",
              "      <th>9</th>\n",
              "      <th>...</th>\n",
              "      <th>90</th>\n",
              "      <th>91</th>\n",
              "      <th>92</th>\n",
              "      <th>93</th>\n",
              "      <th>94</th>\n",
              "      <th>95</th>\n",
              "      <th>96</th>\n",
              "      <th>97</th>\n",
              "      <th>98</th>\n",
              "      <th>99</th>\n",
              "    </tr>\n",
              "  </thead>\n",
              "  <tbody>\n",
              "    <tr>\n",
              "      <th>0</th>\n",
              "      <td>109.356285</td>\n",
              "      <td>-3.833646</td>\n",
              "      <td>1.947854</td>\n",
              "      <td>-3.292883</td>\n",
              "      <td>-3.311949</td>\n",
              "      <td>-3.826015</td>\n",
              "      <td>2.099040</td>\n",
              "      <td>0.767798</td>\n",
              "      <td>2.387406</td>\n",
              "      <td>1.107896</td>\n",
              "      <td>...</td>\n",
              "      <td>0.157269</td>\n",
              "      <td>0.009353</td>\n",
              "      <td>1.469527</td>\n",
              "      <td>-0.574874</td>\n",
              "      <td>-0.819050</td>\n",
              "      <td>-1.247810</td>\n",
              "      <td>-0.380742</td>\n",
              "      <td>0.439964</td>\n",
              "      <td>-0.922429</td>\n",
              "      <td>0.744784</td>\n",
              "    </tr>\n",
              "    <tr>\n",
              "      <th>1</th>\n",
              "      <td>95.190033</td>\n",
              "      <td>3.552568</td>\n",
              "      <td>-1.110898</td>\n",
              "      <td>1.178499</td>\n",
              "      <td>-3.149377</td>\n",
              "      <td>2.008976</td>\n",
              "      <td>0.319801</td>\n",
              "      <td>2.897786</td>\n",
              "      <td>1.612790</td>\n",
              "      <td>0.802957</td>\n",
              "      <td>...</td>\n",
              "      <td>-1.144361</td>\n",
              "      <td>0.307865</td>\n",
              "      <td>-0.397985</td>\n",
              "      <td>-0.630404</td>\n",
              "      <td>-0.072420</td>\n",
              "      <td>0.736623</td>\n",
              "      <td>0.101293</td>\n",
              "      <td>0.568477</td>\n",
              "      <td>0.358596</td>\n",
              "      <td>0.272354</td>\n",
              "    </tr>\n",
              "    <tr>\n",
              "      <th>2</th>\n",
              "      <td>91.898407</td>\n",
              "      <td>4.611051</td>\n",
              "      <td>-9.922841</td>\n",
              "      <td>-3.976764</td>\n",
              "      <td>2.506440</td>\n",
              "      <td>-3.109526</td>\n",
              "      <td>0.744523</td>\n",
              "      <td>-2.573282</td>\n",
              "      <td>-0.899285</td>\n",
              "      <td>-0.975165</td>\n",
              "      <td>...</td>\n",
              "      <td>0.857180</td>\n",
              "      <td>0.173358</td>\n",
              "      <td>0.051491</td>\n",
              "      <td>0.699263</td>\n",
              "      <td>0.703107</td>\n",
              "      <td>0.195032</td>\n",
              "      <td>-1.067464</td>\n",
              "      <td>0.141507</td>\n",
              "      <td>-0.181663</td>\n",
              "      <td>-0.193661</td>\n",
              "    </tr>\n",
              "    <tr>\n",
              "      <th>3</th>\n",
              "      <td>130.014771</td>\n",
              "      <td>-0.600953</td>\n",
              "      <td>10.946375</td>\n",
              "      <td>-12.460989</td>\n",
              "      <td>7.522354</td>\n",
              "      <td>-5.938076</td>\n",
              "      <td>-4.659488</td>\n",
              "      <td>4.595666</td>\n",
              "      <td>-1.887816</td>\n",
              "      <td>1.056845</td>\n",
              "      <td>...</td>\n",
              "      <td>1.295376</td>\n",
              "      <td>1.773097</td>\n",
              "      <td>-0.730816</td>\n",
              "      <td>0.430094</td>\n",
              "      <td>1.107836</td>\n",
              "      <td>-1.247855</td>\n",
              "      <td>0.662269</td>\n",
              "      <td>-0.096713</td>\n",
              "      <td>-0.239922</td>\n",
              "      <td>0.811489</td>\n",
              "    </tr>\n",
              "    <tr>\n",
              "      <th>4</th>\n",
              "      <td>159.222198</td>\n",
              "      <td>15.575222</td>\n",
              "      <td>-13.679247</td>\n",
              "      <td>8.938797</td>\n",
              "      <td>5.937868</td>\n",
              "      <td>9.212132</td>\n",
              "      <td>-7.184511</td>\n",
              "      <td>-0.538958</td>\n",
              "      <td>1.536754</td>\n",
              "      <td>4.107922</td>\n",
              "      <td>...</td>\n",
              "      <td>-0.326325</td>\n",
              "      <td>-0.220549</td>\n",
              "      <td>1.570862</td>\n",
              "      <td>-0.138844</td>\n",
              "      <td>-0.994112</td>\n",
              "      <td>0.336825</td>\n",
              "      <td>-0.717504</td>\n",
              "      <td>-0.661034</td>\n",
              "      <td>1.895639</td>\n",
              "      <td>-2.432443</td>\n",
              "    </tr>\n",
              "  </tbody>\n",
              "</table>\n",
              "<p>5 rows × 100 columns</p>\n",
              "</div>\n",
              "      <button class=\"colab-df-convert\" onclick=\"convertToInteractive('df-dfa4f4cf-a212-4b11-a9ad-782946447636')\"\n",
              "              title=\"Convert this dataframe to an interactive table.\"\n",
              "              style=\"display:none;\">\n",
              "        \n",
              "  <svg xmlns=\"http://www.w3.org/2000/svg\" height=\"24px\"viewBox=\"0 0 24 24\"\n",
              "       width=\"24px\">\n",
              "    <path d=\"M0 0h24v24H0V0z\" fill=\"none\"/>\n",
              "    <path d=\"M18.56 5.44l.94 2.06.94-2.06 2.06-.94-2.06-.94-.94-2.06-.94 2.06-2.06.94zm-11 1L8.5 8.5l.94-2.06 2.06-.94-2.06-.94L8.5 2.5l-.94 2.06-2.06.94zm10 10l.94 2.06.94-2.06 2.06-.94-2.06-.94-.94-2.06-.94 2.06-2.06.94z\"/><path d=\"M17.41 7.96l-1.37-1.37c-.4-.4-.92-.59-1.43-.59-.52 0-1.04.2-1.43.59L10.3 9.45l-7.72 7.72c-.78.78-.78 2.05 0 2.83L4 21.41c.39.39.9.59 1.41.59.51 0 1.02-.2 1.41-.59l7.78-7.78 2.81-2.81c.8-.78.8-2.07 0-2.86zM5.41 20L4 18.59l7.72-7.72 1.47 1.35L5.41 20z\"/>\n",
              "  </svg>\n",
              "      </button>\n",
              "      \n",
              "  <style>\n",
              "    .colab-df-container {\n",
              "      display:flex;\n",
              "      flex-wrap:wrap;\n",
              "      gap: 12px;\n",
              "    }\n",
              "\n",
              "    .colab-df-convert {\n",
              "      background-color: #E8F0FE;\n",
              "      border: none;\n",
              "      border-radius: 50%;\n",
              "      cursor: pointer;\n",
              "      display: none;\n",
              "      fill: #1967D2;\n",
              "      height: 32px;\n",
              "      padding: 0 0 0 0;\n",
              "      width: 32px;\n",
              "    }\n",
              "\n",
              "    .colab-df-convert:hover {\n",
              "      background-color: #E2EBFA;\n",
              "      box-shadow: 0px 1px 2px rgba(60, 64, 67, 0.3), 0px 1px 3px 1px rgba(60, 64, 67, 0.15);\n",
              "      fill: #174EA6;\n",
              "    }\n",
              "\n",
              "    [theme=dark] .colab-df-convert {\n",
              "      background-color: #3B4455;\n",
              "      fill: #D2E3FC;\n",
              "    }\n",
              "\n",
              "    [theme=dark] .colab-df-convert:hover {\n",
              "      background-color: #434B5C;\n",
              "      box-shadow: 0px 1px 3px 1px rgba(0, 0, 0, 0.15);\n",
              "      filter: drop-shadow(0px 1px 2px rgba(0, 0, 0, 0.3));\n",
              "      fill: #FFFFFF;\n",
              "    }\n",
              "  </style>\n",
              "\n",
              "      <script>\n",
              "        const buttonEl =\n",
              "          document.querySelector('#df-dfa4f4cf-a212-4b11-a9ad-782946447636 button.colab-df-convert');\n",
              "        buttonEl.style.display =\n",
              "          google.colab.kernel.accessAllowed ? 'block' : 'none';\n",
              "\n",
              "        async function convertToInteractive(key) {\n",
              "          const element = document.querySelector('#df-dfa4f4cf-a212-4b11-a9ad-782946447636');\n",
              "          const dataTable =\n",
              "            await google.colab.kernel.invokeFunction('convertToInteractive',\n",
              "                                                     [key], {});\n",
              "          if (!dataTable) return;\n",
              "\n",
              "          const docLinkHtml = 'Like what you see? Visit the ' +\n",
              "            '<a target=\"_blank\" href=https://colab.research.google.com/notebooks/data_table.ipynb>data table notebook</a>'\n",
              "            + ' to learn more about interactive tables.';\n",
              "          element.innerHTML = '';\n",
              "          dataTable['output_type'] = 'display_data';\n",
              "          await google.colab.output.renderOutput(dataTable, element);\n",
              "          const docLink = document.createElement('div');\n",
              "          docLink.innerHTML = docLinkHtml;\n",
              "          element.appendChild(docLink);\n",
              "        }\n",
              "      </script>\n",
              "    </div>\n",
              "  </div>\n",
              "  "
            ]
          },
          "metadata": {},
          "execution_count": 30
        }
      ]
    },
    {
      "cell_type": "code",
      "source": [
        "np.unique(y_train,return_counts=True)"
      ],
      "metadata": {
        "colab": {
          "base_uri": "https://localhost:8080/"
        },
        "id": "6kEuB6c8Ypvo",
        "outputId": "6eb72c53-9902-4f11-b6e1-06aad1900143"
      },
      "execution_count": null,
      "outputs": [
        {
          "output_type": "execute_result",
          "data": {
            "text/plain": [
              "(array([ 0,  1,  2,  3,  4,  5,  6,  7,  8,  9, 10, 11, 12, 13, 14, 15, 16,\n",
              "        17]),\n",
              " array([440,  50, 939,  60, 112, 625, 202,  74, 998,  57,  43, 305,  44,\n",
              "         59, 548, 226,  60,  46]))"
            ]
          },
          "metadata": {},
          "execution_count": 45
        }
      ]
    },
    {
      "cell_type": "code",
      "source": [
        "df_train['class'] = y_train"
      ],
      "metadata": {
        "id": "ybb3Oy_vKXZq"
      },
      "execution_count": 31,
      "outputs": []
    },
    {
      "cell_type": "code",
      "source": [
        "df_train.head()"
      ],
      "metadata": {
        "colab": {
          "base_uri": "https://localhost:8080/",
          "height": 299
        },
        "id": "1CA8_PpcKdcb",
        "outputId": "69d32e3e-dcbd-410d-8cd9-c2d345f6cc29"
      },
      "execution_count": 32,
      "outputs": [
        {
          "output_type": "execute_result",
          "data": {
            "text/plain": [
              "            0          1          2          3         4         5         6  \\\n",
              "0  109.356285  -3.833646   1.947854  -3.292883 -3.311949 -3.826015  2.099040   \n",
              "1   95.190033   3.552568  -1.110898   1.178499 -3.149377  2.008976  0.319801   \n",
              "2   91.898407   4.611051  -9.922841  -3.976764  2.506440 -3.109526  0.744523   \n",
              "3  130.014771  -0.600953  10.946375 -12.460989  7.522354 -5.938076 -4.659488   \n",
              "4  159.222198  15.575222 -13.679247   8.938797  5.937868  9.212132 -7.184511   \n",
              "\n",
              "          7         8         9  ...        91        92        93        94  \\\n",
              "0  0.767798  2.387406  1.107896  ...  0.009353  1.469527 -0.574874 -0.819050   \n",
              "1  2.897786  1.612790  0.802957  ...  0.307865 -0.397985 -0.630404 -0.072420   \n",
              "2 -2.573282 -0.899285 -0.975165  ...  0.173358  0.051491  0.699263  0.703107   \n",
              "3  4.595666 -1.887816  1.056845  ...  1.773097 -0.730816  0.430094  1.107836   \n",
              "4 -0.538958  1.536754  4.107922  ... -0.220549  1.570862 -0.138844 -0.994112   \n",
              "\n",
              "         95        96        97        98        99  class  \n",
              "0 -1.247810 -0.380742  0.439964 -0.922429  0.744784      8  \n",
              "1  0.736623  0.101293  0.568477  0.358596  0.272354      4  \n",
              "2  0.195032 -1.067464  0.141507 -0.181663 -0.193661      8  \n",
              "3 -1.247855  0.662269 -0.096713 -0.239922  0.811489      8  \n",
              "4  0.336825 -0.717504 -0.661034  1.895639 -2.432443     15  \n",
              "\n",
              "[5 rows x 101 columns]"
            ],
            "text/html": [
              "\n",
              "  <div id=\"df-6ba8b201-acf1-476c-aa71-6dada584f460\">\n",
              "    <div class=\"colab-df-container\">\n",
              "      <div>\n",
              "<style scoped>\n",
              "    .dataframe tbody tr th:only-of-type {\n",
              "        vertical-align: middle;\n",
              "    }\n",
              "\n",
              "    .dataframe tbody tr th {\n",
              "        vertical-align: top;\n",
              "    }\n",
              "\n",
              "    .dataframe thead th {\n",
              "        text-align: right;\n",
              "    }\n",
              "</style>\n",
              "<table border=\"1\" class=\"dataframe\">\n",
              "  <thead>\n",
              "    <tr style=\"text-align: right;\">\n",
              "      <th></th>\n",
              "      <th>0</th>\n",
              "      <th>1</th>\n",
              "      <th>2</th>\n",
              "      <th>3</th>\n",
              "      <th>4</th>\n",
              "      <th>5</th>\n",
              "      <th>6</th>\n",
              "      <th>7</th>\n",
              "      <th>8</th>\n",
              "      <th>9</th>\n",
              "      <th>...</th>\n",
              "      <th>91</th>\n",
              "      <th>92</th>\n",
              "      <th>93</th>\n",
              "      <th>94</th>\n",
              "      <th>95</th>\n",
              "      <th>96</th>\n",
              "      <th>97</th>\n",
              "      <th>98</th>\n",
              "      <th>99</th>\n",
              "      <th>class</th>\n",
              "    </tr>\n",
              "  </thead>\n",
              "  <tbody>\n",
              "    <tr>\n",
              "      <th>0</th>\n",
              "      <td>109.356285</td>\n",
              "      <td>-3.833646</td>\n",
              "      <td>1.947854</td>\n",
              "      <td>-3.292883</td>\n",
              "      <td>-3.311949</td>\n",
              "      <td>-3.826015</td>\n",
              "      <td>2.099040</td>\n",
              "      <td>0.767798</td>\n",
              "      <td>2.387406</td>\n",
              "      <td>1.107896</td>\n",
              "      <td>...</td>\n",
              "      <td>0.009353</td>\n",
              "      <td>1.469527</td>\n",
              "      <td>-0.574874</td>\n",
              "      <td>-0.819050</td>\n",
              "      <td>-1.247810</td>\n",
              "      <td>-0.380742</td>\n",
              "      <td>0.439964</td>\n",
              "      <td>-0.922429</td>\n",
              "      <td>0.744784</td>\n",
              "      <td>8</td>\n",
              "    </tr>\n",
              "    <tr>\n",
              "      <th>1</th>\n",
              "      <td>95.190033</td>\n",
              "      <td>3.552568</td>\n",
              "      <td>-1.110898</td>\n",
              "      <td>1.178499</td>\n",
              "      <td>-3.149377</td>\n",
              "      <td>2.008976</td>\n",
              "      <td>0.319801</td>\n",
              "      <td>2.897786</td>\n",
              "      <td>1.612790</td>\n",
              "      <td>0.802957</td>\n",
              "      <td>...</td>\n",
              "      <td>0.307865</td>\n",
              "      <td>-0.397985</td>\n",
              "      <td>-0.630404</td>\n",
              "      <td>-0.072420</td>\n",
              "      <td>0.736623</td>\n",
              "      <td>0.101293</td>\n",
              "      <td>0.568477</td>\n",
              "      <td>0.358596</td>\n",
              "      <td>0.272354</td>\n",
              "      <td>4</td>\n",
              "    </tr>\n",
              "    <tr>\n",
              "      <th>2</th>\n",
              "      <td>91.898407</td>\n",
              "      <td>4.611051</td>\n",
              "      <td>-9.922841</td>\n",
              "      <td>-3.976764</td>\n",
              "      <td>2.506440</td>\n",
              "      <td>-3.109526</td>\n",
              "      <td>0.744523</td>\n",
              "      <td>-2.573282</td>\n",
              "      <td>-0.899285</td>\n",
              "      <td>-0.975165</td>\n",
              "      <td>...</td>\n",
              "      <td>0.173358</td>\n",
              "      <td>0.051491</td>\n",
              "      <td>0.699263</td>\n",
              "      <td>0.703107</td>\n",
              "      <td>0.195032</td>\n",
              "      <td>-1.067464</td>\n",
              "      <td>0.141507</td>\n",
              "      <td>-0.181663</td>\n",
              "      <td>-0.193661</td>\n",
              "      <td>8</td>\n",
              "    </tr>\n",
              "    <tr>\n",
              "      <th>3</th>\n",
              "      <td>130.014771</td>\n",
              "      <td>-0.600953</td>\n",
              "      <td>10.946375</td>\n",
              "      <td>-12.460989</td>\n",
              "      <td>7.522354</td>\n",
              "      <td>-5.938076</td>\n",
              "      <td>-4.659488</td>\n",
              "      <td>4.595666</td>\n",
              "      <td>-1.887816</td>\n",
              "      <td>1.056845</td>\n",
              "      <td>...</td>\n",
              "      <td>1.773097</td>\n",
              "      <td>-0.730816</td>\n",
              "      <td>0.430094</td>\n",
              "      <td>1.107836</td>\n",
              "      <td>-1.247855</td>\n",
              "      <td>0.662269</td>\n",
              "      <td>-0.096713</td>\n",
              "      <td>-0.239922</td>\n",
              "      <td>0.811489</td>\n",
              "      <td>8</td>\n",
              "    </tr>\n",
              "    <tr>\n",
              "      <th>4</th>\n",
              "      <td>159.222198</td>\n",
              "      <td>15.575222</td>\n",
              "      <td>-13.679247</td>\n",
              "      <td>8.938797</td>\n",
              "      <td>5.937868</td>\n",
              "      <td>9.212132</td>\n",
              "      <td>-7.184511</td>\n",
              "      <td>-0.538958</td>\n",
              "      <td>1.536754</td>\n",
              "      <td>4.107922</td>\n",
              "      <td>...</td>\n",
              "      <td>-0.220549</td>\n",
              "      <td>1.570862</td>\n",
              "      <td>-0.138844</td>\n",
              "      <td>-0.994112</td>\n",
              "      <td>0.336825</td>\n",
              "      <td>-0.717504</td>\n",
              "      <td>-0.661034</td>\n",
              "      <td>1.895639</td>\n",
              "      <td>-2.432443</td>\n",
              "      <td>15</td>\n",
              "    </tr>\n",
              "  </tbody>\n",
              "</table>\n",
              "<p>5 rows × 101 columns</p>\n",
              "</div>\n",
              "      <button class=\"colab-df-convert\" onclick=\"convertToInteractive('df-6ba8b201-acf1-476c-aa71-6dada584f460')\"\n",
              "              title=\"Convert this dataframe to an interactive table.\"\n",
              "              style=\"display:none;\">\n",
              "        \n",
              "  <svg xmlns=\"http://www.w3.org/2000/svg\" height=\"24px\"viewBox=\"0 0 24 24\"\n",
              "       width=\"24px\">\n",
              "    <path d=\"M0 0h24v24H0V0z\" fill=\"none\"/>\n",
              "    <path d=\"M18.56 5.44l.94 2.06.94-2.06 2.06-.94-2.06-.94-.94-2.06-.94 2.06-2.06.94zm-11 1L8.5 8.5l.94-2.06 2.06-.94-2.06-.94L8.5 2.5l-.94 2.06-2.06.94zm10 10l.94 2.06.94-2.06 2.06-.94-2.06-.94-.94-2.06-.94 2.06-2.06.94z\"/><path d=\"M17.41 7.96l-1.37-1.37c-.4-.4-.92-.59-1.43-.59-.52 0-1.04.2-1.43.59L10.3 9.45l-7.72 7.72c-.78.78-.78 2.05 0 2.83L4 21.41c.39.39.9.59 1.41.59.51 0 1.02-.2 1.41-.59l7.78-7.78 2.81-2.81c.8-.78.8-2.07 0-2.86zM5.41 20L4 18.59l7.72-7.72 1.47 1.35L5.41 20z\"/>\n",
              "  </svg>\n",
              "      </button>\n",
              "      \n",
              "  <style>\n",
              "    .colab-df-container {\n",
              "      display:flex;\n",
              "      flex-wrap:wrap;\n",
              "      gap: 12px;\n",
              "    }\n",
              "\n",
              "    .colab-df-convert {\n",
              "      background-color: #E8F0FE;\n",
              "      border: none;\n",
              "      border-radius: 50%;\n",
              "      cursor: pointer;\n",
              "      display: none;\n",
              "      fill: #1967D2;\n",
              "      height: 32px;\n",
              "      padding: 0 0 0 0;\n",
              "      width: 32px;\n",
              "    }\n",
              "\n",
              "    .colab-df-convert:hover {\n",
              "      background-color: #E2EBFA;\n",
              "      box-shadow: 0px 1px 2px rgba(60, 64, 67, 0.3), 0px 1px 3px 1px rgba(60, 64, 67, 0.15);\n",
              "      fill: #174EA6;\n",
              "    }\n",
              "\n",
              "    [theme=dark] .colab-df-convert {\n",
              "      background-color: #3B4455;\n",
              "      fill: #D2E3FC;\n",
              "    }\n",
              "\n",
              "    [theme=dark] .colab-df-convert:hover {\n",
              "      background-color: #434B5C;\n",
              "      box-shadow: 0px 1px 3px 1px rgba(0, 0, 0, 0.15);\n",
              "      filter: drop-shadow(0px 1px 2px rgba(0, 0, 0, 0.3));\n",
              "      fill: #FFFFFF;\n",
              "    }\n",
              "  </style>\n",
              "\n",
              "      <script>\n",
              "        const buttonEl =\n",
              "          document.querySelector('#df-6ba8b201-acf1-476c-aa71-6dada584f460 button.colab-df-convert');\n",
              "        buttonEl.style.display =\n",
              "          google.colab.kernel.accessAllowed ? 'block' : 'none';\n",
              "\n",
              "        async function convertToInteractive(key) {\n",
              "          const element = document.querySelector('#df-6ba8b201-acf1-476c-aa71-6dada584f460');\n",
              "          const dataTable =\n",
              "            await google.colab.kernel.invokeFunction('convertToInteractive',\n",
              "                                                     [key], {});\n",
              "          if (!dataTable) return;\n",
              "\n",
              "          const docLinkHtml = 'Like what you see? Visit the ' +\n",
              "            '<a target=\"_blank\" href=https://colab.research.google.com/notebooks/data_table.ipynb>data table notebook</a>'\n",
              "            + ' to learn more about interactive tables.';\n",
              "          element.innerHTML = '';\n",
              "          dataTable['output_type'] = 'display_data';\n",
              "          await google.colab.output.renderOutput(dataTable, element);\n",
              "          const docLink = document.createElement('div');\n",
              "          docLink.innerHTML = docLinkHtml;\n",
              "          element.appendChild(docLink);\n",
              "        }\n",
              "      </script>\n",
              "    </div>\n",
              "  </div>\n",
              "  "
            ]
          },
          "metadata": {},
          "execution_count": 32
        }
      ]
    },
    {
      "cell_type": "markdown",
      "source": [
        "### automl"
      ],
      "metadata": {
        "id": "MepEzoDtxdS4"
      }
    },
    {
      "cell_type": "code",
      "source": [
        "from autogluon.tabular import TabularPredictor\n",
        "predictor = TabularPredictor(label='class', eval_metric='log_loss').fit(df_train)"
      ],
      "metadata": {
        "colab": {
          "base_uri": "https://localhost:8080/"
        },
        "id": "-5U5nyVwFscc",
        "outputId": "37979f98-5b20-4818-a9fc-fc5a53a8cdab"
      },
      "execution_count": 33,
      "outputs": [
        {
          "output_type": "stream",
          "name": "stderr",
          "text": [
            "No path specified. Models will be saved in: \"AutogluonModels/ag-20221213_063533/\"\n",
            "Beginning AutoGluon training ...\n",
            "AutoGluon will save models to \"AutogluonModels/ag-20221213_063533/\"\n",
            "AutoGluon Version:  0.6.1\n",
            "Python Version:     3.8.16\n",
            "Operating System:   Linux\n",
            "Platform Machine:   x86_64\n",
            "Platform Version:   #1 SMP Fri Aug 26 08:44:51 UTC 2022\n",
            "Train Data Rows:    4888\n",
            "Train Data Columns: 100\n",
            "Label Column: class\n",
            "Preprocessing data ...\n",
            "AutoGluon infers your prediction problem is: 'multiclass' (because dtype of label-column == int, but few unique label-values observed).\n",
            "\tFirst 10 (of 18) unique label values:  [8, 4, 15, 2, 5, 14, 6, 0, 7, 11]\n",
            "\tIf 'multiclass' is not the correct problem_type, please manually specify the problem_type parameter during predictor init (You may specify problem_type as one of: ['binary', 'multiclass', 'regression'])\n",
            "Train Data Class Count: 18\n",
            "Using Feature Generators to preprocess the data ...\n",
            "Fitting AutoMLPipelineFeatureGenerator...\n",
            "\tAvailable Memory:                    11264.26 MB\n",
            "\tTrain Data (Original)  Memory Usage: 1.96 MB (0.0% of available memory)\n",
            "\tInferring data type of each feature based on column values. Set feature_metadata_in to manually specify special dtypes of the features.\n",
            "\tStage 1 Generators:\n",
            "\t\tFitting AsTypeFeatureGenerator...\n",
            "\tStage 2 Generators:\n",
            "\t\tFitting FillNaFeatureGenerator...\n",
            "\tStage 3 Generators:\n",
            "\t\tFitting IdentityFeatureGenerator...\n",
            "\tStage 4 Generators:\n",
            "\t\tFitting DropUniqueFeatureGenerator...\n",
            "\tTypes of features in original data (raw dtype, special dtypes):\n",
            "\t\t('float', []) : 100 | ['0', '1', '2', '3', '4', ...]\n",
            "\tTypes of features in processed data (raw dtype, special dtypes):\n",
            "\t\t('float', []) : 100 | ['0', '1', '2', '3', '4', ...]\n",
            "\t0.3s = Fit runtime\n",
            "\t100 features in original data used to generate 100 features in processed data.\n",
            "\tTrain Data (Processed) Memory Usage: 1.96 MB (0.0% of available memory)\n",
            "Data preprocessing and feature engineering runtime = 0.34s ...\n",
            "AutoGluon will gauge predictive performance using evaluation metric: 'log_loss'\n",
            "\tThis metric's sign has been flipped to adhere to being higher_is_better. The metric score can be multiplied by -1 to get the metric value.\n",
            "\tThis metric expects predicted probabilities rather than predicted class labels, so you'll need to use predict_proba() instead of predict()\n",
            "\tTo change this, specify the eval_metric parameter of Predictor()\n",
            "Automatically generating train/validation split with holdout_frac=0.10229132569558101, Train Rows: 4388, Val Rows: 500\n",
            "Fitting 13 L1 models ...\n",
            "Fitting model: KNeighborsUnif ...\n",
            "\t-4.974\t = Validation score   (-log_loss)\n",
            "\t2.96s\t = Training   runtime\n",
            "\t0.18s\t = Validation runtime\n",
            "Fitting model: KNeighborsDist ...\n",
            "\t-4.9499\t = Validation score   (-log_loss)\n",
            "\t0.04s\t = Training   runtime\n",
            "\t0.11s\t = Validation runtime\n",
            "Fitting model: NeuralNetFastAI ...\n",
            "No improvement since epoch 3: early stopping\n",
            "\t-1.9308\t = Validation score   (-log_loss)\n",
            "\t5.78s\t = Training   runtime\n",
            "\t0.04s\t = Validation runtime\n",
            "Fitting model: LightGBMXT ...\n",
            "\t-1.754\t = Validation score   (-log_loss)\n",
            "\t64.92s\t = Training   runtime\n",
            "\t0.04s\t = Validation runtime\n",
            "Fitting model: LightGBM ...\n",
            "\t-1.764\t = Validation score   (-log_loss)\n",
            "\t91.22s\t = Training   runtime\n",
            "\t0.03s\t = Validation runtime\n",
            "Fitting model: RandomForestGini ...\n",
            "\t-1.7894\t = Validation score   (-log_loss)\n",
            "\t12.64s\t = Training   runtime\n",
            "\t0.17s\t = Validation runtime\n",
            "Fitting model: RandomForestEntr ...\n",
            "\t-1.8231\t = Validation score   (-log_loss)\n",
            "\t65.69s\t = Training   runtime\n",
            "\t0.13s\t = Validation runtime\n",
            "Fitting model: CatBoost ...\n",
            "\t-1.6219\t = Validation score   (-log_loss)\n",
            "\t504.91s\t = Training   runtime\n",
            "\t0.01s\t = Validation runtime\n",
            "Fitting model: ExtraTreesGini ...\n",
            "\t-1.9693\t = Validation score   (-log_loss)\n",
            "\t3.22s\t = Training   runtime\n",
            "\t0.13s\t = Validation runtime\n",
            "Fitting model: ExtraTreesEntr ...\n",
            "\t-2.0102\t = Validation score   (-log_loss)\n",
            "\t4.39s\t = Training   runtime\n",
            "\t0.15s\t = Validation runtime\n",
            "Fitting model: XGBoost ...\n",
            "\t-1.6862\t = Validation score   (-log_loss)\n",
            "\t72.86s\t = Training   runtime\n",
            "\t0.05s\t = Validation runtime\n",
            "Fitting model: NeuralNetTorch ...\n",
            "\t-1.8863\t = Validation score   (-log_loss)\n",
            "\t5.93s\t = Training   runtime\n",
            "\t0.02s\t = Validation runtime\n",
            "Fitting model: LightGBMLarge ...\n",
            "\t-1.8349\t = Validation score   (-log_loss)\n",
            "\t249.98s\t = Training   runtime\n",
            "\t0.1s\t = Validation runtime\n",
            "Fitting model: WeightedEnsemble_L2 ...\n",
            "\t-1.5596\t = Validation score   (-log_loss)\n",
            "\t1.95s\t = Training   runtime\n",
            "\t0.0s\t = Validation runtime\n",
            "AutoGluon training complete, total runtime = 1096.96s ... Best model: \"WeightedEnsemble_L2\"\n",
            "TabularPredictor saved. To load, use: predictor = TabularPredictor.load(\"AutogluonModels/ag-20221213_063533/\")\n"
          ]
        }
      ]
    },
    {
      "cell_type": "code",
      "source": [
        "predictor.leaderboard()"
      ],
      "metadata": {
        "colab": {
          "base_uri": "https://localhost:8080/",
          "height": 813
        },
        "id": "f9Cg2d3VKmz6",
        "outputId": "94792109-9486-4f82-b61f-7ac60615100c"
      },
      "execution_count": 34,
      "outputs": [
        {
          "output_type": "stream",
          "name": "stdout",
          "text": [
            "                  model  score_val  pred_time_val    fit_time  pred_time_val_marginal  fit_time_marginal  stack_level  can_infer  fit_order\n",
            "0   WeightedEnsemble_L2  -1.559590       0.232404  591.461384                0.001745           1.947704            2       True         14\n",
            "1              CatBoost  -1.621898       0.014483  504.905191                0.014483         504.905191            1       True          8\n",
            "2               XGBoost  -1.686165       0.048245   72.859671                0.048245          72.859671            1       True         11\n",
            "3            LightGBMXT  -1.754040       0.039574   64.923428                0.039574          64.923428            1       True          4\n",
            "4              LightGBM  -1.763998       0.033591   91.223648                0.033591          91.223648            1       True          5\n",
            "5      RandomForestGini  -1.789424       0.173489   12.642138                0.173489          12.642138            1       True          6\n",
            "6      RandomForestEntr  -1.823082       0.133737   65.691098                0.133737          65.691098            1       True          7\n",
            "7         LightGBMLarge  -1.834919       0.096019  249.975205                0.096019         249.975205            1       True         13\n",
            "8        NeuralNetTorch  -1.886279       0.018213    5.928432                0.018213           5.928432            1       True         12\n",
            "9       NeuralNetFastAI  -1.930751       0.042273    5.778196                0.042273           5.778196            1       True          3\n",
            "10       ExtraTreesGini  -1.969333       0.130088    3.222414                0.130088           3.222414            1       True          9\n",
            "11       ExtraTreesEntr  -2.010170       0.145242    4.390325                0.145242           4.390325            1       True         10\n",
            "12       KNeighborsDist  -4.949932       0.107445    0.042190                0.107445           0.042190            1       True          2\n",
            "13       KNeighborsUnif  -4.973995       0.177401    2.959271                0.177401           2.959271            1       True          1\n"
          ]
        },
        {
          "output_type": "execute_result",
          "data": {
            "text/plain": [
              "                  model  score_val  pred_time_val    fit_time  \\\n",
              "0   WeightedEnsemble_L2  -1.559590       0.232404  591.461384   \n",
              "1              CatBoost  -1.621898       0.014483  504.905191   \n",
              "2               XGBoost  -1.686165       0.048245   72.859671   \n",
              "3            LightGBMXT  -1.754040       0.039574   64.923428   \n",
              "4              LightGBM  -1.763998       0.033591   91.223648   \n",
              "5      RandomForestGini  -1.789424       0.173489   12.642138   \n",
              "6      RandomForestEntr  -1.823082       0.133737   65.691098   \n",
              "7         LightGBMLarge  -1.834919       0.096019  249.975205   \n",
              "8        NeuralNetTorch  -1.886279       0.018213    5.928432   \n",
              "9       NeuralNetFastAI  -1.930751       0.042273    5.778196   \n",
              "10       ExtraTreesGini  -1.969333       0.130088    3.222414   \n",
              "11       ExtraTreesEntr  -2.010170       0.145242    4.390325   \n",
              "12       KNeighborsDist  -4.949932       0.107445    0.042190   \n",
              "13       KNeighborsUnif  -4.973995       0.177401    2.959271   \n",
              "\n",
              "    pred_time_val_marginal  fit_time_marginal  stack_level  can_infer  \\\n",
              "0                 0.001745           1.947704            2       True   \n",
              "1                 0.014483         504.905191            1       True   \n",
              "2                 0.048245          72.859671            1       True   \n",
              "3                 0.039574          64.923428            1       True   \n",
              "4                 0.033591          91.223648            1       True   \n",
              "5                 0.173489          12.642138            1       True   \n",
              "6                 0.133737          65.691098            1       True   \n",
              "7                 0.096019         249.975205            1       True   \n",
              "8                 0.018213           5.928432            1       True   \n",
              "9                 0.042273           5.778196            1       True   \n",
              "10                0.130088           3.222414            1       True   \n",
              "11                0.145242           4.390325            1       True   \n",
              "12                0.107445           0.042190            1       True   \n",
              "13                0.177401           2.959271            1       True   \n",
              "\n",
              "    fit_order  \n",
              "0          14  \n",
              "1           8  \n",
              "2          11  \n",
              "3           4  \n",
              "4           5  \n",
              "5           6  \n",
              "6           7  \n",
              "7          13  \n",
              "8          12  \n",
              "9           3  \n",
              "10          9  \n",
              "11         10  \n",
              "12          2  \n",
              "13          1  "
            ],
            "text/html": [
              "\n",
              "  <div id=\"df-7c3ffc5a-c05e-44e7-936a-b167592932a9\">\n",
              "    <div class=\"colab-df-container\">\n",
              "      <div>\n",
              "<style scoped>\n",
              "    .dataframe tbody tr th:only-of-type {\n",
              "        vertical-align: middle;\n",
              "    }\n",
              "\n",
              "    .dataframe tbody tr th {\n",
              "        vertical-align: top;\n",
              "    }\n",
              "\n",
              "    .dataframe thead th {\n",
              "        text-align: right;\n",
              "    }\n",
              "</style>\n",
              "<table border=\"1\" class=\"dataframe\">\n",
              "  <thead>\n",
              "    <tr style=\"text-align: right;\">\n",
              "      <th></th>\n",
              "      <th>model</th>\n",
              "      <th>score_val</th>\n",
              "      <th>pred_time_val</th>\n",
              "      <th>fit_time</th>\n",
              "      <th>pred_time_val_marginal</th>\n",
              "      <th>fit_time_marginal</th>\n",
              "      <th>stack_level</th>\n",
              "      <th>can_infer</th>\n",
              "      <th>fit_order</th>\n",
              "    </tr>\n",
              "  </thead>\n",
              "  <tbody>\n",
              "    <tr>\n",
              "      <th>0</th>\n",
              "      <td>WeightedEnsemble_L2</td>\n",
              "      <td>-1.559590</td>\n",
              "      <td>0.232404</td>\n",
              "      <td>591.461384</td>\n",
              "      <td>0.001745</td>\n",
              "      <td>1.947704</td>\n",
              "      <td>2</td>\n",
              "      <td>True</td>\n",
              "      <td>14</td>\n",
              "    </tr>\n",
              "    <tr>\n",
              "      <th>1</th>\n",
              "      <td>CatBoost</td>\n",
              "      <td>-1.621898</td>\n",
              "      <td>0.014483</td>\n",
              "      <td>504.905191</td>\n",
              "      <td>0.014483</td>\n",
              "      <td>504.905191</td>\n",
              "      <td>1</td>\n",
              "      <td>True</td>\n",
              "      <td>8</td>\n",
              "    </tr>\n",
              "    <tr>\n",
              "      <th>2</th>\n",
              "      <td>XGBoost</td>\n",
              "      <td>-1.686165</td>\n",
              "      <td>0.048245</td>\n",
              "      <td>72.859671</td>\n",
              "      <td>0.048245</td>\n",
              "      <td>72.859671</td>\n",
              "      <td>1</td>\n",
              "      <td>True</td>\n",
              "      <td>11</td>\n",
              "    </tr>\n",
              "    <tr>\n",
              "      <th>3</th>\n",
              "      <td>LightGBMXT</td>\n",
              "      <td>-1.754040</td>\n",
              "      <td>0.039574</td>\n",
              "      <td>64.923428</td>\n",
              "      <td>0.039574</td>\n",
              "      <td>64.923428</td>\n",
              "      <td>1</td>\n",
              "      <td>True</td>\n",
              "      <td>4</td>\n",
              "    </tr>\n",
              "    <tr>\n",
              "      <th>4</th>\n",
              "      <td>LightGBM</td>\n",
              "      <td>-1.763998</td>\n",
              "      <td>0.033591</td>\n",
              "      <td>91.223648</td>\n",
              "      <td>0.033591</td>\n",
              "      <td>91.223648</td>\n",
              "      <td>1</td>\n",
              "      <td>True</td>\n",
              "      <td>5</td>\n",
              "    </tr>\n",
              "    <tr>\n",
              "      <th>5</th>\n",
              "      <td>RandomForestGini</td>\n",
              "      <td>-1.789424</td>\n",
              "      <td>0.173489</td>\n",
              "      <td>12.642138</td>\n",
              "      <td>0.173489</td>\n",
              "      <td>12.642138</td>\n",
              "      <td>1</td>\n",
              "      <td>True</td>\n",
              "      <td>6</td>\n",
              "    </tr>\n",
              "    <tr>\n",
              "      <th>6</th>\n",
              "      <td>RandomForestEntr</td>\n",
              "      <td>-1.823082</td>\n",
              "      <td>0.133737</td>\n",
              "      <td>65.691098</td>\n",
              "      <td>0.133737</td>\n",
              "      <td>65.691098</td>\n",
              "      <td>1</td>\n",
              "      <td>True</td>\n",
              "      <td>7</td>\n",
              "    </tr>\n",
              "    <tr>\n",
              "      <th>7</th>\n",
              "      <td>LightGBMLarge</td>\n",
              "      <td>-1.834919</td>\n",
              "      <td>0.096019</td>\n",
              "      <td>249.975205</td>\n",
              "      <td>0.096019</td>\n",
              "      <td>249.975205</td>\n",
              "      <td>1</td>\n",
              "      <td>True</td>\n",
              "      <td>13</td>\n",
              "    </tr>\n",
              "    <tr>\n",
              "      <th>8</th>\n",
              "      <td>NeuralNetTorch</td>\n",
              "      <td>-1.886279</td>\n",
              "      <td>0.018213</td>\n",
              "      <td>5.928432</td>\n",
              "      <td>0.018213</td>\n",
              "      <td>5.928432</td>\n",
              "      <td>1</td>\n",
              "      <td>True</td>\n",
              "      <td>12</td>\n",
              "    </tr>\n",
              "    <tr>\n",
              "      <th>9</th>\n",
              "      <td>NeuralNetFastAI</td>\n",
              "      <td>-1.930751</td>\n",
              "      <td>0.042273</td>\n",
              "      <td>5.778196</td>\n",
              "      <td>0.042273</td>\n",
              "      <td>5.778196</td>\n",
              "      <td>1</td>\n",
              "      <td>True</td>\n",
              "      <td>3</td>\n",
              "    </tr>\n",
              "    <tr>\n",
              "      <th>10</th>\n",
              "      <td>ExtraTreesGini</td>\n",
              "      <td>-1.969333</td>\n",
              "      <td>0.130088</td>\n",
              "      <td>3.222414</td>\n",
              "      <td>0.130088</td>\n",
              "      <td>3.222414</td>\n",
              "      <td>1</td>\n",
              "      <td>True</td>\n",
              "      <td>9</td>\n",
              "    </tr>\n",
              "    <tr>\n",
              "      <th>11</th>\n",
              "      <td>ExtraTreesEntr</td>\n",
              "      <td>-2.010170</td>\n",
              "      <td>0.145242</td>\n",
              "      <td>4.390325</td>\n",
              "      <td>0.145242</td>\n",
              "      <td>4.390325</td>\n",
              "      <td>1</td>\n",
              "      <td>True</td>\n",
              "      <td>10</td>\n",
              "    </tr>\n",
              "    <tr>\n",
              "      <th>12</th>\n",
              "      <td>KNeighborsDist</td>\n",
              "      <td>-4.949932</td>\n",
              "      <td>0.107445</td>\n",
              "      <td>0.042190</td>\n",
              "      <td>0.107445</td>\n",
              "      <td>0.042190</td>\n",
              "      <td>1</td>\n",
              "      <td>True</td>\n",
              "      <td>2</td>\n",
              "    </tr>\n",
              "    <tr>\n",
              "      <th>13</th>\n",
              "      <td>KNeighborsUnif</td>\n",
              "      <td>-4.973995</td>\n",
              "      <td>0.177401</td>\n",
              "      <td>2.959271</td>\n",
              "      <td>0.177401</td>\n",
              "      <td>2.959271</td>\n",
              "      <td>1</td>\n",
              "      <td>True</td>\n",
              "      <td>1</td>\n",
              "    </tr>\n",
              "  </tbody>\n",
              "</table>\n",
              "</div>\n",
              "      <button class=\"colab-df-convert\" onclick=\"convertToInteractive('df-7c3ffc5a-c05e-44e7-936a-b167592932a9')\"\n",
              "              title=\"Convert this dataframe to an interactive table.\"\n",
              "              style=\"display:none;\">\n",
              "        \n",
              "  <svg xmlns=\"http://www.w3.org/2000/svg\" height=\"24px\"viewBox=\"0 0 24 24\"\n",
              "       width=\"24px\">\n",
              "    <path d=\"M0 0h24v24H0V0z\" fill=\"none\"/>\n",
              "    <path d=\"M18.56 5.44l.94 2.06.94-2.06 2.06-.94-2.06-.94-.94-2.06-.94 2.06-2.06.94zm-11 1L8.5 8.5l.94-2.06 2.06-.94-2.06-.94L8.5 2.5l-.94 2.06-2.06.94zm10 10l.94 2.06.94-2.06 2.06-.94-2.06-.94-.94-2.06-.94 2.06-2.06.94z\"/><path d=\"M17.41 7.96l-1.37-1.37c-.4-.4-.92-.59-1.43-.59-.52 0-1.04.2-1.43.59L10.3 9.45l-7.72 7.72c-.78.78-.78 2.05 0 2.83L4 21.41c.39.39.9.59 1.41.59.51 0 1.02-.2 1.41-.59l7.78-7.78 2.81-2.81c.8-.78.8-2.07 0-2.86zM5.41 20L4 18.59l7.72-7.72 1.47 1.35L5.41 20z\"/>\n",
              "  </svg>\n",
              "      </button>\n",
              "      \n",
              "  <style>\n",
              "    .colab-df-container {\n",
              "      display:flex;\n",
              "      flex-wrap:wrap;\n",
              "      gap: 12px;\n",
              "    }\n",
              "\n",
              "    .colab-df-convert {\n",
              "      background-color: #E8F0FE;\n",
              "      border: none;\n",
              "      border-radius: 50%;\n",
              "      cursor: pointer;\n",
              "      display: none;\n",
              "      fill: #1967D2;\n",
              "      height: 32px;\n",
              "      padding: 0 0 0 0;\n",
              "      width: 32px;\n",
              "    }\n",
              "\n",
              "    .colab-df-convert:hover {\n",
              "      background-color: #E2EBFA;\n",
              "      box-shadow: 0px 1px 2px rgba(60, 64, 67, 0.3), 0px 1px 3px 1px rgba(60, 64, 67, 0.15);\n",
              "      fill: #174EA6;\n",
              "    }\n",
              "\n",
              "    [theme=dark] .colab-df-convert {\n",
              "      background-color: #3B4455;\n",
              "      fill: #D2E3FC;\n",
              "    }\n",
              "\n",
              "    [theme=dark] .colab-df-convert:hover {\n",
              "      background-color: #434B5C;\n",
              "      box-shadow: 0px 1px 3px 1px rgba(0, 0, 0, 0.15);\n",
              "      filter: drop-shadow(0px 1px 2px rgba(0, 0, 0, 0.3));\n",
              "      fill: #FFFFFF;\n",
              "    }\n",
              "  </style>\n",
              "\n",
              "      <script>\n",
              "        const buttonEl =\n",
              "          document.querySelector('#df-7c3ffc5a-c05e-44e7-936a-b167592932a9 button.colab-df-convert');\n",
              "        buttonEl.style.display =\n",
              "          google.colab.kernel.accessAllowed ? 'block' : 'none';\n",
              "\n",
              "        async function convertToInteractive(key) {\n",
              "          const element = document.querySelector('#df-7c3ffc5a-c05e-44e7-936a-b167592932a9');\n",
              "          const dataTable =\n",
              "            await google.colab.kernel.invokeFunction('convertToInteractive',\n",
              "                                                     [key], {});\n",
              "          if (!dataTable) return;\n",
              "\n",
              "          const docLinkHtml = 'Like what you see? Visit the ' +\n",
              "            '<a target=\"_blank\" href=https://colab.research.google.com/notebooks/data_table.ipynb>data table notebook</a>'\n",
              "            + ' to learn more about interactive tables.';\n",
              "          element.innerHTML = '';\n",
              "          dataTable['output_type'] = 'display_data';\n",
              "          await google.colab.output.renderOutput(dataTable, element);\n",
              "          const docLink = document.createElement('div');\n",
              "          docLink.innerHTML = docLinkHtml;\n",
              "          element.appendChild(docLink);\n",
              "        }\n",
              "      </script>\n",
              "    </div>\n",
              "  </div>\n",
              "  "
            ]
          },
          "metadata": {},
          "execution_count": 34
        }
      ]
    },
    {
      "cell_type": "code",
      "source": [
        "predictor.refit_full(model='best', set_best_to_refit_full=True)"
      ],
      "metadata": {
        "colab": {
          "base_uri": "https://localhost:8080/"
        },
        "id": "1bL1LwdVhiNM",
        "outputId": "6acf6d8b-6300-41f6-a701-127b4abcf29f"
      },
      "execution_count": 35,
      "outputs": [
        {
          "output_type": "stream",
          "name": "stderr",
          "text": [
            "Fitting 1 L1 models ...\n",
            "Fitting model: KNeighborsDist_FULL ...\n",
            "\t0.04s\t = Training   runtime\n",
            "Fitting 1 L1 models ...\n",
            "Fitting model: NeuralNetFastAI_FULL ...\n",
            "\tStopping at the best epoch learned earlier - 3.\n",
            "\t1.07s\t = Training   runtime\n",
            "Fitting 1 L1 models ...\n",
            "Fitting model: CatBoost_FULL ...\n",
            "\t399.14s\t = Training   runtime\n",
            "Fitting 1 L1 models ...\n",
            "Fitting model: XGBoost_FULL ...\n",
            "\t25.03s\t = Training   runtime\n",
            "Fitting 1 L1 models ...\n",
            "Fitting model: NeuralNetTorch_FULL ...\n",
            "\t2.51s\t = Training   runtime\n",
            "Fitting model: WeightedEnsemble_L2_FULL | Skipping fit via cloning parent ...\n",
            "\t1.95s\t = Training   runtime\n",
            "Updated best model to \"WeightedEnsemble_L2_FULL\" (Previously \"WeightedEnsemble_L2\"). AutoGluon will default to using \"WeightedEnsemble_L2_FULL\" for predict() and predict_proba().\n"
          ]
        },
        {
          "output_type": "execute_result",
          "data": {
            "text/plain": [
              "{'KNeighborsDist': 'KNeighborsDist_FULL',\n",
              " 'NeuralNetFastAI': 'NeuralNetFastAI_FULL',\n",
              " 'CatBoost': 'CatBoost_FULL',\n",
              " 'XGBoost': 'XGBoost_FULL',\n",
              " 'NeuralNetTorch': 'NeuralNetTorch_FULL',\n",
              " 'WeightedEnsemble_L2': 'WeightedEnsemble_L2_FULL'}"
            ]
          },
          "metadata": {},
          "execution_count": 35
        }
      ]
    },
    {
      "cell_type": "code",
      "source": [
        "predict_proba = predictor.predict_proba(df_test)"
      ],
      "metadata": {
        "id": "HHLm0ATxfIWR"
      },
      "execution_count": 36,
      "outputs": []
    },
    {
      "cell_type": "code",
      "source": [
        "y_pred_proba = predict_proba.to_numpy()"
      ],
      "metadata": {
        "id": "9WddGqXhfWv8"
      },
      "execution_count": 37,
      "outputs": []
    },
    {
      "cell_type": "markdown",
      "source": [
        "### write"
      ],
      "metadata": {
        "id": "QNtPGyhMxVTE"
      }
    },
    {
      "cell_type": "code",
      "source": [
        "with open('proteinBert_finetuning_log_loss_refit_full.csv', 'w') as csvfile:\n",
        "    writer = csv.writer(csvfile, delimiter=',')\n",
        "    lst = list()\n",
        "    for i in range(18):\n",
        "        lst.append('class'+str(i))\n",
        "    lst.insert(0, \"name\")\n",
        "    writer.writerow(lst)\n",
        "    for i, protein in enumerate(proteins_test):\n",
        "        lst = y_pred_proba[i,:].tolist()\n",
        "        lst.insert(0, protein)\n",
        "        writer.writerow(lst)"
      ],
      "metadata": {
        "id": "3WdGFcYBgpOK"
      },
      "execution_count": 17,
      "outputs": []
    },
    {
      "cell_type": "code",
      "source": [],
      "metadata": {
        "id": "Y7GDvr6iRkaF"
      },
      "execution_count": null,
      "outputs": []
    }
  ]
}