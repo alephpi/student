{
 "cells": [
  {
   "cell_type": "code",
   "execution_count": 1,
   "metadata": {},
   "outputs": [],
   "source": [
    "import torch\n",
    "from torch_geometric.data import Data"
   ]
  },
  {
   "cell_type": "code",
   "execution_count": 2,
   "metadata": {},
   "outputs": [],
   "source": [
    "edge_index = torch.tensor([[0, 1],\n",
    "                           [1, 0],\n",
    "                           [1, 2],\n",
    "                           [2, 1]], dtype=torch.long)\n",
    "x = torch.tensor([[-1], [0], [1]], dtype=torch.float)\n",
    "\n",
    "data = Data(x=x, edge_index=edge_index.t().contiguous())"
   ]
  },
  {
   "cell_type": "code",
   "execution_count": 11,
   "metadata": {},
   "outputs": [],
   "source": [
    "import numpy as np\n",
    "import scipy.sparse as sp\n",
    "from tqdm import tqdm\n",
    "\n",
    "def load_data(dir_name): \n",
    "\t\"\"\"\n",
    "\tFunction that loads graphs\n",
    "\t\"\"\"  \n",
    "\tprint('load graph indicator')\n",
    "\tgraph_indicator = np.loadtxt(dir_name+\"graph_indicator.txt\", dtype=np.int64)\n",
    "\t_,graph_size = np.unique(graph_indicator, return_counts=True)\n",
    "\n",
    "\tprint('load edges')\n",
    "\tedges = np.loadtxt(dir_name+\"edgelist.txt\", dtype=np.int64, delimiter=\",\")\n",
    "\tA = sp.csr_matrix((np.ones(edges.shape[0]), (edges[:,0], edges[:,1])), shape=(graph_indicator.size, graph_indicator.size))\n",
    "\tA += A.T\n",
    "\n",
    "\tprint('load nodes')\n",
    "\tx = np.loadtxt(dir_name+\"node_attributes.txt\", delimiter=\",\")\n",
    "\tprint('load edge attributes')\n",
    "\tedge_attr = np.loadtxt(dir_name+\"edge_attributes.txt\", delimiter=\",\")\n",
    "\n",
    "\t# adj = []\n",
    "\t# features = []\n",
    "\t# edge_features = []\n",
    "\tidx_n = 0\n",
    "\tidx_m = 0\n",
    "\tdatasets = []\n",
    "\n",
    "\tprint('build graphs')\n",
    "\tfor i in tqdm(range(graph_size.size)):\n",
    "\t\tnode_feature = torch.tensor(x[idx_n:idx_n+graph_size[i],:], dtype=torch.float64)\n",
    "\t\tadj = A[idx_n:idx_n+graph_size[i],idx_n:idx_n+graph_size[i]]\n",
    "\t\tedge_index = torch.tensor(np.vstack((adj.tocoo().row,adj.tocoo().col)), dtype=torch.long)\n",
    "\t\tedge_feature = edge_attr[idx_m:idx_m+adj.nnz,:]\n",
    "\t\tdata = Data(x=node_feature, edge_index=edge_index, edge_attr=edge_feature)\n",
    "\t\tif data.validate():\n",
    "\t\t\tdatasets.append(data)\n",
    "\t\telse:\n",
    "\t\t\tprint(i,data)\n",
    "\t\t\tbreak\n",
    "\t\t# adj.append(A[idx_n:idx_n+graph_size[i],idx_n:idx_n+graph_size[i]])\n",
    "\t\t# edge_features.append(edge_attr[idx_m:idx_m+adj[i].nnz,:])\n",
    "\t\t# features.append(x[idx_n:idx_n+graph_size[i],:])\n",
    "\t\tidx_n += graph_size[i]\n",
    "\t\tidx_m += adj.nnz\n",
    "\n",
    "\treturn datasets"
   ]
  },
  {
   "cell_type": "code",
   "execution_count": 12,
   "metadata": {},
   "outputs": [
    {
     "name": "stdout",
     "output_type": "stream",
     "text": [
      "load graph indicator\n",
      "load edges\n",
      "load nodes\n",
      "load edge attributes\n",
      "build graphs\n"
     ]
    },
    {
     "name": "stderr",
     "output_type": "stream",
     "text": [
      "100%|██████████| 6111/6111 [00:08<00:00, 755.97it/s]\n"
     ]
    }
   ],
   "source": [
    "datasets = load_data('./data/raw/')"
   ]
  },
  {
   "cell_type": "code",
   "execution_count": 13,
   "metadata": {},
   "outputs": [
    {
     "data": {
      "text/plain": [
       "6111"
      ]
     },
     "execution_count": 13,
     "metadata": {},
     "output_type": "execute_result"
    }
   ],
   "source": [
    "len(datasets)"
   ]
  },
  {
   "cell_type": "code",
   "execution_count": 14,
   "metadata": {},
   "outputs": [
    {
     "data": {
      "text/plain": [
       "Data(x=[327, 86], edge_index=[2, 6233], edge_attr=[6233, 5])"
      ]
     },
     "execution_count": 14,
     "metadata": {},
     "output_type": "execute_result"
    }
   ],
   "source": [
    "datasets[0]"
   ]
  },
  {
   "cell_type": "code",
   "execution_count": 17,
   "metadata": {},
   "outputs": [],
   "source": [
    "import os.path as osp\n",
    "dir_name = './data/'"
   ]
  },
  {
   "cell_type": "code",
   "execution_count": 18,
   "metadata": {},
   "outputs": [],
   "source": [
    "for idx, data in enumerate(datasets):\n",
    "\ttorch.save(data, osp.join(dir_name, f'data_{idx}.pt'))"
   ]
  },
  {
   "cell_type": "code",
   "execution_count": null,
   "metadata": {},
   "outputs": [],
   "source": []
  }
 ],
 "metadata": {
  "kernelspec": {
   "display_name": "base",
   "language": "python",
   "name": "python3"
  },
  "language_info": {
   "codemirror_mode": {
    "name": "ipython",
    "version": 3
   },
   "file_extension": ".py",
   "mimetype": "text/x-python",
   "name": "python",
   "nbconvert_exporter": "python",
   "pygments_lexer": "ipython3",
   "version": "3.9.12"
  },
  "orig_nbformat": 4,
  "vscode": {
   "interpreter": {
    "hash": "5179d32cf6ec497baf3f8a3ef987cc77c5d2dc691fdde20a56316522f61a7323"
   }
  }
 },
 "nbformat": 4,
 "nbformat_minor": 2
}
