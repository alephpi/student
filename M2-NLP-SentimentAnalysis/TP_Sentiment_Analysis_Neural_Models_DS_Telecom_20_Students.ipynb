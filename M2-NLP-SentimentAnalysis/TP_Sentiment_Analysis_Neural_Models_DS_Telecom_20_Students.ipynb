{
  "cells": [
    {
      "cell_type": "markdown",
      "metadata": {
        "id": "JfkpXKBIthcS"
      },
      "source": [
        "# Text classification with Pytorch\n",
        "\n",
        "The goal of this TP is double: an introduction to using Pytorch for treating textual data, and implementing neural classification models that we can apply to IMDB data - and then compare to models implemented in the previous TPs. "
      ]
    },
    {
      "cell_type": "code",
      "execution_count": 1,
      "metadata": {
        "id": "FH7c_eMyte-D"
      },
      "outputs": [],
      "source": [
        "import torch\n",
        "import torch.nn as nn"
      ]
    },
    {
      "cell_type": "markdown",
      "metadata": {
        "id": "TG1Tv5TLtpjP"
      },
      "source": [
        "## 1 - A (very small) introduction to pytorch\n",
        "\n",
        "Pytorch Tensors are very similar to Numpy arrays, with the added benefit of being usable on GPU. For a short tutorial on various methods to create tensors of particular types, see [this link](https://pytorch.org/tutorials/beginner/blitz/tensor_tutorial.html#sphx-glr-beginner-blitz-tensor-tutorial-py).\n",
        "The important things to note are that Tensors can be created empty, from lists, and it is very easy to convert a numpy array into a pytorch tensor, and inversely."
      ]
    },
    {
      "cell_type": "code",
      "execution_count": null,
      "metadata": {
        "colab": {
          "base_uri": "https://localhost:8080/"
        },
        "id": "Mb3h3-OEtuHz",
        "outputId": "222235f7-1c97-4fe9-a8e2-446c84860ce2"
      },
      "outputs": [
        {
          "output_type": "stream",
          "name": "stdout",
          "text": [
            "tensor([          103836736,                  27,          4294967295,\n",
            "        4908972153413002606, 7214836307739637349])\n",
            "tensor([5])\n"
          ]
        }
      ],
      "source": [
        "a = torch.LongTensor(5)\n",
        "b = torch.LongTensor([5])\n",
        "\n",
        "print(a)\n",
        "print(b)"
      ]
    },
    {
      "cell_type": "code",
      "execution_count": null,
      "metadata": {
        "colab": {
          "base_uri": "https://localhost:8080/"
        },
        "id": "EohavgcYtv6f",
        "outputId": "2fb9e292-0f25-4e7e-d7a8-d065ff880fc2"
      },
      "outputs": [
        {
          "output_type": "stream",
          "name": "stdout",
          "text": [
            "tensor([5.])\n"
          ]
        }
      ],
      "source": [
        "a = torch.FloatTensor([2])\n",
        "b = torch.FloatTensor([3])\n",
        "\n",
        "print(a + b)"
      ]
    },
    {
      "cell_type": "markdown",
      "metadata": {
        "id": "AJ7gaHMpt0fV"
      },
      "source": [
        "The main interest in us using Pytorch is the ```autograd``` package. ```torch.Tensor```objects have an attribute ```.requires_grad```; if set as True, it starts to track all operations on it. When you finish your computation, can call ```.backward()``` and all the gradients are computed automatically (and stored in the ```.grad``` attribute).\n",
        "\n",
        "One way to easily cut a tensor from the computational once it is not needed anymore is to use ```.detach()```.\n",
        "More info on automatic differentiation in pytorch on [this link](https://pytorch.org/tutorials/beginner/blitz/autograd_tutorial.html#sphx-glr-beginner-blitz-autograd-tutorial-py).\n"
      ]
    },
    {
      "cell_type": "code",
      "execution_count": null,
      "metadata": {
        "colab": {
          "base_uri": "https://localhost:8080/"
        },
        "id": "DGHcybvEty-E",
        "outputId": "3765ff9c-309d-4295-84d6-9fdfd325a573"
      },
      "outputs": [
        {
          "output_type": "stream",
          "name": "stdout",
          "text": [
            "tensor(2.)\n",
            "tensor(1.)\n",
            "tensor(1.)\n"
          ]
        }
      ],
      "source": [
        "x = torch.tensor(1., requires_grad=True)\n",
        "w = torch.tensor(2., requires_grad=True)\n",
        "b = torch.tensor(3., requires_grad=True)\n",
        "\n",
        "# Build a computational graph.\n",
        "y = w * x + b    # y = 2 * x + 3\n",
        "\n",
        "# Compute gradients.\n",
        "y.backward()\n",
        "\n",
        "# Print out the gradients.\n",
        "print(x.grad)    # x.grad = 2 \n",
        "print(w.grad)    # w.grad = 1 \n",
        "print(b.grad)    # b.grad = 1 "
      ]
    },
    {
      "cell_type": "code",
      "execution_count": null,
      "metadata": {
        "colab": {
          "base_uri": "https://localhost:8080/"
        },
        "id": "6b2WNPUetzA-",
        "outputId": "c60e3de2-a8fe-42c6-aa5b-a64577903717"
      },
      "outputs": [
        {
          "output_type": "stream",
          "name": "stdout",
          "text": [
            "weight\n",
            "Parameter containing:\n",
            "tensor([[-0.0719, -0.4977, -0.5126],\n",
            "        [ 0.1109,  0.0859,  0.3049]], requires_grad=True)\n",
            "bias\n",
            "Parameter containing:\n",
            "tensor([-0.3251,  0.1173], requires_grad=True)\n",
            "Initial loss:  1.5052385330200195\n",
            "dL/dw:  tensor([[ 0.1128, -1.0629,  0.2693],\n",
            "        [-0.2046, -0.1202,  0.5515]])\n",
            "dL/db:  tensor([-0.0847,  0.0387])\n"
          ]
        }
      ],
      "source": [
        "x = torch.randn(10, 3)\n",
        "y = torch.randn(10, 2)\n",
        "\n",
        "# Build a fully connected layer.\n",
        "linear = nn.Linear(3, 2)\n",
        "for name, p in linear.named_parameters():\n",
        "    print(name)\n",
        "    print(p)\n",
        "\n",
        "# Build loss function - Mean Square Error\n",
        "criterion = nn.MSELoss()\n",
        "\n",
        "# Forward pass.\n",
        "pred = linear(x)\n",
        "\n",
        "# Compute loss.\n",
        "loss = criterion(pred, y)\n",
        "print('Initial loss: ', loss.item())\n",
        "\n",
        "# Backward pass.\n",
        "loss.backward()\n",
        "\n",
        "# Print out the gradients.\n",
        "print ('dL/dw: ', linear.weight.grad) \n",
        "print ('dL/db: ', linear.bias.grad)"
      ]
    },
    {
      "cell_type": "code",
      "execution_count": null,
      "metadata": {
        "colab": {
          "base_uri": "https://localhost:8080/"
        },
        "id": "aCZynIQFtzD0",
        "outputId": "dc045d80-fbb2-4159-c5cb-5564b611d02a"
      },
      "outputs": [
        {
          "output_type": "stream",
          "name": "stdout",
          "text": [
            "Loss after one update:  1.489516258239746\n"
          ]
        }
      ],
      "source": [
        "# You can perform gradient descent manually, with an in-place update ...\n",
        "linear.weight.data.sub_(0.01 * linear.weight.grad.data)\n",
        "linear.bias.data.sub_(0.01 * linear.bias.grad.data)\n",
        "\n",
        "# Print out the loss after 1-step gradient descent.\n",
        "pred = linear(x)\n",
        "loss = criterion(pred, y)\n",
        "print('Loss after one update: ', loss.item())"
      ]
    },
    {
      "cell_type": "code",
      "execution_count": null,
      "metadata": {
        "colab": {
          "base_uri": "https://localhost:8080/"
        },
        "id": "RXaI-9Z9tzGt",
        "outputId": "7ca10f55-4ee3-48c0-c02d-76eb8f8e40cf"
      },
      "outputs": [
        {
          "output_type": "stream",
          "name": "stdout",
          "text": [
            "Loss after two updates:  1.4742602109909058\n"
          ]
        }
      ],
      "source": [
        "# Use the optim package to define an Optimizer that will update the weights of the model.\n",
        "optimizer = torch.optim.SGD(linear.parameters(), lr=0.01)\n",
        "\n",
        "# By default, gradients are accumulated in buffers( i.e, not overwritten) whenever .backward()\n",
        "# is called. Before the backward pass, we need to use the optimizer object to zero all of the\n",
        "# gradients.\n",
        "optimizer.zero_grad()\n",
        "loss.backward()\n",
        "\n",
        "# Calling the step function on an Optimizer makes an update to its parameters\n",
        "optimizer.step()\n",
        "\n",
        "# Print out the loss after the second step of gradient descent.\n",
        "pred = linear(x)\n",
        "loss = criterion(pred, y)\n",
        "print('Loss after two updates: ', loss.item())"
      ]
    },
    {
      "cell_type": "markdown",
      "metadata": {
        "id": "xjcyC09ct9Nn"
      },
      "source": [
        "## 2 - Tools for data processing \n",
        "\n",
        "```torch.utils.data.Dataset``` is an abstract class representing a dataset. Your custom dataset should inherit ```Dataset``` and override the following methods:\n",
        "- ```__len__``` so that ```len(dataset)``` returns the size of the dataset.\n",
        "- ```__getitem__``` to support the indexing such that ```dataset[i]``` can be used to get the i-th sample\n",
        "\n",
        "Here is a toy example: "
      ]
    },
    {
      "cell_type": "code",
      "execution_count": null,
      "metadata": {
        "id": "OAZi4yvpuAyG"
      },
      "outputs": [],
      "source": [
        "toy_corpus = ['I walked down down the boulevard',\n",
        "              'I walked down the avenue',\n",
        "              'I ran down the boulevard',\n",
        "              'I walk down the city',\n",
        "              'I walk down the the avenue']\n",
        "\n",
        "toy_categories = [0, 0, 1, 0, 0]"
      ]
    },
    {
      "cell_type": "code",
      "execution_count": 2,
      "metadata": {
        "id": "I0s6D6VOuCNc"
      },
      "outputs": [],
      "source": [
        "from torch.utils.data import Dataset, DataLoader\n",
        "\n",
        "class CustomDataset(Dataset):\n",
        "    # A pytorch dataset class for holding data for a text classification task.\n",
        "    def __init__(self, data, categories):\n",
        "        # Upon creating the Dataset object, store the data in an attribute\n",
        "        # Split the text data and labels from each other\n",
        "        self.X, self.Y = [], []\n",
        "        for x, y in zip(data, categories):\n",
        "            # We will propably need to preprocess the data - have it done in a separate method\n",
        "            # We do it here because we might need corpus-wide info to do the preprocessing \n",
        "            # For example, cutting all examples to the same length\n",
        "            self.X.append(self.preprocess(x))\n",
        "            self.Y.append(y)\n",
        "                \n",
        "    # Method allowing you to preprocess data                      \n",
        "    def preprocess(self, text):\n",
        "        text_pp = text.lower().strip()\n",
        "        return text_pp\n",
        "    \n",
        "    # Overriding the method __len__ so that len(CustomDatasetName) returns the number of data samples                     \n",
        "    def __len__(self):\n",
        "        return len(self.Y)\n",
        "   \n",
        "    # Overriding the method __getitem__ so that CustomDatasetName[i] returns the i-th sample of the dataset                      \n",
        "    def __getitem__(self, idx):\n",
        "           return self.X[idx], self.Y[idx]"
      ]
    },
    {
      "cell_type": "code",
      "execution_count": null,
      "metadata": {
        "id": "cmjsfRZPuCQc"
      },
      "outputs": [],
      "source": [
        "toy_dataset = CustomDataset(toy_corpus, toy_categories)"
      ]
    },
    {
      "cell_type": "code",
      "execution_count": null,
      "metadata": {
        "colab": {
          "base_uri": "https://localhost:8080/"
        },
        "id": "pxyTBFp6uGaL",
        "outputId": "eab5b49d-0cee-4fa1-f226-39fa673d2871"
      },
      "outputs": [
        {
          "output_type": "stream",
          "name": "stdout",
          "text": [
            "5\n",
            "('i walked down down the boulevard', 0)\n",
            "('i walked down the avenue', 0)\n",
            "('i ran down the boulevard', 1)\n",
            "('i walk down the city', 0)\n",
            "('i walk down the the avenue', 0)\n"
          ]
        }
      ],
      "source": [
        "print(len(toy_dataset))\n",
        "for i in range(len(toy_dataset)):\n",
        "    print(toy_dataset[i])"
      ]
    },
    {
      "cell_type": "markdown",
      "metadata": {
        "id": "BdtlHKpJuKwY"
      },
      "source": [
        "```torch.utils.data.DataLoader``` is what we call an iterator, which provides very useful features:\n",
        "- Batching the data\n",
        "- Shuffling the data\n",
        "- Load the data in parallel using multiprocessing workers.\n",
        "and can be created very simply from a ```Dataset```. Continuing on our simple example: "
      ]
    },
    {
      "cell_type": "code",
      "execution_count": null,
      "metadata": {
        "id": "WAk7_20auGdJ"
      },
      "outputs": [],
      "source": [
        "toy_dataloader = DataLoader(toy_dataset, batch_size = 2, shuffle = True)"
      ]
    },
    {
      "cell_type": "code",
      "execution_count": null,
      "metadata": {
        "colab": {
          "base_uri": "https://localhost:8080/"
        },
        "id": "oTvn7nmZuGgE",
        "outputId": "83558905-2be6-4627-d8e8-9b2350185f13"
      },
      "outputs": [
        {
          "output_type": "stream",
          "name": "stdout",
          "text": [
            "Epoch:0\n",
            "Batch: ('i walked down the avenue', 'i ran down the boulevard'); labels: tensor([0, 1])\n",
            "Batch: ('i walked down down the boulevard', 'i walk down the city'); labels: tensor([0, 0])\n",
            "Batch: ('i walk down the the avenue',); labels: tensor([0])\n",
            "Epoch:1\n",
            "Batch: ('i walk down the the avenue', 'i walked down down the boulevard'); labels: tensor([0, 0])\n",
            "Batch: ('i walk down the city', 'i ran down the boulevard'); labels: tensor([0, 1])\n",
            "Batch: ('i walked down the avenue',); labels: tensor([0])\n",
            "Epoch:2\n",
            "Batch: ('i walk down the city', 'i walked down the avenue'); labels: tensor([0, 0])\n",
            "Batch: ('i ran down the boulevard', 'i walked down down the boulevard'); labels: tensor([1, 0])\n",
            "Batch: ('i walk down the the avenue',); labels: tensor([0])\n"
          ]
        }
      ],
      "source": [
        "for e in range(3):\n",
        "    print(\"Epoch:\" + str(e))\n",
        "    for x, y in toy_dataloader:\n",
        "        print(\"Batch: \" + str(x) + \"; labels: \" + str(y))  "
      ]
    },
    {
      "cell_type": "markdown",
      "metadata": {
        "id": "7lgbEZpbuQLN"
      },
      "source": [
        "## 3 - Data processing of a text dataset\n",
        "\n",
        "Now, we would like to apply what we saw to our case, and **create a specific class** ```TextClassificationDataset``` **inheriting** ```Dataset``` that will:\n",
        "- Create a vocabulary from the data (use what we saw in the previous TP)\n",
        "- Preprocess the data using this vocabulary, adding whatever we need for our pytorch model\n",
        "- Have a ```__getitem__``` method that allows us to use the class with a ```Dataloader``` to easily build batches."
      ]
    },
    {
      "cell_type": "code",
      "execution_count": 3,
      "metadata": {
        "id": "LXMyhHSfuGl4"
      },
      "outputs": [],
      "source": [
        "import os\n",
        "import sys\n",
        "import os.path as op\n",
        "from torch.nn import functional as F\n",
        "import numpy as np\n",
        "import random\n",
        "\n",
        "from nltk import word_tokenize\n",
        "from torch.nn.utils.rnn import pad_sequence"
      ]
    },
    {
      "cell_type": "markdown",
      "metadata": {
        "id": "brvWrFAHvfzX"
      },
      "source": [
        "First, we get the filenames and the corresponding categories: "
      ]
    },
    {
      "cell_type": "code",
      "execution_count": 4,
      "metadata": {
        "colab": {
          "base_uri": "https://localhost:8080/"
        },
        "id": "WWrPRszpuGoY",
        "outputId": "6a34b793-632e-46a4-dc04-14ba856c998e"
      },
      "outputs": [
        {
          "output_type": "stream",
          "name": "stderr",
          "text": [
            "Downloading...\n",
            "From: http://ai.stanford.edu/~amaas/data/sentiment/aclImdb_v1.tar.gz\n",
            "To: /content/aclImdb_v1.tar.gz\n",
            "100%|██████████| 84.1M/84.1M [00:07<00:00, 11.1MB/s]\n"
          ]
        }
      ],
      "source": [
        "# For those on google colab: you can download the files directly with this:\n",
        "import gdown\n",
        "gdown.download(\"http://ai.stanford.edu/~amaas/data/sentiment/aclImdb_v1.tar.gz\", output=\"aclImdb_v1.tar.gz\", quiet=False)\n",
        "!tar xzf /content/aclImdb_v1.tar.gz"
      ]
    },
    {
      "cell_type": "code",
      "execution_count": 5,
      "metadata": {
        "id": "zWxaPdQjuGrm"
      },
      "outputs": [],
      "source": [
        "from glob import glob\n",
        "# We get the files from the path: ./aclImdb/train/neg for negative reviews, and ./aclImdb/train/pos for positive reviews\n",
        "train_filenames_neg = sorted(glob(op.join('.', 'aclImdb', 'train', 'neg', '*.txt')))\n",
        "train_filenames_pos = sorted(glob(op.join('.', 'aclImdb', 'train', 'pos', '*.txt')))\n",
        "\n",
        "test_filenames_neg = sorted(glob(op.join('.', 'aclImdb', 'test', 'neg', '*.txt')))\n",
        "test_filenames_pos = sorted(glob(op.join('.', 'aclImdb', 'test', 'pos', '*.txt')))\n",
        "\n",
        "# Each files contains a review that consists in one line of text: we put this string in two lists, that we concatenate\n",
        "train_texts_neg = [open(f, encoding=\"utf8\").read() for f in train_filenames_neg]\n",
        "train_texts_pos = [open(f, encoding=\"utf8\").read() for f in train_filenames_pos]\n",
        "train_texts = train_texts_neg + train_texts_pos\n",
        "\n",
        "test_texts_neg = [open(f, encoding=\"utf8\").read() for f in test_filenames_neg]\n",
        "test_texts_pos = [open(f, encoding=\"utf8\").read() for f in test_filenames_pos]\n",
        "test_texts = test_texts_neg + test_texts_pos\n",
        "\n",
        "\n",
        "# The first half of the elements of the list are string of negative reviews, and the second half positive ones\n",
        "# We create the labels, as an array of [1,len(texts)], filled with 1, and change the first half to 0\n",
        "train_labels = np.ones(len(train_texts), dtype=int)\n",
        "train_labels[:len(train_texts_neg)] = 0.\n",
        "\n",
        "\n",
        "test_labels = np.ones(len(test_texts), dtype=int)\n",
        "test_labels[:len(test_texts_neg)] = 0."
      ]
    },
    {
      "cell_type": "markdown",
      "metadata": {
        "id": "g2F1biXNv62G"
      },
      "source": [
        "Example of one document:"
      ]
    },
    {
      "cell_type": "code",
      "execution_count": null,
      "metadata": {
        "colab": {
          "base_uri": "https://localhost:8080/",
          "height": 122
        },
        "id": "2XL0ZBz_uCTX",
        "outputId": "57c46351-3eb8-4d9d-8fc7-b737a7bf7bbe"
      },
      "outputs": [
        {
          "output_type": "execute_result",
          "data": {
            "text/plain": [
              "\"Story of a man who has unnatural feelings for a pig. Starts out with a opening scene that is a terrific example of absurd comedy. A formal orchestra audience is turned into an insane, violent mob by the crazy chantings of it's singers. Unfortunately it stays absurd the WHOLE time with no general narrative eventually making it just too off putting. Even those from the era should be turned off. The cryptic dialogue would make Shakespeare seem easy to a third grader. On a technical level it's better than you might think with some good cinematography by future great Vilmos Zsigmond. Future stars Sally Kirkland and Frederic Forrest can be seen briefly.\""
            ],
            "application/vnd.google.colaboratory.intrinsic+json": {
              "type": "string"
            }
          },
          "metadata": {},
          "execution_count": 17
        }
      ],
      "source": [
        "open(\"./aclImdb/train/neg/0_3.txt\", encoding=\"utf8\").read()"
      ]
    },
    {
      "cell_type": "markdown",
      "metadata": {
        "id": "Mad2WjyxwIp_"
      },
      "source": [
        "We can use a function from sklearn, ```train_test_split```, to separate data into training and validation sets:\n",
        "\n"
      ]
    },
    {
      "cell_type": "code",
      "execution_count": 6,
      "metadata": {
        "id": "5VXYzolvv79h"
      },
      "outputs": [],
      "source": [
        "from sklearn.model_selection import train_test_split"
      ]
    },
    {
      "cell_type": "code",
      "execution_count": 7,
      "metadata": {
        "id": "lOZxlsdHwW8s"
      },
      "outputs": [],
      "source": [
        "train_texts_splt, val_texts, train_labels_splt, val_labels = train_test_split(train_texts, train_labels, test_size=.2)"
      ]
    },
    {
      "cell_type": "markdown",
      "metadata": {
        "id": "fTuq86F_w38k"
      },
      "source": [
        "We can now implement our ```TextClassificationDataset``` class, that we will build from:\n",
        "- A list of path to the IMDB files in the training set: ```path_to_file```\n",
        "- A list of the corresponding categories: ```categories```\n",
        "We will add three optional arguments:\n",
        "- First, a way to input a vocabulary (so that we can re-use the training vocabulary on the validation and training ```TextClassificationDataset```). By default, the value of the argument is ```None```.\n",
        "- In order to work with batches, we will need to have sequences of the same size. That can be done via **padding** but we will still need to limit the size of documents (to avoid having batches of huge sequences that are mostly empty because of one very long documents) to a ```max_length```. Let's put it to 100 by default.\n",
        "- Lastly, a ```min_freq``` that indicates how many times a word must appear to be taken in the vocabulary. "
      ]
    },
    {
      "cell_type": "markdown",
      "metadata": {
        "id": "uEv4BW4ow6Qe"
      },
      "source": [
        "The idea behind **padding** is to transform a list of pytorch tensors (of maybe different length) into a two dimensional tensor - which we can see as a batch. The size of the first dimension is the one of the longest tensor - and other are **padded** with a chosen symbol: here, we choose 0. "
      ]
    },
    {
      "cell_type": "code",
      "execution_count": null,
      "metadata": {
        "id": "5HvjckX8wW_Y"
      },
      "outputs": [],
      "source": [
        "tensor_1 = torch.LongTensor([1, 4, 5])\n",
        "tensor_2 = torch.LongTensor([2])\n",
        "tensor_3 = torch.LongTensor([6, 7])"
      ]
    },
    {
      "cell_type": "code",
      "execution_count": null,
      "metadata": {
        "colab": {
          "base_uri": "https://localhost:8080/"
        },
        "id": "1TkfZxx6w9E-",
        "outputId": "ecd3f482-95bd-48f4-895e-359e46ca48ca"
      },
      "outputs": [
        {
          "output_type": "stream",
          "name": "stdout",
          "text": [
            "tensor([[1, 4, 5],\n",
            "        [2, 0, 0],\n",
            "        [6, 7, 0]])\n"
          ]
        }
      ],
      "source": [
        "tensor_padded = pad_sequence([tensor_1, tensor_2, tensor_3], batch_first=True, padding_value = 0)\n",
        "print(tensor_padded)"
      ]
    },
    {
      "cell_type": "code",
      "source": [
        "from typing import List, Dict"
      ],
      "metadata": {
        "id": "tkrvIytDSnUR"
      },
      "execution_count": null,
      "outputs": []
    },
    {
      "cell_type": "markdown",
      "metadata": {
        "id": "fxhoGavhqF0p"
      },
      "source": [
        "<div class='alert alert-block alert-info'>\n",
        "            Code:</div>"
      ]
    },
    {
      "cell_type": "code",
      "execution_count": null,
      "metadata": {
        "id": "o1n5H6RUw9H2"
      },
      "outputs": [],
      "source": [
        "class TextClassificationDataset(Dataset):\n",
        "    def __init__(self, data: List[str], categories, vocab = None, max_length = 100, min_freq = 5):\n",
        "        self.data = data      \n",
        "        # Set the maximum length we will keep for the sequences\n",
        "        self.max_length = max_length\n",
        "        \n",
        "        # Allow to import a vocabulary (for valid/test datasets, that will use the training vocabulary)\n",
        "        if vocab is not None:\n",
        "            self.word2idx, self.idx2word = vocab\n",
        "        else:\n",
        "            # If no vocabulary imported, build it (and reverse)\n",
        "            self.word2idx, self.idx2word = self.build_vocab(self.data, min_freq)\n",
        "        \n",
        "        # We then need to tokenize the data .. \n",
        "        tokenized_data = [word_tokenize(text) for text in self.data]\n",
        "        # Transform words into lists of indexes ... (use the .get() method to redirect unknown words to the UNK token)\n",
        "        indexed_data = [[self.word2idx.get(word, self.word2idx['UNK']) for word in text] for text in tokenized_data]\n",
        "        # And transform this list of lists into a list of Pytorch LongTensors\n",
        "        tensor_data = [torch.LongTensor(data) for data in indexed_data]\n",
        "        # And the categories into a FloatTensor\n",
        "        tensor_y = torch.FloatTensor(categories)\n",
        "        # To finally cut it when it's above the maximum length\n",
        "        cut_tensor_data = [data[:max_length] for data in tensor_data]\n",
        "        \n",
        "        # Now, we need to use the pad_sequence function to have the whole dataset represented as one tensor,\n",
        "        # containing sequences of the same length. We choose the padding_value to be 0, the we want the\n",
        "        # batch dimension to be the first dimension \n",
        "        self.tensor_data = pad_sequence(cut_tensor_data, batch_first=True, padding_value=0)\n",
        "        self.tensor_y = tensor_y\n",
        "        \n",
        "    def __len__(self):\n",
        "        return len(self.data)\n",
        "\n",
        "    def __getitem__(self, idx):\n",
        "        # The iterator just gets one particular example with its category\n",
        "        # The dataloader will take care of the shuffling and batching\n",
        "        if torch.is_tensor(idx):\n",
        "            idx = idx.tolist()\n",
        "        return self.tensor_data[idx], self.tensor_y[idx] \n",
        "    \n",
        "    def build_vocab(self, corpus, count_threshold):\n",
        "        \"\"\"\n",
        "        Same as in the previous TP: we want to output word_index, a dictionary containing words \n",
        "        and their corresponding indexes as {word : indexes} \n",
        "        But we also want the reverse, which is a dictionary {indexes: word}\n",
        "        Don't forget to add a UNK token that we need when encountering unknown words\n",
        "        We also choose '0' to represent the padding index, so begin the vocabulary index at 1 ! \n",
        "        \"\"\"\n",
        "        word_counts = {}\n",
        "        for document in corpus:\n",
        "          for word in word_tokenize(document):\n",
        "            if not word in word_counts.keys():\n",
        "              word_counts[word] = 1\n",
        "            else:\n",
        "              word_counts[word] += 1\n",
        "        word_idx = {}                   \n",
        "        idx = 1\n",
        "        for (word, count) in word_counts.items():\n",
        "          if count >= count_threshold:\n",
        "            word_idx[word] = idx\n",
        "            idx += 1\n",
        "        word_idx['UNK'] = idx\n",
        "\n",
        "        idx_word = {}\n",
        "        for (word, idx) in word_idx.items():\n",
        "          idx_word[idx] = word\n",
        "        return word_idx, idx_word\n",
        "    \n",
        "    def get_vocab(self):\n",
        "        # A simple way to get the training vocab when building the valid/test \n",
        "        return self.word2idx, self.idx2word"
      ]
    },
    {
      "cell_type": "code",
      "execution_count": null,
      "metadata": {
        "colab": {
          "base_uri": "https://localhost:8080/"
        },
        "id": "CM0NsS3DzYmI",
        "outputId": "b66e289f-c3cc-40a8-f485-af41e8437b3e"
      },
      "outputs": [
        {
          "output_type": "stream",
          "name": "stderr",
          "text": [
            "[nltk_data] Downloading package punkt to /root/nltk_data...\n",
            "[nltk_data]   Package punkt is already up-to-date!\n"
          ]
        },
        {
          "output_type": "execute_result",
          "data": {
            "text/plain": [
              "True"
            ]
          },
          "metadata": {},
          "execution_count": 24
        }
      ],
      "source": [
        "import nltk\n",
        "nltk.download('punkt')"
      ]
    },
    {
      "cell_type": "code",
      "source": [
        "train_labels_splt"
      ],
      "metadata": {
        "colab": {
          "base_uri": "https://localhost:8080/"
        },
        "id": "NNoBWKHeTcYh",
        "outputId": "3906d21b-6d52-4e39-909a-a6e0f27641ae"
      },
      "execution_count": null,
      "outputs": [
        {
          "output_type": "execute_result",
          "data": {
            "text/plain": [
              "array([1, 1, 1, ..., 0, 0, 1])"
            ]
          },
          "metadata": {},
          "execution_count": 25
        }
      ]
    },
    {
      "cell_type": "code",
      "execution_count": null,
      "metadata": {
        "id": "QwA5Jxm3w9Kw"
      },
      "outputs": [],
      "source": [
        "training_dataset = TextClassificationDataset(train_texts_splt, train_labels_splt)\n",
        "training_word2idx, training_idx2word = training_dataset.get_vocab()"
      ]
    },
    {
      "cell_type": "code",
      "execution_count": null,
      "metadata": {
        "id": "HBD-W4fzw9NR"
      },
      "outputs": [],
      "source": [
        "valid_dataset = TextClassificationDataset(val_texts, val_labels, (training_word2idx, training_idx2word))"
      ]
    },
    {
      "cell_type": "code",
      "execution_count": null,
      "metadata": {
        "id": "n3ei2xd6JnvS"
      },
      "outputs": [],
      "source": [
        "test_dataset = TextClassificationDataset(test_texts, test_labels, (training_word2idx, training_idx2word))"
      ]
    },
    {
      "cell_type": "code",
      "execution_count": null,
      "metadata": {
        "id": "FvWlJpbRw9Pt"
      },
      "outputs": [],
      "source": [
        "training_dataloader = DataLoader(training_dataset, batch_size = 200, shuffle=True)\n",
        "valid_dataloader = DataLoader(valid_dataset, batch_size = 25)\n",
        "test_dataloader = DataLoader(test_dataset, batch_size = 25)"
      ]
    },
    {
      "cell_type": "code",
      "execution_count": null,
      "metadata": {
        "colab": {
          "base_uri": "https://localhost:8080/"
        },
        "id": "LidGZUp-w9SN",
        "outputId": "e79c8b53-e0cf-4821-e6b2-eebd60ba67b1"
      },
      "outputs": [
        {
          "output_type": "stream",
          "name": "stdout",
          "text": [
            "(tensor([  534,   534,   534,   534,   534, 10478,  9848,   534,   534,   534,\n",
            "          534,   534,   358,   359,   360,   361,   358,   359,   360,   361,\n",
            "          227,   299,  4456,   263,   233,  3168, 10940,    16,   448,   872,\n",
            "         4568,   694,    40,   421,   316,    64,  3263,   233,  3283,    64,\n",
            "        21182, 11592, 13647,   233,   358,   359,   360,   361,   358,   359,\n",
            "          360,   361,  3283,     8,   936,   587,  5844,   144,   145,    22,\n",
            "         1472,    40,    64,  1783,   179,   261,  4746,    97,    22,   902,\n",
            "           67,   448,  6024,   941,    19,   104,    35,     2,  1615,    67,\n",
            "          149,    32,   429,   321,     8,     4,  7470, 14169,     5, 11570,\n",
            "           28, 13527,    16, 15818,   362,  2706,    16,    19,   509,  1088]), tensor(1.))\n"
          ]
        }
      ],
      "source": [
        "print(valid_dataset[1])"
      ]
    },
    {
      "cell_type": "code",
      "execution_count": null,
      "metadata": {
        "colab": {
          "base_uri": "https://localhost:8080/"
        },
        "id": "891JXUwPw9Ux",
        "outputId": "f7610c5d-e5e3-46ba-8f40-6c43b732c7f8"
      },
      "outputs": [
        {
          "output_type": "stream",
          "name": "stdout",
          "text": [
            "torch.Size([200, 100])\n",
            "torch.Size([200])\n"
          ]
        }
      ],
      "source": [
        "example_batch = next(iter(training_dataloader))\n",
        "print(example_batch[0].size())\n",
        "print(example_batch[1].size())"
      ]
    },
    {
      "cell_type": "markdown",
      "metadata": {
        "id": "7n9XkuTs0GKT"
      },
      "source": [
        "### 4 - A simple averaging model\n",
        "\n",
        "Now, we will implement in Pytorch what we did in the previous TP: a simple averaging model. For each model we will implement, we need to create a class which inherits from ```nn.Module``` and redifine the ```__init__``` method as well as the ```forward``` method."
      ]
    },
    {
      "cell_type": "markdown",
      "metadata": {
        "id": "XIBXaXznqF0s"
      },
      "source": [
        "<div class='alert alert-block alert-info'>\n",
        "            Code:</div>"
      ]
    },
    {
      "cell_type": "code",
      "execution_count": null,
      "metadata": {
        "id": "wCmyWWQq0LDS"
      },
      "outputs": [],
      "source": [
        "# Models are usually implemented as custom nn.Module subclass\n",
        "# We need to redefine the __init__ method, which creates the object\n",
        "# We also need to redefine the forward method, which transform the input into outputs\n",
        "\n",
        "class AveragingModel(nn.Module):    \n",
        "    def __init__(self, embedding_dim, vocabulary_size):\n",
        "        super().__init__()\n",
        "        # Create an embedding object. Be careful to padding - you need to increase the vocabulary size by one !\n",
        "        # Look into the arguments of the nn.Embedding class\n",
        "        self.embeddings = nn.Embedding(num_embeddings = vocabulary_size+1, embedding_dim = embedding_dim, padding_idx = 0)\n",
        "        # Create a linear layer that will transform the mean of the embeddings into a classification score\n",
        "        self.linear = nn.Linear(embedding_dim, 1)\n",
        "        \n",
        "        # No need for sigmoid, it will be into the criterion ! \n",
        "        \n",
        "    def forward(self, inputs):\n",
        "        # Remember: the inputs shape is Batch_size * seq_length * embedding_dim\n",
        "        # First, take the mean of the embeddings of the document\n",
        "        x = self.embeddings(inputs).mean(axis = 1)\n",
        "        # Then make it go through the linear layer and remove the extra dimension with the method .squeeze()\n",
        "        o = self.linear(x).squeeze()\n",
        "        return o"
      ]
    },
    {
      "cell_type": "code",
      "execution_count": null,
      "metadata": {
        "id": "5VH2C2rE0FR_"
      },
      "outputs": [],
      "source": [
        "import torch.optim as optim"
      ]
    },
    {
      "cell_type": "code",
      "execution_count": null,
      "metadata": {
        "id": "wZp4RDMW0LGX"
      },
      "outputs": [],
      "source": [
        "model = AveragingModel(300, len(training_word2idx))\n",
        "# Create an optimizer\n",
        "opt = optim.Adam(model.parameters(), lr=0.0025, betas=(0.9, 0.999))\n",
        "# The criterion is a binary cross entropy loss based on logits - meaning that the sigmoid is integrated into the criterion\n",
        "criterion = nn.BCEWithLogitsLoss()"
      ]
    },
    {
      "cell_type": "markdown",
      "metadata": {
        "id": "mwNMoIcLqF0s"
      },
      "source": [
        "<div class='alert alert-block alert-info'>\n",
        "            Code:</div>"
      ]
    },
    {
      "cell_type": "code",
      "execution_count": null,
      "metadata": {
        "id": "JM9MFRVQ0LJh"
      },
      "outputs": [],
      "source": [
        "# Implement a training function, which will train the model with the corresponding optimizer and criterion,\n",
        "# with the appropriate dataloader, for one epoch.\n",
        "\n",
        "def train_epoch(model, opt, criterion, dataloader):\n",
        "    model.train()\n",
        "    losses = []\n",
        "    for i, (x, y) in enumerate(dataloader):\n",
        "        opt.zero_grad()\n",
        "        # (1) Forward\n",
        "        pred = model(x)\n",
        "        # (2) Compute the loss \n",
        "        loss = criterion(pred,y)\n",
        "        # (3) Compute gradients with the criterion\n",
        "        loss.backward()\n",
        "        # (4) Update weights with the optimizer\n",
        "        opt.step()\n",
        "        losses.append(loss.item())\n",
        "        # Count the number of correct predictions in the batch - here, you'll need to use the sigmoid\n",
        "\n",
        "        num_corrects = (torch.where(torch.sigmoid(pred)>=0.5, 1, 0) == y).sum()\n",
        "        acc = 100.0 * num_corrects/len(y)\n",
        "        \n",
        "        if (i%20 == 0):\n",
        "            print(\"Batch \" + str(i) + \" : training loss = \" + str(loss.item()) + \"; training acc = \" + str(acc.item()))\n",
        "    return losses"
      ]
    },
    {
      "cell_type": "markdown",
      "metadata": {
        "id": "gLKW-Cb8qF0t"
      },
      "source": [
        "<div class='alert alert-block alert-info'>\n",
        "            Code:</div>"
      ]
    },
    {
      "cell_type": "code",
      "execution_count": null,
      "metadata": {
        "id": "vz82AFmL0LMx"
      },
      "outputs": [],
      "source": [
        "# Same for the evaluation ! We don't need the optimizer here. \n",
        "def eval_model(model, criterion, evalloader):\n",
        "    model.eval()\n",
        "    total_epoch_loss = 0\n",
        "    total_epoch_acc = 0\n",
        "    with torch.no_grad():\n",
        "        for i, (x, y) in enumerate(evalloader):\n",
        "            pred = model(x)\n",
        "            loss = criterion(pred,y)\n",
        "            num_corrects = (torch.where(torch.sigmoid(pred)>=0.5, 1, 0) == y).sum()\n",
        "            acc = 100.0 * num_corrects/len(y)\n",
        "            total_epoch_loss += loss.item()\n",
        "            total_epoch_acc += acc.item()\n",
        "\n",
        "    return total_epoch_loss/(i+1), total_epoch_acc/(i+1)"
      ]
    },
    {
      "cell_type": "code",
      "execution_count": null,
      "metadata": {
        "id": "J8grPth70ZyO"
      },
      "outputs": [],
      "source": [
        "# A function which will help you execute experiments rapidly - with a early_stopping option when necessary. \n",
        "def experiment(model, opt, criterion, num_epochs = 5, early_stopping = True):\n",
        "    train_losses = []\n",
        "    if early_stopping: \n",
        "        best_valid_loss = 10. \n",
        "    print(\"Beginning training...\")\n",
        "    for e in range(num_epochs):\n",
        "        print(\"Epoch \" + str(e+1) + \":\")\n",
        "        train_losses += train_epoch(model, opt, criterion, training_dataloader)\n",
        "        valid_loss, valid_acc = eval_model(model, criterion, valid_dataloader)\n",
        "        print(\"Epoch \" + str(e+1) + \" : Validation loss = \" + str(valid_loss) + \"; Validation acc = \" + str(valid_acc))\n",
        "        if early_stopping:\n",
        "            if valid_loss < best_valid_loss:\n",
        "                best_valid_loss = valid_loss\n",
        "            else:\n",
        "                print(\"Early stopping.\")\n",
        "                break  \n",
        "    test_loss, test_acc = eval_model(model, criterion, test_dataloader)\n",
        "    print(\"Epoch \" + str(e+1) + \" : Test loss = \" + str(test_loss) + \"; Test acc = \" + str(test_acc))\n",
        "    return train_losses, test_acc"
      ]
    },
    {
      "cell_type": "code",
      "execution_count": null,
      "metadata": {
        "colab": {
          "base_uri": "https://localhost:8080/"
        },
        "id": "UZvgnfo10Z1i",
        "outputId": "834044f1-9cb7-4b9e-e0bc-fe8a6918b204"
      },
      "outputs": [
        {
          "output_type": "stream",
          "name": "stdout",
          "text": [
            "Beginning training...\n",
            "Epoch 1:\n",
            "Batch 0 : training loss = 0.6934763193130493; training acc = 53.0\n",
            "Batch 20 : training loss = 0.6776535511016846; training acc = 58.5\n",
            "Batch 40 : training loss = 0.6441395282745361; training acc = 67.0\n",
            "Batch 60 : training loss = 0.6109309792518616; training acc = 73.0\n",
            "Batch 80 : training loss = 0.5904875993728638; training acc = 70.0\n",
            "Epoch 1 : Validation loss = 0.571274623721838; Validation acc = 72.3\n",
            "Epoch 2:\n",
            "Batch 0 : training loss = 0.5554693341255188; training acc = 79.0\n",
            "Batch 20 : training loss = 0.5221799612045288; training acc = 76.0\n",
            "Batch 40 : training loss = 0.4816991686820984; training acc = 79.5\n",
            "Batch 60 : training loss = 0.46717584133148193; training acc = 78.5\n",
            "Batch 80 : training loss = 0.4345765709877014; training acc = 83.5\n",
            "Epoch 2 : Validation loss = 0.4512462331354618; Validation acc = 79.8\n",
            "Epoch 3:\n",
            "Batch 0 : training loss = 0.3551620543003082; training acc = 87.5\n",
            "Batch 20 : training loss = 0.35592517256736755; training acc = 87.5\n",
            "Batch 40 : training loss = 0.35212767124176025; training acc = 88.5\n",
            "Batch 60 : training loss = 0.32502251863479614; training acc = 87.5\n",
            "Batch 80 : training loss = 0.37184661626815796; training acc = 86.5\n",
            "Epoch 3 : Validation loss = 0.40430422604084015; Validation acc = 82.26\n",
            "Epoch 4:\n",
            "Batch 0 : training loss = 0.3282715082168579; training acc = 85.0\n",
            "Batch 20 : training loss = 0.2619487941265106; training acc = 91.5\n",
            "Batch 40 : training loss = 0.2995845079421997; training acc = 90.5\n",
            "Batch 60 : training loss = 0.29931023716926575; training acc = 86.0\n",
            "Batch 80 : training loss = 0.3816641867160797; training acc = 84.0\n",
            "Epoch 4 : Validation loss = 0.3879912578314543; Validation acc = 83.12\n",
            "Epoch 5:\n",
            "Batch 0 : training loss = 0.24226009845733643; training acc = 89.0\n",
            "Batch 20 : training loss = 0.22110262513160706; training acc = 89.5\n",
            "Batch 40 : training loss = 0.20179428160190582; training acc = 93.0\n",
            "Batch 60 : training loss = 0.20022475719451904; training acc = 93.5\n",
            "Batch 80 : training loss = 0.264198899269104; training acc = 90.0\n",
            "Epoch 5 : Validation loss = 0.38521625749766825; Validation acc = 83.36\n",
            "Epoch 5 : Test loss = 0.42628486277908084; Test acc = 80.608\n"
          ]
        }
      ],
      "source": [
        "train_losses, _= experiment(model, opt, criterion)"
      ]
    },
    {
      "cell_type": "code",
      "execution_count": null,
      "metadata": {
        "colab": {
          "base_uri": "https://localhost:8080/",
          "height": 282
        },
        "id": "m-CIwDga0Z7q",
        "outputId": "028623b3-48b4-47ff-81c5-76a4106253b0"
      },
      "outputs": [
        {
          "output_type": "execute_result",
          "data": {
            "text/plain": [
              "[<matplotlib.lines.Line2D at 0x7fea6920d850>]"
            ]
          },
          "metadata": {},
          "execution_count": 39
        },
        {
          "output_type": "display_data",
          "data": {
            "text/plain": [
              "<Figure size 432x288 with 1 Axes>"
            ],
            "image/png": "[encoded data removed]"
          },
          "metadata": {
            "needs_background": "light"
          }
        }
      ],
      "source": [
        "import matplotlib.pyplot as plt\n",
        "plt.plot(train_losses)"
      ]
    },
    {
      "cell_type": "markdown",
      "metadata": {
        "id": "kp8d-0N7JPlR"
      },
      "source": [
        "### With Glove embeddings: \n",
        "\n",
        "Now, we would like to integrate pre-trained word embeddings into our model ! Let's use again the functions that we used in the previous lab:"
      ]
    },
    {
      "cell_type": "code",
      "execution_count": null,
      "metadata": {
        "id": "RUa7xjDv0Z-0"
      },
      "outputs": [],
      "source": [
        "import gensim.downloader as api\n",
        "loaded_glove_model = api.load(\"glove-wiki-gigaword-300\")\n",
        "loaded_glove_embeddings = loaded_glove_model.vectors"
      ]
    },
    {
      "cell_type": "code",
      "source": [
        "dir(loaded_glove_model)"
      ],
      "metadata": {
        "colab": {
          "base_uri": "https://localhost:8080/"
        },
        "id": "hlHz9IKMsI4r",
        "outputId": "b2255629-0205-4b17-a3f2-3815b732cd92"
      },
      "execution_count": null,
      "outputs": [
        {
          "output_type": "execute_result",
          "data": {
            "text/plain": [
              "['__class__',\n",
              " '__contains__',\n",
              " '__delattr__',\n",
              " '__dict__',\n",
              " '__dir__',\n",
              " '__doc__',\n",
              " '__eq__',\n",
              " '__format__',\n",
              " '__ge__',\n",
              " '__getattribute__',\n",
              " '__getitem__',\n",
              " '__gt__',\n",
              " '__hash__',\n",
              " '__init__',\n",
              " '__init_subclass__',\n",
              " '__le__',\n",
              " '__lt__',\n",
              " '__module__',\n",
              " '__ne__',\n",
              " '__new__',\n",
              " '__reduce__',\n",
              " '__reduce_ex__',\n",
              " '__repr__',\n",
              " '__setattr__',\n",
              " '__setitem__',\n",
              " '__sizeof__',\n",
              " '__str__',\n",
              " '__subclasshook__',\n",
              " '__weakref__',\n",
              " '_adapt_by_suffix',\n",
              " '_load_specials',\n",
              " '_log_evaluate_word_analogies',\n",
              " '_save_specials',\n",
              " '_smart_save',\n",
              " 'accuracy',\n",
              " 'add',\n",
              " 'closer_than',\n",
              " 'cosine_similarities',\n",
              " 'distance',\n",
              " 'distances',\n",
              " 'doesnt_match',\n",
              " 'evaluate_word_analogies',\n",
              " 'evaluate_word_pairs',\n",
              " 'get_keras_embedding',\n",
              " 'get_vector',\n",
              " 'index2entity',\n",
              " 'index2word',\n",
              " 'init_sims',\n",
              " 'load',\n",
              " 'load_word2vec_format',\n",
              " 'log_accuracy',\n",
              " 'log_evaluate_word_pairs',\n",
              " 'most_similar',\n",
              " 'most_similar_cosmul',\n",
              " 'most_similar_to_given',\n",
              " 'n_similarity',\n",
              " 'rank',\n",
              " 'save',\n",
              " 'save_word2vec_format',\n",
              " 'similar_by_vector',\n",
              " 'similar_by_word',\n",
              " 'similarity',\n",
              " 'similarity_matrix',\n",
              " 'syn0',\n",
              " 'syn0norm',\n",
              " 'vector_size',\n",
              " 'vectors',\n",
              " 'vectors_norm',\n",
              " 'vocab',\n",
              " 'wmdistance',\n",
              " 'word_vec',\n",
              " 'words_closer_than',\n",
              " 'wv']"
            ]
          },
          "metadata": {},
          "execution_count": 41
        }
      ]
    },
    {
      "cell_type": "code",
      "source": [
        "loaded_glove_model.vocab.get('a').index"
      ],
      "metadata": {
        "colab": {
          "base_uri": "https://localhost:8080/"
        },
        "id": "fc3DCFHXujyq",
        "outputId": "86583c4e-0bb6-48dc-a38d-22182c1191e1"
      },
      "execution_count": null,
      "outputs": [
        {
          "output_type": "execute_result",
          "data": {
            "text/plain": [
              "7"
            ]
          },
          "metadata": {},
          "execution_count": 42
        }
      ]
    },
    {
      "cell_type": "code",
      "execution_count": null,
      "metadata": {
        "id": "unwB2-4r0aBg"
      },
      "outputs": [],
      "source": [
        "def get_glove_adapted_embeddings(glove_model, input_voc):\n",
        "    keys = {i: glove_model.vocab.get(w, None) for w, i in input_voc.items()}\n",
        "    index_dict = {i: key.index for i, key in keys.items() if key is not None}\n",
        "    embeddings = np.zeros((len(input_voc)+1,glove_model.vectors.shape[1]))\n",
        "    for i, ind in index_dict.items():\n",
        "        embeddings[i] = glove_model.vectors[ind]\n",
        "    return embeddings\n",
        "\n",
        "GloveEmbeddings = get_glove_adapted_embeddings(loaded_glove_model, training_word2idx)"
      ]
    },
    {
      "cell_type": "code",
      "execution_count": null,
      "metadata": {
        "colab": {
          "base_uri": "https://localhost:8080/"
        },
        "id": "dhoS6NH20aEU",
        "outputId": "3ba31346-9c37-49c3-86ec-a2c77727839a"
      },
      "outputs": [
        {
          "output_type": "stream",
          "name": "stdout",
          "text": [
            "(31808, 300)\n",
            "[0. 0. 0. 0. 0. 0. 0. 0. 0. 0. 0. 0. 0. 0. 0. 0. 0. 0. 0. 0. 0. 0. 0. 0.\n",
            " 0. 0. 0. 0. 0. 0. 0. 0. 0. 0. 0. 0. 0. 0. 0. 0. 0. 0. 0. 0. 0. 0. 0. 0.\n",
            " 0. 0. 0. 0. 0. 0. 0. 0. 0. 0. 0. 0. 0. 0. 0. 0. 0. 0. 0. 0. 0. 0. 0. 0.\n",
            " 0. 0. 0. 0. 0. 0. 0. 0. 0. 0. 0. 0. 0. 0. 0. 0. 0. 0. 0. 0. 0. 0. 0. 0.\n",
            " 0. 0. 0. 0. 0. 0. 0. 0. 0. 0. 0. 0. 0. 0. 0. 0. 0. 0. 0. 0. 0. 0. 0. 0.\n",
            " 0. 0. 0. 0. 0. 0. 0. 0. 0. 0. 0. 0. 0. 0. 0. 0. 0. 0. 0. 0. 0. 0. 0. 0.\n",
            " 0. 0. 0. 0. 0. 0. 0. 0. 0. 0. 0. 0. 0. 0. 0. 0. 0. 0. 0. 0. 0. 0. 0. 0.\n",
            " 0. 0. 0. 0. 0. 0. 0. 0. 0. 0. 0. 0. 0. 0. 0. 0. 0. 0. 0. 0. 0. 0. 0. 0.\n",
            " 0. 0. 0. 0. 0. 0. 0. 0. 0. 0. 0. 0. 0. 0. 0. 0. 0. 0. 0. 0. 0. 0. 0. 0.\n",
            " 0. 0. 0. 0. 0. 0. 0. 0. 0. 0. 0. 0. 0. 0. 0. 0. 0. 0. 0. 0. 0. 0. 0. 0.\n",
            " 0. 0. 0. 0. 0. 0. 0. 0. 0. 0. 0. 0. 0. 0. 0. 0. 0. 0. 0. 0. 0. 0. 0. 0.\n",
            " 0. 0. 0. 0. 0. 0. 0. 0. 0. 0. 0. 0. 0. 0. 0. 0. 0. 0. 0. 0. 0. 0. 0. 0.\n",
            " 0. 0. 0. 0. 0. 0. 0. 0. 0. 0. 0. 0.]\n"
          ]
        }
      ],
      "source": [
        "print(GloveEmbeddings.shape)\n",
        "# We should check that the \"padding\" vector is at zero\n",
        "print(GloveEmbeddings[0])"
      ]
    },
    {
      "cell_type": "markdown",
      "metadata": {
        "id": "SpkmUwA4LjT0"
      },
      "source": [
        "Here, implement a ```PretrainedAveragingModel``` very similar to the previous model, using the ```nn.Embedding``` method ```from_pretrained()``` to initialize the embeddings from a numpy array. Use the ```requires_grad_``` method to specify if the model must fine-tune the embeddings or not ! "
      ]
    },
    {
      "cell_type": "markdown",
      "metadata": {
        "id": "-DYPEX3WqF0v"
      },
      "source": [
        "<div class='alert alert-block alert-info'>\n",
        "            Code:</div>"
      ]
    },
    {
      "cell_type": "code",
      "execution_count": null,
      "metadata": {
        "id": "aVh4fz39Lg5c"
      },
      "outputs": [],
      "source": [
        "class PretrainedAveragingModel(nn.Module):\n",
        "  def __init__(self, pretrained_embeddings, requires_grad: bool):\n",
        "        super().__init__()\n",
        "        # Create an embedding object. Be careful to padding - you need to increase the vocabulary size by one !\n",
        "        # Look into the arguments of the nn.Embedding class\n",
        "        self.embeddings = nn.Embedding.from_pretrained(embeddings = pretrained_embeddings).requires_grad_(requires_grad)\n",
        "        # Create a linear layer that will transform the mean of the embeddings into a classification score\n",
        "        self.linear = nn.Linear(pretrained_embeddings.shape[1], 1)\n",
        "        \n",
        "        # No need for sigmoid, it will be into the criterion ! \n",
        "        \n",
        "  def forward(self, inputs):\n",
        "      # Remember: the inputs shape is Batch_size * seq_length * embedding_dim\n",
        "      # First, take the mean of the embeddings of the document\n",
        "      x = self.embeddings(inputs).mean(axis = 1)\n",
        "      # Then make it go through the linear layer and remove the extra dimension with the method .squeeze()\n",
        "      o = self.linear(x).squeeze()\n",
        "      return o"
      ]
    },
    {
      "cell_type": "markdown",
      "metadata": {
        "id": "rmQUbBVxLtwa"
      },
      "source": [
        "<div class='alert alert-block alert-warning'>\n",
        "            Questions:</div>\n",
        "            \n",
        "- What are the results **with and without fine-tuning of embeddings imported from GloVe** ?\n",
        "- Make hypothesis based on your intuition and the class on how the size of the vocabulary (change the minimum frequency of words to be taken in the vocabular) will impact results, in the three cases (No pre-training, pre-training without fine-tuning, pretraining with fine-tuning).\n",
        "- Verify experiments and analyze your results !"
      ]
    },
    {
      "cell_type": "markdown",
      "source": [
        "Without Fine-tuning"
      ],
      "metadata": {
        "id": "7UHM3GLQxCu0"
      }
    },
    {
      "cell_type": "code",
      "source": [
        "model_withoutFineTuning = PretrainedAveragingModel(torch.FloatTensor(GloveEmbeddings), requires_grad=False)\n",
        "opt_withoutFineTuning = optim.Adam(model_withoutFineTuning.parameters(), lr=0.0025, betas=(0.9, 0.999))"
      ],
      "metadata": {
        "id": "qYqDfzSAxBWa"
      },
      "execution_count": null,
      "outputs": []
    },
    {
      "cell_type": "markdown",
      "source": [],
      "metadata": {
        "id": "7E0hZN3aJmm3"
      }
    },
    {
      "cell_type": "code",
      "execution_count": null,
      "metadata": {
        "id": "xc6i1FXsLil8",
        "colab": {
          "base_uri": "https://localhost:8080/"
        },
        "outputId": "66bb7714-daf2-44e0-dd7f-be6105d0049d"
      },
      "outputs": [
        {
          "output_type": "stream",
          "name": "stdout",
          "text": [
            "Beginning training...\n",
            "Epoch 1:\n",
            "Batch 0 : training loss = 0.69260573387146; training acc = 52.0\n",
            "Batch 20 : training loss = 0.6844608187675476; training acc = 59.0\n",
            "Batch 40 : training loss = 0.6646459698677063; training acc = 61.5\n",
            "Batch 60 : training loss = 0.6636707186698914; training acc = 67.5\n",
            "Batch 80 : training loss = 0.6589758396148682; training acc = 63.5\n",
            "Epoch 1 : Validation loss = 0.6555708229541779; Validation acc = 63.74\n",
            "Epoch 2:\n",
            "Batch 0 : training loss = 0.6485419273376465; training acc = 66.5\n",
            "Batch 20 : training loss = 0.6485151648521423; training acc = 64.0\n",
            "Batch 40 : training loss = 0.6538522243499756; training acc = 62.0\n",
            "Batch 60 : training loss = 0.6487113833427429; training acc = 62.0\n",
            "Batch 80 : training loss = 0.6356081366539001; training acc = 65.0\n",
            "Epoch 2 : Validation loss = 0.6340189188718796; Validation acc = 66.1\n",
            "Epoch 3:\n",
            "Batch 0 : training loss = 0.6242058277130127; training acc = 67.0\n",
            "Batch 20 : training loss = 0.6417356133460999; training acc = 68.5\n",
            "Batch 40 : training loss = 0.6137068867683411; training acc = 74.0\n",
            "Batch 60 : training loss = 0.6434363722801208; training acc = 62.5\n",
            "Batch 80 : training loss = 0.6022149920463562; training acc = 72.0\n",
            "Epoch 3 : Validation loss = 0.616162620484829; Validation acc = 68.38\n",
            "Epoch 4:\n",
            "Batch 0 : training loss = 0.609504759311676; training acc = 70.5\n",
            "Batch 20 : training loss = 0.6095645427703857; training acc = 69.0\n",
            "Batch 40 : training loss = 0.6048389673233032; training acc = 69.0\n",
            "Batch 60 : training loss = 0.5985687375068665; training acc = 72.5\n",
            "Batch 80 : training loss = 0.6261168718338013; training acc = 63.0\n",
            "Epoch 4 : Validation loss = 0.6030918630957603; Validation acc = 69.32\n",
            "Epoch 5:\n",
            "Batch 0 : training loss = 0.5905184745788574; training acc = 76.0\n",
            "Batch 20 : training loss = 0.6012364029884338; training acc = 67.5\n",
            "Batch 40 : training loss = 0.5813316106796265; training acc = 73.5\n",
            "Batch 60 : training loss = 0.6015586256980896; training acc = 68.0\n",
            "Batch 80 : training loss = 0.631117045879364; training acc = 67.5\n",
            "Epoch 5 : Validation loss = 0.5918010298907757; Validation acc = 70.4\n",
            "Epoch 5 : Test loss = 0.5922541992366314; Test acc = 70.728\n"
          ]
        }
      ],
      "source": [
        "train_losses,_ = experiment(model_withoutFineTuning, opt_withoutFineTuning, criterion)"
      ]
    },
    {
      "cell_type": "code",
      "execution_count": null,
      "metadata": {
        "colab": {
          "base_uri": "https://localhost:8080/",
          "height": 282
        },
        "id": "kzgSTvT5LiqC",
        "outputId": "63027ee0-9f7f-4ae7-84c8-fa87a2059e40"
      },
      "outputs": [
        {
          "output_type": "execute_result",
          "data": {
            "text/plain": [
              "[<matplotlib.lines.Line2D at 0x7fea62fdecd0>]"
            ]
          },
          "metadata": {},
          "execution_count": 48
        },
        {
          "output_type": "display_data",
          "data": {
            "text/plain": [
              "<Figure size 432x288 with 1 Axes>"
            ],
            "image/png": "[encoded data removed]"
          },
          "metadata": {
            "needs_background": "light"
          }
        }
      ],
      "source": [
        "plt.plot(train_losses)"
      ]
    },
    {
      "cell_type": "code",
      "source": [
        "model_withFineTuning = PretrainedAveragingModel(torch.FloatTensor(GloveEmbeddings), requires_grad=True)\n",
        "opt_withFineTuning = optim.Adam(model_withFineTuning.parameters(), lr=0.0025, betas=(0.9, 0.999))"
      ],
      "metadata": {
        "id": "biCOaIH8MYqP"
      },
      "execution_count": null,
      "outputs": []
    },
    {
      "cell_type": "code",
      "execution_count": null,
      "metadata": {
        "colab": {
          "base_uri": "https://localhost:8080/"
        },
        "outputId": "40ea9a3b-8045-4034-b6df-e92d46683af9",
        "id": "Uudk_QItMsPz"
      },
      "outputs": [
        {
          "output_type": "stream",
          "name": "stdout",
          "text": [
            "Beginning training...\n",
            "Epoch 1:\n",
            "Batch 0 : training loss = 0.6949684619903564; training acc = 48.0\n",
            "Batch 20 : training loss = 0.6725999712944031; training acc = 67.0\n",
            "Batch 40 : training loss = 0.642730176448822; training acc = 66.5\n",
            "Batch 60 : training loss = 0.595162034034729; training acc = 75.0\n",
            "Batch 80 : training loss = 0.5720991492271423; training acc = 75.0\n",
            "Epoch 1 : Validation loss = 0.5277802106738091; Validation acc = 75.86\n",
            "Epoch 2:\n",
            "Batch 0 : training loss = 0.4998961389064789; training acc = 80.5\n",
            "Batch 20 : training loss = 0.4566391110420227; training acc = 81.5\n",
            "Batch 40 : training loss = 0.4497455358505249; training acc = 82.0\n",
            "Batch 60 : training loss = 0.3524833023548126; training acc = 87.5\n",
            "Batch 80 : training loss = 0.38667282462120056; training acc = 83.0\n",
            "Epoch 2 : Validation loss = 0.41696009069681167; Validation acc = 81.62\n",
            "Epoch 3:\n",
            "Batch 0 : training loss = 0.3373531997203827; training acc = 87.0\n",
            "Batch 20 : training loss = 0.29384657740592957; training acc = 89.5\n",
            "Batch 40 : training loss = 0.2843541204929352; training acc = 90.5\n",
            "Batch 60 : training loss = 0.31566232442855835; training acc = 86.0\n",
            "Batch 80 : training loss = 0.29213520884513855; training acc = 86.0\n",
            "Epoch 3 : Validation loss = 0.3834186204522848; Validation acc = 83.28\n",
            "Epoch 4:\n",
            "Batch 0 : training loss = 0.2509538233280182; training acc = 91.5\n",
            "Batch 20 : training loss = 0.20223066210746765; training acc = 95.5\n",
            "Batch 40 : training loss = 0.24304771423339844; training acc = 89.0\n",
            "Batch 60 : training loss = 0.20356547832489014; training acc = 93.0\n",
            "Batch 80 : training loss = 0.25078579783439636; training acc = 90.0\n",
            "Epoch 4 : Validation loss = 0.3797169999778271; Validation acc = 83.74\n",
            "Epoch 5:\n",
            "Batch 0 : training loss = 0.20280267298221588; training acc = 94.5\n",
            "Batch 20 : training loss = 0.17081871628761292; training acc = 95.0\n",
            "Batch 40 : training loss = 0.22416536509990692; training acc = 90.5\n",
            "Batch 60 : training loss = 0.21035529673099518; training acc = 92.5\n",
            "Batch 80 : training loss = 0.2235495150089264; training acc = 93.0\n",
            "Epoch 5 : Validation loss = 0.38272606931626796; Validation acc = 83.9\n",
            "Early stopping.\n",
            "Epoch 5 : Test loss = 0.4326569864600897; Test acc = 80.708\n"
          ]
        }
      ],
      "source": [
        "train_losses,_ = experiment(model_withFineTuning, opt_withFineTuning, criterion)"
      ]
    },
    {
      "cell_type": "code",
      "execution_count": null,
      "metadata": {
        "colab": {
          "base_uri": "https://localhost:8080/",
          "height": 282
        },
        "outputId": "844c6453-252c-40ea-bb0b-85c9d37d9a48",
        "id": "OSQ6OmqyM1Zl"
      },
      "outputs": [
        {
          "output_type": "execute_result",
          "data": {
            "text/plain": [
              "[<matplotlib.lines.Line2D at 0x7fea62fab790>]"
            ]
          },
          "metadata": {},
          "execution_count": 51
        },
        {
          "output_type": "display_data",
          "data": {
            "text/plain": [
              "<Figure size 432x288 with 1 Axes>"
            ],
            "image/png": "[encoded data removed]"
          },
          "metadata": {
            "needs_background": "light"
          }
        }
      ],
      "source": [
        "plt.plot(train_losses)"
      ]
    },
    {
      "cell_type": "markdown",
      "source": [
        "Therefore, the test accuracy with fine-tuning is higher than the one without fine-tuning."
      ],
      "metadata": {
        "id": "nxYqtS5FSK-Z"
      }
    },
    {
      "cell_type": "markdown",
      "source": [
        "Hypothesis: text with vocabulary of higher threshold will reduce the vocabulary size hence contain less information, and vice versa. However, according to Zipf's law, lowering the threshold will stop improving the result till some point, because those vocabulary will become extremely rare in the text hence contain little information."
      ],
      "metadata": {
        "id": "TYiYzSPwNFAa"
      }
    },
    {
      "cell_type": "code",
      "execution_count": null,
      "metadata": {
        "id": "NkZZe0erqF0w"
      },
      "outputs": [],
      "source": [
        "def generate_data(min_freq):\n",
        "  train_data = TextClassificationDataset(train_texts_splt, train_labels_splt, min_freq=min_freq) \n",
        "  train_word2idx, train_idx2word = train_data.get_vocab()\n",
        "  valid_data = TextClassificationDataset(val_texts, val_labels, (train_word2idx, train_idx2word), min_freq=min_freq) \n",
        "  test_data = TextClassificationDataset(test_texts, test_labels, (train_word2idx, train_idx2word), min_freq=min_freq) \n",
        "  return train_data, valid_data, test_data, train_word2idx\n",
        "\n",
        "def generate_GloveEmbeddings(train_word2idx):\n",
        "  return get_glove_adapted_embeddings(loaded_glove_model, train_word2idx)\n",
        "\n",
        "def experiment2(model, opt, criterion, train_dataloader, valid_dataloader, test_dataloader, num_epochs = 5, early_stopping = True):\n",
        "  train_losses = []\n",
        "  if early_stopping: \n",
        "      best_valid_loss = 10. \n",
        "  print(\"Beginning training...\")\n",
        "  for e in range(num_epochs):\n",
        "      print(\"Epoch \" + str(e+1) + \":\")\n",
        "      train_losses += train_epoch(model, opt, criterion, train_dataloader)\n",
        "      valid_loss, valid_acc = eval_model(model, criterion, valid_dataloader)\n",
        "      print(\"Epoch \" + str(e+1) + \" : Validation loss = \" + str(valid_loss) + \"; Validation acc = \" + str(valid_acc))\n",
        "      if early_stopping:\n",
        "          if valid_loss < best_valid_loss:\n",
        "              best_valid_loss = valid_loss\n",
        "          else:\n",
        "              print(\"Early stopping.\")\n",
        "              break  \n",
        "  test_loss, test_acc = eval_model(model, criterion, test_dataloader)\n",
        "  print(\"Epoch \" + str(e+1) + \" : Test loss = \" + str(test_loss) + \"; Test acc = \" + str(test_acc))\n",
        "  return train_losses, test_acc"
      ]
    },
    {
      "cell_type": "code",
      "execution_count": null,
      "metadata": {
        "id": "6Vr04qt8qF0w"
      },
      "outputs": [],
      "source": [
        "train_data1, valid_data1, test_data1, train_word2idx = generate_data(1)"
      ]
    },
    {
      "cell_type": "code",
      "source": [
        "GloveEmbeddings1 = generate_GloveEmbeddings(train_word2idx)"
      ],
      "metadata": {
        "id": "q-9LeKp9I4A-"
      },
      "execution_count": null,
      "outputs": []
    },
    {
      "cell_type": "code",
      "source": [
        "train_dataloader = DataLoader(train_data1, batch_size = 200, shuffle=True)\n",
        "valid_dataloader = DataLoader(valid_data1, batch_size = 25)\n",
        "test_dataloader = DataLoader(test_data1, batch_size = 25)\n",
        "criterion = nn.BCEWithLogitsLoss()"
      ],
      "metadata": {
        "id": "NoPmcFVuHfKV"
      },
      "execution_count": null,
      "outputs": []
    },
    {
      "cell_type": "code",
      "source": [
        "model1 = AveragingModel(300, len(train_word2idx))\n",
        "opt1 = optim.Adam(model1.parameters(), lr = 0.0025, betas = (0.9, 0.999))\n",
        "model2 = PretrainedAveragingModel(torch.FloatTensor(GloveEmbeddings1), requires_grad=False)\n",
        "opt2 = optim.Adam(model2.parameters(), lr=0.0025, betas=(0.9, 0.999))\n",
        "model3 = PretrainedAveragingModel(torch.FloatTensor(GloveEmbeddings1), requires_grad=True)\n",
        "opt3 = optim.Adam(model3.parameters(), lr=0.0025, betas=(0.9, 0.999))"
      ],
      "metadata": {
        "id": "cjXj5WXcHPof"
      },
      "execution_count": null,
      "outputs": []
    },
    {
      "cell_type": "code",
      "source": [
        "_ = experiment2(model1, opt1, criterion, train_dataloader, valid_dataloader, test_dataloader)"
      ],
      "metadata": {
        "colab": {
          "base_uri": "https://localhost:8080/"
        },
        "id": "d9F7yqBZEwqp",
        "outputId": "c8bc4795-f116-4e58-81ad-48780b935e66"
      },
      "execution_count": null,
      "outputs": [
        {
          "output_type": "stream",
          "name": "stdout",
          "text": [
            "Beginning training...\n",
            "Epoch 1:\n",
            "Batch 0 : training loss = 0.6857811212539673; training acc = 57.5\n",
            "Batch 20 : training loss = 0.678804337978363; training acc = 58.5\n",
            "Batch 40 : training loss = 0.6549649238586426; training acc = 65.0\n",
            "Batch 60 : training loss = 0.6232084631919861; training acc = 66.0\n",
            "Batch 80 : training loss = 0.6199894547462463; training acc = 62.5\n",
            "Epoch 1 : Validation loss = 0.5713502483069897; Validation acc = 72.7\n",
            "Epoch 2:\n",
            "Batch 0 : training loss = 0.5126262307167053; training acc = 82.0\n",
            "Batch 20 : training loss = 0.533685564994812; training acc = 74.5\n",
            "Batch 40 : training loss = 0.4716062545776367; training acc = 81.0\n",
            "Batch 60 : training loss = 0.49501124024391174; training acc = 75.0\n",
            "Batch 80 : training loss = 0.4296734631061554; training acc = 82.0\n",
            "Epoch 2 : Validation loss = 0.44988244369626046; Validation acc = 80.08\n",
            "Epoch 3:\n",
            "Batch 0 : training loss = 0.3387790024280548; training acc = 89.0\n",
            "Batch 20 : training loss = 0.33246710896492004; training acc = 89.0\n",
            "Batch 40 : training loss = 0.341703325510025; training acc = 84.0\n",
            "Batch 60 : training loss = 0.3956356346607208; training acc = 85.5\n",
            "Batch 80 : training loss = 0.3141838014125824; training acc = 88.0\n",
            "Epoch 3 : Validation loss = 0.40257107697427275; Validation acc = 82.12\n",
            "Epoch 4:\n",
            "Batch 0 : training loss = 0.26703763008117676; training acc = 89.0\n",
            "Batch 20 : training loss = 0.21521282196044922; training acc = 96.0\n",
            "Batch 40 : training loss = 0.2421599179506302; training acc = 93.5\n",
            "Batch 60 : training loss = 0.23282043635845184; training acc = 91.5\n",
            "Batch 80 : training loss = 0.2769107520580292; training acc = 88.0\n",
            "Epoch 4 : Validation loss = 0.38889670863747594; Validation acc = 83.04\n",
            "Epoch 5:\n",
            "Batch 0 : training loss = 0.18958468735218048; training acc = 94.5\n",
            "Batch 20 : training loss = 0.18533003330230713; training acc = 93.5\n",
            "Batch 40 : training loss = 0.1547774225473404; training acc = 96.0\n",
            "Batch 60 : training loss = 0.18261879682540894; training acc = 93.5\n",
            "Batch 80 : training loss = 0.17540307343006134; training acc = 95.0\n",
            "Epoch 5 : Validation loss = 0.3864622212201357; Validation acc = 83.38\n",
            "Epoch 5 : Test loss = 0.4270644683614373; Test acc = 80.536\n"
          ]
        }
      ]
    },
    {
      "cell_type": "code",
      "source": [
        "_ = experiment2(model2, opt2, criterion, train_dataloader, valid_dataloader, test_dataloader)"
      ],
      "metadata": {
        "colab": {
          "base_uri": "https://localhost:8080/"
        },
        "id": "MGPHoGa6JjsQ",
        "outputId": "0148da3c-1929-4d9c-9853-0f919e0ae007"
      },
      "execution_count": null,
      "outputs": [
        {
          "output_type": "stream",
          "name": "stdout",
          "text": [
            "Beginning training...\n",
            "Epoch 1:\n",
            "Batch 0 : training loss = 0.6902784705162048; training acc = 53.5\n",
            "Batch 20 : training loss = 0.6819759607315063; training acc = 62.5\n",
            "Batch 40 : training loss = 0.6680946350097656; training acc = 68.5\n",
            "Batch 60 : training loss = 0.6668068766593933; training acc = 63.0\n",
            "Batch 80 : training loss = 0.6585605144500732; training acc = 64.5\n",
            "Epoch 1 : Validation loss = 0.6500131657719612; Validation acc = 65.4\n",
            "Epoch 2:\n",
            "Batch 0 : training loss = 0.6429851055145264; training acc = 69.5\n",
            "Batch 20 : training loss = 0.6448109149932861; training acc = 67.5\n",
            "Batch 40 : training loss = 0.6355626583099365; training acc = 67.0\n",
            "Batch 60 : training loss = 0.6447816491127014; training acc = 63.0\n",
            "Batch 80 : training loss = 0.6259084939956665; training acc = 70.5\n",
            "Epoch 2 : Validation loss = 0.6279470634460449; Validation acc = 67.3\n",
            "Epoch 3:\n",
            "Batch 0 : training loss = 0.6097700595855713; training acc = 72.0\n",
            "Batch 20 : training loss = 0.6412249803543091; training acc = 70.0\n",
            "Batch 40 : training loss = 0.5975667834281921; training acc = 73.0\n",
            "Batch 60 : training loss = 0.6200206875801086; training acc = 68.0\n",
            "Batch 80 : training loss = 0.6077854037284851; training acc = 71.0\n",
            "Epoch 3 : Validation loss = 0.6119880440831185; Validation acc = 68.88\n",
            "Epoch 4:\n",
            "Batch 0 : training loss = 0.6147334575653076; training acc = 69.5\n",
            "Batch 20 : training loss = 0.6272482872009277; training acc = 67.5\n",
            "Batch 40 : training loss = 0.5727218985557556; training acc = 72.0\n",
            "Batch 60 : training loss = 0.6051722764968872; training acc = 69.5\n",
            "Batch 80 : training loss = 0.5968902707099915; training acc = 71.0\n",
            "Epoch 4 : Validation loss = 0.5990340341627598; Validation acc = 69.76\n",
            "Epoch 5:\n",
            "Batch 0 : training loss = 0.6087480187416077; training acc = 70.0\n",
            "Batch 20 : training loss = 0.5917628407478333; training acc = 69.5\n",
            "Batch 40 : training loss = 0.5582846403121948; training acc = 73.0\n",
            "Batch 60 : training loss = 0.6098775267601013; training acc = 68.5\n",
            "Batch 80 : training loss = 0.5732535123825073; training acc = 73.0\n",
            "Epoch 5 : Validation loss = 0.5881470711529255; Validation acc = 70.62\n",
            "Epoch 5 : Test loss = 0.5884866221249103; Test acc = 70.78\n"
          ]
        }
      ]
    },
    {
      "cell_type": "code",
      "source": [
        "_ = experiment2(model3, opt3, criterion, train_dataloader, valid_dataloader, test_dataloader)"
      ],
      "metadata": {
        "colab": {
          "base_uri": "https://localhost:8080/"
        },
        "id": "wKGvo0LqJoZR",
        "outputId": "42c7e842-f902-49c5-f0a2-ddae2b688b4c"
      },
      "execution_count": null,
      "outputs": [
        {
          "output_type": "stream",
          "name": "stdout",
          "text": [
            "Beginning training...\n",
            "Epoch 1:\n",
            "Batch 0 : training loss = 0.7032073736190796; training acc = 45.5\n",
            "Batch 20 : training loss = 0.6728559732437134; training acc = 65.5\n",
            "Batch 40 : training loss = 0.6517198085784912; training acc = 66.5\n",
            "Batch 60 : training loss = 0.6255924105644226; training acc = 71.5\n",
            "Batch 80 : training loss = 0.5895278453826904; training acc = 72.5\n",
            "Epoch 1 : Validation loss = 0.5391955730319024; Validation acc = 75.36\n",
            "Epoch 2:\n",
            "Batch 0 : training loss = 0.515627384185791; training acc = 79.0\n",
            "Batch 20 : training loss = 0.4956897497177124; training acc = 80.0\n",
            "Batch 40 : training loss = 0.4586741328239441; training acc = 79.5\n",
            "Batch 60 : training loss = 0.42906174063682556; training acc = 83.5\n",
            "Batch 80 : training loss = 0.4252561330795288; training acc = 80.5\n",
            "Epoch 2 : Validation loss = 0.4171526010334492; Validation acc = 81.62\n",
            "Epoch 3:\n",
            "Batch 0 : training loss = 0.3311728537082672; training acc = 85.5\n",
            "Batch 20 : training loss = 0.27371692657470703; training acc = 91.5\n",
            "Batch 40 : training loss = 0.27792298793792725; training acc = 88.5\n",
            "Batch 60 : training loss = 0.3113851845264435; training acc = 88.0\n",
            "Batch 80 : training loss = 0.24654757976531982; training acc = 91.5\n",
            "Epoch 3 : Validation loss = 0.38211944229900835; Validation acc = 83.52\n",
            "Epoch 4:\n",
            "Batch 0 : training loss = 0.23159915208816528; training acc = 92.0\n",
            "Batch 20 : training loss = 0.17908397316932678; training acc = 94.0\n",
            "Batch 40 : training loss = 0.23223713040351868; training acc = 91.5\n",
            "Batch 60 : training loss = 0.18598872423171997; training acc = 94.5\n",
            "Batch 80 : training loss = 0.1946433037519455; training acc = 95.0\n",
            "Epoch 4 : Validation loss = 0.37455941788852215; Validation acc = 84.1\n",
            "Epoch 5:\n",
            "Batch 0 : training loss = 0.1803700029850006; training acc = 94.0\n",
            "Batch 20 : training loss = 0.1476248800754547; training acc = 96.5\n",
            "Batch 40 : training loss = 0.1409619152545929; training acc = 97.0\n",
            "Batch 60 : training loss = 0.10571620613336563; training acc = 98.5\n",
            "Batch 80 : training loss = 0.12415571510791779; training acc = 97.0\n",
            "Epoch 5 : Validation loss = 0.380307741612196; Validation acc = 84.08\n",
            "Early stopping.\n",
            "Epoch 5 : Test loss = 0.4322601198330522; Test acc = 80.672\n"
          ]
        }
      ]
    },
    {
      "cell_type": "code",
      "source": [
        "train_data2, valid_data2, test_data2, train_word2idx2 = generate_data(10)"
      ],
      "metadata": {
        "id": "3XY-p1yMYzKS"
      },
      "execution_count": null,
      "outputs": []
    },
    {
      "cell_type": "code",
      "source": [
        "GloveEmbeddings2 = generate_GloveEmbeddings(train_word2idx2)"
      ],
      "metadata": {
        "id": "zBdGV3NDMK4O"
      },
      "execution_count": null,
      "outputs": []
    },
    {
      "cell_type": "code",
      "source": [
        "train_dataloader2 = DataLoader(train_data2, batch_size = 200, shuffle=True)\n",
        "valid_dataloader2 = DataLoader(valid_data2, batch_size = 25)\n",
        "test_dataloader2 = DataLoader(test_data2, batch_size = 25)"
      ],
      "metadata": {
        "id": "Ng1oocegMeY_"
      },
      "execution_count": null,
      "outputs": []
    },
    {
      "cell_type": "code",
      "source": [
        "model1 = AveragingModel(300, len(train_word2idx2))\n",
        "opt1 = optim.Adam(model1.parameters(), lr = 0.0025, betas = (0.9, 0.999))\n",
        "model2 = PretrainedAveragingModel(torch.FloatTensor(GloveEmbeddings2), requires_grad=False)\n",
        "opt2 = optim.Adam(model2.parameters(), lr=0.0025, betas=(0.9, 0.999))\n",
        "model3 = PretrainedAveragingModel(torch.FloatTensor(GloveEmbeddings2), requires_grad=True)\n",
        "opt3 = optim.Adam(model3.parameters(), lr=0.0025, betas=(0.9, 0.999))"
      ],
      "metadata": {
        "id": "GOSFfAKDMeY_"
      },
      "execution_count": null,
      "outputs": []
    },
    {
      "cell_type": "code",
      "source": [
        "_ = experiment2(model1, opt1, criterion, train_dataloader2, valid_dataloader2, test_dataloader2)\n",
        "_ = experiment2(model2, opt2, criterion, train_dataloader2, valid_dataloader2, test_dataloader2)\n",
        "_ = experiment2(model3, opt3, criterion, train_dataloader2, valid_dataloader2, test_dataloader2)"
      ],
      "metadata": {
        "id": "10NJgOIMY4Si",
        "colab": {
          "base_uri": "https://localhost:8080/"
        },
        "outputId": "9b80ccd5-bdd4-40c9-d63f-224c1e3bb43a"
      },
      "execution_count": null,
      "outputs": [
        {
          "output_type": "stream",
          "name": "stdout",
          "text": [
            "Beginning training...\n",
            "Epoch 1:\n",
            "Batch 0 : training loss = 0.6920394897460938; training acc = 52.0\n",
            "Batch 20 : training loss = 0.6724687218666077; training acc = 62.5\n",
            "Batch 40 : training loss = 0.6473925113677979; training acc = 66.0\n",
            "Batch 60 : training loss = 0.6145668029785156; training acc = 70.0\n",
            "Batch 80 : training loss = 0.5942036509513855; training acc = 70.5\n",
            "Epoch 1 : Validation loss = 0.5634931924939156; Validation acc = 72.84\n",
            "Epoch 2:\n",
            "Batch 0 : training loss = 0.580030083656311; training acc = 74.5\n",
            "Batch 20 : training loss = 0.5061113834381104; training acc = 75.0\n",
            "Batch 40 : training loss = 0.4683142900466919; training acc = 78.0\n",
            "Batch 60 : training loss = 0.42575764656066895; training acc = 85.5\n",
            "Batch 80 : training loss = 0.4915919899940491; training acc = 76.5\n",
            "Epoch 2 : Validation loss = 0.4532425111532211; Validation acc = 79.74\n",
            "Epoch 3:\n",
            "Batch 0 : training loss = 0.36850884556770325; training acc = 88.5\n",
            "Batch 20 : training loss = 0.44089359045028687; training acc = 82.0\n",
            "Batch 40 : training loss = 0.3366982340812683; training acc = 88.5\n",
            "Batch 60 : training loss = 0.3614627420902252; training acc = 84.5\n",
            "Batch 80 : training loss = 0.31548964977264404; training acc = 86.0\n",
            "Epoch 3 : Validation loss = 0.40747166275978086; Validation acc = 82.24\n",
            "Epoch 4:\n",
            "Batch 0 : training loss = 0.28062745928764343; training acc = 89.0\n",
            "Batch 20 : training loss = 0.29237744212150574; training acc = 90.5\n",
            "Batch 40 : training loss = 0.29398760199546814; training acc = 90.0\n",
            "Batch 60 : training loss = 0.2926047146320343; training acc = 89.0\n",
            "Batch 80 : training loss = 0.2984527349472046; training acc = 88.5\n",
            "Epoch 4 : Validation loss = 0.3927136342972517; Validation acc = 82.86\n",
            "Epoch 5:\n",
            "Batch 0 : training loss = 0.24420487880706787; training acc = 90.5\n",
            "Batch 20 : training loss = 0.20584696531295776; training acc = 93.5\n",
            "Batch 40 : training loss = 0.254738450050354; training acc = 91.0\n",
            "Batch 60 : training loss = 0.3025534749031067; training acc = 88.5\n",
            "Batch 80 : training loss = 0.248663067817688; training acc = 89.5\n",
            "Epoch 5 : Validation loss = 0.3885983032733202; Validation acc = 83.32\n",
            "Epoch 5 : Test loss = 0.42503337332233787; Test acc = 80.48\n",
            "Beginning training...\n",
            "Epoch 1:\n",
            "Batch 0 : training loss = 0.6933348774909973; training acc = 47.0\n",
            "Batch 20 : training loss = 0.6843920946121216; training acc = 56.5\n",
            "Batch 40 : training loss = 0.662558376789093; training acc = 72.0\n",
            "Batch 60 : training loss = 0.6838542222976685; training acc = 57.5\n",
            "Batch 80 : training loss = 0.6458755731582642; training acc = 65.5\n",
            "Epoch 1 : Validation loss = 0.6540112742781639; Validation acc = 64.88\n",
            "Epoch 2:\n",
            "Batch 0 : training loss = 0.6555413603782654; training acc = 63.5\n",
            "Batch 20 : training loss = 0.6514938473701477; training acc = 62.0\n",
            "Batch 40 : training loss = 0.6342342495918274; training acc = 70.5\n",
            "Batch 60 : training loss = 0.6314359903335571; training acc = 69.5\n",
            "Batch 80 : training loss = 0.6341594457626343; training acc = 67.5\n",
            "Epoch 2 : Validation loss = 0.6324739298224449; Validation acc = 66.8\n",
            "Epoch 3:\n",
            "Batch 0 : training loss = 0.6141452789306641; training acc = 66.5\n",
            "Batch 20 : training loss = 0.5948899388313293; training acc = 72.0\n",
            "Batch 40 : training loss = 0.6283319592475891; training acc = 72.0\n",
            "Batch 60 : training loss = 0.6009405255317688; training acc = 74.0\n",
            "Batch 80 : training loss = 0.6155744791030884; training acc = 66.5\n",
            "Epoch 3 : Validation loss = 0.6157456329464912; Validation acc = 68.08\n",
            "Epoch 4:\n",
            "Batch 0 : training loss = 0.5813872814178467; training acc = 76.5\n",
            "Batch 20 : training loss = 0.6159878373146057; training acc = 71.5\n",
            "Batch 40 : training loss = 0.6130962371826172; training acc = 65.5\n",
            "Batch 60 : training loss = 0.6135410666465759; training acc = 67.5\n",
            "Batch 80 : training loss = 0.5988170504570007; training acc = 69.5\n",
            "Epoch 4 : Validation loss = 0.6022186109423637; Validation acc = 69.4\n",
            "Epoch 5:\n",
            "Batch 0 : training loss = 0.5985026955604553; training acc = 71.5\n",
            "Batch 20 : training loss = 0.6126724481582642; training acc = 71.5\n",
            "Batch 40 : training loss = 0.5898851156234741; training acc = 71.0\n",
            "Batch 60 : training loss = 0.5875318050384521; training acc = 75.0\n",
            "Batch 80 : training loss = 0.5904865860939026; training acc = 68.0\n",
            "Epoch 5 : Validation loss = 0.5916481305658817; Validation acc = 70.12\n",
            "Epoch 5 : Test loss = 0.5923030627369881; Test acc = 70.46\n",
            "Beginning training...\n",
            "Epoch 1:\n",
            "Batch 0 : training loss = 0.7125908732414246; training acc = 46.5\n",
            "Batch 20 : training loss = 0.6821165680885315; training acc = 53.5\n",
            "Batch 40 : training loss = 0.6564404368400574; training acc = 69.0\n",
            "Batch 60 : training loss = 0.6086598634719849; training acc = 74.0\n",
            "Batch 80 : training loss = 0.5734639167785645; training acc = 75.5\n",
            "Epoch 1 : Validation loss = 0.5459022243320942; Validation acc = 74.84\n",
            "Epoch 2:\n",
            "Batch 0 : training loss = 0.5266318321228027; training acc = 75.5\n",
            "Batch 20 : training loss = 0.46944117546081543; training acc = 83.0\n",
            "Batch 40 : training loss = 0.45320823788642883; training acc = 81.5\n",
            "Batch 60 : training loss = 0.45578184723854065; training acc = 78.0\n",
            "Batch 80 : training loss = 0.39790284633636475; training acc = 86.0\n",
            "Epoch 2 : Validation loss = 0.42327201180160046; Validation acc = 81.3\n",
            "Epoch 3:\n",
            "Batch 0 : training loss = 0.3743212819099426; training acc = 84.0\n",
            "Batch 20 : training loss = 0.324138879776001; training acc = 88.0\n",
            "Batch 40 : training loss = 0.34056150913238525; training acc = 90.0\n",
            "Batch 60 : training loss = 0.33567410707473755; training acc = 87.0\n",
            "Batch 80 : training loss = 0.33375728130340576; training acc = 86.5\n",
            "Epoch 3 : Validation loss = 0.3894745592027903; Validation acc = 83.0\n",
            "Epoch 4:\n",
            "Batch 0 : training loss = 0.22386600077152252; training acc = 92.0\n",
            "Batch 20 : training loss = 0.31037864089012146; training acc = 91.5\n",
            "Batch 40 : training loss = 0.27731752395629883; training acc = 92.0\n",
            "Batch 60 : training loss = 0.2877735197544098; training acc = 87.5\n",
            "Batch 80 : training loss = 0.27221518754959106; training acc = 89.5\n",
            "Epoch 4 : Validation loss = 0.38355367600917817; Validation acc = 83.26\n",
            "Epoch 5:\n",
            "Batch 0 : training loss = 0.25011709332466125; training acc = 91.0\n",
            "Batch 20 : training loss = 0.23617467284202576; training acc = 92.5\n",
            "Batch 40 : training loss = 0.2044563889503479; training acc = 92.0\n",
            "Batch 60 : training loss = 0.1971837878227234; training acc = 95.0\n",
            "Batch 80 : training loss = 0.18279294669628143; training acc = 94.0\n",
            "Epoch 5 : Validation loss = 0.388004407659173; Validation acc = 83.52\n",
            "Early stopping.\n",
            "Epoch 5 : Test loss = 0.43370651980116964; Test acc = 80.436\n"
          ]
        }
      ]
    },
    {
      "cell_type": "markdown",
      "source": [
        "Summary\n",
        "\n",
        "| min freq                       | 1      | 5      | 10     |\n",
        "|--------------------------------|--------|--------|--------|\n",
        "| naive                          | 79.792 | 80.540 | 80.268 |\n",
        "| pretrained without fine tuning | 73.124 | 70.416 | 70.688 |\n",
        "| pretrained with fine tuning    | 79.564 | 80.136 | 80.456 |\n",
        "\n",
        "From experiment we found that lowering threshold will improve the pretrained without find tunning method but doesn't influence much to the other two methods.\n"
      ],
      "metadata": {
        "id": "DkpKV7lKNmmL"
      }
    },
    {
      "cell_type": "markdown",
      "metadata": {
        "id": "KTl3gbSUMBLw"
      },
      "source": [
        "## 5 - Creating a LSTM model"
      ]
    },
    {
      "cell_type": "code",
      "execution_count": null,
      "metadata": {
        "id": "8yaj6nLJMDR4",
        "colab": {
          "base_uri": "https://localhost:8080/"
        },
        "outputId": "74b44a68-6644-4083-9313-a35f39462380"
      },
      "outputs": [
        {
          "output_type": "stream",
          "name": "stdout",
          "text": [
            "tensor([[[ 0.0543, -0.2970,  0.0012]],\n",
            "\n",
            "        [[-0.0287,  0.0229,  0.0710]],\n",
            "\n",
            "        [[ 0.0020, -0.0683,  0.1990]],\n",
            "\n",
            "        [[-0.0054, -0.0306,  0.2377]],\n",
            "\n",
            "        [[-0.0381, -0.0047,  0.2540]]], grad_fn=<StackBackward0>)\n",
            "(tensor([[[-0.0381, -0.0047,  0.2540]]], grad_fn=<StackBackward0>), tensor([[[-0.0853, -0.0117,  0.7406]]], grad_fn=<StackBackward0>))\n"
          ]
        }
      ],
      "source": [
        "# Create a toy example of LSTM: \n",
        "lstm = nn.LSTM(3, 3)  # Input dim is 3, output dim is 3\n",
        "inputs = [torch.randn(1, 3) for _ in range(5)]  # make a sequence of length 5\n",
        "\n",
        "# LSTMs expect inputs having 3 dimensions:\n",
        "# - The first dimension is the temporal dimension, along which we (in our case) have the different words\n",
        "# - The second dimension is the batch dimension, along which we stack the independant batches\n",
        "# - The third dimension is the feature dimension, along which are the features of the vector representing the words\n",
        "\n",
        "# In our toy case, we have inputs and outputs containing 3 features (third dimension !)\n",
        "# We created a sequence of 5 different inputs (first dimension !)\n",
        "# We don't use batch (the second dimension will have one element)\n",
        "\n",
        "# We need an initial hidden state, of the right sizes for dimension 2/3, but with only one temporal element:\n",
        "# Here, it is:\n",
        "hidden = (torch.randn(1, 1, 3), torch.randn(1, 1, 3))\n",
        "# Why do we create a tuple of two tensors ? Because we use LSTMs: remember that they use two sets of weights,\n",
        "# and two hidden states (Hidden state, and Cell state).\n",
        "# If you don't remember, read: https://colah.github.io/posts/2015-08-Understanding-LSTMs/\n",
        "# If we used a classic RNN, we would simply have:\n",
        "# hidden = torch.randn(1, 1, 3)\n",
        "\n",
        "# The naive way of applying a lstm to inputs is to apply it one step at a time, and loop through the sequence\n",
        "for i in inputs:\n",
        "  # After each step, hidden contains the hidden states (remember, it's a tuple of two states).\n",
        "  out, hidden = lstm(i.view(1, 1, -1), hidden)\n",
        "    \n",
        "# Alternatively, we can do the entire sequence all at once.\n",
        "# The first value returned by LSTM is all of the Hidden states throughout the sequence.\n",
        "# The second is just the most recent Hidden state and Cell state (you can compare the values)\n",
        "# The reason for this is that:\n",
        "# \"out\" will give you access to all hidden states in the sequence, for each temporal step\n",
        "# \"hidden\" will allow you to continue the sequence and backpropagate later, with another sequence\n",
        "inputs = torch.cat(inputs).view(len(inputs), 1, -1)\n",
        "hidden = (torch.randn(1, 1, 3), torch.randn(1, 1, 3))  # Re-initialize\n",
        "out, hidden = lstm(inputs, hidden)\n",
        "print(out)\n",
        "print(hidden)"
      ]
    },
    {
      "cell_type": "code",
      "source": [
        "print(i)\n",
        "print(i.view(1,1,-1))"
      ],
      "metadata": {
        "colab": {
          "base_uri": "https://localhost:8080/"
        },
        "id": "DVbPim7FVPlb",
        "outputId": "9c744c68-af2b-4c3a-a8b6-e9760e4e38eb"
      },
      "execution_count": null,
      "outputs": [
        {
          "output_type": "stream",
          "name": "stdout",
          "text": [
            "tensor([[-0.2940,  0.4556,  0.1856]])\n",
            "tensor([[[-0.2940,  0.4556,  0.1856]]])\n"
          ]
        }
      ]
    },
    {
      "cell_type": "code",
      "execution_count": null,
      "metadata": {
        "id": "BmIAKrCLVv2O"
      },
      "outputs": [],
      "source": [
        "training_dataset = TextClassificationDataset(train_texts_splt, train_labels_splt)\n",
        "training_word2idx, training_idx2word = training_dataset.get_vocab()"
      ]
    },
    {
      "cell_type": "code",
      "execution_count": null,
      "metadata": {
        "id": "8qPbJ_vNVv2P"
      },
      "outputs": [],
      "source": [
        "valid_dataset = TextClassificationDataset(val_texts, val_labels, (training_word2idx, training_idx2word))"
      ]
    },
    {
      "cell_type": "code",
      "execution_count": null,
      "metadata": {
        "id": "0jo9beCDVv2P"
      },
      "outputs": [],
      "source": [
        "test_dataset = TextClassificationDataset(test_texts, test_labels, (training_word2idx, training_idx2word))"
      ]
    },
    {
      "cell_type": "code",
      "execution_count": null,
      "metadata": {
        "id": "iWvpxTmVVv2P"
      },
      "outputs": [],
      "source": [
        "training_dataloader = DataLoader(training_dataset, batch_size = 200, shuffle=True)\n",
        "valid_dataloader = DataLoader(valid_dataset, batch_size = 25)\n",
        "test_dataloader = DataLoader(test_dataset, batch_size = 25)"
      ]
    },
    {
      "cell_type": "code",
      "source": [
        "GloveEmbeddings = generate_GloveEmbeddings(training_word2idx)"
      ],
      "metadata": {
        "id": "GPdu6x_5RKWK"
      },
      "execution_count": null,
      "outputs": []
    },
    {
      "cell_type": "markdown",
      "metadata": {
        "id": "QxCCoIVwMEoX"
      },
      "source": [
        "We'll implement now a LSTM model, taking the same inputs and also outputing a score for the sentence."
      ]
    },
    {
      "cell_type": "markdown",
      "metadata": {
        "id": "ESwBoOomqF0x"
      },
      "source": [
        "<div class='alert alert-block alert-info'>\n",
        "            Code:</div>"
      ]
    },
    {
      "cell_type": "code",
      "execution_count": null,
      "metadata": {
        "id": "7obmINvlMGCB"
      },
      "outputs": [],
      "source": [
        "# Models are usually implemented as custom nn.Module subclass\n",
        "# We need to redefine the __init__ method, which creates the object\n",
        "# We also need to redefine the forward method, which transform the input into outputs\n",
        "\n",
        "class LSTMModel(nn.Module):\n",
        "  def __init__(self, embedding_dim, vocabulary_size, hidden_dim, embeddings=None, fine_tuning=False):\n",
        "    super().__init__()\n",
        "    self.hidden_dim = hidden_dim\n",
        "    if embeddings is not None:\n",
        "      self.embedding = nn.Embedding.from_pretrained(embeddings).requires_grad_(fine_tuning)\n",
        "    else:\n",
        "      self.embedding = nn.Embedding(vocabulary_size+1, embedding_dim, padding_idx = 0)\n",
        "    # input_size = number of features i,e, embedding_dim here\n",
        "    self.lstm = nn.LSTM(embedding_dim, hidden_dim, batch_first = True)\n",
        "    self.linear = nn.Linear(hidden_dim, 1)\n",
        "  def forward(self, inputs):\n",
        "    # input.shape = (batch_size, seq_length)\n",
        "    embeds = self.embedding(inputs)\n",
        "    # embeds.shape = (batch_size, seq_length, input_size)\n",
        "    # output vs h_n see https://stackoverflow.com/questions/48302810/whats-the-difference-between-hidden-and-output-in-pytorch-lstm\n",
        "    _, (h_n, _) = self.lstm(embeds)\n",
        "    score = self.linear(h_n[-1]).squeeze() # since it is a one-layer lstm, the last layer is just the first layer\n",
        "    # print(score.shape)\n",
        "    return score\n"
      ]
    },
    {
      "cell_type": "markdown",
      "metadata": {
        "id": "55yoCnZCMMzh"
      },
      "source": [
        "<div class='alert alert-block alert-warning'>\n",
        "            Questions:</div>\n",
        "            \n",
        "- What do you see with a simple application of LSTM models ? List the possible reasons for that result (these could be linked to the data, the way it is pre-processed, the architecture, and the training procedure). "
      ]
    },
    {
      "cell_type": "code",
      "execution_count": null,
      "metadata": {
        "id": "NeihrVgpMILu"
      },
      "outputs": [],
      "source": [
        "lstm_no_pretrained = LSTMModel(300, len(training_word2idx), 100)\n",
        "opt_lstm_no_pretrained = optim.Adam(lstm_no_pretrained.parameters(), lr=0.0025, betas=(0.9,0.999))"
      ]
    },
    {
      "cell_type": "code",
      "execution_count": null,
      "metadata": {
        "id": "IS6apFUyMTdE",
        "colab": {
          "base_uri": "https://localhost:8080/"
        },
        "outputId": "657000e3-524b-4c02-ea9d-ae7ad23aa79d"
      },
      "outputs": [
        {
          "output_type": "stream",
          "name": "stdout",
          "text": [
            "Beginning training...\n",
            "Epoch 1:\n",
            "Batch 0 : training loss = 0.6944324970245361; training acc = 53.0\n",
            "Batch 20 : training loss = 0.6862580180168152; training acc = 55.0\n",
            "Batch 40 : training loss = 0.6932951211929321; training acc = 55.0\n",
            "Batch 60 : training loss = 0.684945285320282; training acc = 53.5\n",
            "Batch 80 : training loss = 0.669968843460083; training acc = 57.0\n",
            "Epoch 1 : Validation loss = 0.6770656058192253; Validation acc = 57.22\n",
            "Epoch 2:\n",
            "Batch 0 : training loss = 0.6542009711265564; training acc = 60.5\n",
            "Batch 20 : training loss = 0.6325419545173645; training acc = 61.5\n",
            "Batch 40 : training loss = 0.605177104473114; training acc = 68.0\n",
            "Batch 60 : training loss = 0.6092445850372314; training acc = 69.0\n",
            "Batch 80 : training loss = 0.5424492359161377; training acc = 76.0\n",
            "Epoch 2 : Validation loss = 0.6485820643603801; Validation acc = 62.44\n",
            "Epoch 3:\n",
            "Batch 0 : training loss = 0.5434356927871704; training acc = 76.5\n",
            "Batch 20 : training loss = 0.49144619703292847; training acc = 76.5\n",
            "Batch 40 : training loss = 0.4187701344490051; training acc = 80.0\n",
            "Batch 60 : training loss = 0.4043290615081787; training acc = 84.5\n",
            "Batch 80 : training loss = 0.48743000626564026; training acc = 80.0\n",
            "Epoch 3 : Validation loss = 0.580186349004507; Validation acc = 72.34\n",
            "Epoch 4:\n",
            "Batch 0 : training loss = 0.36616992950439453; training acc = 84.5\n",
            "Batch 20 : training loss = 0.3872501254081726; training acc = 85.0\n",
            "Batch 40 : training loss = 0.35711604356765747; training acc = 85.5\n",
            "Batch 60 : training loss = 0.3000522255897522; training acc = 88.0\n",
            "Batch 80 : training loss = 0.2311733067035675; training acc = 90.0\n",
            "Epoch 4 : Validation loss = 0.6057224449515343; Validation acc = 75.46\n",
            "Early stopping.\n",
            "Epoch 4 : Test loss = 0.6373197696097195; Test acc = 73.576\n"
          ]
        }
      ],
      "source": [
        "train_losses, _ = experiment2(lstm_no_pretrained, opt_lstm_no_pretrained, criterion, training_dataloader, valid_dataloader, test_dataloader)"
      ]
    },
    {
      "cell_type": "code",
      "source": [
        "plt.plot(train_losses)"
      ],
      "metadata": {
        "colab": {
          "base_uri": "https://localhost:8080/",
          "height": 282
        },
        "id": "3pkwHp6lga39",
        "outputId": "f04bfc9a-3d54-43fb-c379-dbad4594e77c"
      },
      "execution_count": null,
      "outputs": [
        {
          "output_type": "execute_result",
          "data": {
            "text/plain": [
              "[<matplotlib.lines.Line2D at 0x7fea69414390>]"
            ]
          },
          "metadata": {},
          "execution_count": 75
        },
        {
          "output_type": "display_data",
          "data": {
            "text/plain": [
              "<Figure size 432x288 with 1 Axes>"
            ],
            "image/png": "[encoded data removed]"
          },
          "metadata": {
            "needs_background": "light"
          }
        }
      ]
    },
    {
      "cell_type": "code",
      "execution_count": null,
      "metadata": {
        "id": "ig7L1Qv3jivr"
      },
      "outputs": [],
      "source": [
        "lstm_pretrained = LSTMModel(300, len(training_word2idx), 100, torch.FloatTensor(GloveEmbeddings))\n",
        "opt_lstm_pretrained = optim.Adam(lstm_pretrained.parameters(), lr=0.0025, betas=(0.9,0.999))"
      ]
    },
    {
      "cell_type": "code",
      "execution_count": null,
      "metadata": {
        "colab": {
          "base_uri": "https://localhost:8080/"
        },
        "outputId": "69aa99b7-a682-4132-e95a-44b82e0b7d28",
        "id": "lOWk3q4ujivy"
      },
      "outputs": [
        {
          "output_type": "stream",
          "name": "stdout",
          "text": [
            "Beginning training...\n",
            "Epoch 1:\n",
            "Batch 0 : training loss = 0.695645272731781; training acc = 46.0\n",
            "Batch 20 : training loss = 0.6896180510520935; training acc = 53.5\n",
            "Batch 40 : training loss = 0.6647027730941772; training acc = 61.0\n",
            "Batch 60 : training loss = 0.6347398161888123; training acc = 65.0\n",
            "Batch 80 : training loss = 0.6704243421554565; training acc = 55.5\n",
            "Epoch 1 : Validation loss = 0.636068576425314; Validation acc = 65.44\n",
            "Epoch 2:\n",
            "Batch 0 : training loss = 0.5862404108047485; training acc = 70.5\n",
            "Batch 20 : training loss = 0.5587217211723328; training acc = 69.0\n",
            "Batch 40 : training loss = 0.578692615032196; training acc = 72.5\n",
            "Batch 60 : training loss = 0.7075746655464172; training acc = 55.5\n",
            "Batch 80 : training loss = 0.5878917574882507; training acc = 73.0\n",
            "Epoch 2 : Validation loss = 0.5531611815094948; Validation acc = 73.52\n",
            "Epoch 3:\n",
            "Batch 0 : training loss = 0.5431809425354004; training acc = 75.0\n",
            "Batch 20 : training loss = 0.5153287649154663; training acc = 76.0\n",
            "Batch 40 : training loss = 0.5645180940628052; training acc = 70.5\n",
            "Batch 60 : training loss = 0.46434861421585083; training acc = 81.5\n",
            "Batch 80 : training loss = 0.44017183780670166; training acc = 82.0\n",
            "Epoch 3 : Validation loss = 0.5929704166948795; Validation acc = 66.86\n",
            "Epoch 4:\n",
            "Batch 0 : training loss = 0.5773230791091919; training acc = 66.0\n",
            "Batch 20 : training loss = 0.5732269883155823; training acc = 72.0\n",
            "Batch 40 : training loss = 0.5057426691055298; training acc = 77.0\n",
            "Batch 60 : training loss = 0.4787989854812622; training acc = 78.0\n",
            "Batch 80 : training loss = 0.49454864859580994; training acc = 74.5\n",
            "Epoch 4 : Validation loss = 0.47706183806061747; Validation acc = 77.12\n",
            "Epoch 5:\n",
            "Batch 0 : training loss = 0.4961439371109009; training acc = 76.5\n",
            "Batch 20 : training loss = 0.41437843441963196; training acc = 83.0\n",
            "Batch 40 : training loss = 0.4646490514278412; training acc = 74.5\n",
            "Batch 60 : training loss = 0.5078124403953552; training acc = 75.5\n",
            "Batch 80 : training loss = 0.4446870684623718; training acc = 80.5\n",
            "Epoch 5 : Validation loss = 0.484910993129015; Validation acc = 76.5\n",
            "Epoch 5 : Test loss = 0.4834898599088192; Test acc = 76.644\n"
          ]
        }
      ],
      "source": [
        "train_losses, _ = experiment2(lstm_pretrained, opt_lstm_pretrained, criterion, training_dataloader, valid_dataloader, test_dataloader, early_stopping = False)"
      ]
    },
    {
      "cell_type": "code",
      "source": [
        "plt.plot(train_losses)"
      ],
      "metadata": {
        "colab": {
          "base_uri": "https://localhost:8080/",
          "height": 282
        },
        "outputId": "2bae54b6-d96d-4703-ad29-9c5133d2a291",
        "id": "wlGn3PO6jkNb"
      },
      "execution_count": null,
      "outputs": [
        {
          "output_type": "execute_result",
          "data": {
            "text/plain": [
              "[<matplotlib.lines.Line2D at 0x7fea694e68d0>]"
            ]
          },
          "metadata": {},
          "execution_count": 78
        },
        {
          "output_type": "display_data",
          "data": {
            "text/plain": [
              "<Figure size 432x288 with 1 Axes>"
            ],
            "image/png": "[encoded data removed]"
          },
          "metadata": {
            "needs_background": "light"
          }
        }
      ]
    },
    {
      "cell_type": "code",
      "execution_count": null,
      "metadata": {
        "id": "0avEcDI-mqnL"
      },
      "outputs": [],
      "source": [
        "lstm_pretrained_fine_tuning = LSTMModel(300, len(training_word2idx), 100, torch.FloatTensor(GloveEmbeddings), fine_tuning=True)\n",
        "opt_lstm_pretrained_fine_tuning = optim.Adam(lstm_pretrained_fine_tuning.parameters(), lr=0.0025, betas=(0.9,0.999))"
      ]
    },
    {
      "cell_type": "code",
      "execution_count": null,
      "metadata": {
        "colab": {
          "base_uri": "https://localhost:8080/"
        },
        "outputId": "fcf21cd3-0d39-436d-e32a-427db6de076e",
        "id": "OAbk3aQQmqnL"
      },
      "outputs": [
        {
          "output_type": "stream",
          "name": "stdout",
          "text": [
            "Beginning training...\n",
            "Epoch 1:\n",
            "Batch 0 : training loss = 0.6943264603614807; training acc = 46.5\n",
            "Batch 20 : training loss = 0.6629374027252197; training acc = 64.0\n",
            "Batch 40 : training loss = 0.5891351699829102; training acc = 67.5\n",
            "Batch 60 : training loss = 0.473491907119751; training acc = 81.0\n",
            "Batch 80 : training loss = 0.7622203230857849; training acc = 64.0\n",
            "Epoch 1 : Validation loss = 0.6502965620160103; Validation acc = 66.42\n",
            "Epoch 2:\n",
            "Batch 0 : training loss = 0.6568790674209595; training acc = 62.5\n",
            "Batch 20 : training loss = 0.5017474889755249; training acc = 79.0\n",
            "Batch 40 : training loss = 0.6429032683372498; training acc = 63.0\n",
            "Batch 60 : training loss = 0.6388832330703735; training acc = 68.0\n",
            "Batch 80 : training loss = 0.5826309323310852; training acc = 72.0\n",
            "Epoch 2 : Validation loss = 0.6238551804423332; Validation acc = 72.84\n",
            "Epoch 3:\n",
            "Batch 0 : training loss = 0.5351593494415283; training acc = 76.5\n",
            "Batch 20 : training loss = 0.42372021079063416; training acc = 85.5\n",
            "Batch 40 : training loss = 0.43035587668418884; training acc = 83.5\n",
            "Batch 60 : training loss = 0.34212955832481384; training acc = 86.5\n",
            "Batch 80 : training loss = 0.3261965215206146; training acc = 86.5\n",
            "Epoch 3 : Validation loss = 0.43760118529200553; Validation acc = 80.96\n",
            "Epoch 4:\n",
            "Batch 0 : training loss = 0.23391342163085938; training acc = 91.5\n",
            "Batch 20 : training loss = 0.153014674782753; training acc = 94.0\n",
            "Batch 40 : training loss = 0.2116330862045288; training acc = 92.5\n",
            "Batch 60 : training loss = 0.22409595549106598; training acc = 92.5\n",
            "Batch 80 : training loss = 0.23494884371757507; training acc = 89.5\n",
            "Epoch 4 : Validation loss = 0.473057575635612; Validation acc = 81.16\n",
            "Epoch 5:\n",
            "Batch 0 : training loss = 0.16164056956768036; training acc = 93.5\n",
            "Batch 20 : training loss = 0.18019422888755798; training acc = 95.0\n",
            "Batch 40 : training loss = 0.1599835902452469; training acc = 96.0\n",
            "Batch 60 : training loss = 0.169492706656456; training acc = 95.0\n",
            "Batch 80 : training loss = 0.1252736747264862; training acc = 97.5\n",
            "Epoch 5 : Validation loss = 0.5546112371981144; Validation acc = 76.12\n",
            "Epoch 5 : Test loss = 0.6376387375444174; Test acc = 71.2\n"
          ]
        }
      ],
      "source": [
        "train_losses, _ = experiment2(lstm_pretrained_fine_tuning, opt_lstm_pretrained_fine_tuning, criterion, training_dataloader, valid_dataloader, test_dataloader, early_stopping = False)"
      ]
    },
    {
      "cell_type": "code",
      "source": [
        "plt.plot(train_losses)"
      ],
      "metadata": {
        "colab": {
          "base_uri": "https://localhost:8080/",
          "height": 282
        },
        "outputId": "7c847977-351f-43fb-82ac-824572ee5593",
        "id": "OyLnUFjJmqnM"
      },
      "execution_count": null,
      "outputs": [
        {
          "output_type": "execute_result",
          "data": {
            "text/plain": [
              "[<matplotlib.lines.Line2D at 0x7fea69565990>]"
            ]
          },
          "metadata": {},
          "execution_count": 81
        },
        {
          "output_type": "display_data",
          "data": {
            "text/plain": [
              "<Figure size 432x288 with 1 Axes>"
            ],
            "image/png": "[encoded data removed]"
          },
          "metadata": {
            "needs_background": "light"
          }
        }
      ]
    },
    {
      "cell_type": "markdown",
      "source": [
        "Training RNN is slower than the previous model. For end-to-end training, we notice that the loss drops significantly between epochs. However in each epoch, the loss fluctuates more. For pretrained model without fine tuning, there is a flat stage of loss then the loss drops rapidly and oscillates wildly. For pretrained model with fine tuning, the loss behaviour is similar to end-to-end fashion but with less fluctuation. Also, the best test accuracy over these three model is achieved by the pretrained without fine tunning. But the other two models are not even better than the naive averaging model. The reasons may be: 1. we didn't benefit from the RNN architecture where it can process arbitrary length of sequence hence no need to padding or truncating, and this kind of preprocessing cannot help the model updating the embedding(we notice that both end-to-end and fine-tuning need update the embedding which result in a worse performance. 2. in previous methods, all embeddings has contributed to the score but here we only pick the last hidden state contributing to the score, maybe we are losing some information."
      ],
      "metadata": {
        "id": "UsvEj3-sg5Rg"
      }
    },
    {
      "cell_type": "markdown",
      "metadata": {
        "id": "RsPQtHgBRiVl"
      },
      "source": [
        "## 6 - Fine-tuning a Bert model\n",
        "\n",
        "Fine-tune the lightest BERT model available on IMDB data and compare it with previous results ! You should simply follow the tutorial and slightly adapt it to our way of obtaining the data:\n",
        "https://huggingface.co/docs/transformers/main/en/tasks/sequence_classification"
      ]
    },
    {
      "cell_type": "code",
      "execution_count": 8,
      "metadata": {
        "id": "TNG_DFckXKu5",
        "colab": {
          "base_uri": "https://localhost:8080/"
        },
        "outputId": "7a95f0d5-b814-4cc8-f77c-7cf27325218f"
      },
      "outputs": [
        {
          "output_type": "stream",
          "name": "stdout",
          "text": [
            "Looking in indexes: https://pypi.org/simple, https://us-python.pkg.dev/colab-wheels/public/simple/\n",
            "Collecting transformers\n",
            "  Downloading transformers-4.23.1-py3-none-any.whl (5.3 MB)\n",
            "\u001b[K     |████████████████████████████████| 5.3 MB 16.5 MB/s \n",
            "\u001b[?25hRequirement already satisfied: filelock in /usr/local/lib/python3.7/dist-packages (from transformers) (3.8.0)\n",
            "Requirement already satisfied: pyyaml>=5.1 in /usr/local/lib/python3.7/dist-packages (from transformers) (6.0)\n",
            "Requirement already satisfied: regex!=2019.12.17 in /usr/local/lib/python3.7/dist-packages (from transformers) (2022.6.2)\n",
            "Requirement already satisfied: importlib-metadata in /usr/local/lib/python3.7/dist-packages (from transformers) (4.13.0)\n",
            "Collecting huggingface-hub<1.0,>=0.10.0\n",
            "  Downloading huggingface_hub-0.10.1-py3-none-any.whl (163 kB)\n",
            "\u001b[K     |████████████████████████████████| 163 kB 62.5 MB/s \n",
            "\u001b[?25hRequirement already satisfied: tqdm>=4.27 in /usr/local/lib/python3.7/dist-packages (from transformers) (4.64.1)\n",
            "Requirement already satisfied: numpy>=1.17 in /usr/local/lib/python3.7/dist-packages (from transformers) (1.21.6)\n",
            "Collecting tokenizers!=0.11.3,<0.14,>=0.11.1\n",
            "  Downloading tokenizers-0.13.1-cp37-cp37m-manylinux_2_17_x86_64.manylinux2014_x86_64.whl (7.6 MB)\n",
            "\u001b[K     |████████████████████████████████| 7.6 MB 57.2 MB/s \n",
            "\u001b[?25hRequirement already satisfied: requests in /usr/local/lib/python3.7/dist-packages (from transformers) (2.23.0)\n",
            "Requirement already satisfied: packaging>=20.0 in /usr/local/lib/python3.7/dist-packages (from transformers) (21.3)\n",
            "Requirement already satisfied: typing-extensions>=3.7.4.3 in /usr/local/lib/python3.7/dist-packages (from huggingface-hub<1.0,>=0.10.0->transformers) (4.1.1)\n",
            "Requirement already satisfied: pyparsing!=3.0.5,>=2.0.2 in /usr/local/lib/python3.7/dist-packages (from packaging>=20.0->transformers) (3.0.9)\n",
            "Requirement already satisfied: zipp>=0.5 in /usr/local/lib/python3.7/dist-packages (from importlib-metadata->transformers) (3.9.0)\n",
            "Requirement already satisfied: urllib3!=1.25.0,!=1.25.1,<1.26,>=1.21.1 in /usr/local/lib/python3.7/dist-packages (from requests->transformers) (1.24.3)\n",
            "Requirement already satisfied: idna<3,>=2.5 in /usr/local/lib/python3.7/dist-packages (from requests->transformers) (2.10)\n",
            "Requirement already satisfied: chardet<4,>=3.0.2 in /usr/local/lib/python3.7/dist-packages (from requests->transformers) (3.0.4)\n",
            "Requirement already satisfied: certifi>=2017.4.17 in /usr/local/lib/python3.7/dist-packages (from requests->transformers) (2022.9.24)\n",
            "Installing collected packages: tokenizers, huggingface-hub, transformers\n",
            "Successfully installed huggingface-hub-0.10.1 tokenizers-0.13.1 transformers-4.23.1\n"
          ]
        }
      ],
      "source": [
        "!pip install transformers\n",
        "import transformers"
      ]
    },
    {
      "cell_type": "markdown",
      "source": [
        "Actually refer to https://huggingface.co/transformers/v3.2.0/custom_datasets.html#fine-tuning-with-native-pytorch-tensorflow is more suitable to our case"
      ],
      "metadata": {
        "id": "NxZizCEnwqnc"
      }
    },
    {
      "cell_type": "markdown",
      "metadata": {
        "id": "gapNYL61qF0y"
      },
      "source": [
        "<div class='alert alert-block alert-info'>\n",
        "            Code:</div>"
      ]
    },
    {
      "cell_type": "code",
      "source": [
        "from transformers import DistilBertTokenizerFast\n",
        "tokenizer = DistilBertTokenizerFast.from_pretrained('distilbert-base-uncased')"
      ],
      "metadata": {
        "id": "3H4noqDd0bWG",
        "colab": {
          "base_uri": "https://localhost:8080/",
          "height": 145,
          "referenced_widgets": [
            "cdb8820e436f449f95e057bb88a531d3",
            "ca49a5296dd242eda5b8c055936c61e7",
            "3b8f488087f645dbac3c677c05232ed9",
            "9bb304ccb59b47f3bc6be37907c0a871",
            "4ed85d7ce41b4c67ae2f8b4067fba6ce",
            "e21e0587fae14b3fa379e814d400c665",
            "e6dbc030cba74d3ea326a3f08e484264",
            "4296f8ff93374eeb9f039e497160bf48",
            "33f187953a9b43ea8be487c3e28db4c9",
            "a62d787dce3c44fab161e576dc51e30f",
            "949e8658e9c74bf3b22a25cbc3e75dd4",
            "97edab635200490b9e4fd3acfd221cff",
            "c57c71d898b74727a7e8f59a3d6e6150",
            "ba20fa46266a46849c410f0a09ce45ce",
            "8cf7331a918a418aa63333a6015dfeac",
            "d32b0309abed4f0196e74cb2cb48e9f5",
            "aa1a35507a1b4256b90d9826ed1fd36a",
            "7b946c8cc0ca451d96ea70662082f83f",
            "2a73ccfdf23c481fa6cdb99f084d59ad",
            "7dbd22cb240c45ecae501f3f50617aad",
            "507cec285d0b4afeb6e5040d62a3ba3a",
            "295752303d8a43aca48b282a728bbcc4",
            "0b015cb561b14df7a74adaf1907fda1d",
            "affbcf82de944712becfb6a8b17c25dc",
            "5a7a882dfa784f88b1efb6e7830b3ec3",
            "97f774693f2848019452d4f71df2c8fd",
            "854bbe92098a47a2902903d9a0beac5d",
            "d7c4e813d98c4939939c23f6c943e7e7",
            "ef97232640dc42e79f026c67de108dd7",
            "d82567a44fbc4b7d81cb4e1b8ba9e997",
            "599f6bae9bcb4da482822fa6b7a102a6",
            "dbe8cb2d394245a7a25fad0c2d085c59",
            "abc6538d072a4c1d97c477d83b91de80",
            "4e2dfb2224974d288e96d8815eec2caf",
            "127016e469324768bb16cd69a9b8146a",
            "2914e31290e748f79db19aca5ee53610",
            "027c8e3b57524aef87cbe29443f81c6a",
            "cafc67f6a2014521912d8f03af558e37",
            "26825a5a653d4852a644f029e7a822b0",
            "ad4a489c205640e9bb1c6c2491fe948b",
            "58601fa5bddd47f8902e07cb404447e6",
            "13f9e26a63114cea8c0ca4c146a38ebd",
            "9a42ed739d2048da8bcbd93332047517",
            "196e658b7de44f4aa48c902e22d4d445"
          ]
        },
        "outputId": "327fb859-bc51-41ef-ea3a-e051f2a111dc"
      },
      "execution_count": 9,
      "outputs": [
        {
          "output_type": "display_data",
          "data": {
            "text/plain": [
              "Downloading:   0%|          | 0.00/28.0 [00:00<?, ?B/s]"
            ],
            "application/vnd.jupyter.widget-view+json": {
              "version_major": 2,
              "version_minor": 0,
              "model_id": "cdb8820e436f449f95e057bb88a531d3"
            }
          },
          "metadata": {}
        },
        {
          "output_type": "display_data",
          "data": {
            "text/plain": [
              "Downloading:   0%|          | 0.00/232k [00:00<?, ?B/s]"
            ],
            "application/vnd.jupyter.widget-view+json": {
              "version_major": 2,
              "version_minor": 0,
              "model_id": "97edab635200490b9e4fd3acfd221cff"
            }
          },
          "metadata": {}
        },
        {
          "output_type": "display_data",
          "data": {
            "text/plain": [
              "Downloading:   0%|          | 0.00/466k [00:00<?, ?B/s]"
            ],
            "application/vnd.jupyter.widget-view+json": {
              "version_major": 2,
              "version_minor": 0,
              "model_id": "0b015cb561b14df7a74adaf1907fda1d"
            }
          },
          "metadata": {}
        },
        {
          "output_type": "display_data",
          "data": {
            "text/plain": [
              "Downloading:   0%|          | 0.00/483 [00:00<?, ?B/s]"
            ],
            "application/vnd.jupyter.widget-view+json": {
              "version_major": 2,
              "version_minor": 0,
              "model_id": "4e2dfb2224974d288e96d8815eec2caf"
            }
          },
          "metadata": {}
        }
      ]
    },
    {
      "cell_type": "code",
      "source": [
        "k = 10\n",
        "train_encodings = tokenizer(train_texts_splt[::k], truncation=True, padding=True)\n",
        "val_encodings = tokenizer(val_texts[::k], truncation=True, padding=True)\n",
        "test_encodings = tokenizer(test_texts[::k], truncation=True, padding=True)"
      ],
      "metadata": {
        "id": "vwGhceaqb0S_"
      },
      "execution_count": 10,
      "outputs": []
    },
    {
      "cell_type": "code",
      "source": [
        "class IMDbDataset(torch.utils.data.Dataset):\n",
        "    def __init__(self, encodings, labels):\n",
        "        self.encodings = encodings\n",
        "        self.labels = labels\n",
        "\n",
        "    def __getitem__(self, idx):\n",
        "        item = {key: torch.tensor(val[idx]) for key, val in self.encodings.items()}\n",
        "        item['labels'] = torch.tensor(self.labels[idx])\n",
        "        return item\n",
        "\n",
        "    def __len__(self):\n",
        "        return len(self.labels)\n",
        "\n",
        "train_dataset = IMDbDataset(train_encodings, train_labels_splt[::k])\n",
        "val_dataset = IMDbDataset(val_encodings, val_labels[::k])\n",
        "test_dataset = IMDbDataset(test_encodings, test_labels[::k])"
      ],
      "metadata": {
        "id": "0VUDvmX4b85E"
      },
      "execution_count": 11,
      "outputs": []
    },
    {
      "cell_type": "code",
      "source": [
        "from transformers import DistilBertForSequenceClassification, Trainer, TrainingArguments\n",
        "\n",
        "training_args = TrainingArguments(\n",
        "    output_dir='./results',          # output directory\n",
        "    num_train_epochs=1,              # total number of training epochs\n",
        "    per_device_train_batch_size=16,  # batch size per device during training\n",
        "    per_device_eval_batch_size=16,   # batch size for evaluation\n",
        "    warmup_steps=500,                # number of warmup steps for learning rate scheduler\n",
        "    weight_decay=0.01,               # strength of weight decay\n",
        "    logging_dir='./logs',            # directory for storing logs\n",
        "    logging_steps=10,\n",
        ")\n",
        "\n",
        "model = DistilBertForSequenceClassification.from_pretrained(\"distilbert-base-uncased\")\n",
        "\n",
        "trainer = Trainer(\n",
        "    model=model,                         # the instantiated 🤗 Transformers model to be trained\n",
        "    args=training_args,                  # training arguments, defined above\n",
        "    train_dataset=train_dataset,         # training dataset\n",
        "    eval_dataset=val_dataset             # evaluation dataset\n",
        ")\n",
        "\n",
        "trainer.train()"
      ],
      "metadata": {
        "colab": {
          "base_uri": "https://localhost:8080/",
          "height": 885,
          "referenced_widgets": [
            "c1381e5cea8b4d40af6f5896d0323c55",
            "e16d648229b440ad9e9527119e269b53",
            "a9a004cfdd3e4fbfb9911fa8b1302855",
            "7dd0f564133e44b1a6b036852d143ccd",
            "2571cd49ab9a486d80d85075625b6fca",
            "6961d9f8b3fe45f29521aa7136213f2d",
            "b6a12d816f4f49c099b50cb7671bdc3d",
            "e7d27c71fce649d6b0e5e48a0513605d",
            "cda6fcb1958441fa85071c8d4f818838",
            "931d28a0a22e49f39b7717c502ae63a8",
            "08493f4e1e4f49adb3d3a5a4b7f4e0a2"
          ]
        },
        "id": "Z4DdGhk7zZy8",
        "outputId": "8ea21f2e-00cc-4b81-ec90-f97b8f42ec45"
      },
      "execution_count": 12,
      "outputs": [
        {
          "output_type": "display_data",
          "data": {
            "text/plain": [
              "Downloading:   0%|          | 0.00/268M [00:00<?, ?B/s]"
            ],
            "application/vnd.jupyter.widget-view+json": {
              "version_major": 2,
              "version_minor": 0,
              "model_id": "c1381e5cea8b4d40af6f5896d0323c55"
            }
          },
          "metadata": {}
        },
        {
          "output_type": "stream",
          "name": "stderr",
          "text": [
            "Some weights of the model checkpoint at distilbert-base-uncased were not used when initializing DistilBertForSequenceClassification: ['vocab_transform.weight', 'vocab_projector.weight', 'vocab_transform.bias', 'vocab_layer_norm.bias', 'vocab_projector.bias', 'vocab_layer_norm.weight']\n",
            "- This IS expected if you are initializing DistilBertForSequenceClassification from the checkpoint of a model trained on another task or with another architecture (e.g. initializing a BertForSequenceClassification model from a BertForPreTraining model).\n",
            "- This IS NOT expected if you are initializing DistilBertForSequenceClassification from the checkpoint of a model that you expect to be exactly identical (initializing a BertForSequenceClassification model from a BertForSequenceClassification model).\n",
            "Some weights of DistilBertForSequenceClassification were not initialized from the model checkpoint at distilbert-base-uncased and are newly initialized: ['pre_classifier.bias', 'classifier.bias', 'classifier.weight', 'pre_classifier.weight']\n",
            "You should probably TRAIN this model on a down-stream task to be able to use it for predictions and inference.\n",
            "/usr/local/lib/python3.7/dist-packages/transformers/optimization.py:310: FutureWarning: This implementation of AdamW is deprecated and will be removed in a future version. Use the PyTorch implementation torch.optim.AdamW instead, or set `no_deprecation_warning=True` to disable this warning\n",
            "  FutureWarning,\n",
            "***** Running training *****\n",
            "  Num examples = 2000\n",
            "  Num Epochs = 1\n",
            "  Instantaneous batch size per device = 16\n",
            "  Total train batch size (w. parallel, distributed & accumulation) = 16\n",
            "  Gradient Accumulation steps = 1\n",
            "  Total optimization steps = 125\n"
          ]
        },
        {
          "output_type": "display_data",
          "data": {
            "text/plain": [
              "<IPython.core.display.HTML object>"
            ],
            "text/html": [
              "\n",
              "    <div>\n",
              "      \n",
              "      <progress value='125' max='125' style='width:300px; height:20px; vertical-align: middle;'></progress>\n",
              "      [125/125 01:34, Epoch 1/1]\n",
              "    </div>\n",
              "    <table border=\"1\" class=\"dataframe\">\n",
              "  <thead>\n",
              " <tr style=\"text-align: left;\">\n",
              "      <th>Step</th>\n",
              "      <th>Training Loss</th>\n",
              "    </tr>\n",
              "  </thead>\n",
              "  <tbody>\n",
              "    <tr>\n",
              "      <td>10</td>\n",
              "      <td>0.696400</td>\n",
              "    </tr>\n",
              "    <tr>\n",
              "      <td>20</td>\n",
              "      <td>0.690700</td>\n",
              "    </tr>\n",
              "    <tr>\n",
              "      <td>30</td>\n",
              "      <td>0.687300</td>\n",
              "    </tr>\n",
              "    <tr>\n",
              "      <td>40</td>\n",
              "      <td>0.694200</td>\n",
              "    </tr>\n",
              "    <tr>\n",
              "      <td>50</td>\n",
              "      <td>0.695000</td>\n",
              "    </tr>\n",
              "    <tr>\n",
              "      <td>60</td>\n",
              "      <td>0.686700</td>\n",
              "    </tr>\n",
              "    <tr>\n",
              "      <td>70</td>\n",
              "      <td>0.675700</td>\n",
              "    </tr>\n",
              "    <tr>\n",
              "      <td>80</td>\n",
              "      <td>0.668900</td>\n",
              "    </tr>\n",
              "    <tr>\n",
              "      <td>90</td>\n",
              "      <td>0.651300</td>\n",
              "    </tr>\n",
              "    <tr>\n",
              "      <td>100</td>\n",
              "      <td>0.596400</td>\n",
              "    </tr>\n",
              "    <tr>\n",
              "      <td>110</td>\n",
              "      <td>0.502900</td>\n",
              "    </tr>\n",
              "    <tr>\n",
              "      <td>120</td>\n",
              "      <td>0.455900</td>\n",
              "    </tr>\n",
              "  </tbody>\n",
              "</table><p>"
            ]
          },
          "metadata": {}
        },
        {
          "output_type": "stream",
          "name": "stderr",
          "text": [
            "\n",
            "\n",
            "Training completed. Do not forget to share your model on huggingface.co/models =)\n",
            "\n",
            "\n"
          ]
        },
        {
          "output_type": "execute_result",
          "data": {
            "text/plain": [
              "TrainOutput(global_step=125, training_loss=0.632565200805664, metrics={'train_runtime': 98.1729, 'train_samples_per_second': 20.372, 'train_steps_per_second': 1.273, 'total_flos': 264934797312000.0, 'train_loss': 0.632565200805664, 'epoch': 1.0})"
            ]
          },
          "metadata": {},
          "execution_count": 12
        }
      ]
    },
    {
      "cell_type": "code",
      "source": [
        "dir(trainer)"
      ],
      "metadata": {
        "colab": {
          "base_uri": "https://localhost:8080/"
        },
        "id": "wZ3WUGWbTAN7",
        "outputId": "70bdf63d-54b3-4a7e-8723-3a7b93ad1cd5"
      },
      "execution_count": 14,
      "outputs": [
        {
          "output_type": "execute_result",
          "data": {
            "text/plain": [
              "['__class__',\n",
              " '__delattr__',\n",
              " '__dict__',\n",
              " '__dir__',\n",
              " '__doc__',\n",
              " '__eq__',\n",
              " '__format__',\n",
              " '__ge__',\n",
              " '__getattribute__',\n",
              " '__gt__',\n",
              " '__hash__',\n",
              " '__init__',\n",
              " '__init_subclass__',\n",
              " '__le__',\n",
              " '__lt__',\n",
              " '__module__',\n",
              " '__ne__',\n",
              " '__new__',\n",
              " '__reduce__',\n",
              " '__reduce_ex__',\n",
              " '__repr__',\n",
              " '__setattr__',\n",
              " '__sizeof__',\n",
              " '__str__',\n",
              " '__subclasshook__',\n",
              " '__weakref__',\n",
              " '_gather_and_numpify',\n",
              " '_get_collator_with_removed_columns',\n",
              " '_get_eval_sampler',\n",
              " '_get_learning_rate',\n",
              " '_get_train_sampler',\n",
              " '_globalstep_last_logged',\n",
              " '_hp_search_setup',\n",
              " '_inner_training_loop',\n",
              " '_issue_warnings_after_load',\n",
              " '_load_best_model',\n",
              " '_load_from_checkpoint',\n",
              " '_load_optimizer_and_scheduler',\n",
              " '_load_rng_state',\n",
              " '_loggers_initialized',\n",
              " '_maybe_log_save_evaluate',\n",
              " '_memory_tracker',\n",
              " '_move_model_to_device',\n",
              " '_nested_gather',\n",
              " '_pad_across_processes',\n",
              " '_prepare_input',\n",
              " '_prepare_inputs',\n",
              " '_push_from_checkpoint',\n",
              " '_remove_unused_columns',\n",
              " '_report_to_hp_search',\n",
              " '_rotate_checkpoints',\n",
              " '_save',\n",
              " '_save_checkpoint',\n",
              " '_save_tpu',\n",
              " '_set_signature_columns_if_needed',\n",
              " '_signature_columns',\n",
              " '_sorted_checkpoints',\n",
              " '_total_loss_scalar',\n",
              " '_train_batch_size',\n",
              " '_trial',\n",
              " '_tune_save_checkpoint',\n",
              " '_wrap_model',\n",
              " 'add_callback',\n",
              " 'args',\n",
              " 'autocast_smart_context_manager',\n",
              " 'call_model_init',\n",
              " 'callback_handler',\n",
              " 'compute_loss',\n",
              " 'compute_loss_context_manager',\n",
              " 'compute_metrics',\n",
              " 'control',\n",
              " 'create_model_card',\n",
              " 'create_optimizer',\n",
              " 'create_optimizer_and_scheduler',\n",
              " 'create_scheduler',\n",
              " 'ctx_manager_torchdynamo',\n",
              " 'current_flos',\n",
              " 'data_collator',\n",
              " 'deepspeed',\n",
              " 'do_grad_scaling',\n",
              " 'eval_dataset',\n",
              " 'evaluate',\n",
              " 'evaluation_loop',\n",
              " 'floating_point_ops',\n",
              " 'fsdp',\n",
              " 'get_eval_dataloader',\n",
              " 'get_optimizer_cls_and_kwargs',\n",
              " 'get_test_dataloader',\n",
              " 'get_train_dataloader',\n",
              " 'hp_name',\n",
              " 'hp_search_backend',\n",
              " 'hyperparameter_search',\n",
              " 'init_git_repo',\n",
              " 'ipex_optimize_model',\n",
              " 'is_in_train',\n",
              " 'is_local_process_zero',\n",
              " 'is_model_parallel',\n",
              " 'is_world_process_zero',\n",
              " 'label_names',\n",
              " 'label_smoother',\n",
              " 'log',\n",
              " 'log_metrics',\n",
              " 'lr_scheduler',\n",
              " 'metrics_format',\n",
              " 'model',\n",
              " 'model_init',\n",
              " 'model_wrapped',\n",
              " 'num_examples',\n",
              " 'optimizer',\n",
              " 'place_model_on_device',\n",
              " 'pop_callback',\n",
              " 'predict',\n",
              " 'prediction_loop',\n",
              " 'prediction_step',\n",
              " 'preprocess_logits_for_metrics',\n",
              " 'push_to_hub',\n",
              " 'remove_callback',\n",
              " 'save_metrics',\n",
              " 'save_model',\n",
              " 'save_state',\n",
              " 'sharded_ddp',\n",
              " 'state',\n",
              " 'store_flos',\n",
              " 'tokenizer',\n",
              " 'torch_jit_model_eval',\n",
              " 'torchdynamo_smart_context_manager',\n",
              " 'train',\n",
              " 'train_dataset',\n",
              " 'training_step',\n",
              " 'use_apex',\n",
              " 'use_cpu_amp',\n",
              " 'use_cuda_amp',\n",
              " 'use_tune_checkpoints']"
            ]
          },
          "metadata": {},
          "execution_count": 14
        }
      ]
    },
    {
      "cell_type": "code",
      "source": [
        "trainer.evaluate()"
      ],
      "metadata": {
        "id": "B3BujsdTdbLU",
        "colab": {
          "base_uri": "https://localhost:8080/",
          "height": 176
        },
        "outputId": "415f96c1-9836-414d-a549-79798a8b9e31"
      },
      "execution_count": 15,
      "outputs": [
        {
          "output_type": "stream",
          "name": "stderr",
          "text": [
            "***** Running Evaluation *****\n",
            "  Num examples = 500\n",
            "  Batch size = 16\n"
          ]
        },
        {
          "output_type": "display_data",
          "data": {
            "text/plain": [
              "<IPython.core.display.HTML object>"
            ],
            "text/html": [
              "\n",
              "    <div>\n",
              "      \n",
              "      <progress value='32' max='32' style='width:300px; height:20px; vertical-align: middle;'></progress>\n",
              "      [32/32 00:08]\n",
              "    </div>\n",
              "    "
            ]
          },
          "metadata": {}
        },
        {
          "output_type": "execute_result",
          "data": {
            "text/plain": [
              "{'eval_loss': 0.35988712310791016,\n",
              " 'eval_runtime': 8.6346,\n",
              " 'eval_samples_per_second': 57.906,\n",
              " 'eval_steps_per_second': 3.706,\n",
              " 'epoch': 1.0}"
            ]
          },
          "metadata": {},
          "execution_count": 15
        }
      ]
    },
    {
      "cell_type": "code",
      "source": [],
      "metadata": {
        "id": "ktBY1Vv2Sa4n"
      },
      "execution_count": null,
      "outputs": []
    }
  ],
  "metadata": {
    "accelerator": "GPU",
    "colab": {
      "collapsed_sections": [],
      "provenance": []
    },
    "kernelspec": {
      "display_name": "Python 3",
      "language": "python",
      "name": "python3"
    },
    "language_info": {
      "codemirror_mode": {
        "name": "ipython",
        "version": 3
      },
      "file_extension": ".py",
      "mimetype": "text/x-python",
      "name": "python",
      "nbconvert_exporter": "python",
      "pygments_lexer": "ipython3",
      "version": "3.7.10"
    },
    "widgets": {
      "application/vnd.jupyter.widget-state+json": {
        "cdb8820e436f449f95e057bb88a531d3": {
          "model_module": "@jupyter-widgets/controls",
          "model_name": "HBoxModel",
          "model_module_version": "1.5.0",
          "state": {
            "_dom_classes": [],
            "_model_module": "@jupyter-widgets/controls",
            "_model_module_version": "1.5.0",
            "_model_name": "HBoxModel",
            "_view_count": null,
            "_view_module": "@jupyter-widgets/controls",
            "_view_module_version": "1.5.0",
            "_view_name": "HBoxView",
            "box_style": "",
            "children": [
              "IPY_MODEL_ca49a5296dd242eda5b8c055936c61e7",
              "IPY_MODEL_3b8f488087f645dbac3c677c05232ed9",
              "IPY_MODEL_9bb304ccb59b47f3bc6be37907c0a871"
            ],
            "layout": "IPY_MODEL_4ed85d7ce41b4c67ae2f8b4067fba6ce"
          }
        },
        "ca49a5296dd242eda5b8c055936c61e7": {
          "model_module": "@jupyter-widgets/controls",
          "model_name": "HTMLModel",
          "model_module_version": "1.5.0",
          "state": {
            "_dom_classes": [],
            "_model_module": "@jupyter-widgets/controls",
            "_model_module_version": "1.5.0",
            "_model_name": "HTMLModel",
            "_view_count": null,
            "_view_module": "@jupyter-widgets/controls",
            "_view_module_version": "1.5.0",
            "_view_name": "HTMLView",
            "description": "",
            "description_tooltip": null,
            "layout": "IPY_MODEL_e21e0587fae14b3fa379e814d400c665",
            "placeholder": "​",
            "style": "IPY_MODEL_e6dbc030cba74d3ea326a3f08e484264",
            "value": "Downloading: 100%"
          }
        },
        "3b8f488087f645dbac3c677c05232ed9": {
          "model_module": "@jupyter-widgets/controls",
          "model_name": "FloatProgressModel",
          "model_module_version": "1.5.0",
          "state": {
            "_dom_classes": [],
            "_model_module": "@jupyter-widgets/controls",
            "_model_module_version": "1.5.0",
            "_model_name": "FloatProgressModel",
            "_view_count": null,
            "_view_module": "@jupyter-widgets/controls",
            "_view_module_version": "1.5.0",
            "_view_name": "ProgressView",
            "bar_style": "success",
            "description": "",
            "description_tooltip": null,
            "layout": "IPY_MODEL_4296f8ff93374eeb9f039e497160bf48",
            "max": 28,
            "min": 0,
            "orientation": "horizontal",
            "style": "IPY_MODEL_33f187953a9b43ea8be487c3e28db4c9",
            "value": 28
          }
        },
        "9bb304ccb59b47f3bc6be37907c0a871": {
          "model_module": "@jupyter-widgets/controls",
          "model_name": "HTMLModel",
          "model_module_version": "1.5.0",
          "state": {
            "_dom_classes": [],
            "_model_module": "@jupyter-widgets/controls",
            "_model_module_version": "1.5.0",
            "_model_name": "HTMLModel",
            "_view_count": null,
            "_view_module": "@jupyter-widgets/controls",
            "_view_module_version": "1.5.0",
            "_view_name": "HTMLView",
            "description": "",
            "description_tooltip": null,
            "layout": "IPY_MODEL_a62d787dce3c44fab161e576dc51e30f",
            "placeholder": "​",
            "style": "IPY_MODEL_949e8658e9c74bf3b22a25cbc3e75dd4",
            "value": " 28.0/28.0 [00:00&lt;00:00, 347B/s]"
          }
        },
        "4ed85d7ce41b4c67ae2f8b4067fba6ce": {
          "model_module": "@jupyter-widgets/base",
          "model_name": "LayoutModel",
          "model_module_version": "1.2.0",
          "state": {
            "_model_module": "@jupyter-widgets/base",
            "_model_module_version": "1.2.0",
            "_model_name": "LayoutModel",
            "_view_count": null,
            "_view_module": "@jupyter-widgets/base",
            "_view_module_version": "1.2.0",
            "_view_name": "LayoutView",
            "align_content": null,
            "align_items": null,
            "align_self": null,
            "border": null,
            "bottom": null,
            "display": null,
            "flex": null,
            "flex_flow": null,
            "grid_area": null,
            "grid_auto_columns": null,
            "grid_auto_flow": null,
            "grid_auto_rows": null,
            "grid_column": null,
            "grid_gap": null,
            "grid_row": null,
            "grid_template_areas": null,
            "grid_template_columns": null,
            "grid_template_rows": null,
            "height": null,
            "justify_content": null,
            "justify_items": null,
            "left": null,
            "margin": null,
            "max_height": null,
            "max_width": null,
            "min_height": null,
            "min_width": null,
            "object_fit": null,
            "object_position": null,
            "order": null,
            "overflow": null,
            "overflow_x": null,
            "overflow_y": null,
            "padding": null,
            "right": null,
            "top": null,
            "visibility": null,
            "width": null
          }
        },
        "e21e0587fae14b3fa379e814d400c665": {
          "model_module": "@jupyter-widgets/base",
          "model_name": "LayoutModel",
          "model_module_version": "1.2.0",
          "state": {
            "_model_module": "@jupyter-widgets/base",
            "_model_module_version": "1.2.0",
            "_model_name": "LayoutModel",
            "_view_count": null,
            "_view_module": "@jupyter-widgets/base",
            "_view_module_version": "1.2.0",
            "_view_name": "LayoutView",
            "align_content": null,
            "align_items": null,
            "align_self": null,
            "border": null,
            "bottom": null,
            "display": null,
            "flex": null,
            "flex_flow": null,
            "grid_area": null,
            "grid_auto_columns": null,
            "grid_auto_flow": null,
            "grid_auto_rows": null,
            "grid_column": null,
            "grid_gap": null,
            "grid_row": null,
            "grid_template_areas": null,
            "grid_template_columns": null,
            "grid_template_rows": null,
            "height": null,
            "justify_content": null,
            "justify_items": null,
            "left": null,
            "margin": null,
            "max_height": null,
            "max_width": null,
            "min_height": null,
            "min_width": null,
            "object_fit": null,
            "object_position": null,
            "order": null,
            "overflow": null,
            "overflow_x": null,
            "overflow_y": null,
            "padding": null,
            "right": null,
            "top": null,
            "visibility": null,
            "width": null
          }
        },
        "e6dbc030cba74d3ea326a3f08e484264": {
          "model_module": "@jupyter-widgets/controls",
          "model_name": "DescriptionStyleModel",
          "model_module_version": "1.5.0",
          "state": {
            "_model_module": "@jupyter-widgets/controls",
            "_model_module_version": "1.5.0",
            "_model_name": "DescriptionStyleModel",
            "_view_count": null,
            "_view_module": "@jupyter-widgets/base",
            "_view_module_version": "1.2.0",
            "_view_name": "StyleView",
            "description_width": ""
          }
        },
        "4296f8ff93374eeb9f039e497160bf48": {
          "model_module": "@jupyter-widgets/base",
          "model_name": "LayoutModel",
          "model_module_version": "1.2.0",
          "state": {
            "_model_module": "@jupyter-widgets/base",
            "_model_module_version": "1.2.0",
            "_model_name": "LayoutModel",
            "_view_count": null,
            "_view_module": "@jupyter-widgets/base",
            "_view_module_version": "1.2.0",
            "_view_name": "LayoutView",
            "align_content": null,
            "align_items": null,
            "align_self": null,
            "border": null,
            "bottom": null,
            "display": null,
            "flex": null,
            "flex_flow": null,
            "grid_area": null,
            "grid_auto_columns": null,
            "grid_auto_flow": null,
            "grid_auto_rows": null,
            "grid_column": null,
            "grid_gap": null,
            "grid_row": null,
            "grid_template_areas": null,
            "grid_template_columns": null,
            "grid_template_rows": null,
            "height": null,
            "justify_content": null,
            "justify_items": null,
            "left": null,
            "margin": null,
            "max_height": null,
            "max_width": null,
            "min_height": null,
            "min_width": null,
            "object_fit": null,
            "object_position": null,
            "order": null,
            "overflow": null,
            "overflow_x": null,
            "overflow_y": null,
            "padding": null,
            "right": null,
            "top": null,
            "visibility": null,
            "width": null
          }
        },
        "33f187953a9b43ea8be487c3e28db4c9": {
          "model_module": "@jupyter-widgets/controls",
          "model_name": "ProgressStyleModel",
          "model_module_version": "1.5.0",
          "state": {
            "_model_module": "@jupyter-widgets/controls",
            "_model_module_version": "1.5.0",
            "_model_name": "ProgressStyleModel",
            "_view_count": null,
            "_view_module": "@jupyter-widgets/base",
            "_view_module_version": "1.2.0",
            "_view_name": "StyleView",
            "bar_color": null,
            "description_width": ""
          }
        },
        "a62d787dce3c44fab161e576dc51e30f": {
          "model_module": "@jupyter-widgets/base",
          "model_name": "LayoutModel",
          "model_module_version": "1.2.0",
          "state": {
            "_model_module": "@jupyter-widgets/base",
            "_model_module_version": "1.2.0",
            "_model_name": "LayoutModel",
            "_view_count": null,
            "_view_module": "@jupyter-widgets/base",
            "_view_module_version": "1.2.0",
            "_view_name": "LayoutView",
            "align_content": null,
            "align_items": null,
            "align_self": null,
            "border": null,
            "bottom": null,
            "display": null,
            "flex": null,
            "flex_flow": null,
            "grid_area": null,
            "grid_auto_columns": null,
            "grid_auto_flow": null,
            "grid_auto_rows": null,
            "grid_column": null,
            "grid_gap": null,
            "grid_row": null,
            "grid_template_areas": null,
            "grid_template_columns": null,
            "grid_template_rows": null,
            "height": null,
            "justify_content": null,
            "justify_items": null,
            "left": null,
            "margin": null,
            "max_height": null,
            "max_width": null,
            "min_height": null,
            "min_width": null,
            "object_fit": null,
            "object_position": null,
            "order": null,
            "overflow": null,
            "overflow_x": null,
            "overflow_y": null,
            "padding": null,
            "right": null,
            "top": null,
            "visibility": null,
            "width": null
          }
        },
        "949e8658e9c74bf3b22a25cbc3e75dd4": {
          "model_module": "@jupyter-widgets/controls",
          "model_name": "DescriptionStyleModel",
          "model_module_version": "1.5.0",
          "state": {
            "_model_module": "@jupyter-widgets/controls",
            "_model_module_version": "1.5.0",
            "_model_name": "DescriptionStyleModel",
            "_view_count": null,
            "_view_module": "@jupyter-widgets/base",
            "_view_module_version": "1.2.0",
            "_view_name": "StyleView",
            "description_width": ""
          }
        },
        "97edab635200490b9e4fd3acfd221cff": {
          "model_module": "@jupyter-widgets/controls",
          "model_name": "HBoxModel",
          "model_module_version": "1.5.0",
          "state": {
            "_dom_classes": [],
            "_model_module": "@jupyter-widgets/controls",
            "_model_module_version": "1.5.0",
            "_model_name": "HBoxModel",
            "_view_count": null,
            "_view_module": "@jupyter-widgets/controls",
            "_view_module_version": "1.5.0",
            "_view_name": "HBoxView",
            "box_style": "",
            "children": [
              "IPY_MODEL_c57c71d898b74727a7e8f59a3d6e6150",
              "IPY_MODEL_ba20fa46266a46849c410f0a09ce45ce",
              "IPY_MODEL_8cf7331a918a418aa63333a6015dfeac"
            ],
            "layout": "IPY_MODEL_d32b0309abed4f0196e74cb2cb48e9f5"
          }
        },
        "c57c71d898b74727a7e8f59a3d6e6150": {
          "model_module": "@jupyter-widgets/controls",
          "model_name": "HTMLModel",
          "model_module_version": "1.5.0",
          "state": {
            "_dom_classes": [],
            "_model_module": "@jupyter-widgets/controls",
            "_model_module_version": "1.5.0",
            "_model_name": "HTMLModel",
            "_view_count": null,
            "_view_module": "@jupyter-widgets/controls",
            "_view_module_version": "1.5.0",
            "_view_name": "HTMLView",
            "description": "",
            "description_tooltip": null,
            "layout": "IPY_MODEL_aa1a35507a1b4256b90d9826ed1fd36a",
            "placeholder": "​",
            "style": "IPY_MODEL_7b946c8cc0ca451d96ea70662082f83f",
            "value": "Downloading: 100%"
          }
        },
        "ba20fa46266a46849c410f0a09ce45ce": {
          "model_module": "@jupyter-widgets/controls",
          "model_name": "FloatProgressModel",
          "model_module_version": "1.5.0",
          "state": {
            "_dom_classes": [],
            "_model_module": "@jupyter-widgets/controls",
            "_model_module_version": "1.5.0",
            "_model_name": "FloatProgressModel",
            "_view_count": null,
            "_view_module": "@jupyter-widgets/controls",
            "_view_module_version": "1.5.0",
            "_view_name": "ProgressView",
            "bar_style": "success",
            "description": "",
            "description_tooltip": null,
            "layout": "IPY_MODEL_2a73ccfdf23c481fa6cdb99f084d59ad",
            "max": 231508,
            "min": 0,
            "orientation": "horizontal",
            "style": "IPY_MODEL_7dbd22cb240c45ecae501f3f50617aad",
            "value": 231508
          }
        },
        "8cf7331a918a418aa63333a6015dfeac": {
          "model_module": "@jupyter-widgets/controls",
          "model_name": "HTMLModel",
          "model_module_version": "1.5.0",
          "state": {
            "_dom_classes": [],
            "_model_module": "@jupyter-widgets/controls",
            "_model_module_version": "1.5.0",
            "_model_name": "HTMLModel",
            "_view_count": null,
            "_view_module": "@jupyter-widgets/controls",
            "_view_module_version": "1.5.0",
            "_view_name": "HTMLView",
            "description": "",
            "description_tooltip": null,
            "layout": "IPY_MODEL_507cec285d0b4afeb6e5040d62a3ba3a",
            "placeholder": "​",
            "style": "IPY_MODEL_295752303d8a43aca48b282a728bbcc4",
            "value": " 232k/232k [00:00&lt;00:00, 321kB/s]"
          }
        },
        "d32b0309abed4f0196e74cb2cb48e9f5": {
          "model_module": "@jupyter-widgets/base",
          "model_name": "LayoutModel",
          "model_module_version": "1.2.0",
          "state": {
            "_model_module": "@jupyter-widgets/base",
            "_model_module_version": "1.2.0",
            "_model_name": "LayoutModel",
            "_view_count": null,
            "_view_module": "@jupyter-widgets/base",
            "_view_module_version": "1.2.0",
            "_view_name": "LayoutView",
            "align_content": null,
            "align_items": null,
            "align_self": null,
            "border": null,
            "bottom": null,
            "display": null,
            "flex": null,
            "flex_flow": null,
            "grid_area": null,
            "grid_auto_columns": null,
            "grid_auto_flow": null,
            "grid_auto_rows": null,
            "grid_column": null,
            "grid_gap": null,
            "grid_row": null,
            "grid_template_areas": null,
            "grid_template_columns": null,
            "grid_template_rows": null,
            "height": null,
            "justify_content": null,
            "justify_items": null,
            "left": null,
            "margin": null,
            "max_height": null,
            "max_width": null,
            "min_height": null,
            "min_width": null,
            "object_fit": null,
            "object_position": null,
            "order": null,
            "overflow": null,
            "overflow_x": null,
            "overflow_y": null,
            "padding": null,
            "right": null,
            "top": null,
            "visibility": null,
            "width": null
          }
        },
        "aa1a35507a1b4256b90d9826ed1fd36a": {
          "model_module": "@jupyter-widgets/base",
          "model_name": "LayoutModel",
          "model_module_version": "1.2.0",
          "state": {
            "_model_module": "@jupyter-widgets/base",
            "_model_module_version": "1.2.0",
            "_model_name": "LayoutModel",
            "_view_count": null,
            "_view_module": "@jupyter-widgets/base",
            "_view_module_version": "1.2.0",
            "_view_name": "LayoutView",
            "align_content": null,
            "align_items": null,
            "align_self": null,
            "border": null,
            "bottom": null,
            "display": null,
            "flex": null,
            "flex_flow": null,
            "grid_area": null,
            "grid_auto_columns": null,
            "grid_auto_flow": null,
            "grid_auto_rows": null,
            "grid_column": null,
            "grid_gap": null,
            "grid_row": null,
            "grid_template_areas": null,
            "grid_template_columns": null,
            "grid_template_rows": null,
            "height": null,
            "justify_content": null,
            "justify_items": null,
            "left": null,
            "margin": null,
            "max_height": null,
            "max_width": null,
            "min_height": null,
            "min_width": null,
            "object_fit": null,
            "object_position": null,
            "order": null,
            "overflow": null,
            "overflow_x": null,
            "overflow_y": null,
            "padding": null,
            "right": null,
            "top": null,
            "visibility": null,
            "width": null
          }
        },
        "7b946c8cc0ca451d96ea70662082f83f": {
          "model_module": "@jupyter-widgets/controls",
          "model_name": "DescriptionStyleModel",
          "model_module_version": "1.5.0",
          "state": {
            "_model_module": "@jupyter-widgets/controls",
            "_model_module_version": "1.5.0",
            "_model_name": "DescriptionStyleModel",
            "_view_count": null,
            "_view_module": "@jupyter-widgets/base",
            "_view_module_version": "1.2.0",
            "_view_name": "StyleView",
            "description_width": ""
          }
        },
        "2a73ccfdf23c481fa6cdb99f084d59ad": {
          "model_module": "@jupyter-widgets/base",
          "model_name": "LayoutModel",
          "model_module_version": "1.2.0",
          "state": {
            "_model_module": "@jupyter-widgets/base",
            "_model_module_version": "1.2.0",
            "_model_name": "LayoutModel",
            "_view_count": null,
            "_view_module": "@jupyter-widgets/base",
            "_view_module_version": "1.2.0",
            "_view_name": "LayoutView",
            "align_content": null,
            "align_items": null,
            "align_self": null,
            "border": null,
            "bottom": null,
            "display": null,
            "flex": null,
            "flex_flow": null,
            "grid_area": null,
            "grid_auto_columns": null,
            "grid_auto_flow": null,
            "grid_auto_rows": null,
            "grid_column": null,
            "grid_gap": null,
            "grid_row": null,
            "grid_template_areas": null,
            "grid_template_columns": null,
            "grid_template_rows": null,
            "height": null,
            "justify_content": null,
            "justify_items": null,
            "left": null,
            "margin": null,
            "max_height": null,
            "max_width": null,
            "min_height": null,
            "min_width": null,
            "object_fit": null,
            "object_position": null,
            "order": null,
            "overflow": null,
            "overflow_x": null,
            "overflow_y": null,
            "padding": null,
            "right": null,
            "top": null,
            "visibility": null,
            "width": null
          }
        },
        "7dbd22cb240c45ecae501f3f50617aad": {
          "model_module": "@jupyter-widgets/controls",
          "model_name": "ProgressStyleModel",
          "model_module_version": "1.5.0",
          "state": {
            "_model_module": "@jupyter-widgets/controls",
            "_model_module_version": "1.5.0",
            "_model_name": "ProgressStyleModel",
            "_view_count": null,
            "_view_module": "@jupyter-widgets/base",
            "_view_module_version": "1.2.0",
            "_view_name": "StyleView",
            "bar_color": null,
            "description_width": ""
          }
        },
        "507cec285d0b4afeb6e5040d62a3ba3a": {
          "model_module": "@jupyter-widgets/base",
          "model_name": "LayoutModel",
          "model_module_version": "1.2.0",
          "state": {
            "_model_module": "@jupyter-widgets/base",
            "_model_module_version": "1.2.0",
            "_model_name": "LayoutModel",
            "_view_count": null,
            "_view_module": "@jupyter-widgets/base",
            "_view_module_version": "1.2.0",
            "_view_name": "LayoutView",
            "align_content": null,
            "align_items": null,
            "align_self": null,
            "border": null,
            "bottom": null,
            "display": null,
            "flex": null,
            "flex_flow": null,
            "grid_area": null,
            "grid_auto_columns": null,
            "grid_auto_flow": null,
            "grid_auto_rows": null,
            "grid_column": null,
            "grid_gap": null,
            "grid_row": null,
            "grid_template_areas": null,
            "grid_template_columns": null,
            "grid_template_rows": null,
            "height": null,
            "justify_content": null,
            "justify_items": null,
            "left": null,
            "margin": null,
            "max_height": null,
            "max_width": null,
            "min_height": null,
            "min_width": null,
            "object_fit": null,
            "object_position": null,
            "order": null,
            "overflow": null,
            "overflow_x": null,
            "overflow_y": null,
            "padding": null,
            "right": null,
            "top": null,
            "visibility": null,
            "width": null
          }
        },
        "295752303d8a43aca48b282a728bbcc4": {
          "model_module": "@jupyter-widgets/controls",
          "model_name": "DescriptionStyleModel",
          "model_module_version": "1.5.0",
          "state": {
            "_model_module": "@jupyter-widgets/controls",
            "_model_module_version": "1.5.0",
            "_model_name": "DescriptionStyleModel",
            "_view_count": null,
            "_view_module": "@jupyter-widgets/base",
            "_view_module_version": "1.2.0",
            "_view_name": "StyleView",
            "description_width": ""
          }
        },
        "0b015cb561b14df7a74adaf1907fda1d": {
          "model_module": "@jupyter-widgets/controls",
          "model_name": "HBoxModel",
          "model_module_version": "1.5.0",
          "state": {
            "_dom_classes": [],
            "_model_module": "@jupyter-widgets/controls",
            "_model_module_version": "1.5.0",
            "_model_name": "HBoxModel",
            "_view_count": null,
            "_view_module": "@jupyter-widgets/controls",
            "_view_module_version": "1.5.0",
            "_view_name": "HBoxView",
            "box_style": "",
            "children": [
              "IPY_MODEL_affbcf82de944712becfb6a8b17c25dc",
              "IPY_MODEL_5a7a882dfa784f88b1efb6e7830b3ec3",
              "IPY_MODEL_97f774693f2848019452d4f71df2c8fd"
            ],
            "layout": "IPY_MODEL_854bbe92098a47a2902903d9a0beac5d"
          }
        },
        "affbcf82de944712becfb6a8b17c25dc": {
          "model_module": "@jupyter-widgets/controls",
          "model_name": "HTMLModel",
          "model_module_version": "1.5.0",
          "state": {
            "_dom_classes": [],
            "_model_module": "@jupyter-widgets/controls",
            "_model_module_version": "1.5.0",
            "_model_name": "HTMLModel",
            "_view_count": null,
            "_view_module": "@jupyter-widgets/controls",
            "_view_module_version": "1.5.0",
            "_view_name": "HTMLView",
            "description": "",
            "description_tooltip": null,
            "layout": "IPY_MODEL_d7c4e813d98c4939939c23f6c943e7e7",
            "placeholder": "​",
            "style": "IPY_MODEL_ef97232640dc42e79f026c67de108dd7",
            "value": "Downloading: 100%"
          }
        },
        "5a7a882dfa784f88b1efb6e7830b3ec3": {
          "model_module": "@jupyter-widgets/controls",
          "model_name": "FloatProgressModel",
          "model_module_version": "1.5.0",
          "state": {
            "_dom_classes": [],
            "_model_module": "@jupyter-widgets/controls",
            "_model_module_version": "1.5.0",
            "_model_name": "FloatProgressModel",
            "_view_count": null,
            "_view_module": "@jupyter-widgets/controls",
            "_view_module_version": "1.5.0",
            "_view_name": "ProgressView",
            "bar_style": "success",
            "description": "",
            "description_tooltip": null,
            "layout": "IPY_MODEL_d82567a44fbc4b7d81cb4e1b8ba9e997",
            "max": 466062,
            "min": 0,
            "orientation": "horizontal",
            "style": "IPY_MODEL_599f6bae9bcb4da482822fa6b7a102a6",
            "value": 466062
          }
        },
        "97f774693f2848019452d4f71df2c8fd": {
          "model_module": "@jupyter-widgets/controls",
          "model_name": "HTMLModel",
          "model_module_version": "1.5.0",
          "state": {
            "_dom_classes": [],
            "_model_module": "@jupyter-widgets/controls",
            "_model_module_version": "1.5.0",
            "_model_name": "HTMLModel",
            "_view_count": null,
            "_view_module": "@jupyter-widgets/controls",
            "_view_module_version": "1.5.0",
            "_view_name": "HTMLView",
            "description": "",
            "description_tooltip": null,
            "layout": "IPY_MODEL_dbe8cb2d394245a7a25fad0c2d085c59",
            "placeholder": "​",
            "style": "IPY_MODEL_abc6538d072a4c1d97c477d83b91de80",
            "value": " 466k/466k [00:00&lt;00:00, 640kB/s]"
          }
        },
        "854bbe92098a47a2902903d9a0beac5d": {
          "model_module": "@jupyter-widgets/base",
          "model_name": "LayoutModel",
          "model_module_version": "1.2.0",
          "state": {
            "_model_module": "@jupyter-widgets/base",
            "_model_module_version": "1.2.0",
            "_model_name": "LayoutModel",
            "_view_count": null,
            "_view_module": "@jupyter-widgets/base",
            "_view_module_version": "1.2.0",
            "_view_name": "LayoutView",
            "align_content": null,
            "align_items": null,
            "align_self": null,
            "border": null,
            "bottom": null,
            "display": null,
            "flex": null,
            "flex_flow": null,
            "grid_area": null,
            "grid_auto_columns": null,
            "grid_auto_flow": null,
            "grid_auto_rows": null,
            "grid_column": null,
            "grid_gap": null,
            "grid_row": null,
            "grid_template_areas": null,
            "grid_template_columns": null,
            "grid_template_rows": null,
            "height": null,
            "justify_content": null,
            "justify_items": null,
            "left": null,
            "margin": null,
            "max_height": null,
            "max_width": null,
            "min_height": null,
            "min_width": null,
            "object_fit": null,
            "object_position": null,
            "order": null,
            "overflow": null,
            "overflow_x": null,
            "overflow_y": null,
            "padding": null,
            "right": null,
            "top": null,
            "visibility": null,
            "width": null
          }
        },
        "d7c4e813d98c4939939c23f6c943e7e7": {
          "model_module": "@jupyter-widgets/base",
          "model_name": "LayoutModel",
          "model_module_version": "1.2.0",
          "state": {
            "_model_module": "@jupyter-widgets/base",
            "_model_module_version": "1.2.0",
            "_model_name": "LayoutModel",
            "_view_count": null,
            "_view_module": "@jupyter-widgets/base",
            "_view_module_version": "1.2.0",
            "_view_name": "LayoutView",
            "align_content": null,
            "align_items": null,
            "align_self": null,
            "border": null,
            "bottom": null,
            "display": null,
            "flex": null,
            "flex_flow": null,
            "grid_area": null,
            "grid_auto_columns": null,
            "grid_auto_flow": null,
            "grid_auto_rows": null,
            "grid_column": null,
            "grid_gap": null,
            "grid_row": null,
            "grid_template_areas": null,
            "grid_template_columns": null,
            "grid_template_rows": null,
            "height": null,
            "justify_content": null,
            "justify_items": null,
            "left": null,
            "margin": null,
            "max_height": null,
            "max_width": null,
            "min_height": null,
            "min_width": null,
            "object_fit": null,
            "object_position": null,
            "order": null,
            "overflow": null,
            "overflow_x": null,
            "overflow_y": null,
            "padding": null,
            "right": null,
            "top": null,
            "visibility": null,
            "width": null
          }
        },
        "ef97232640dc42e79f026c67de108dd7": {
          "model_module": "@jupyter-widgets/controls",
          "model_name": "DescriptionStyleModel",
          "model_module_version": "1.5.0",
          "state": {
            "_model_module": "@jupyter-widgets/controls",
            "_model_module_version": "1.5.0",
            "_model_name": "DescriptionStyleModel",
            "_view_count": null,
            "_view_module": "@jupyter-widgets/base",
            "_view_module_version": "1.2.0",
            "_view_name": "StyleView",
            "description_width": ""
          }
        },
        "d82567a44fbc4b7d81cb4e1b8ba9e997": {
          "model_module": "@jupyter-widgets/base",
          "model_name": "LayoutModel",
          "model_module_version": "1.2.0",
          "state": {
            "_model_module": "@jupyter-widgets/base",
            "_model_module_version": "1.2.0",
            "_model_name": "LayoutModel",
            "_view_count": null,
            "_view_module": "@jupyter-widgets/base",
            "_view_module_version": "1.2.0",
            "_view_name": "LayoutView",
            "align_content": null,
            "align_items": null,
            "align_self": null,
            "border": null,
            "bottom": null,
            "display": null,
            "flex": null,
            "flex_flow": null,
            "grid_area": null,
            "grid_auto_columns": null,
            "grid_auto_flow": null,
            "grid_auto_rows": null,
            "grid_column": null,
            "grid_gap": null,
            "grid_row": null,
            "grid_template_areas": null,
            "grid_template_columns": null,
            "grid_template_rows": null,
            "height": null,
            "justify_content": null,
            "justify_items": null,
            "left": null,
            "margin": null,
            "max_height": null,
            "max_width": null,
            "min_height": null,
            "min_width": null,
            "object_fit": null,
            "object_position": null,
            "order": null,
            "overflow": null,
            "overflow_x": null,
            "overflow_y": null,
            "padding": null,
            "right": null,
            "top": null,
            "visibility": null,
            "width": null
          }
        },
        "599f6bae9bcb4da482822fa6b7a102a6": {
          "model_module": "@jupyter-widgets/controls",
          "model_name": "ProgressStyleModel",
          "model_module_version": "1.5.0",
          "state": {
            "_model_module": "@jupyter-widgets/controls",
            "_model_module_version": "1.5.0",
            "_model_name": "ProgressStyleModel",
            "_view_count": null,
            "_view_module": "@jupyter-widgets/base",
            "_view_module_version": "1.2.0",
            "_view_name": "StyleView",
            "bar_color": null,
            "description_width": ""
          }
        },
        "dbe8cb2d394245a7a25fad0c2d085c59": {
          "model_module": "@jupyter-widgets/base",
          "model_name": "LayoutModel",
          "model_module_version": "1.2.0",
          "state": {
            "_model_module": "@jupyter-widgets/base",
            "_model_module_version": "1.2.0",
            "_model_name": "LayoutModel",
            "_view_count": null,
            "_view_module": "@jupyter-widgets/base",
            "_view_module_version": "1.2.0",
            "_view_name": "LayoutView",
            "align_content": null,
            "align_items": null,
            "align_self": null,
            "border": null,
            "bottom": null,
            "display": null,
            "flex": null,
            "flex_flow": null,
            "grid_area": null,
            "grid_auto_columns": null,
            "grid_auto_flow": null,
            "grid_auto_rows": null,
            "grid_column": null,
            "grid_gap": null,
            "grid_row": null,
            "grid_template_areas": null,
            "grid_template_columns": null,
            "grid_template_rows": null,
            "height": null,
            "justify_content": null,
            "justify_items": null,
            "left": null,
            "margin": null,
            "max_height": null,
            "max_width": null,
            "min_height": null,
            "min_width": null,
            "object_fit": null,
            "object_position": null,
            "order": null,
            "overflow": null,
            "overflow_x": null,
            "overflow_y": null,
            "padding": null,
            "right": null,
            "top": null,
            "visibility": null,
            "width": null
          }
        },
        "abc6538d072a4c1d97c477d83b91de80": {
          "model_module": "@jupyter-widgets/controls",
          "model_name": "DescriptionStyleModel",
          "model_module_version": "1.5.0",
          "state": {
            "_model_module": "@jupyter-widgets/controls",
            "_model_module_version": "1.5.0",
            "_model_name": "DescriptionStyleModel",
            "_view_count": null,
            "_view_module": "@jupyter-widgets/base",
            "_view_module_version": "1.2.0",
            "_view_name": "StyleView",
            "description_width": ""
          }
        },
        "4e2dfb2224974d288e96d8815eec2caf": {
          "model_module": "@jupyter-widgets/controls",
          "model_name": "HBoxModel",
          "model_module_version": "1.5.0",
          "state": {
            "_dom_classes": [],
            "_model_module": "@jupyter-widgets/controls",
            "_model_module_version": "1.5.0",
            "_model_name": "HBoxModel",
            "_view_count": null,
            "_view_module": "@jupyter-widgets/controls",
            "_view_module_version": "1.5.0",
            "_view_name": "HBoxView",
            "box_style": "",
            "children": [
              "IPY_MODEL_127016e469324768bb16cd69a9b8146a",
              "IPY_MODEL_2914e31290e748f79db19aca5ee53610",
              "IPY_MODEL_027c8e3b57524aef87cbe29443f81c6a"
            ],
            "layout": "IPY_MODEL_cafc67f6a2014521912d8f03af558e37"
          }
        },
        "127016e469324768bb16cd69a9b8146a": {
          "model_module": "@jupyter-widgets/controls",
          "model_name": "HTMLModel",
          "model_module_version": "1.5.0",
          "state": {
            "_dom_classes": [],
            "_model_module": "@jupyter-widgets/controls",
            "_model_module_version": "1.5.0",
            "_model_name": "HTMLModel",
            "_view_count": null,
            "_view_module": "@jupyter-widgets/controls",
            "_view_module_version": "1.5.0",
            "_view_name": "HTMLView",
            "description": "",
            "description_tooltip": null,
            "layout": "IPY_MODEL_26825a5a653d4852a644f029e7a822b0",
            "placeholder": "​",
            "style": "IPY_MODEL_ad4a489c205640e9bb1c6c2491fe948b",
            "value": "Downloading: 100%"
          }
        },
        "2914e31290e748f79db19aca5ee53610": {
          "model_module": "@jupyter-widgets/controls",
          "model_name": "FloatProgressModel",
          "model_module_version": "1.5.0",
          "state": {
            "_dom_classes": [],
            "_model_module": "@jupyter-widgets/controls",
            "_model_module_version": "1.5.0",
            "_model_name": "FloatProgressModel",
            "_view_count": null,
            "_view_module": "@jupyter-widgets/controls",
            "_view_module_version": "1.5.0",
            "_view_name": "ProgressView",
            "bar_style": "success",
            "description": "",
            "description_tooltip": null,
            "layout": "IPY_MODEL_58601fa5bddd47f8902e07cb404447e6",
            "max": 483,
            "min": 0,
            "orientation": "horizontal",
            "style": "IPY_MODEL_13f9e26a63114cea8c0ca4c146a38ebd",
            "value": 483
          }
        },
        "027c8e3b57524aef87cbe29443f81c6a": {
          "model_module": "@jupyter-widgets/controls",
          "model_name": "HTMLModel",
          "model_module_version": "1.5.0",
          "state": {
            "_dom_classes": [],
            "_model_module": "@jupyter-widgets/controls",
            "_model_module_version": "1.5.0",
            "_model_name": "HTMLModel",
            "_view_count": null,
            "_view_module": "@jupyter-widgets/controls",
            "_view_module_version": "1.5.0",
            "_view_name": "HTMLView",
            "description": "",
            "description_tooltip": null,
            "layout": "IPY_MODEL_9a42ed739d2048da8bcbd93332047517",
            "placeholder": "​",
            "style": "IPY_MODEL_196e658b7de44f4aa48c902e22d4d445",
            "value": " 483/483 [00:00&lt;00:00, 14.4kB/s]"
          }
        },
        "cafc67f6a2014521912d8f03af558e37": {
          "model_module": "@jupyter-widgets/base",
          "model_name": "LayoutModel",
          "model_module_version": "1.2.0",
          "state": {
            "_model_module": "@jupyter-widgets/base",
            "_model_module_version": "1.2.0",
            "_model_name": "LayoutModel",
            "_view_count": null,
            "_view_module": "@jupyter-widgets/base",
            "_view_module_version": "1.2.0",
            "_view_name": "LayoutView",
            "align_content": null,
            "align_items": null,
            "align_self": null,
            "border": null,
            "bottom": null,
            "display": null,
            "flex": null,
            "flex_flow": null,
            "grid_area": null,
            "grid_auto_columns": null,
            "grid_auto_flow": null,
            "grid_auto_rows": null,
            "grid_column": null,
            "grid_gap": null,
            "grid_row": null,
            "grid_template_areas": null,
            "grid_template_columns": null,
            "grid_template_rows": null,
            "height": null,
            "justify_content": null,
            "justify_items": null,
            "left": null,
            "margin": null,
            "max_height": null,
            "max_width": null,
            "min_height": null,
            "min_width": null,
            "object_fit": null,
            "object_position": null,
            "order": null,
            "overflow": null,
            "overflow_x": null,
            "overflow_y": null,
            "padding": null,
            "right": null,
            "top": null,
            "visibility": null,
            "width": null
          }
        },
        "26825a5a653d4852a644f029e7a822b0": {
          "model_module": "@jupyter-widgets/base",
          "model_name": "LayoutModel",
          "model_module_version": "1.2.0",
          "state": {
            "_model_module": "@jupyter-widgets/base",
            "_model_module_version": "1.2.0",
            "_model_name": "LayoutModel",
            "_view_count": null,
            "_view_module": "@jupyter-widgets/base",
            "_view_module_version": "1.2.0",
            "_view_name": "LayoutView",
            "align_content": null,
            "align_items": null,
            "align_self": null,
            "border": null,
            "bottom": null,
            "display": null,
            "flex": null,
            "flex_flow": null,
            "grid_area": null,
            "grid_auto_columns": null,
            "grid_auto_flow": null,
            "grid_auto_rows": null,
            "grid_column": null,
            "grid_gap": null,
            "grid_row": null,
            "grid_template_areas": null,
            "grid_template_columns": null,
            "grid_template_rows": null,
            "height": null,
            "justify_content": null,
            "justify_items": null,
            "left": null,
            "margin": null,
            "max_height": null,
            "max_width": null,
            "min_height": null,
            "min_width": null,
            "object_fit": null,
            "object_position": null,
            "order": null,
            "overflow": null,
            "overflow_x": null,
            "overflow_y": null,
            "padding": null,
            "right": null,
            "top": null,
            "visibility": null,
            "width": null
          }
        },
        "ad4a489c205640e9bb1c6c2491fe948b": {
          "model_module": "@jupyter-widgets/controls",
          "model_name": "DescriptionStyleModel",
          "model_module_version": "1.5.0",
          "state": {
            "_model_module": "@jupyter-widgets/controls",
            "_model_module_version": "1.5.0",
            "_model_name": "DescriptionStyleModel",
            "_view_count": null,
            "_view_module": "@jupyter-widgets/base",
            "_view_module_version": "1.2.0",
            "_view_name": "StyleView",
            "description_width": ""
          }
        },
        "58601fa5bddd47f8902e07cb404447e6": {
          "model_module": "@jupyter-widgets/base",
          "model_name": "LayoutModel",
          "model_module_version": "1.2.0",
          "state": {
            "_model_module": "@jupyter-widgets/base",
            "_model_module_version": "1.2.0",
            "_model_name": "LayoutModel",
            "_view_count": null,
            "_view_module": "@jupyter-widgets/base",
            "_view_module_version": "1.2.0",
            "_view_name": "LayoutView",
            "align_content": null,
            "align_items": null,
            "align_self": null,
            "border": null,
            "bottom": null,
            "display": null,
            "flex": null,
            "flex_flow": null,
            "grid_area": null,
            "grid_auto_columns": null,
            "grid_auto_flow": null,
            "grid_auto_rows": null,
            "grid_column": null,
            "grid_gap": null,
            "grid_row": null,
            "grid_template_areas": null,
            "grid_template_columns": null,
            "grid_template_rows": null,
            "height": null,
            "justify_content": null,
            "justify_items": null,
            "left": null,
            "margin": null,
            "max_height": null,
            "max_width": null,
            "min_height": null,
            "min_width": null,
            "object_fit": null,
            "object_position": null,
            "order": null,
            "overflow": null,
            "overflow_x": null,
            "overflow_y": null,
            "padding": null,
            "right": null,
            "top": null,
            "visibility": null,
            "width": null
          }
        },
        "13f9e26a63114cea8c0ca4c146a38ebd": {
          "model_module": "@jupyter-widgets/controls",
          "model_name": "ProgressStyleModel",
          "model_module_version": "1.5.0",
          "state": {
            "_model_module": "@jupyter-widgets/controls",
            "_model_module_version": "1.5.0",
            "_model_name": "ProgressStyleModel",
            "_view_count": null,
            "_view_module": "@jupyter-widgets/base",
            "_view_module_version": "1.2.0",
            "_view_name": "StyleView",
            "bar_color": null,
            "description_width": ""
          }
        },
        "9a42ed739d2048da8bcbd93332047517": {
          "model_module": "@jupyter-widgets/base",
          "model_name": "LayoutModel",
          "model_module_version": "1.2.0",
          "state": {
            "_model_module": "@jupyter-widgets/base",
            "_model_module_version": "1.2.0",
            "_model_name": "LayoutModel",
            "_view_count": null,
            "_view_module": "@jupyter-widgets/base",
            "_view_module_version": "1.2.0",
            "_view_name": "LayoutView",
            "align_content": null,
            "align_items": null,
            "align_self": null,
            "border": null,
            "bottom": null,
            "display": null,
            "flex": null,
            "flex_flow": null,
            "grid_area": null,
            "grid_auto_columns": null,
            "grid_auto_flow": null,
            "grid_auto_rows": null,
            "grid_column": null,
            "grid_gap": null,
            "grid_row": null,
            "grid_template_areas": null,
            "grid_template_columns": null,
            "grid_template_rows": null,
            "height": null,
            "justify_content": null,
            "justify_items": null,
            "left": null,
            "margin": null,
            "max_height": null,
            "max_width": null,
            "min_height": null,
            "min_width": null,
            "object_fit": null,
            "object_position": null,
            "order": null,
            "overflow": null,
            "overflow_x": null,
            "overflow_y": null,
            "padding": null,
            "right": null,
            "top": null,
            "visibility": null,
            "width": null
          }
        },
        "196e658b7de44f4aa48c902e22d4d445": {
          "model_module": "@jupyter-widgets/controls",
          "model_name": "DescriptionStyleModel",
          "model_module_version": "1.5.0",
          "state": {
            "_model_module": "@jupyter-widgets/controls",
            "_model_module_version": "1.5.0",
            "_model_name": "DescriptionStyleModel",
            "_view_count": null,
            "_view_module": "@jupyter-widgets/base",
            "_view_module_version": "1.2.0",
            "_view_name": "StyleView",
            "description_width": ""
          }
        },
        "c1381e5cea8b4d40af6f5896d0323c55": {
          "model_module": "@jupyter-widgets/controls",
          "model_name": "HBoxModel",
          "model_module_version": "1.5.0",
          "state": {
            "_dom_classes": [],
            "_model_module": "@jupyter-widgets/controls",
            "_model_module_version": "1.5.0",
            "_model_name": "HBoxModel",
            "_view_count": null,
            "_view_module": "@jupyter-widgets/controls",
            "_view_module_version": "1.5.0",
            "_view_name": "HBoxView",
            "box_style": "",
            "children": [
              "IPY_MODEL_e16d648229b440ad9e9527119e269b53",
              "IPY_MODEL_a9a004cfdd3e4fbfb9911fa8b1302855",
              "IPY_MODEL_7dd0f564133e44b1a6b036852d143ccd"
            ],
            "layout": "IPY_MODEL_2571cd49ab9a486d80d85075625b6fca"
          }
        },
        "e16d648229b440ad9e9527119e269b53": {
          "model_module": "@jupyter-widgets/controls",
          "model_name": "HTMLModel",
          "model_module_version": "1.5.0",
          "state": {
            "_dom_classes": [],
            "_model_module": "@jupyter-widgets/controls",
            "_model_module_version": "1.5.0",
            "_model_name": "HTMLModel",
            "_view_count": null,
            "_view_module": "@jupyter-widgets/controls",
            "_view_module_version": "1.5.0",
            "_view_name": "HTMLView",
            "description": "",
            "description_tooltip": null,
            "layout": "IPY_MODEL_6961d9f8b3fe45f29521aa7136213f2d",
            "placeholder": "​",
            "style": "IPY_MODEL_b6a12d816f4f49c099b50cb7671bdc3d",
            "value": "Downloading: 100%"
          }
        },
        "a9a004cfdd3e4fbfb9911fa8b1302855": {
          "model_module": "@jupyter-widgets/controls",
          "model_name": "FloatProgressModel",
          "model_module_version": "1.5.0",
          "state": {
            "_dom_classes": [],
            "_model_module": "@jupyter-widgets/controls",
            "_model_module_version": "1.5.0",
            "_model_name": "FloatProgressModel",
            "_view_count": null,
            "_view_module": "@jupyter-widgets/controls",
            "_view_module_version": "1.5.0",
            "_view_name": "ProgressView",
            "bar_style": "success",
            "description": "",
            "description_tooltip": null,
            "layout": "IPY_MODEL_e7d27c71fce649d6b0e5e48a0513605d",
            "max": 267967963,
            "min": 0,
            "orientation": "horizontal",
            "style": "IPY_MODEL_cda6fcb1958441fa85071c8d4f818838",
            "value": 267967963
          }
        },
        "7dd0f564133e44b1a6b036852d143ccd": {
          "model_module": "@jupyter-widgets/controls",
          "model_name": "HTMLModel",
          "model_module_version": "1.5.0",
          "state": {
            "_dom_classes": [],
            "_model_module": "@jupyter-widgets/controls",
            "_model_module_version": "1.5.0",
            "_model_name": "HTMLModel",
            "_view_count": null,
            "_view_module": "@jupyter-widgets/controls",
            "_view_module_version": "1.5.0",
            "_view_name": "HTMLView",
            "description": "",
            "description_tooltip": null,
            "layout": "IPY_MODEL_931d28a0a22e49f39b7717c502ae63a8",
            "placeholder": "​",
            "style": "IPY_MODEL_08493f4e1e4f49adb3d3a5a4b7f4e0a2",
            "value": " 268M/268M [00:10&lt;00:00, 32.8MB/s]"
          }
        },
        "2571cd49ab9a486d80d85075625b6fca": {
          "model_module": "@jupyter-widgets/base",
          "model_name": "LayoutModel",
          "model_module_version": "1.2.0",
          "state": {
            "_model_module": "@jupyter-widgets/base",
            "_model_module_version": "1.2.0",
            "_model_name": "LayoutModel",
            "_view_count": null,
            "_view_module": "@jupyter-widgets/base",
            "_view_module_version": "1.2.0",
            "_view_name": "LayoutView",
            "align_content": null,
            "align_items": null,
            "align_self": null,
            "border": null,
            "bottom": null,
            "display": null,
            "flex": null,
            "flex_flow": null,
            "grid_area": null,
            "grid_auto_columns": null,
            "grid_auto_flow": null,
            "grid_auto_rows": null,
            "grid_column": null,
            "grid_gap": null,
            "grid_row": null,
            "grid_template_areas": null,
            "grid_template_columns": null,
            "grid_template_rows": null,
            "height": null,
            "justify_content": null,
            "justify_items": null,
            "left": null,
            "margin": null,
            "max_height": null,
            "max_width": null,
            "min_height": null,
            "min_width": null,
            "object_fit": null,
            "object_position": null,
            "order": null,
            "overflow": null,
            "overflow_x": null,
            "overflow_y": null,
            "padding": null,
            "right": null,
            "top": null,
            "visibility": null,
            "width": null
          }
        },
        "6961d9f8b3fe45f29521aa7136213f2d": {
          "model_module": "@jupyter-widgets/base",
          "model_name": "LayoutModel",
          "model_module_version": "1.2.0",
          "state": {
            "_model_module": "@jupyter-widgets/base",
            "_model_module_version": "1.2.0",
            "_model_name": "LayoutModel",
            "_view_count": null,
            "_view_module": "@jupyter-widgets/base",
            "_view_module_version": "1.2.0",
            "_view_name": "LayoutView",
            "align_content": null,
            "align_items": null,
            "align_self": null,
            "border": null,
            "bottom": null,
            "display": null,
            "flex": null,
            "flex_flow": null,
            "grid_area": null,
            "grid_auto_columns": null,
            "grid_auto_flow": null,
            "grid_auto_rows": null,
            "grid_column": null,
            "grid_gap": null,
            "grid_row": null,
            "grid_template_areas": null,
            "grid_template_columns": null,
            "grid_template_rows": null,
            "height": null,
            "justify_content": null,
            "justify_items": null,
            "left": null,
            "margin": null,
            "max_height": null,
            "max_width": null,
            "min_height": null,
            "min_width": null,
            "object_fit": null,
            "object_position": null,
            "order": null,
            "overflow": null,
            "overflow_x": null,
            "overflow_y": null,
            "padding": null,
            "right": null,
            "top": null,
            "visibility": null,
            "width": null
          }
        },
        "b6a12d816f4f49c099b50cb7671bdc3d": {
          "model_module": "@jupyter-widgets/controls",
          "model_name": "DescriptionStyleModel",
          "model_module_version": "1.5.0",
          "state": {
            "_model_module": "@jupyter-widgets/controls",
            "_model_module_version": "1.5.0",
            "_model_name": "DescriptionStyleModel",
            "_view_count": null,
            "_view_module": "@jupyter-widgets/base",
            "_view_module_version": "1.2.0",
            "_view_name": "StyleView",
            "description_width": ""
          }
        },
        "e7d27c71fce649d6b0e5e48a0513605d": {
          "model_module": "@jupyter-widgets/base",
          "model_name": "LayoutModel",
          "model_module_version": "1.2.0",
          "state": {
            "_model_module": "@jupyter-widgets/base",
            "_model_module_version": "1.2.0",
            "_model_name": "LayoutModel",
            "_view_count": null,
            "_view_module": "@jupyter-widgets/base",
            "_view_module_version": "1.2.0",
            "_view_name": "LayoutView",
            "align_content": null,
            "align_items": null,
            "align_self": null,
            "border": null,
            "bottom": null,
            "display": null,
            "flex": null,
            "flex_flow": null,
            "grid_area": null,
            "grid_auto_columns": null,
            "grid_auto_flow": null,
            "grid_auto_rows": null,
            "grid_column": null,
            "grid_gap": null,
            "grid_row": null,
            "grid_template_areas": null,
            "grid_template_columns": null,
            "grid_template_rows": null,
            "height": null,
            "justify_content": null,
            "justify_items": null,
            "left": null,
            "margin": null,
            "max_height": null,
            "max_width": null,
            "min_height": null,
            "min_width": null,
            "object_fit": null,
            "object_position": null,
            "order": null,
            "overflow": null,
            "overflow_x": null,
            "overflow_y": null,
            "padding": null,
            "right": null,
            "top": null,
            "visibility": null,
            "width": null
          }
        },
        "cda6fcb1958441fa85071c8d4f818838": {
          "model_module": "@jupyter-widgets/controls",
          "model_name": "ProgressStyleModel",
          "model_module_version": "1.5.0",
          "state": {
            "_model_module": "@jupyter-widgets/controls",
            "_model_module_version": "1.5.0",
            "_model_name": "ProgressStyleModel",
            "_view_count": null,
            "_view_module": "@jupyter-widgets/base",
            "_view_module_version": "1.2.0",
            "_view_name": "StyleView",
            "bar_color": null,
            "description_width": ""
          }
        },
        "931d28a0a22e49f39b7717c502ae63a8": {
          "model_module": "@jupyter-widgets/base",
          "model_name": "LayoutModel",
          "model_module_version": "1.2.0",
          "state": {
            "_model_module": "@jupyter-widgets/base",
            "_model_module_version": "1.2.0",
            "_model_name": "LayoutModel",
            "_view_count": null,
            "_view_module": "@jupyter-widgets/base",
            "_view_module_version": "1.2.0",
            "_view_name": "LayoutView",
            "align_content": null,
            "align_items": null,
            "align_self": null,
            "border": null,
            "bottom": null,
            "display": null,
            "flex": null,
            "flex_flow": null,
            "grid_area": null,
            "grid_auto_columns": null,
            "grid_auto_flow": null,
            "grid_auto_rows": null,
            "grid_column": null,
            "grid_gap": null,
            "grid_row": null,
            "grid_template_areas": null,
            "grid_template_columns": null,
            "grid_template_rows": null,
            "height": null,
            "justify_content": null,
            "justify_items": null,
            "left": null,
            "margin": null,
            "max_height": null,
            "max_width": null,
            "min_height": null,
            "min_width": null,
            "object_fit": null,
            "object_position": null,
            "order": null,
            "overflow": null,
            "overflow_x": null,
            "overflow_y": null,
            "padding": null,
            "right": null,
            "top": null,
            "visibility": null,
            "width": null
          }
        },
        "08493f4e1e4f49adb3d3a5a4b7f4e0a2": {
          "model_module": "@jupyter-widgets/controls",
          "model_name": "DescriptionStyleModel",
          "model_module_version": "1.5.0",
          "state": {
            "_model_module": "@jupyter-widgets/controls",
            "_model_module_version": "1.5.0",
            "_model_name": "DescriptionStyleModel",
            "_view_count": null,
            "_view_module": "@jupyter-widgets/base",
            "_view_module_version": "1.2.0",
            "_view_name": "StyleView",
            "description_width": ""
          }
        }
      }
    }
  },
  "nbformat": 4,
  "nbformat_minor": 0
}