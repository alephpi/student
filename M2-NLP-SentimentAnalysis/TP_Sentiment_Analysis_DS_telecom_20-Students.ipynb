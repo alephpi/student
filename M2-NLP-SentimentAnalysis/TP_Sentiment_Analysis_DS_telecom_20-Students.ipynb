{
 "cells": [
  {
   "cell_type": "markdown",
   "id": "bb9af7be",
   "metadata": {},
   "source": [
    "# TP : Sentiment analysis on IMDB movie reviews\n",
    "\n",
    "## Objectives:\n",
    "\n",
    "1. Use a simple way to represent textual data - Bag of words and test it with a simple model for a sentiment classification task - Naïve Bayesian\n",
    "2. Explore improvements to these simple representations\n",
    "3. Implement various methods to obtain dense representations (word embeddings) of the same data\n",
    "4. Test these new representations with a simple classification model"
   ]
  },
  {
   "cell_type": "markdown",
   "id": "e4c7af15",
   "metadata": {},
   "source": [
    "## Necessary dependancies\n",
    "\n",
    "We will need the following packages:\n",
    "- The Machine Learning API Scikit-learn : http://scikit-learn.org/stable/install.html\n",
    "- The Natural Language Toolkit : http://www.nltk.org/install.html\n",
    "\n",
    "Both are available with Anaconda: https://anaconda.org/anaconda/nltk and https://anaconda.org/anaconda/scikit-learn"
   ]
  },
  {
   "cell_type": "code",
   "execution_count": 1,
   "id": "079ef84c",
   "metadata": {},
   "outputs": [],
   "source": [
    "import os.path as op\n",
    "import re \n",
    "import numpy as np\n",
    "import matplotlib.pyplot as plt"
   ]
  },
  {
   "cell_type": "markdown",
   "id": "0a147280",
   "metadata": {},
   "source": [
    "## Loading data\n",
    "\n",
    "We retrieve the textual data in the variable *texts*.\n",
    "\n",
    "The labels are retrieved in the variable $y$ - it contains *len(texts)* of them: $0$ indicates that the corresponding review is negative while $1$ indicates that it is positive."
   ]
  },
  {
   "cell_type": "code",
   "execution_count": 2,
   "id": "9340ff7d",
   "metadata": {},
   "outputs": [
    {
     "data": {
      "text/plain": [
       "'\\ntest_labels = np.ones(len(test_texts), dtype=np.int)\\ntest_labels[:len(test_texts_neg)] = 0.\\n'"
      ]
     },
     "execution_count": 2,
     "metadata": {},
     "output_type": "execute_result"
    }
   ],
   "source": [
    "from glob import glob\n",
    "# We get the files from the path: ./aclImdb/train/neg for negative reviews, and ./aclImdb/train/pos for positive reviews\n",
    "train_filenames_neg = sorted(glob(op.join('.', 'aclImdb', 'train', 'neg', '*.txt')))\n",
    "train_filenames_pos = sorted(glob(op.join('.', 'aclImdb', 'train', 'pos', '*.txt')))\n",
    "\n",
    "\"\"\"\n",
    "test_filenames_neg = sorted(glob(op.join('.', 'aclImdb', 'test', 'neg', '*.txt')))\n",
    "test_filenames_pos = sorted(glob(op.join('.', 'aclImdb', 'test', 'pos', '*.txt')))\n",
    "\"\"\"\n",
    "\n",
    "# Each files contains a review that consists in one line of text: we put this string in two lists, that we concatenate\n",
    "train_texts_neg = [open(f, encoding=\"utf8\").read() for f in train_filenames_neg]\n",
    "train_texts_pos = [open(f, encoding=\"utf8\").read() for f in train_filenames_pos]\n",
    "train_texts = train_texts_neg + train_texts_pos\n",
    "\n",
    "\"\"\"\n",
    "test_texts_neg = [open(f, encoding=\"utf8\").read() for f in test_filenames_neg]\n",
    "test_texts_pos = [open(f, encoding=\"utf8\").read() for f in test_filenames_pos]\n",
    "test_texts = test_texts_neg + test_texts_pos\n",
    "\"\"\"\n",
    "\n",
    "# The first half of the elements of the list are string of negative reviews, and the second half positive ones\n",
    "# We create the labels, as an array of [1,len(texts)], filled with 1, and change the first half to 0\n",
    "train_labels = np.ones(len(train_texts), dtype=int)\n",
    "train_labels[:len(train_texts_neg)] = 0.\n",
    "\n",
    "\"\"\"\n",
    "test_labels = np.ones(len(test_texts), dtype=np.int)\n",
    "test_labels[:len(test_texts_neg)] = 0.\n",
    "\"\"\""
   ]
  },
  {
   "cell_type": "markdown",
   "id": "c0605d5b",
   "metadata": {},
   "source": [
    "Example of one document:"
   ]
  },
  {
   "cell_type": "code",
   "execution_count": 3,
   "id": "83da5919",
   "metadata": {},
   "outputs": [
    {
     "data": {
      "text/plain": [
       "\"Story of a man who has unnatural feelings for a pig. Starts out with a opening scene that is a terrific example of absurd comedy. A formal orchestra audience is turned into an insane, violent mob by the crazy chantings of it's singers. Unfortunately it stays absurd the WHOLE time with no general narrative eventually making it just too off putting. Even those from the era should be turned off. The cryptic dialogue would make Shakespeare seem easy to a third grader. On a technical level it's better than you might think with some good cinematography by future great Vilmos Zsigmond. Future stars Sally Kirkland and Frederic Forrest can be seen briefly.\""
      ]
     },
     "execution_count": 3,
     "metadata": {},
     "output_type": "execute_result"
    }
   ],
   "source": [
    "open(\"./aclImdb/train/neg/0_3.txt\", encoding=\"utf8\").read()"
   ]
  },
  {
   "cell_type": "markdown",
   "id": "0930e023",
   "metadata": {},
   "source": [
    "**In this lab, the impact of our choice of representations upon our results will also depend on the quantity of data we use:** try to see how changing the parameter ```k``` affects our results !"
   ]
  },
  {
   "cell_type": "code",
   "execution_count": 4,
   "id": "6f11d1f8",
   "metadata": {},
   "outputs": [
    {
     "name": "stdout",
     "output_type": "stream",
     "text": [
      "Number of documents: 2500\n"
     ]
    }
   ],
   "source": [
    "# This number of documents may be high for most computers: we can select a fraction of them (here, one in k)\n",
    "# Use an even number to keep the same number of positive and negative reviews\n",
    "k = 10\n",
    "train_texts_reduced = train_texts[0::k]\n",
    "train_labels_reduced = train_labels[0::k]\n",
    "\n",
    "print('Number of documents:', len(train_texts_reduced))"
   ]
  },
  {
   "cell_type": "markdown",
   "id": "077226ba",
   "metadata": {},
   "source": [
    "We can use a function from sklearn, ```train_test_split```, to separate data into training and validation sets:"
   ]
  },
  {
   "cell_type": "code",
   "execution_count": 5,
   "id": "ff1da002",
   "metadata": {},
   "outputs": [],
   "source": [
    "from sklearn.model_selection import train_test_split"
   ]
  },
  {
   "cell_type": "code",
   "execution_count": 6,
   "id": "0c7f5643",
   "metadata": {},
   "outputs": [],
   "source": [
    "train_texts_splt, val_texts, train_labels_splt, val_labels = train_test_split(train_texts_reduced, train_labels_reduced, test_size=.2)"
   ]
  },
  {
   "cell_type": "markdown",
   "id": "4910da68",
   "metadata": {},
   "source": [
    "## 1 - Adapted representation of documents\n",
    "\n",
    "Our statistical model, like most models applied to textual data, uses counts of word occurrences in a document. Thus, a very convenient way to represent a document is to use a Bag-of-Words (BoW) vector, containing the counts of each word (regardless of their order of occurrence) in the document. \n",
    "\n",
    "If we consider the set of all the words appearing in our $T$ training documents, which we note $V$ (Vocabulary), we can create **an index**, which is a bijection associating to each $w$ word an integer, which will be its position in $V$. \n",
    "\n",
    "Thus, for a document extracted from a set of documents containing $|V|$ different words, a BoW representation will be a vector of size $|V|$, whose value at the index of a word $w$ will be its number of occurrences in the document. \n",
    "\n",
    "We can use the **CountVectorizer** class from scikit-learn to obtain these representations:"
   ]
  },
  {
   "cell_type": "code",
   "execution_count": 7,
   "id": "d295630f",
   "metadata": {},
   "outputs": [],
   "source": [
    "from sklearn.feature_extraction.text import CountVectorizer"
   ]
  },
  {
   "cell_type": "code",
   "execution_count": 8,
   "id": "3b3fcd3e",
   "metadata": {},
   "outputs": [
    {
     "name": "stdout",
     "output_type": "stream",
     "text": [
      "['avenue', 'boulevard', 'city', 'down', 'ran', 'the', 'walk', 'walked']\n"
     ]
    },
    {
     "name": "stderr",
     "output_type": "stream",
     "text": [
      "d:\\Anaconda\\lib\\site-packages\\sklearn\\utils\\deprecation.py:87: FutureWarning: Function get_feature_names is deprecated; get_feature_names is deprecated in 1.0 and will be removed in 1.2. Please use get_feature_names_out instead.\n",
      "  warnings.warn(msg, category=FutureWarning)\n"
     ]
    },
    {
     "data": {
      "text/plain": [
       "array([[0, 1, 0, 2, 0, 1, 0, 1],\n",
       "       [1, 0, 0, 1, 0, 1, 0, 1],\n",
       "       [0, 1, 0, 1, 1, 1, 0, 0],\n",
       "       [0, 0, 1, 1, 0, 1, 1, 0],\n",
       "       [1, 0, 0, 1, 0, 2, 1, 0]], dtype=int64)"
      ]
     },
     "execution_count": 8,
     "metadata": {},
     "output_type": "execute_result"
    }
   ],
   "source": [
    "corpus = ['I walked down down the boulevard',\n",
    "          'I walked down the avenue',\n",
    "          'I ran down the boulevard',\n",
    "          'I walk down the city',\n",
    "          'I walk down the the avenue']\n",
    "vectorizer = CountVectorizer()\n",
    "\n",
    "Bow = vectorizer.fit_transform(corpus)\n",
    "\n",
    "print(vectorizer.get_feature_names())\n",
    "Bow.toarray()"
   ]
  },
  {
   "cell_type": "markdown",
   "id": "902d06c4",
   "metadata": {},
   "source": [
    "<div class='alert alert-block alert-info'>\n",
    "            Code:</div>"
   ]
  },
  {
   "cell_type": "code",
   "execution_count": 9,
   "id": "4283d07a",
   "metadata": {},
   "outputs": [
    {
     "name": "stdout",
     "output_type": "stream",
     "text": [
      "(2000, 25403)\n",
      "(500, 25403)\n"
     ]
    }
   ],
   "source": [
    "# Create and fit the vectorizer to the training data\n",
    "\n",
    "# fit for train_texts or train_texts_splt?\n",
    "train_bow = vectorizer.fit_transform(train_texts_splt)\n",
    "print(train_bow.shape)\n",
    "\n",
    "# Transform the validation data\n",
    "val_bow = vectorizer.transform(val_texts)\n",
    "print(val_bow.shape)"
   ]
  },
  {
   "cell_type": "markdown",
   "id": "15935da9",
   "metadata": {},
   "source": [
    "shape = (#document, #word)"
   ]
  },
  {
   "cell_type": "markdown",
   "id": "27d8b9bc",
   "metadata": {},
   "source": [
    "<div class='alert alert-block alert-warning'>\n",
    "            Question:</div>\n",
    "\n",
    "Careful: check the memory that the representations are going to use (given the way they are build). What ```CountVectorizer``` argument allows to avoid the issue ? "
   ]
  },
  {
   "cell_type": "markdown",
   "id": "2c1f331e",
   "metadata": {},
   "source": [
    "`CountVectorizer` uses `max_features` as the upper bound the total vocabulary number, which reduces the matrix representation's dimension. Meanwhile, it uses `scipy.sparse` to store the sparse matrix."
   ]
  },
  {
   "cell_type": "markdown",
   "id": "7000dde2",
   "metadata": {},
   "source": [
    "We are going to use the scikit-learn ```MultinomialNB```, an implementation of the Naive Bayesian model.\n",
    "<div class='alert alert-block alert-info'>\n",
    "            Code:</div>"
   ]
  },
  {
   "cell_type": "code",
   "execution_count": 10,
   "id": "1cd31ca7",
   "metadata": {},
   "outputs": [
    {
     "name": "stdout",
     "output_type": "stream",
     "text": [
      "              precision    recall  f1-score   support\n",
      "\n",
      "           0       0.78      0.84      0.81       251\n",
      "           1       0.82      0.76      0.79       249\n",
      "\n",
      "    accuracy                           0.80       500\n",
      "   macro avg       0.80      0.80      0.80       500\n",
      "weighted avg       0.80      0.80      0.80       500\n",
      "\n"
     ]
    },
    {
     "data": {
      "image/png": "[encoded data removed]",
      "text/plain": [
       "<Figure size 640x480 with 2 Axes>"
      ]
     },
     "metadata": {},
     "output_type": "display_data"
    }
   ],
   "source": [
    "from sklearn.naive_bayes import MultinomialNB\n",
    "# Fit the model on the training data\n",
    "nb = MultinomialNB()\n",
    "nb.fit(train_bow, train_labels_splt)\n",
    "\n",
    "from sklearn.metrics import confusion_matrix, ConfusionMatrixDisplay, classification_report\n",
    "# Test it on the validation data \n",
    "val_pred = nb.predict(val_bow)\n",
    "\n",
    "def report(labels, pred):\n",
    "  print(classification_report(labels, pred))\n",
    "  cm = confusion_matrix(labels, pred)\n",
    "  disp = ConfusionMatrixDisplay(confusion_matrix=cm, display_labels=[0,1])\n",
    "  disp.plot()\n",
    "  plt.show()\n",
    "\n",
    "report(val_labels, val_pred)"
   ]
  },
  {
   "cell_type": "markdown",
   "id": "41d62628",
   "metadata": {},
   "source": [
    "<div class='alert alert-block alert-warning'>\n",
    "            Questions:</div>\n",
    "\n",
    "- Here, what is the naïve hypothesis ? \n",
    "- Let us look at the *features* built by the ```vectorizer```. How can we improve them ? "
   ]
  },
  {
   "cell_type": "markdown",
   "id": "546bf46b",
   "metadata": {},
   "source": [
    "Naive: the probability of the occurence of a certain word at a certain position is independent of the others."
   ]
  },
  {
   "cell_type": "code",
   "execution_count": 11,
   "id": "28a0206a",
   "metadata": {},
   "outputs": [
    {
     "name": "stdout",
     "output_type": "stream",
     "text": [
      "['00', '000', '00001', '007', '01', '02', '05', '06', '07', '08', '09', '10', '100', '1000', '1000000', '100m', '101', '102', '103', '105', '10mil', '10yr', '11', '110', '1100', '11001001', '112', '12', '120', '123', '125', '12s', '12th', '13', '130', '134', '13th', '14', '145', '147', '14ieme', '14th', '15', '150', '16', '161', '1692', '16th', '16ème', '17', '1700', '1798', '17th', '18', '180', '1800', '1824', '1840', '1840s', '1850', '1864', '1880', '1892', '1895', '1897', '18th', '19', '1902', '1911', '1912', '1914', '1916', '1918', '1920', '1920s', '1921', '1922', '1924', '1925', '1927', '1928', '1929', '1930', '1930s', '1931', '1932', '1933', '1934', '1935', '1936', '1937', '1938', '1939', '1940', '1940s', '1941', '1942', '1943', '1944', '1945']\n"
     ]
    },
    {
     "name": "stderr",
     "output_type": "stream",
     "text": [
      "d:\\Anaconda\\lib\\site-packages\\sklearn\\utils\\deprecation.py:87: FutureWarning: Function get_feature_names is deprecated; get_feature_names is deprecated in 1.0 and will be removed in 1.2. Please use get_feature_names_out instead.\n",
      "  warnings.warn(msg, category=FutureWarning)\n"
     ]
    }
   ],
   "source": [
    "print(vectorizer.get_feature_names()[:100])"
   ]
  },
  {
   "cell_type": "markdown",
   "id": "cd9781e6",
   "metadata": {},
   "source": [
    "## 2 - Improving representations\n",
    "\n",
    "### 2.A - By reweighting and filtering\n",
    "\n",
    "Mainly, the arguments of the class ```vectorizer``` will allow us to easily change the way our textual data is represented. Let us try to work on our *Bag-of-words* representations:\n",
    "   \n",
    "#### Do not take into account words that are too frequent:\n",
    "\n",
    "You can use the argument ```max_df=1.0``` to change the amount of words taken into account. \n",
    "\n",
    "#### Try different granularities:\n",
    "\n",
    "Rather than just counting words, we can count sequences of words - limited in size, of course. \n",
    "We call a sequence of $n$ words a $n$-gram: let's try using 2 and 3-grams (bi- and trigrams).\n",
    "We can also try to use character sequences instead of word sequences.\n",
    "\n",
    "We will be interested in the options ```analyze='word'``` and ```ngram_range=(1, 2)``` which we'll change to alter the granularity. \n",
    "\n",
    "**Again: using these ways of getting more features from our text will probably have more impact if we do not have much training data to begin with !**\n",
    "\n",
    "To accelerate experiments, use the ```Pipeline``` tool from scikit-learn. "
   ]
  },
  {
   "cell_type": "code",
   "execution_count": 12,
   "id": "704909e5",
   "metadata": {},
   "outputs": [],
   "source": [
    "from sklearn.pipeline import Pipeline\n",
    "\n",
    "pipeline_base = Pipeline([\n",
    "    ('vect', CountVectorizer(max_features=30000, analyzer='word', stop_words=None)),\n",
    "    ('clf', MultinomialNB()),\n",
    "])"
   ]
  },
  {
   "cell_type": "markdown",
   "id": "31001236",
   "metadata": {},
   "source": [
    "<div class='alert alert-block alert-info'>\n",
    "            Code:</div>"
   ]
  },
  {
   "cell_type": "code",
   "execution_count": 13,
   "id": "5cef03b3",
   "metadata": {},
   "outputs": [
    {
     "name": "stdout",
     "output_type": "stream",
     "text": [
      "unigram-only:\n",
      "              precision    recall  f1-score   support\n",
      "\n",
      "           0       0.78      0.84      0.81       251\n",
      "           1       0.82      0.76      0.79       249\n",
      "\n",
      "    accuracy                           0.80       500\n",
      "   macro avg       0.80      0.80      0.80       500\n",
      "weighted avg       0.80      0.80      0.80       500\n",
      "\n"
     ]
    },
    {
     "data": {
      "image/png": "[encoded data removed]",
      "text/plain": [
       "<Figure size 640x480 with 2 Axes>"
      ]
     },
     "metadata": {},
     "output_type": "display_data"
    },
    {
     "name": "stdout",
     "output_type": "stream",
     "text": [
      "bigram-within:\n",
      "              precision    recall  f1-score   support\n",
      "\n",
      "           0       0.84      0.84      0.84       251\n",
      "           1       0.84      0.84      0.84       249\n",
      "\n",
      "    accuracy                           0.84       500\n",
      "   macro avg       0.84      0.84      0.84       500\n",
      "weighted avg       0.84      0.84      0.84       500\n",
      "\n"
     ]
    },
    {
     "data": {
      "image/png": "[encoded data removed]",
      "text/plain": [
       "<Figure size 640x480 with 2 Axes>"
      ]
     },
     "metadata": {},
     "output_type": "display_data"
    },
    {
     "name": "stdout",
     "output_type": "stream",
     "text": [
      "trigram-within:\n",
      "              precision    recall  f1-score   support\n",
      "\n",
      "           0       0.84      0.83      0.83       251\n",
      "           1       0.83      0.84      0.83       249\n",
      "\n",
      "    accuracy                           0.83       500\n",
      "   macro avg       0.83      0.83      0.83       500\n",
      "weighted avg       0.83      0.83      0.83       500\n",
      "\n"
     ]
    },
    {
     "data": {
      "image/png": "[encoded data removed]",
      "text/plain": [
       "<Figure size 640x480 with 2 Axes>"
      ]
     },
     "metadata": {},
     "output_type": "display_data"
    },
    {
     "name": "stdout",
     "output_type": "stream",
     "text": [
      "character-wise:\n",
      "              precision    recall  f1-score   support\n",
      "\n",
      "           0       0.61      0.63      0.62       251\n",
      "           1       0.62      0.60      0.61       249\n",
      "\n",
      "    accuracy                           0.61       500\n",
      "   macro avg       0.61      0.61      0.61       500\n",
      "weighted avg       0.61      0.61      0.61       500\n",
      "\n"
     ]
    },
    {
     "data": {
      "image/png": "[encoded data removed]",
      "text/plain": [
       "<Figure size 640x480 with 2 Axes>"
      ]
     },
     "metadata": {},
     "output_type": "display_data"
    }
   ],
   "source": [
    "# Fit and test the pipeline\n",
    "pipeline_base.fit(train_texts_splt, train_labels_splt)\n",
    "print(\"unigram-only:\")\n",
    "val_pred = pipeline_base.predict(val_texts)\n",
    "report(val_labels, val_pred)\n",
    "\n",
    "# Fit and test a pipeline with bigrams,\n",
    "pipeline_bigram = Pipeline([\n",
    "    ('vect', CountVectorizer(max_features=30000, analyzer='word', stop_words=None, ngram_range=(1,2))),\n",
    "    ('clf', MultinomialNB()),\n",
    "])\n",
    "pipeline_bigram.fit(train_texts_splt, train_labels_splt)\n",
    "print(\"bigram-within:\")\n",
    "val_pred = pipeline_bigram.predict(val_texts)\n",
    "report(val_labels, val_pred)\n",
    "\n",
    "\n",
    "# ... trigrams,\n",
    "pipeline_trigram = Pipeline([\n",
    "    ('vect', CountVectorizer(max_features=30000, analyzer='word', stop_words=None, ngram_range=(1,3))),\n",
    "    ('clf', MultinomialNB()),\n",
    "])\n",
    "pipeline_trigram.fit(train_texts_splt, train_labels_splt)\n",
    "print(\"trigram-within:\")\n",
    "val_pred = pipeline_trigram.predict(val_texts)\n",
    "report(val_labels, val_pred)\n",
    "\n",
    "\n",
    "# ... and characters.\n",
    "pipeline_char = Pipeline([\n",
    "    ('vect', CountVectorizer(max_features=30000, analyzer='char', stop_words=None)),\n",
    "    ('clf', MultinomialNB()),\n",
    "])\n",
    "pipeline_char.fit(train_texts_splt, train_labels_splt)\n",
    "print(\"character-wise:\")\n",
    "val_pred = pipeline_char.predict(val_texts)\n",
    "report(val_labels, val_pred)"
   ]
  },
  {
   "cell_type": "markdown",
   "id": "c595bd93",
   "metadata": {},
   "source": [
    "#### Tf-idf:\n",
    "\n",
    "This is the product of the frequency of the term (TF) and its inverse frequency in documents (IDF).\n",
    "This method is usually used to measure the importance of a term $i$ in a document $j$ relative to the rest of the corpus, from a matrix of occurrences $ words \\times documents$. Thus, for a matrix $\\mathbf{T}$ of $|V|$ terms and $D$ documents:\n",
    "$$\\text{TF}(T, w, d) = \\frac{T_{w,d}}{\\sum_{w'=1}^{|V|} T_{w',d}} $$\n",
    "\n",
    "$$\\text{IDF}(T, w) = \\log\\left(\\frac{D}{|\\{d : T_{w,d} > 0\\}|}\\right)$$\n",
    "\n",
    "$$\\text{TF-IDF}(T, w, d) = \\text{TF}(X, w, d) \\cdot \\text{IDF}(T, w)$$\n",
    "\n",
    "It can be adapted to our case by considering that the context of the second word is the document. However, TF-IDF is generally better suited to low-density matrices, since it will penalize terms that appear in a large part of the documents. "
   ]
  },
  {
   "cell_type": "markdown",
   "id": "8106592c",
   "metadata": {},
   "source": [
    "<div class='alert alert-block alert-info'>\n",
    "            Code:</div>"
   ]
  },
  {
   "cell_type": "code",
   "execution_count": 14,
   "id": "6e9396a8",
   "metadata": {},
   "outputs": [
    {
     "name": "stdout",
     "output_type": "stream",
     "text": [
      "              precision    recall  f1-score   support\n",
      "\n",
      "           0       0.75      0.88      0.81       251\n",
      "           1       0.85      0.70      0.77       249\n",
      "\n",
      "    accuracy                           0.79       500\n",
      "   macro avg       0.80      0.79      0.79       500\n",
      "weighted avg       0.80      0.79      0.79       500\n",
      "\n"
     ]
    },
    {
     "data": {
      "image/png": "[encoded data removed]",
      "text/plain": [
       "<Figure size 640x480 with 2 Axes>"
      ]
     },
     "metadata": {},
     "output_type": "display_data"
    }
   ],
   "source": [
    "from sklearn.feature_extraction.text import TfidfTransformer\n",
    "\n",
    "# Fit and test a pipeline with tf-idf\n",
    "pipeline_tf_idf = Pipeline([\n",
    "  ('vect', CountVectorizer(max_features=30000, analyzer='word', stop_words=None)),\n",
    "  ('Tfidf', TfidfTransformer()),\n",
    "  ('clf', MultinomialNB())\n",
    "])\n",
    "pipeline_tf_idf.fit(train_texts_splt, train_labels_splt)\n",
    "val_pred = pipeline_tf_idf.predict(val_texts)\n",
    "report(val_labels, val_pred)"
   ]
  },
  {
   "cell_type": "markdown",
   "id": "c9d82780",
   "metadata": {},
   "source": [
    "### 2.B With pre-processing tools from NLTK\n",
    "\n",
    "We are now going to pre-process our textual data in order to simplify the model's task. **Note that this still will only be useful if we do not have a lot of training data to begin with !**\n",
    "\n",
    "**Important:** Until now, we obtained representations with ```vectorizer``` applied on the full document. The class divided the string into words itself ! Now, we'll need to do the **tokenization** ourselves in order to apply pre-processing to words. The simplest way to do this is to divide the string following blank spaces, with:\n",
    "```text.split()```. If we need something more elaborate, we can use a tokenizer from NLTK, ```word_tokenize```."
   ]
  },
  {
   "cell_type": "markdown",
   "id": "de763033",
   "metadata": {},
   "source": [
    "### Stemming \n",
    "\n",
    "Allows to go back to the root of a word: you can group different words around the same root, which facilitates generalization. Use:\n",
    "```from nltk import SnowballStemmer```"
   ]
  },
  {
   "cell_type": "code",
   "execution_count": 15,
   "id": "694470b4",
   "metadata": {},
   "outputs": [],
   "source": [
    "from nltk import SnowballStemmer\n",
    "stemmer = SnowballStemmer(\"english\")"
   ]
  },
  {
   "cell_type": "markdown",
   "id": "82c05c64",
   "metadata": {},
   "source": [
    "**Example:**"
   ]
  },
  {
   "cell_type": "code",
   "execution_count": 16,
   "id": "ee578d0b",
   "metadata": {},
   "outputs": [
    {
     "name": "stdout",
     "output_type": "stream",
     "text": [
      "word : singers ; stemmed : singer\n",
      "word : cat ; stemmed : cat\n",
      "word : generalization ; stemmed : general\n",
      "word : philosophy ; stemmed : philosophi\n",
      "word : psychology ; stemmed : psycholog\n",
      "word : philosopher ; stemmed : philosoph\n"
     ]
    }
   ],
   "source": [
    "words = ['singers', 'cat', 'generalization', 'philosophy', 'psychology', 'philosopher']\n",
    "for word in words:\n",
    "    print('word : %s ; stemmed : %s' %(word, stemmer.stem(word)))"
   ]
  },
  {
   "cell_type": "markdown",
   "id": "cbe9681f",
   "metadata": {},
   "source": [
    "**Data transformation:**"
   ]
  },
  {
   "cell_type": "markdown",
   "id": "c394722f",
   "metadata": {},
   "source": [
    "<div class='alert alert-block alert-info'>\n",
    "            Code:</div>"
   ]
  },
  {
   "cell_type": "code",
   "execution_count": 17,
   "id": "b0fea4d7",
   "metadata": {},
   "outputs": [
    {
     "name": "stdout",
     "output_type": "stream",
     "text": [
      "              precision    recall  f1-score   support\n",
      "\n",
      "           0       0.76      0.82      0.79       251\n",
      "           1       0.80      0.73      0.77       249\n",
      "\n",
      "    accuracy                           0.78       500\n",
      "   macro avg       0.78      0.78      0.78       500\n",
      "weighted avg       0.78      0.78      0.78       500\n",
      "\n"
     ]
    },
    {
     "data": {
      "image/png": "[encoded data removed]",
      "text/plain": [
       "<Figure size 640x480 with 2 Axes>"
      ]
     },
     "metadata": {},
     "output_type": "display_data"
    }
   ],
   "source": [
    "def stem(X):\n",
    "    X_stem = []\n",
    "    for document in X:\n",
    "        words = document.split()\n",
    "        words_stem = []\n",
    "        for word in words:\n",
    "            words_stem.append(stemmer.stem(word))\n",
    "        X_stem.append(' '.join(words_stem))\n",
    "    return X_stem\n",
    "\n",
    "# Transform training and validation data and test it with a basic pipeline\n",
    "train_stem = stem(train_texts_splt)\n",
    "val_stem = stem(val_texts)\n",
    "pipeline_stem = Pipeline([\n",
    "  ('vect', CountVectorizer(max_features=30000, analyzer='word', stop_words=None)),\n",
    "  ('clf', MultinomialNB())\n",
    "])\n",
    "\n",
    "pipeline_stem.fit(train_stem, train_labels_splt)\n",
    "val_pred = pipeline_stem.predict(val_stem)\n",
    "report(val_labels, val_pred)"
   ]
  },
  {
   "cell_type": "markdown",
   "id": "3c5cd980",
   "metadata": {},
   "source": [
    "### Part of speech tags\n",
    "\n",
    "To generalize, we can also use the Part of Speech (POS) of the words, which will allow us to filter out information that is potentially not useful to the model. We will retrieve the POS of the words using the functions:\n",
    "```from nltk import pos_tag, word_tokenize```"
   ]
  },
  {
   "cell_type": "code",
   "execution_count": 18,
   "id": "1311438a",
   "metadata": {},
   "outputs": [],
   "source": [
    "import nltk\n",
    "from nltk import pos_tag, word_tokenize"
   ]
  },
  {
   "cell_type": "markdown",
   "id": "72f59576",
   "metadata": {},
   "source": [
    "**Example:**"
   ]
  },
  {
   "cell_type": "code",
   "execution_count": 19,
   "id": "96cbf3c6",
   "metadata": {},
   "outputs": [
    {
     "name": "stderr",
     "output_type": "stream",
     "text": [
      "[nltk_data] Downloading package punkt to\n",
      "[nltk_data]     C:\\Users\\pc\\AppData\\Roaming\\nltk_data...\n",
      "[nltk_data]   Package punkt is already up-to-date!\n",
      "[nltk_data] Downloading package averaged_perceptron_tagger to\n",
      "[nltk_data]     C:\\Users\\pc\\AppData\\Roaming\\nltk_data...\n",
      "[nltk_data]   Package averaged_perceptron_tagger is already up-to-\n",
      "[nltk_data]       date!\n"
     ]
    },
    {
     "data": {
      "text/plain": [
       "[('I', 'PRP'), ('am', 'VBP'), ('Sam', 'NNP')]"
      ]
     },
     "execution_count": 19,
     "metadata": {},
     "output_type": "execute_result"
    }
   ],
   "source": [
    "import nltk\n",
    "nltk.download('punkt')\n",
    "nltk.download('averaged_perceptron_tagger')\n",
    "\n",
    "pos_tag(word_tokenize(('I am Sam')))"
   ]
  },
  {
   "cell_type": "code",
   "execution_count": 20,
   "id": "a02082b2",
   "metadata": {},
   "outputs": [
    {
     "data": {
      "text/plain": [
       "[('I', 'PRP'), ('am', 'VBP'), ('Sam', 'NNP'), ('.', '.')]"
      ]
     },
     "execution_count": 20,
     "metadata": {},
     "output_type": "execute_result"
    }
   ],
   "source": [
    "pos_tag(word_tokenize(('I am Sam.')))"
   ]
  },
  {
   "cell_type": "markdown",
   "id": "8cc69460",
   "metadata": {},
   "source": [
    "**Data transformation:** only keep nouns, verbs, adverbs, and adjectives (```['NN', 'VB', 'ADJ', 'RB']```) for our model."
   ]
  },
  {
   "cell_type": "markdown",
   "id": "a303c5fb",
   "metadata": {},
   "source": [
    "<div class='alert alert-block alert-info'>\n",
    "            Code:</div>"
   ]
  },
  {
   "cell_type": "code",
   "execution_count": 21,
   "id": "c6aea80e",
   "metadata": {},
   "outputs": [
    {
     "name": "stdout",
     "output_type": "stream",
     "text": [
      "              precision    recall  f1-score   support\n",
      "\n",
      "           0       0.80      0.81      0.80       251\n",
      "           1       0.80      0.80      0.80       249\n",
      "\n",
      "    accuracy                           0.80       500\n",
      "   macro avg       0.80      0.80      0.80       500\n",
      "weighted avg       0.80      0.80      0.80       500\n",
      "\n"
     ]
    },
    {
     "data": {
      "image/png": "[encoded data removed]",
      "text/plain": [
       "<Figure size 640x480 with 2 Axes>"
      ]
     },
     "metadata": {},
     "output_type": "display_data"
    }
   ],
   "source": [
    "def pos_tag_filter(X, good_tags=['NN', 'VB', 'JJ', 'RB']):\n",
    "    X_pos = []\n",
    "    for document in X:\n",
    "        words_pos = [word for word, tag in pos_tag(word_tokenize(document)) if tag in good_tags]\n",
    "        X_pos.append(' '.join(words_pos))\n",
    "    return X_pos\n",
    "\n",
    "# Transform training and validation data and test it with a basic pipeline\n",
    "\n",
    "train_pos_tag = pos_tag_filter(train_texts_splt)\n",
    "val_pos_tag = pos_tag_filter(val_texts)\n",
    "pipeline_pos_tag= Pipeline([\n",
    "  ('vect', CountVectorizer(max_features=30000, analyzer='word', stop_words=None)),\n",
    "  ('clf', MultinomialNB())\n",
    "])\n",
    "\n",
    "\n",
    "pipeline_pos_tag.fit(train_pos_tag, train_labels_splt)\n",
    "val_pred = pipeline_pos_tag.predict(val_pos_tag)\n",
    "report(val_labels, val_pred)"
   ]
  },
  {
   "cell_type": "markdown",
   "id": "41dbc1f1",
   "metadata": {},
   "source": [
    "## 3 - Dense Representations \n",
    "\n",
    "### Word Embeddings : Distributed representations via the distributional hypothesis \n",
    "\n",
    "**Goal**: We will try to obtain dense representations (as vectors of real numbers) of words (and possibly sentences). These representations are intended to be distributed: they are non-local representations. We represent an object as a combination of *features*, as opposed to the attribution of a dedicated symbol: see the founding work of Geoffrey Hinton, among others, on the subject: [Distributed Representations](https://web.stanford.edu/~jlmcc/papers/PDP/Chapter3.pdf).\n",
    "\n",
    "The term *distributed* representations is very general, but is what we are looking for. The challenge is therefore to be able to build, automatically, such representations.\n",
    "\n",
    "**Underlying idea**: It is based on the distributional hypothesis: contextual information is sufficient to obtain a viable representation of linguistic objects.\n",
    " - For a large class of cases [...] the meaning of a word is its use in the language.\" Wittgenstein (Philosophical Investigations, 43 - 1953)\n",
    " - You shall know a word by the company it keeps, Firth.\n",
    "\n",
    "Thus, a word can be characterized by the words that accompany it, via co-occurrence counts. Two words with a similar meaning will have a similar contextual distribution and are therefore more likely to appear in similar contexts. This hypothesis can be used as a justification for the application of statistics to semantics (information extraction, semantic analysis). It also allows some form of generalization: we can assume that the information we have about a word will be generalized to words with a similar distribution. \n",
    "\n",
    "**Motivation**: The goal is to obtain distributed representations in order to be able to effectively**:\n",
    "- Directly perform a semantic surface analysis.\n",
    "- Use it as a source of information for other language-related models and applications, especially for sentiment analysis. \n",
    "\n",
    "\n",
    "**Terminology**: Be careful not to confuse the idea of *distributed* and *distributional* representation. The latter generally indicates (for words) that the representation has been obtained strictly from co-occurrence counts, whereas additional information (document labels, part of speech tags, ...) can be used to build distributed representations. \n",
    "The models that allow to build these dense representations, in the form of vectors, are often called *vector spaces models*. These representations are also regularly called *word embeddings*, because the words are embedded in a vector space. In French, we often find the term *word embedding* or *lexical embedding*."
   ]
  },
  {
   "cell_type": "markdown",
   "id": "29c47805",
   "metadata": {},
   "source": [
    "### Getting representations: counts of occurrences and co-occurrences\n",
    "\n",
    "Depending on the type of corpus available, different types of distributional information can be obtained. If we have access to a collection of documents, we can thus choose to count the number of occurrences of each word in each document, to obtain a $words \\times documents$ matrix: it is on this principle that **Tf-Idf** is built. We will now look at a more general case: we have a large amount of data in text form, and we want to obtain representations of words in the form of vectors of reduced size, without the need to divide them into documents or categories. \n",
    "\n",
    "Suppose we have a corpus containing $T$ different words. We will construct a $\\mathbf{M}$ matrix of size $T \\times T$ which will contain the number of co-occurrences between words. There will be different factors to consider when constructing this matrix: \n",
    "\n",
    "- How do you define the 'context' of a word - context which will tell you what terms co-occur with that word?\n",
    "\n",
    "We can choose to use different scales: the document, the sentence, the nominal group, or simply a window of $k$ words, depending on the information we want to capture.\n",
    "\n",
    "\n",
    "- How do we quantify the importance of the counts? \n",
    "\n",
    "$\\rightarrow$ For example, we can give a decreasing weight to a co-occurrence according to the distance between the two words concerned ($\\frac{1}{d+1}$ for a separation by $d$ words).\n",
    "\n",
    "\n",
    "- Should we keep all the words that appear in the corpus? \n",
    "\n",
    "$\\rightarrow$ Usually not. We will see that for large corpora, the number $T$ of different words is huge. Second, even if the number of words is reasonable, we will have very little distributional information on the rarest words, and the representation obtained will be of poor quality. We will have to ask ourselves how to filter these words, and how to treat the words we choose not to represent.  "
   ]
  },
  {
   "cell_type": "markdown",
   "id": "9af49e7c",
   "metadata": {},
   "source": [
    "#### Example:\n",
    "\n",
    "Let's look at the following text:\n",
    "\n",
    "*I walked down down the boulevard. I walked down the avenue. I ran down the boulevard. I walk down the city. I walk down the the avenue.*\n",
    "\n",
    "We choose to define the context of a word as the sentence to which it belongs, and to not use any weighting.\n",
    "We obtain the following matrix: \n",
    "\n",
    "|     *         | I | the | down | walked | boulevard | avenue | walk | ran | city |\n",
    "|---------------|---|-----|------|--------|-----------|--------|------|-----|------|\n",
    "| I             | 0 |      6 |    6 |   2 |         2 |      2 |   2 |    1 |    1 |\n",
    "| the           | 6 |      2 |    7 |   2 |         2 |      3 |   3 |    1 |    1 |\n",
    "| down          | 6 |      7 |    2 |   3 |         3 |      2 |   2 |    1 |    1 |\n",
    "| walked        | 2 |      2 |    3 |   0 |         1 |      1 |   0 |    0 |    0 |\n",
    "| boulevard     | 2 |      2 |    3 |   1 |         0 |      0 |   0 |    1 |    0 |\n",
    "| avenue        | 2 |      3 |    2 |   1 |         0 |      0 |   1 |    0 |    0 |\n",
    "| ran           | 2 |      3 |    2 |   0 |         0 |      1 |   0 |    0 |    1 |\n",
    "| walk          | 1 |      1 |    1 |   0 |         1 |      0 |   0 |    0 |    0 |\n",
    "| city          | 1 |      1 |    1 |   0 |         0 |      0 |   1 |    0 |    1 |"
   ]
  },
  {
   "cell_type": "markdown",
   "id": "651600a4",
   "metadata": {},
   "source": [
    "### 3.A In practice: get a Vocabulary.\n",
    "\n",
    "To begin, we will implement separately a function returning the vocabulary. Here we will have to be able to control its size, by indicating a maximum number of words. We add, at the end, an \"unknown\" word that will replace all the words that do not appear in our \"limited\" vocabulary. \n",
    "\n",
    "**Remarks:**\n",
    "- Use tokenization to obtain words from a document !\n",
    "- Add a special token ```<UNK>``` to deal with out-of-vocabulary words: even if you don't put a limit, you might encounter new words when working with new data. \n",
    "- You need to count words and sort them by frequency in order to only keep the most frequent ones. It is not necessary to count 'unknown' words."
   ]
  },
  {
   "cell_type": "markdown",
   "id": "1f103cc0",
   "metadata": {},
   "source": [
    "<div class='alert alert-block alert-info'>\n",
    "            Code:</div>"
   ]
  },
  {
   "cell_type": "code",
   "execution_count": 22,
   "id": "b0b5b5d7",
   "metadata": {},
   "outputs": [],
   "source": [
    "from typing import List\n",
    "\n",
    "\n",
    "def vocabulary(corpus: List[List[str]], voc_threshold=0):\n",
    "    \"\"\"    \n",
    "    Function using word counts to build a vocabulary - can be improved with a second parameter for \n",
    "    setting a frequency threshold\n",
    "    Params:\n",
    "        corpus (list of list of strings): corpus of sentences\n",
    "        voc_threshold (int): minimum occurence for the vocabulary (0 means no limit !)\n",
    "    Returns:\n",
    "        vocabulary (dictionary): keys: list of distinct words across the corpus\n",
    "                                 values: indices corresponding to each word sorted by frequency        \n",
    "    \"\"\"\n",
    "    word_counts = {}\n",
    "    for document in corpus:\n",
    "        for word in word_tokenize(document):\n",
    "            if not word in word_counts.keys():\n",
    "                word_counts[word] = 1\n",
    "            else:\n",
    "                word_counts[word] += 1\n",
    "    voc = {}                   \n",
    "    filtered_word_counts = {}\n",
    "    for i, (word, count) in enumerate(sorted(word_counts.items(), key = lambda item: item[1], reverse=True)):\n",
    "        if voc_threshold != 0 and i >= voc_threshold:\n",
    "            break\n",
    "        voc[word] = i\n",
    "        filtered_word_counts[word] = count\n",
    "    filtered_word_counts['UNK'] = 0\n",
    "    voc['UNK'] = len(voc)\n",
    "\n",
    "    return voc, filtered_word_counts"
   ]
  },
  {
   "cell_type": "code",
   "execution_count": 23,
   "id": "f6f97b3b",
   "metadata": {},
   "outputs": [
    {
     "name": "stdout",
     "output_type": "stream",
     "text": [
      "{'down': 0, 'the': 1, 'I': 2, 'UNK': 3}\n",
      "{'down': 6, 'the': 6, 'I': 5, 'UNK': 0}\n",
      "{'down': 0, 'the': 1, 'I': 2, 'walked': 3, 'boulevard': 4, 'avenue': 5, 'walk': 6, 'ran': 7, 'city': 8, 'UNK': 9}\n",
      "{'down': 6, 'the': 6, 'I': 5, 'walked': 2, 'boulevard': 2, 'avenue': 2, 'walk': 2, 'ran': 1, 'city': 1, 'UNK': 0}\n"
     ]
    }
   ],
   "source": [
    "# Example for testing:\n",
    "\n",
    "corpus = ['I walked down down the boulevard',\n",
    "          'I walked down the avenue',\n",
    "          'I ran down the boulevard',\n",
    "          'I walk down the city',\n",
    "          'I walk down the the avenue']\n",
    "\n",
    "voc, counts = vocabulary(corpus, voc_threshold = 3)\n",
    "print(voc)\n",
    "print(counts)\n",
    "\n",
    "# We expect something like this:\n",
    "#  {'down': 0, 'the': 1, 'i': 2, 'UNK': 3}\n",
    "#  {'down': 6, 'the': 6, 'i': 5, 'UNK': 0}\n",
    "\n",
    "voc, counts = vocabulary(corpus)\n",
    "print(voc)\n",
    "print(counts)\n",
    "\n",
    "# We expect something like this:\n",
    "#  {'down': 0, 'the': 1, 'i': 2, 'walked': 3, 'boulevard': 4, 'avenue': 5, 'walk': 6, 'ran': 7, 'city': 8, 'UNK': 9}\n",
    "#  {'down': 6, 'the': 6, 'i': 5, 'walked': 2, 'boulevard': 2, 'avenue': 2, 'walk': 2, 'ran': 1, 'city': 1, 'UNK': 0}"
   ]
  },
  {
   "cell_type": "markdown",
   "id": "ce268905",
   "metadata": {},
   "source": [
    "### 3.B Obtaining co-occurences:\n",
    "\n",
    "The function takes as input the corpus (a list of strings, corresponding to documents/sentences) and a vocabulary, as well as the size of the context window. We can also implement the simplest solution: the context of a word being the full document to which it belongs. \n",
    "Finally, we can implement the possibility of making linearly decrease the importance of the context of a word when getting further from the input word.\n",
    "\n",
    "**Remark:**\n",
    "- The matrix we are building is symmetric: we can only build half of it !"
   ]
  },
  {
   "cell_type": "markdown",
   "id": "f7258ed6",
   "metadata": {},
   "source": [
    "<div class='alert alert-block alert-info'>\n",
    "            Code:</div>"
   ]
  },
  {
   "cell_type": "code",
   "execution_count": 24,
   "id": "cdd764eb",
   "metadata": {},
   "outputs": [],
   "source": [
    "from typing import Dict\n",
    "\n",
    "def co_occurence_matrix(corpus: List[List[str]], vocabulary: Dict, window=0, distance_weighting=False):\n",
    "    \"\"\"\n",
    "    Params:\n",
    "        corpus (list of list of strings): corpus of sentences\n",
    "        vocabulary (dictionary): words to use in the matrix\n",
    "        window (int): size of the context window; when 0, the context is the whole sentence\n",
    "        distance_weighting (bool): indicates if we use a weight depending on the distance between words for co-oc counts\n",
    "    Returns:\n",
    "        matrix (array of size (len(vocabulary), len(vocabulary))): the co-oc matrix, using the same ordering as the vocabulary given in input    \n",
    "    \"\"\" \n",
    "    l = len(vocabulary)\n",
    "    M = np.zeros((l,l))\n",
    "    for sent in corpus:\n",
    "        # Get the sentence as a list of words\n",
    "        sent = word_tokenize(sent)\n",
    "        # Obtain the indices of the words in the sentence from the vocabulary \n",
    "        sent_idx = []\n",
    "        for word in sent:\n",
    "            if word in vocabulary:\n",
    "                sent_idx.append(vocabulary[word])\n",
    "            else:\n",
    "                sent_idx.append(vocabulary['UNK'])\n",
    "        # Go through the indices and add 1 / dist(i,j) to M[i,j] if words of index i and j appear in the same window\n",
    "        for i, idx in enumerate(sent_idx):\n",
    "            # If we consider a limited context:\n",
    "            if window > 0:\n",
    "                # Create a list containing the indices that are on the left of the current index 'idx_i'\n",
    "                l_ctx_idx = sent_idx[i-window: i]\n",
    "            # If the context is the entire document:\n",
    "            else:\n",
    "                # The list containing the left context is easier to create\n",
    "                l_ctx_idx = sent_idx[0: i]\n",
    "            # Go through the list and update M[i,j]:        \n",
    "            for j, ctx_idx in enumerate(l_ctx_idx):\n",
    "                if distance_weighting:\n",
    "                    weight = 1 / (i - j)\n",
    "                else:\n",
    "                    weight = 1\n",
    "                M[idx, ctx_idx] += weight\n",
    "                M[ctx_idx, idx] += weight\n",
    "    return M  "
   ]
  },
  {
   "cell_type": "code",
   "execution_count": 25,
   "id": "d5a756f4",
   "metadata": {},
   "outputs": [
    {
     "name": "stdout",
     "output_type": "stream",
     "text": [
      "[[2. 7. 6. 3. 3. 2. 2. 1. 1. 0.]\n",
      " [7. 2. 6. 2. 2. 3. 3. 1. 1. 0.]\n",
      " [6. 6. 0. 2. 2. 2. 2. 1. 1. 0.]\n",
      " [3. 2. 2. 0. 1. 1. 0. 0. 0. 0.]\n",
      " [3. 2. 2. 1. 0. 0. 0. 1. 0. 0.]\n",
      " [2. 3. 2. 1. 0. 0. 1. 0. 0. 0.]\n",
      " [2. 3. 2. 0. 0. 1. 0. 0. 1. 0.]\n",
      " [1. 1. 1. 0. 1. 0. 0. 0. 0. 0.]\n",
      " [1. 1. 1. 0. 0. 0. 1. 0. 0. 0.]\n",
      " [0. 0. 0. 0. 0. 0. 0. 0. 0. 0.]]\n"
     ]
    }
   ],
   "source": [
    "print(co_occurence_matrix(corpus, voc, 0, False))\n",
    "# Careful: results will differ from the above example because the vocabulary and the order of words are not \n",
    "# necessarily the same ! "
   ]
  },
  {
   "cell_type": "markdown",
   "id": "230b36cf",
   "metadata": {},
   "source": [
    "### 3.C Application to a real data set\n",
    "\n",
    "We're going to work with the **imdb** data.\n",
    "\n",
    "#### Quick study of the data\n",
    "\n",
    "We would like to get an idea of what's in these film reviews before we proceed. So we'll get the vocabulary (in full) and represent the frequencies of the words, in order (be careful, you'll have to use a logarithmic scale): we should find Zipf's law. This will give us an idea of the size of the vocabulary we will be able to choose: it's a matter of making a compromise between the necessary resources (size of the objects in memory) and the amount of information we can get from them (rare words can bring a lot of information, but it's difficult to learn good representations of them, because they are rare!).  "
   ]
  },
  {
   "cell_type": "code",
   "execution_count": 26,
   "id": "57f62983",
   "metadata": {},
   "outputs": [
    {
     "data": {
      "image/png": "[encoded data removed]",
      "text/plain": [
       "<Figure size 2000x500 with 1 Axes>"
      ]
     },
     "metadata": {},
     "output_type": "display_data"
    },
    {
     "name": "stdout",
     "output_type": "stream",
     "text": [
      "Vocabulary size: 132101\n",
      "Part of the corpus by taking the \"x\" most frequent words:\n",
      "5000 : 0.90\n",
      "10000 : 0.93\n",
      "15000 : 0.95\n",
      "20000 : 0.96\n",
      "25000 : 0.97\n",
      "30000 : 0.98\n",
      "35000 : 0.98\n",
      "40000 : 0.98\n",
      "45000 : 0.98\n",
      "50000 : 0.99\n",
      "55000 : 0.99\n",
      "60000 : 0.99\n",
      "65000 : 0.99\n",
      "70000 : 0.99\n",
      "75000 : 0.99\n",
      "80000 : 0.99\n",
      "85000 : 0.99\n",
      "90000 : 0.99\n",
      "95000 : 0.99\n",
      "100000 : 1.00\n",
      "105000 : 1.00\n",
      "110000 : 1.00\n",
      "115000 : 1.00\n",
      "120000 : 1.00\n",
      "125000 : 1.00\n",
      "130000 : 1.00\n"
     ]
    }
   ],
   "source": [
    "vocab, word_counts = vocabulary(train_texts)\n",
    "rank_counts = {w:[vocab[w], word_counts[w]] for w in vocab}\n",
    "rank_counts_array = np.array(list(rank_counts.values()))\n",
    "\n",
    "plt.figure(figsize=(20,5))\n",
    "plt.title('Word counts versus rank')\n",
    "plt.scatter(rank_counts_array[:,0], rank_counts_array[:,1])\n",
    "plt.yscale('log')\n",
    "plt.show()\n",
    "\n",
    "print('Vocabulary size: %i' % len(vocab))\n",
    "print('Part of the corpus by taking the \"x\" most frequent words:')\n",
    "for i in range(5000, len(vocab), 5000):\n",
    "    print('%i : %.2f' % (i, np.sum(rank_counts_array[:i, 1]) / np.sum(rank_counts_array[:,1]) ))"
   ]
  },
  {
   "cell_type": "markdown",
   "id": "9f57b9ba",
   "metadata": {},
   "source": [
    "**Result of the analysis**: we can be satisfied with a vocabulary of 10,000 or even 5,000 words - this is important, because it will determine the size of the objects we will manipulate. "
   ]
  },
  {
   "cell_type": "code",
   "execution_count": 27,
   "id": "375a3ed5",
   "metadata": {},
   "outputs": [],
   "source": [
    "vocab_5k, word_counts_5k = vocabulary(train_texts, 5000)"
   ]
  },
  {
   "cell_type": "code",
   "execution_count": 28,
   "id": "39b7eaab",
   "metadata": {},
   "outputs": [
    {
     "data": {
      "text/plain": [
       "{'the': 289359,\n",
       " ',': 275887,\n",
       " '.': 236532,\n",
       " 'and': 156416,\n",
       " 'a': 156158,\n",
       " 'of': 143691,\n",
       " 'to': 133445,\n",
       " 'is': 109177,\n",
       " '/': 102115,\n",
       " '>': 102036,\n",
       " '<': 101971,\n",
       " 'br': 101870,\n",
       " 'in': 87145,\n",
       " 'I': 81531,\n",
       " 'it': 76615,\n",
       " 'that': 70129,\n",
       " \"'s\": 61984,\n",
       " 'this': 60544,\n",
       " 'was': 49994,\n",
       " 'The': 43999,\n",
       " 'as': 43508,\n",
       " 'with': 42819,\n",
       " 'movie': 41964,\n",
       " 'for': 41944,\n",
       " 'film': 38306,\n",
       " ')': 36175,\n",
       " '(': 35397,\n",
       " 'but': 35064,\n",
       " \"n't\": 33220,\n",
       " \"''\": 33133,\n",
       " '``': 32853,\n",
       " 'on': 32491,\n",
       " 'you': 30638,\n",
       " 'are': 29951,\n",
       " 'not': 28808,\n",
       " 'have': 28220,\n",
       " 'his': 27848,\n",
       " 'be': 26454,\n",
       " 'he': 24685,\n",
       " '!': 24560,\n",
       " 'one': 23564,\n",
       " 'at': 21766,\n",
       " 'by': 21699,\n",
       " 'all': 21112,\n",
       " 'an': 20769,\n",
       " 'who': 20594,\n",
       " 'they': 19632,\n",
       " 'from': 19595,\n",
       " 'like': 18972,\n",
       " 'It': 18185,\n",
       " 'her': 17449,\n",
       " 'so': 17313,\n",
       " 'or': 17127,\n",
       " 'about': 17037,\n",
       " 'has': 17011,\n",
       " 'just': 16573,\n",
       " 'out': 16207,\n",
       " '?': 16088,\n",
       " 'do': 15655,\n",
       " 'This': 14756,\n",
       " 'some': 14427,\n",
       " 'good': 14027,\n",
       " 'more': 13860,\n",
       " 'very': 13387,\n",
       " 'would': 13222,\n",
       " 'what': 12709,\n",
       " 'there': 12442,\n",
       " 'up': 12072,\n",
       " 'can': 11885,\n",
       " 'which': 11713,\n",
       " 'when': 11693,\n",
       " 'time': 11624,\n",
       " 'she': 11381,\n",
       " 'had': 11355,\n",
       " 'if': 11354,\n",
       " 'only': 11341,\n",
       " 'really': 11305,\n",
       " 'story': 11176,\n",
       " 'were': 11166,\n",
       " 'their': 11047,\n",
       " 'even': 10987,\n",
       " 'see': 10907,\n",
       " 'no': 10594,\n",
       " 'my': 10289,\n",
       " 'me': 10234,\n",
       " 'does': 10147,\n",
       " \"'\": 10109,\n",
       " 'did': 10092,\n",
       " ':': 10036,\n",
       " '-': 9828,\n",
       " 'than': 9812,\n",
       " '...': 9728,\n",
       " 'much': 9314,\n",
       " 'been': 9218,\n",
       " 'could': 9203,\n",
       " 'into': 9046,\n",
       " 'get': 9017,\n",
       " 'will': 8744,\n",
       " 'we': 8743,\n",
       " 'other': 8683,\n",
       " 'people': 8681,\n",
       " 'because': 8590,\n",
       " 'him': 8574,\n",
       " 'bad': 8514,\n",
       " 'great': 8303,\n",
       " 'most': 8033,\n",
       " 'well': 7959,\n",
       " 'made': 7909,\n",
       " 'first': 7901,\n",
       " 'also': 7744,\n",
       " 'them': 7677,\n",
       " 'make': 7608,\n",
       " 'how': 7578,\n",
       " 'way': 7520,\n",
       " 'its': 7427,\n",
       " 'any': 7335,\n",
       " 'But': 7253,\n",
       " 'too': 7233,\n",
       " 'movies': 7222,\n",
       " 'think': 7109,\n",
       " '*': 7061,\n",
       " 'characters': 6911,\n",
       " 'character': 6793,\n",
       " 'And': 6729,\n",
       " ';': 6702,\n",
       " 'then': 6644,\n",
       " 'films': 6618,\n",
       " 'seen': 6520,\n",
       " 'being': 6347,\n",
       " 'watch': 6304,\n",
       " 'many': 6246,\n",
       " 'two': 6184,\n",
       " 'plot': 6174,\n",
       " 'acting': 6158,\n",
       " 'A': 6146,\n",
       " 'There': 6128,\n",
       " 'never': 6109,\n",
       " 'after': 5991,\n",
       " 'know': 5989,\n",
       " 'little': 5983,\n",
       " 'where': 5911,\n",
       " 'In': 5888,\n",
       " 'show': 5829,\n",
       " 'life': 5752,\n",
       " 'best': 5737,\n",
       " 'love': 5716,\n",
       " 'ever': 5593,\n",
       " 'better': 5489,\n",
       " 'off': 5423,\n",
       " 'your': 5418,\n",
       " 'over': 5342,\n",
       " 'say': 5326,\n",
       " 'If': 5312,\n",
       " 'end': 5274,\n",
       " 'He': 5270,\n",
       " 'should': 5247,\n",
       " 'i': 5216,\n",
       " 'scene': 5194,\n",
       " '--': 5115,\n",
       " \"'ve\": 5115,\n",
       " 'still': 5050,\n",
       " 'scenes': 5025,\n",
       " 'such': 4945,\n",
       " 'here': 4898,\n",
       " 'through': 4783,\n",
       " 'something': 4768,\n",
       " \"'m\": 4738,\n",
       " 'these': 4688,\n",
       " 'go': 4686,\n",
       " 'man': 4597,\n",
       " 'back': 4592,\n",
       " 'those': 4376,\n",
       " 'thing': 4342,\n",
       " 'real': 4313,\n",
       " 'watching': 4287,\n",
       " 'years': 4281,\n",
       " 'actors': 4268,\n",
       " 'makes': 4140,\n",
       " 'work': 4093,\n",
       " 'find': 4086,\n",
       " 'though': 4042,\n",
       " 'funny': 4004,\n",
       " 'actually': 3997,\n",
       " 'few': 3990,\n",
       " 'same': 3944,\n",
       " 'going': 3941,\n",
       " 'before': 3923,\n",
       " 'why': 3893,\n",
       " 'lot': 3881,\n",
       " 'while': 3873,\n",
       " 'old': 3840,\n",
       " 'look': 3833,\n",
       " '&': 3809,\n",
       " 'nothing': 3724,\n",
       " \"'re\": 3710,\n",
       " 'cast': 3687,\n",
       " 'part': 3685,\n",
       " 'another': 3673,\n",
       " 'want': 3622,\n",
       " 'quite': 3611,\n",
       " 'got': 3607,\n",
       " 'again': 3581,\n",
       " 'director': 3561,\n",
       " 'seems': 3559,\n",
       " 'around': 3506,\n",
       " 'pretty': 3505,\n",
       " 'every': 3480,\n",
       " 'fact': 3473,\n",
       " 'things': 3457,\n",
       " 'ca': 3442,\n",
       " 'down': 3377,\n",
       " 'enough': 3370,\n",
       " 'between': 3312,\n",
       " 'As': 3302,\n",
       " 'thought': 3282,\n",
       " 'own': 3276,\n",
       " 'What': 3269,\n",
       " 'take': 3262,\n",
       " 'original': 3246,\n",
       " 'young': 3243,\n",
       " 'You': 3241,\n",
       " 'now': 3210,\n",
       " 'give': 3202,\n",
       " 'us': 3194,\n",
       " 'gets': 3174,\n",
       " 'They': 3152,\n",
       " 'may': 3135,\n",
       " 'always': 3119,\n",
       " 'series': 3113,\n",
       " 'world': 3102,\n",
       " 'right': 3077,\n",
       " 'role': 3072,\n",
       " 'least': 3071,\n",
       " 'saw': 3043,\n",
       " 'horror': 3035,\n",
       " 'whole': 3031,\n",
       " 'without': 3020,\n",
       " 'both': 3014,\n",
       " 'long': 3013,\n",
       " 'times': 3013,\n",
       " 'must': 3009,\n",
       " 'interesting': 3008,\n",
       " 'new': 3003,\n",
       " 'bit': 3000,\n",
       " 'action': 2973,\n",
       " 'almost': 2966,\n",
       " 'point': 2966,\n",
       " 'family': 2935,\n",
       " 'come': 2930,\n",
       " 'done': 2911,\n",
       " 'script': 2910,\n",
       " 'comedy': 2898,\n",
       " 'might': 2875,\n",
       " \"'ll\": 2851,\n",
       " 'minutes': 2832,\n",
       " 'feel': 2825,\n",
       " 'anything': 2824,\n",
       " 'performance': 2820,\n",
       " 'big': 2813,\n",
       " 'music': 2784,\n",
       " 'guy': 2784,\n",
       " 'far': 2758,\n",
       " 'She': 2713,\n",
       " 'probably': 2682,\n",
       " 'am': 2681,\n",
       " 'kind': 2676,\n",
       " 'That': 2661,\n",
       " 'last': 2621,\n",
       " 'So': 2601,\n",
       " 'rather': 2600,\n",
       " 'away': 2597,\n",
       " 'woman': 2581,\n",
       " 'found': 2555,\n",
       " 'since': 2553,\n",
       " 'played': 2541,\n",
       " 'making': 2525,\n",
       " 'fun': 2514,\n",
       " 'girl': 2507,\n",
       " 'worst': 2490,\n",
       " 'TV': 2469,\n",
       " 'comes': 2460,\n",
       " 'course': 2458,\n",
       " 'When': 2435,\n",
       " 'trying': 2419,\n",
       " 'believe': 2404,\n",
       " 'goes': 2390,\n",
       " 'each': 2387,\n",
       " 'looks': 2364,\n",
       " 'anyone': 2339,\n",
       " \"'d\": 2332,\n",
       " 'especially': 2328,\n",
       " 'different': 2323,\n",
       " 'our': 2297,\n",
       " 'yet': 2295,\n",
       " 'put': 2285,\n",
       " 'hard': 2270,\n",
       " 'place': 2264,\n",
       " 'reason': 2260,\n",
       " 'shows': 2251,\n",
       " 'sure': 2238,\n",
       " 'One': 2235,\n",
       " 'book': 2227,\n",
       " 'ending': 2224,\n",
       " 'money': 2219,\n",
       " '2': 2215,\n",
       " 'sense': 2211,\n",
       " 'main': 2210,\n",
       " 'DVD': 2202,\n",
       " 'watched': 2200,\n",
       " 'plays': 2198,\n",
       " 'having': 2194,\n",
       " 'actor': 2190,\n",
       " 'job': 2180,\n",
       " 'screen': 2172,\n",
       " 'seem': 2170,\n",
       " 'looking': 2166,\n",
       " 'day': 2165,\n",
       " 'set': 2162,\n",
       " 'said': 2159,\n",
       " 'John': 2156,\n",
       " 'takes': 2150,\n",
       " 'worth': 2146,\n",
       " 'someone': 2137,\n",
       " '10': 2136,\n",
       " 'effects': 2102,\n",
       " 'himself': 2099,\n",
       " 'audience': 2093,\n",
       " 'play': 2089,\n",
       " 'version': 2088,\n",
       " 'My': 2088,\n",
       " 'together': 2088,\n",
       " 'true': 2066,\n",
       " 'For': 2039,\n",
       " 'beautiful': 2035,\n",
       " 'We': 2034,\n",
       " 'wife': 2019,\n",
       " 'left': 2004,\n",
       " 'American': 1995,\n",
       " 'All': 1989,\n",
       " 'idea': 1986,\n",
       " 'Not': 1979,\n",
       " 'seeing': 1965,\n",
       " 'three': 1957,\n",
       " 'However': 1955,\n",
       " 'special': 1940,\n",
       " 'everything': 1930,\n",
       " 'later': 1927,\n",
       " 'during': 1927,\n",
       " 'else': 1926,\n",
       " 'excellent': 1910,\n",
       " 'shot': 1897,\n",
       " 'everyone': 1886,\n",
       " 'once': 1878,\n",
       " 'simply': 1878,\n",
       " 'father': 1872,\n",
       " 'nice': 1864,\n",
       " 'completely': 1849,\n",
       " 'read': 1848,\n",
       " 'fan': 1842,\n",
       " 'help': 1841,\n",
       " 'used': 1832,\n",
       " 'year': 1831,\n",
       " 'less': 1819,\n",
       " 'Hollywood': 1793,\n",
       " 'need': 1787,\n",
       " 'rest': 1761,\n",
       " 'let': 1758,\n",
       " 'use': 1758,\n",
       " 'performances': 1756,\n",
       " 'poor': 1732,\n",
       " 'given': 1731,\n",
       " 'try': 1730,\n",
       " 'mind': 1729,\n",
       " 'short': 1714,\n",
       " 'kids': 1703,\n",
       " 'enjoy': 1697,\n",
       " 'until': 1694,\n",
       " 'either': 1686,\n",
       " 'classic': 1683,\n",
       " 'women': 1672,\n",
       " 'second': 1671,\n",
       " 'boring': 1662,\n",
       " 'start': 1661,\n",
       " 'tell': 1660,\n",
       " 'half': 1657,\n",
       " 'truly': 1653,\n",
       " 'recommend': 1652,\n",
       " 'couple': 1650,\n",
       " 'home': 1644,\n",
       " 'production': 1643,\n",
       " 'friends': 1643,\n",
       " 'came': 1632,\n",
       " 'high': 1632,\n",
       " 'wrong': 1630,\n",
       " '..': 1624,\n",
       " 'understand': 1623,\n",
       " 'mean': 1612,\n",
       " 'instead': 1606,\n",
       " 'Even': 1601,\n",
       " 'moments': 1601,\n",
       " 'men': 1595,\n",
       " 'No': 1589,\n",
       " 'line': 1584,\n",
       " 'along': 1582,\n",
       " 'getting': 1577,\n",
       " 'At': 1573,\n",
       " 'gives': 1571,\n",
       " 'camera': 1568,\n",
       " 'remember': 1568,\n",
       " 'playing': 1567,\n",
       " 'stupid': 1562,\n",
       " 'episode': 1562,\n",
       " 'although': 1553,\n",
       " 'doing': 1552,\n",
       " 'death': 1547,\n",
       " 'After': 1544,\n",
       " 'To': 1544,\n",
       " 'become': 1533,\n",
       " 'keep': 1533,\n",
       " 'night': 1532,\n",
       " 'however': 1531,\n",
       " 'Do': 1530,\n",
       " 'small': 1529,\n",
       " 'person': 1528,\n",
       " 'Well': 1527,\n",
       " 'wonderful': 1524,\n",
       " 'awful': 1521,\n",
       " 'often': 1519,\n",
       " 'house': 1514,\n",
       " 'felt': 1505,\n",
       " 'maybe': 1501,\n",
       " 'next': 1500,\n",
       " 'itself': 1499,\n",
       " 'supposed': 1496,\n",
       " 'terrible': 1494,\n",
       " 'liked': 1492,\n",
       " 'lines': 1491,\n",
       " 'piece': 1485,\n",
       " 'sex': 1484,\n",
       " 'others': 1481,\n",
       " 'dialogue': 1480,\n",
       " 'stars': 1479,\n",
       " 'name': 1468,\n",
       " 'THE': 1466,\n",
       " 'early': 1465,\n",
       " 'perfect': 1451,\n",
       " 'entire': 1446,\n",
       " 'full': 1442,\n",
       " 'went': 1441,\n",
       " 'video': 1438,\n",
       " 'human': 1438,\n",
       " 'face': 1434,\n",
       " 'against': 1433,\n",
       " 'budget': 1430,\n",
       " 'sort': 1423,\n",
       " 'case': 1421,\n",
       " 'waste': 1413,\n",
       " 'school': 1413,\n",
       " 'While': 1406,\n",
       " 'black': 1401,\n",
       " 'style': 1399,\n",
       " 'children': 1398,\n",
       " 'His': 1396,\n",
       " 'head': 1394,\n",
       " 'problem': 1389,\n",
       " '3': 1389,\n",
       " 'absolutely': 1387,\n",
       " 'definitely': 1386,\n",
       " 'top': 1383,\n",
       " 'title': 1378,\n",
       " 'written': 1377,\n",
       " 'becomes': 1370,\n",
       " 'Then': 1370,\n",
       " 'entertaining': 1364,\n",
       " 'seemed': 1357,\n",
       " 'certainly': 1354,\n",
       " 'friend': 1346,\n",
       " 'Also': 1344,\n",
       " 'beginning': 1344,\n",
       " 'already': 1344,\n",
       " '\\x96': 1337,\n",
       " 'example': 1336,\n",
       " 'worse': 1333,\n",
       " 'live': 1330,\n",
       " 'several': 1324,\n",
       " 'wanted': 1324,\n",
       " 'picture': 1313,\n",
       " 'lives': 1312,\n",
       " '1': 1309,\n",
       " 'mother': 1307,\n",
       " 'loved': 1306,\n",
       " 'care': 1303,\n",
       " 'Michael': 1302,\n",
       " 'fans': 1297,\n",
       " 'hope': 1294,\n",
       " 'Of': 1289,\n",
       " 'star': 1287,\n",
       " 'cinema': 1285,\n",
       " 'laugh': 1276,\n",
       " 'Why': 1276,\n",
       " 'wants': 1275,\n",
       " 'direction': 1273,\n",
       " 'turn': 1270,\n",
       " 'fine': 1266,\n",
       " 'tries': 1266,\n",
       " 'humor': 1258,\n",
       " 'lead': 1257,\n",
       " 'boy': 1254,\n",
       " 'drama': 1253,\n",
       " 'lost': 1250,\n",
       " 'Some': 1250,\n",
       " 'works': 1249,\n",
       " 'based': 1249,\n",
       " 'totally': 1245,\n",
       " 'called': 1241,\n",
       " 'war': 1240,\n",
       " 'writing': 1237,\n",
       " 'able': 1235,\n",
       " 'guess': 1233,\n",
       " 'past': 1232,\n",
       " 'enjoyed': 1230,\n",
       " 'guys': 1230,\n",
       " 'viewer': 1229,\n",
       " 'How': 1227,\n",
       " 'low': 1223,\n",
       " 'Now': 1220,\n",
       " 'finally': 1216,\n",
       " 'turns': 1215,\n",
       " 'throughout': 1215,\n",
       " 'quality': 1215,\n",
       " 'son': 1208,\n",
       " 'gave': 1208,\n",
       " 'amazing': 1203,\n",
       " 'starts': 1202,\n",
       " 'sound': 1201,\n",
       " 'New': 1198,\n",
       " 'killer': 1195,\n",
       " 'favorite': 1188,\n",
       " 'wo': 1182,\n",
       " 'history': 1180,\n",
       " 'under': 1179,\n",
       " 'dead': 1177,\n",
       " 'behind': 1172,\n",
       " 'final': 1170,\n",
       " 'evil': 1168,\n",
       " 'parts': 1156,\n",
       " 'perhaps': 1156,\n",
       " 'flick': 1153,\n",
       " '....': 1149,\n",
       " 'themselves': 1147,\n",
       " 'car': 1146,\n",
       " 'expect': 1144,\n",
       " 'genre': 1141,\n",
       " 'today': 1140,\n",
       " 'With': 1135,\n",
       " 'town': 1133,\n",
       " 'game': 1132,\n",
       " 'act': 1131,\n",
       " 'thinking': 1128,\n",
       " 'side': 1125,\n",
       " 'myself': 1115,\n",
       " 'child': 1111,\n",
       " 'feeling': 1110,\n",
       " 'stories': 1110,\n",
       " 'decent': 1108,\n",
       " 'Just': 1106,\n",
       " 'actress': 1105,\n",
       " 'days': 1103,\n",
       " 'stuff': 1099,\n",
       " 'says': 1097,\n",
       " 'took': 1092,\n",
       " 'heard': 1088,\n",
       " 'horrible': 1086,\n",
       " 'girls': 1085,\n",
       " 'late': 1084,\n",
       " 'brilliant': 1076,\n",
       " 'killed': 1071,\n",
       " 'moment': 1068,\n",
       " 'matter': 1064,\n",
       " 'roles': 1064,\n",
       " 'directed': 1062,\n",
       " 'happens': 1060,\n",
       " 'heart': 1059,\n",
       " 'hand': 1059,\n",
       " 'kill': 1058,\n",
       " 'daughter': 1054,\n",
       " 'dark': 1052,\n",
       " 'involved': 1049,\n",
       " 'kid': 1048,\n",
       " 'fight': 1048,\n",
       " 'white': 1048,\n",
       " 'eyes': 1047,\n",
       " 'James': 1046,\n",
       " 'attempt': 1038,\n",
       " 'including': 1035,\n",
       " 'lack': 1034,\n",
       " 'art': 1034,\n",
       " 'obvious': 1034,\n",
       " 'extremely': 1028,\n",
       " 'particularly': 1025,\n",
       " 'close': 1023,\n",
       " 'told': 1022,\n",
       " 'David': 1020,\n",
       " 'run': 1019,\n",
       " 'happened': 1019,\n",
       " 'leave': 1018,\n",
       " 'hour': 1015,\n",
       " 'group': 1010,\n",
       " 'except': 1007,\n",
       " 'sometimes': 1004,\n",
       " 'soon': 1002,\n",
       " 'violence': 1002,\n",
       " 'complete': 1000,\n",
       " 'chance': 999,\n",
       " 'On': 998,\n",
       " 'looked': 998,\n",
       " 'experience': 998,\n",
       " 'ago': 997,\n",
       " 'obviously': 997,\n",
       " 'strong': 996,\n",
       " 'happen': 989,\n",
       " 'voice': 988,\n",
       " 'type': 986,\n",
       " 'interest': 985,\n",
       " 'shown': 985,\n",
       " 'etc': 984,\n",
       " 'wonder': 982,\n",
       " 'whose': 980,\n",
       " 'Although': 973,\n",
       " 'highly': 972,\n",
       " 'score': 971,\n",
       " 'Mr.': 971,\n",
       " 'number': 965,\n",
       " '`': 964,\n",
       " 'husband': 963,\n",
       " 'taken': 961,\n",
       " 'slow': 960,\n",
       " 'coming': 960,\n",
       " 'brother': 958,\n",
       " 'exactly': 957,\n",
       " 'serious': 951,\n",
       " 'annoying': 949,\n",
       " 'First': 949,\n",
       " 'known': 948,\n",
       " 'somewhat': 948,\n",
       " 'relationship': 947,\n",
       " 'career': 945,\n",
       " 'finds': 944,\n",
       " 'hours': 943,\n",
       " 'started': 943,\n",
       " 'novel': 940,\n",
       " 'Robert': 939,\n",
       " 'Oh': 936,\n",
       " 'musical': 936,\n",
       " 'simple': 935,\n",
       " 'across': 930,\n",
       " 'usual': 927,\n",
       " 'yourself': 925,\n",
       " 'ends': 925,\n",
       " 'opening': 924,\n",
       " 'change': 924,\n",
       " 'opinion': 924,\n",
       " 'cinematography': 923,\n",
       " 'despite': 923,\n",
       " '4': 923,\n",
       " 'hit': 922,\n",
       " 'alone': 921,\n",
       " 'sad': 919,\n",
       " 'released': 919,\n",
       " 'shots': 918,\n",
       " 'saying': 918,\n",
       " 'jokes': 917,\n",
       " 'crap': 915,\n",
       " 'save': 911,\n",
       " 'stop': 911,\n",
       " 'possible': 908,\n",
       " 'English': 907,\n",
       " 'ones': 906,\n",
       " 'ridiculous': 905,\n",
       " 'female': 904,\n",
       " 'episodes': 904,\n",
       " '5': 903,\n",
       " 'song': 896,\n",
       " 'police': 896,\n",
       " 'hilarious': 893,\n",
       " 'talking': 892,\n",
       " 'huge': 891,\n",
       " 'murder': 890,\n",
       " 'living': 890,\n",
       " 'reality': 890,\n",
       " 'running': 888,\n",
       " 'turned': 886,\n",
       " 'events': 885,\n",
       " 'usually': 885,\n",
       " 'body': 884,\n",
       " 'important': 884,\n",
       " 'wish': 883,\n",
       " 'age': 882,\n",
       " 'talent': 881,\n",
       " 'knew': 880,\n",
       " 'tells': 878,\n",
       " 'level': 877,\n",
       " 'mostly': 876,\n",
       " 'hero': 876,\n",
       " 'Man': 876,\n",
       " 'British': 874,\n",
       " 'documentary': 872,\n",
       " 'Paul': 871,\n",
       " 'taking': 871,\n",
       " 'order': 870,\n",
       " 'songs': 869,\n",
       " 'local': 866,\n",
       " 'view': 865,\n",
       " 'Jack': 864,\n",
       " 'gore': 864,\n",
       " 'due': 862,\n",
       " 'single': 862,\n",
       " 'knows': 861,\n",
       " 'sequence': 857,\n",
       " 'attention': 857,\n",
       " 'problems': 855,\n",
       " 'call': 853,\n",
       " 'cool': 853,\n",
       " 'disappointed': 845,\n",
       " 'easily': 845,\n",
       " 'it.': 842,\n",
       " 'word': 842,\n",
       " 'George': 841,\n",
       " 'silly': 841,\n",
       " 'bring': 839,\n",
       " 'scary': 838,\n",
       " 'OK': 837,\n",
       " 'sets': 837,\n",
       " 'Richard': 837,\n",
       " 'supporting': 836,\n",
       " 'major': 835,\n",
       " 'similar': 830,\n",
       " 'cut': 829,\n",
       " 'appears': 829,\n",
       " 'clearly': 828,\n",
       " 'strange': 826,\n",
       " 'cheap': 826,\n",
       " 'room': 823,\n",
       " 'falls': 823,\n",
       " 'words': 823,\n",
       " 'needs': 821,\n",
       " 'television': 819,\n",
       " 'future': 818,\n",
       " 'Unfortunately': 816,\n",
       " 'blood': 816,\n",
       " 'predictable': 814,\n",
       " 'Maybe': 814,\n",
       " 'giving': 814,\n",
       " 'light': 813,\n",
       " 'romantic': 811,\n",
       " 'Yes': 810,\n",
       " 'modern': 808,\n",
       " 'happy': 806,\n",
       " 'country': 805,\n",
       " 'mention': 805,\n",
       " 'comic': 802,\n",
       " 'From': 800,\n",
       " 'feels': 799,\n",
       " 'review': 794,\n",
       " 'message': 793,\n",
       " 'seriously': 793,\n",
       " 'enjoyable': 793,\n",
       " 'Lee': 788,\n",
       " 'writer': 787,\n",
       " 'entertainment': 786,\n",
       " 'points': 786,\n",
       " 'herself': 784,\n",
       " '$': 782,\n",
       " 'surprised': 781,\n",
       " 'actual': 781,\n",
       " 'York': 779,\n",
       " 'animation': 775,\n",
       " 'theme': 774,\n",
       " 'sequel': 772,\n",
       " 'nearly': 772,\n",
       " 'King': 772,\n",
       " 'hell': 771,\n",
       " 'moving': 771,\n",
       " 'ways': 770,\n",
       " 'above': 769,\n",
       " 'bunch': 768,\n",
       " 'elements': 766,\n",
       " 'named': 766,\n",
       " 'within': 765,\n",
       " 'beyond': 763,\n",
       " 'God': 763,\n",
       " 'effort': 760,\n",
       " 'none': 760,\n",
       " 'storyline': 759,\n",
       " 'talk': 759,\n",
       " 'Peter': 759,\n",
       " 'dull': 758,\n",
       " 'four': 758,\n",
       " 'upon': 758,\n",
       " 'overall': 757,\n",
       " 'begins': 756,\n",
       " 'Is': 756,\n",
       " 'clear': 755,\n",
       " 'showing': 755,\n",
       " 'tried': 753,\n",
       " 'means': 752,\n",
       " 'comments': 752,\n",
       " 'thriller': 751,\n",
       " 'viewers': 748,\n",
       " 'typical': 748,\n",
       " 'Tom': 744,\n",
       " 'using': 743,\n",
       " 'release': 743,\n",
       " 'kept': 742,\n",
       " 'form': 741,\n",
       " 'team': 741,\n",
       " 'Her': 740,\n",
       " 'power': 740,\n",
       " 'movie.': 739,\n",
       " 'certain': 736,\n",
       " 'leads': 735,\n",
       " 'middle': 734,\n",
       " 'dialog': 734,\n",
       " 'doubt': 734,\n",
       " 'famous': 734,\n",
       " 'easy': 732,\n",
       " 'brought': 732,\n",
       " 'soundtrack': 732,\n",
       " 'Like': 732,\n",
       " 'working': 732,\n",
       " 'rating': 730,\n",
       " 'figure': 730,\n",
       " 'material': 729,\n",
       " 'fall': 729,\n",
       " 'fantastic': 728,\n",
       " 'whether': 728,\n",
       " 'near': 727,\n",
       " 'Oscar': 725,\n",
       " 'particular': 724,\n",
       " 'weak': 722,\n",
       " 'An': 722,\n",
       " 'Disney': 722,\n",
       " 'tale': 721,\n",
       " 'hear': 721,\n",
       " 'editing': 720,\n",
       " 'theater': 719,\n",
       " 'five': 719,\n",
       " 'Who': 719,\n",
       " 'realistic': 718,\n",
       " 'among': 713,\n",
       " 'viewing': 710,\n",
       " 'sister': 709,\n",
       " 'Its': 708,\n",
       " 'atmosphere': 708,\n",
       " 'feature': 707,\n",
       " 'greatest': 706,\n",
       " 'sequences': 706,\n",
       " 'hate': 706,\n",
       " 'ten': 705,\n",
       " 'learn': 705,\n",
       " 'film.': 705,\n",
       " 'parents': 704,\n",
       " 'decided': 704,\n",
       " 'apparently': 703,\n",
       " 'These': 703,\n",
       " 'America': 702,\n",
       " 'stay': 701,\n",
       " 'basically': 701,\n",
       " 'move': 697,\n",
       " 'reviews': 696,\n",
       " 'Most': 695,\n",
       " 'class': 694,\n",
       " 'became': 691,\n",
       " 'premise': 691,\n",
       " 'period': 690,\n",
       " 'filmed': 690,\n",
       " 'expected': 686,\n",
       " 'subject': 686,\n",
       " 'Japanese': 686,\n",
       " 'difficult': 684,\n",
       " 'buy': 684,\n",
       " 'deal': 682,\n",
       " 'sexual': 681,\n",
       " 'stand': 680,\n",
       " 'straight': 679,\n",
       " 'follow': 674,\n",
       " 'lots': 673,\n",
       " 'leaves': 672,\n",
       " 'sit': 671,\n",
       " 'add': 670,\n",
       " 'By': 670,\n",
       " 'lame': 669,\n",
       " 'NOT': 668,\n",
       " 'city': 668,\n",
       " 'stage': 668,\n",
       " 'French': 667,\n",
       " 'yes': 666,\n",
       " 'surprise': 666,\n",
       " 'believable': 665,\n",
       " 'nature': 664,\n",
       " 'Here': 664,\n",
       " 'poorly': 663,\n",
       " 'begin': 663,\n",
       " 'needed': 662,\n",
       " 'Joe': 660,\n",
       " 'suspense': 659,\n",
       " 'killing': 659,\n",
       " 'somehow': 657,\n",
       " 'possibly': 657,\n",
       " 'average': 656,\n",
       " 'gone': 654,\n",
       " 'question': 654,\n",
       " 'realize': 654,\n",
       " 'forced': 650,\n",
       " 'meets': 649,\n",
       " 'emotional': 649,\n",
       " 'Overall': 644,\n",
       " 'crime': 643,\n",
       " 'older': 643,\n",
       " 'memorable': 641,\n",
       " 'interested': 641,\n",
       " 'situation': 640,\n",
       " 'fast': 639,\n",
       " 'keeps': 639,\n",
       " 'earlier': 638,\n",
       " 'reading': 638,\n",
       " 'credits': 637,\n",
       " 'screenplay': 636,\n",
       " 'comment': 634,\n",
       " 'Jane': 634,\n",
       " 'write': 632,\n",
       " 'whom': 631,\n",
       " 'minute': 631,\n",
       " 'footage': 630,\n",
       " 'season': 630,\n",
       " 'wait': 629,\n",
       " 'directors': 627,\n",
       " 'truth': 626,\n",
       " 'features': 626,\n",
       " 'superb': 626,\n",
       " 'dramatic': 625,\n",
       " 'mystery': 625,\n",
       " 'brings': 624,\n",
       " 'nor': 621,\n",
       " 'previous': 621,\n",
       " 'admit': 619,\n",
       " 'worked': 618,\n",
       " 'imagine': 618,\n",
       " 'result': 618,\n",
       " 'please': 617,\n",
       " 'meet': 616,\n",
       " 'weird': 616,\n",
       " 'laughs': 615,\n",
       " 'ask': 615,\n",
       " 'dance': 613,\n",
       " 'quickly': 613,\n",
       " 'appear': 612,\n",
       " 'creepy': 612,\n",
       " 'forget': 611,\n",
       " 'male': 611,\n",
       " 'perfectly': 611,\n",
       " 'unique': 611,\n",
       " 'badly': 609,\n",
       " 'romance': 609,\n",
       " 'society': 609,\n",
       " 'third': 608,\n",
       " 'writers': 608,\n",
       " 'personal': 607,\n",
       " 'eventually': 606,\n",
       " 'Another': 606,\n",
       " '20': 604,\n",
       " 'directing': 603,\n",
       " 'towards': 603,\n",
       " 'development': 603,\n",
       " 'War': 603,\n",
       " 'meant': 603,\n",
       " 'setting': 600,\n",
       " 'rent': 599,\n",
       " 'mess': 598,\n",
       " 'effect': 598,\n",
       " 'create': 597,\n",
       " 'cheesy': 596,\n",
       " 'background': 596,\n",
       " 'various': 593,\n",
       " 'Christmas': 593,\n",
       " 'incredibly': 592,\n",
       " 'William': 592,\n",
       " 'general': 590,\n",
       " 'leading': 590,\n",
       " 'eye': 590,\n",
       " 'potential': 590,\n",
       " 'sorry': 589,\n",
       " 'check': 589,\n",
       " 'fails': 587,\n",
       " 'powerful': 586,\n",
       " 'Or': 586,\n",
       " 'portrayed': 586,\n",
       " 'forward': 585,\n",
       " 'anyway': 584,\n",
       " 'free': 584,\n",
       " ...}"
      ]
     },
     "execution_count": 28,
     "metadata": {},
     "output_type": "execute_result"
    }
   ],
   "source": [
    "word_counts_5k"
   ]
  },
  {
   "cell_type": "code",
   "execution_count": 29,
   "id": "500d843c",
   "metadata": {},
   "outputs": [
    {
     "name": "stdout",
     "output_type": "stream",
     "text": [
      "497\n"
     ]
    }
   ],
   "source": [
    "print(vocab_5k['cinema'])"
   ]
  },
  {
   "cell_type": "markdown",
   "id": "7c675120",
   "metadata": {},
   "source": [
    "#### Obtaining the matrices:\n",
    "We can now get the co-occurence matrices with parameters of our choosing !"
   ]
  },
  {
   "cell_type": "code",
   "execution_count": 30,
   "id": "4b9026e3",
   "metadata": {},
   "outputs": [
    {
     "name": "stdout",
     "output_type": "stream",
     "text": [
      "(5001, 5001)\n",
      "(5001, 5001)\n"
     ]
    }
   ],
   "source": [
    "M5dist = co_occurence_matrix(train_texts, vocab_5k, window=5, distance_weighting=True)\n",
    "M20 = co_occurence_matrix(train_texts, vocab_5k, window=20, distance_weighting=False)\n",
    "print(M5dist.shape)\n",
    "print(M20.shape)"
   ]
  },
  {
   "cell_type": "markdown",
   "id": "dee464a6",
   "metadata": {},
   "source": [
    "### 3.D Vector comparison \n",
    "\n",
    "We can use these very large-dimensional vectors for a very simple semantic analysis: for example, by looking for the nearest neighbors of a words. However, we need to be careful to the distance that we use (euclidean, cosine). Vector normalization can also play a role; in any way, we need to not over-interpret this type of results. "
   ]
  },
  {
   "cell_type": "code",
   "execution_count": 31,
   "id": "36ea657e",
   "metadata": {},
   "outputs": [
    {
     "name": "stdout",
     "output_type": "stream",
     "text": [
      "With a large context, without taking in account distance between words:\n",
      "The nearest neighbours of good according to the distance 'euclidean': \n",
      "[['very', 'there', 'what', 'This', 'would', 'more', 'can', 'only', 'story']]\n",
      "The nearest neighbours of good according to the distance 'cosine': \n",
      "[['decent', 'great', 'very', 'pretty', 'nice', 'funny', 'entertaining', 'really', 'not']]\n",
      "\n",
      "With a small context, and reducing the impact of counts when words are distant:\n",
      "The nearest neighbours of good according to the distance 'euclidean': \n",
      "[['very', 'great', 'bad', 'just', 'really', 'story', 'me', 'he', 'time']]\n",
      "The nearest neighbours of good according to the distance 'cosine': \n",
      "[['great', 'very', 'bad', 'decent', 'cute', 'fun', 'wonderful', 'nice', 'silly']]\n"
     ]
    }
   ],
   "source": [
    "def euclidean(u, v):\n",
    "    return np.linalg.norm(u-v)\n",
    "\n",
    "def length_norm(u):\n",
    "    # if u.dot(u) == 0:\n",
    "        # return u\n",
    "    return u / np.sqrt(u.dot(u))\n",
    "\n",
    "def cosine(u, v):\n",
    "    return 1.0 - length_norm(u).dot(length_norm(v))\n",
    "\n",
    "from sklearn.neighbors import NearestNeighbors\n",
    "\n",
    "def print_neighbors(distance, voc, co_oc, word, k=10):\n",
    "    inv_voc = {id: w for w, id in voc.items()}\n",
    "    neigh = NearestNeighbors(n_neighbors=k, algorithm='brute', metric=distance)\n",
    "    neigh.fit(co_oc) \n",
    "    dist, ind = neigh.kneighbors([co_oc[voc[word]]])\n",
    "    print(\"The nearest neighbours of %s according to the distance '%s': \" % (word, distance.__name__))\n",
    "    print([[inv_voc[i] for i in s[1:]] for s in ind])\n",
    "    \n",
    "print(\"With a large context, without taking in account distance between words:\")    \n",
    "print_neighbors(euclidean, vocab_5k, M20, 'good')\n",
    "print_neighbors(cosine, vocab_5k, M20, 'good')\n",
    "print(\"\")\n",
    "print(\"With a small context, and reducing the impact of counts when words are distant:\")    \n",
    "print_neighbors(euclidean, vocab_5k, M5dist, 'good')\n",
    "print_neighbors(cosine, vocab_5k, M5dist, 'good') "
   ]
  },
  {
   "cell_type": "markdown",
   "id": "8255df76",
   "metadata": {},
   "source": [
    "#### Vector re-weighting:\n",
    "\n",
    "Similarly as before, we may want to alter the representations to obtain better features - depending on the usage.\n",
    "\n",
    "**Normalization**: Very easy: we want to cancel the influence of the magnitude of the counts on the representation.\n",
    "\n",
    "$$\\mathbf{m_{normalized}} = \\left[ \n",
    "   \\frac{m_{1}}{\\sum_{i=1}^{n}m_{i}}, \n",
    "   \\frac{m_{2}}{\\sum_{i=1}^{n}m_{i}}, \n",
    "   \\ldots\n",
    "   \\frac{m_{n}}{\\sum_{i=1}^{n}m_{i}}, \n",
    "\\right]$$\n",
    " \n",
    "**Pointwise Mutual Information**: The aim is to assess the extent to which the co-occurrence of the two terms is *unexpected*. This measure is the ratio of the joint probability of the two words and the product of their individual probabilities:\n",
    "$$\n",
    "\\text{PMI}(x,y) = \\log \\left( \\frac{P(x,y)}{P(x)P(y)} \\right)\n",
    "$$\n",
    "The joint probability of the two words corresponds to the number of times they are observed together, divided by the total number of co-occurrences in the corpus: \n",
    "$$ P(\\mathbf{M},w_{1},w_{2}) = \\frac{M_{w_{1},w_{2}}}{\\sum_{i=1}^{n}\\sum_{j=1}^{n} M_{i,j}} $$\n",
    "The individual probability of a word simply corresponds to its frequency, which can be calculated by counting all co-occurrences where that word appears:\n",
    "$$ P(\\mathbf{M},w) = \\frac{\\sum_{j=1}^{m} M_{w,j}}{\\sum_{i=1}^{n}\\sum_{j=1}^{n} M_{i,j}} $$\n",
    "Hence,\n",
    "$$ \n",
    "\\text{PMI}(\\mathbf{M},w_{1},w_{2}) = \\log  \\frac{M_{w_{1},w_{2}} \\times \\left( \\sum_{i=1}^{n}\\sum_{j=1}^{n} M_{i,j} \\right)}{\\left( \\sum_{j=1}^{n} M_{w_{1},j} \\right) \\times \\left( \\sum_{i=1}^{n}M_{i,w_{2}} \\right)} \n",
    "$$\n",
    "We thus calculate the discrepancy between the observation we have made in our corpus and the frequency of appearance of these terms if we consider them independent - i.e. we assume that their co-occurrence is a coincidence.\n",
    "\n",
    "The main problem with this measure is that it is not adapted to the case where no co-occurrence is observed. Since the PMI is supposed to return a positive quantity if more co-occurrences are observed than expected, and a negative quantity if fewer co-occurrences are observed, we cannot choose to replace $\\log(0)$ by $0$. A commonly used solution is to use the **Positive PMI**, which sets all negative values to $0$.\n",
    " \n",
    " $$ \\text{PPMI}(\\mathbf{M},w_{1},w_{2}) = \n",
    " \\begin{cases}\n",
    " \\text{PMI}(\\mathbf{M},w_{1},w_{2}) & \\textrm{if } \\text{PMI}(\\mathbf{M},w_{1},w_{2}) > 0 \\\\\n",
    " 0 & \\textrm{otherwise}\n",
    " \\end{cases} $$"
   ]
  },
  {
   "cell_type": "code",
   "execution_count": 32,
   "id": "fe82f9e5",
   "metadata": {},
   "outputs": [],
   "source": [
    "def pmi(co_oc, positive=True):\n",
    "    sum_vec = co_oc.sum(axis=0)\n",
    "    sum_tot = sum_vec.sum()\n",
    "    with np.errstate(divide='ignore'):\n",
    "        pmi = np.log((co_oc * sum_tot) / (np.outer(sum_vec, sum_vec)))                   \n",
    "    pmi[np.isinf(pmi)] = 0.0  # log(0) = 0\n",
    "    if positive:\n",
    "        pmi[pmi < 0] = 0.0\n",
    "    return pmi"
   ]
  },
  {
   "cell_type": "code",
   "execution_count": 33,
   "id": "53da4bb6",
   "metadata": {},
   "outputs": [],
   "source": [
    "sum_vec = M5dist.sum(axis=0)\n",
    "sum_tot = sum_vec.sum()\n",
    "deno = np.outer(sum_vec, sum_vec)"
   ]
  },
  {
   "cell_type": "code",
   "execution_count": 34,
   "id": "d764929d",
   "metadata": {},
   "outputs": [
    {
     "name": "stdout",
     "output_type": "stream",
     "text": [
      "Avec la PPMI:\n",
      "The nearest neighbours of good according to the distance 'euclidean': \n",
      "[['it', 'movie', '.', 'UNK', ',', '/', 'br', 'good.', 'is']]\n",
      "The nearest neighbours of good according to the distance 'cosine': \n",
      "[['great', 'decent', 'bad', '.', 'some', 'and', 'but', 'are', 'pretty']]\n",
      "The nearest neighbours of good according to the distance 'euclidean': \n",
      "[['.', ',', 'is', 'but', 'and', 'movie', 'it', 'the', 'that']]\n",
      "The nearest neighbours of good according to the distance 'cosine': \n",
      "[['great', '.', 'acting', 'decent', 'pretty', 'bad', 'very', 'but', 'excellent']]\n"
     ]
    }
   ],
   "source": [
    "PPMI5 = pmi(M5dist)\n",
    "PPMI20 = pmi(M20)\n",
    "\n",
    "# vocab_5k.pop('UNK')\n",
    "print(\"Avec la PPMI:\")    \n",
    "print_neighbors(euclidean, vocab_5k, PPMI5, 'good')\n",
    "print_neighbors(cosine, vocab_5k, PPMI5, 'good')\n",
    "print_neighbors(euclidean, vocab_5k, PPMI20, 'good')\n",
    "print_neighbors(cosine, vocab_5k, PPMI20, 'good')"
   ]
  },
  {
   "cell_type": "markdown",
   "id": "196fb18a",
   "metadata": {},
   "source": [
    "### 3.E Word representations through count-based methods: reducing the dimension of co-occurence matrices\n",
    "\n",
    "#### Motivation\n",
    "\n",
    "The goal is not only to reduce the size of the data representation (then, we will work with smaller pre-determined sized representations, instead of working with vectors of the size of the vocabulary) but also showcase higher-level relationships between words: by reducing their representations to the *most important dimensions* of the data, we end up *generalizing* some properties of words.\n",
    "\n",
    "#### Dimension reduction via SVD \n",
    "\n",
    "A matrix is a linear transformation: applying a SVD to it is decomposing our linear transformation in a product of linear transformations of different types. We are changing the basis and replacing our data in a different space, using **eigenvectors**:\n",
    "\n",
    "$$ \\mathbf{M} = \\mathbf{U} \\mathbf{\\lambda} \\mathbf{V}^{\\text{T}} $$\n",
    "\n",
    "Matrices $\\mathbf{U}$, $\\mathbf{\\lambda}$, and $\\mathbf{V}$ have the following properties:\n",
    "- $\\mathbf{U}$ and $\\mathbf{V}$ are orthogonal matrices ($\\mathbf{U}^{\\text{T}} = \\mathbf{U}^{-1}$ and $\\mathbf{V}^{\\text{T}} = \\mathbf{V}^{-1}$). They contain the eingenvectors to the left and to the right of $\\mathbf{M}$.\n",
    "- $\\mathbf{\\lambda}$ is a diagonal matrix: careful, it is not necessarily square. diagonal coefficient are the eigenvalues of $\\mathbf{M}$.\n",
    "\n",
    "Then, the *most important dimensions* correspond to the highest eigenvalues. Reducing our data to a dimension $k$ corresponds to only keeping vectors corresponding to the $k$ first eigenvalues - which in turns is equivalent to keeping only the first $k$ vectors of $U$. \n",
    "We use ```TruncatedSVD``` from ```scikit-learn```:"
   ]
  },
  {
   "cell_type": "code",
   "execution_count": 35,
   "id": "db88d00e",
   "metadata": {},
   "outputs": [
    {
     "name": "stdout",
     "output_type": "stream",
     "text": [
      "(5001, 300)\n",
      "The nearest neighbours of good according to the distance 'euclidean': \n",
      "[['very', 'great', 'bad', 'just', 'really', 'story', 'me', 'he', 'time']]\n",
      "The nearest neighbours of good according to the distance 'cosine': \n",
      "[['great', 'very', 'cute', 'decent', 'bad', 'fun', 'silly', 'nice', 'wonderful']]\n"
     ]
    }
   ],
   "source": [
    "from sklearn.decomposition import TruncatedSVD\n",
    "svd = TruncatedSVD(n_components=300)\n",
    "SVDEmbeddings = svd.fit_transform(M5dist)\n",
    "print(SVDEmbeddings.shape)\n",
    "SVDEmbeddings[vocab_5k['UNK']]\n",
    "\n",
    "print_neighbors(euclidean, vocab_5k, SVDEmbeddings, 'good')\n",
    "print_neighbors(cosine, vocab_5k, SVDEmbeddings, 'good')"
   ]
  },
  {
   "cell_type": "markdown",
   "id": "725f1376",
   "metadata": {},
   "source": [
    "Note: When applying this method to the count matrix $\\mathbf{M}$ of dimension $T \\times D$, where $\\mathbf{M}_{t,d}$ contains the number of occuerences of the word $t$ in the document $d$, we obtain the method called **Latent Semantic Analysis**, which is used to detect latent (semantic) components allowing to group documents together."
   ]
  },
  {
   "cell_type": "markdown",
   "id": "d38f1811",
   "metadata": {},
   "source": [
    "#### Visualization in two dimensions\n",
    "\n",
    "We will now use **principal components analysis** (PCA) to visualize our data in two dimensions. This is equivalent to applying SVD to the covariance matrix of the data, in order that the principal components to be independent of each other we maximize the variance of the data. We use the class ```PCA``` from ```scikit-learn```: "
   ]
  },
  {
   "cell_type": "code",
   "execution_count": 36,
   "id": "c56e1553",
   "metadata": {},
   "outputs": [
    {
     "data": {
      "image/png": "[encoded data removed]",
      "text/plain": [
       "<Figure size 640x480 with 1 Axes>"
      ]
     },
     "metadata": {},
     "output_type": "display_data"
    }
   ],
   "source": [
    "from sklearn.decomposition import PCA\n",
    "pca = PCA(n_components=2, whiten=True)\n",
    "Emb = pca.fit_transform(M5dist)\n",
    "\n",
    "words = ['bad', 'good', 'best', 'worst', 'poor', 'great',\n",
    "         'dialog', 'role', 'actor', 'camera', 'scene',\n",
    "         'film', 'movie', 'award']\n",
    "ind_words = [vocab_5k[w] for w in words]\n",
    "x_words = [Emb[ind,0] for ind in ind_words]\n",
    "y_words = [Emb[ind,1] for ind in ind_words]\n",
    "\n",
    "fig, ax = plt.subplots()\n",
    "ax.scatter(x_words, y_words)\n",
    "\n",
    "for i, w in enumerate(words):\n",
    "    ax.annotate(w, (x_words[i], y_words[i]), (x_words[i] + 0.001, y_words[i] + 0.001))"
   ]
  },
  {
   "cell_type": "code",
   "execution_count": 37,
   "id": "775772cb",
   "metadata": {},
   "outputs": [
    {
     "data": {
      "image/png": "[encoded data removed]",
      "text/plain": [
       "<Figure size 640x480 with 1 Axes>"
      ]
     },
     "metadata": {},
     "output_type": "display_data"
    }
   ],
   "source": [
    "Norm5 = M5dist / (np.linalg.norm(M5dist, ord=2, axis=1, keepdims=True) + 1e-16)\n",
    "\n",
    "pca = PCA(n_components=2, whiten=True)\n",
    "Emb = pca.fit_transform(Norm5)\n",
    "\n",
    "words = ['bad', 'good', 'best', 'worst', 'poor', 'great',\n",
    "         'dialog', 'role', 'actor', 'camera', 'scene',\n",
    "         'film', 'movie', 'award']\n",
    "ind_words = [vocab_5k[w] for w in words]\n",
    "x_words = [Emb[ind,0] for ind in ind_words]\n",
    "y_words = [Emb[ind,1] for ind in ind_words]\n",
    "\n",
    "fig, ax = plt.subplots()\n",
    "ax.scatter(x_words, y_words)\n",
    "\n",
    "for i, w in enumerate(words):\n",
    "    ax.annotate(w, (x_words[i], y_words[i]), (x_words[i] + 0.001, y_words[i] + 0.001))"
   ]
  },
  {
   "cell_type": "markdown",
   "id": "b034f388",
   "metadata": {},
   "source": [
    "### 3.F Word representations through prediction-based methods: commonly used algorithms\n",
    "\n",
    "The idea here is to define a set of representations ${w_{i}}_{i=1}^{V}$, of predefined dimension $d$ (here, we will work with $d = 300$), for all the words $i$ of the vocabulary $V$ - then **train** these representations to match what we want. "
   ]
  },
  {
   "cell_type": "markdown",
   "id": "00114b96",
   "metadata": {},
   "source": [
    "#### Word2Vec\n",
    "\n",
    "\n",
    "**Reminder: The skip-gram model**\n",
    "\n",
    "The basic skip-gram model estimates the probabilities of a pair of words $(i, j)$ to appear together in data:\n",
    "\n",
    "$$P(j \\mid i) = \\frac{\\exp(w_{i} c_{j})}{\\sum_{j'\\in V}\\exp(w_{i} c_{j'})}$$\n",
    "\n",
    "\n",
    "where $w_{i}$ is the lign vector (of the word) $i$ and $c_{j}$ is the column vector (of a context word) $j$. The objective is to minimize the following quantity:\n",
    "\n",
    "\n",
    "$$ -\\sum_{i=1}^{m} \\sum_{k=1}^{|V|} \\textbf{1}\\{o_{i}=k\\} \\log \\frac{\\exp(w_{i} c_{k})}{\\sum_{j=1}^{|V|} \\exp(w_{i} c_{j})}$$\n",
    "\n",
    "\n",
    "where $V$ is the vocabulary.\n",
    "The inputs $w_{i}$ are the representations of the words, which are updated during training, and the output is an *one-hot* $o$ vector, which contains only one $1$ and $0$. For example, if `good` is the 47th word in the vocabulary, the output $o$ for an example or `good` is the word to predict will consist of $0$ everywhere except $1$ in the 47th position of the vector. `good` will be the word to predict when the input $w$ is a word in its context.\n",
    "We therefore obtain this output with standard softmax - we add a bias term $b$ .\n",
    "\n",
    "\n",
    "$$ o = \\textbf{softmax}(w_{a}C + b)$$\n",
    "\n",
    "\n",
    "If we use the set of representations for the whole vocabulary (the matrix $W$) as input, we get:\n",
    "\n",
    "\n",
    "$$ O = \\textbf{softmax}(WC + b)$$\n",
    "\n",
    "\n",
    "and so we come back to the central idea of all our methods: we seek to obtain word representations from co-occurrence counts. Here, we train the parameters contained in $W$ and $C$, two matrices representing the words in reduced dimension (300) so that their scalar product is as close as possible to the co-occurrences observed in the data, using a maximum likelihood objective.\n",
    "\n",
    "#### Skip-gram with negative sampling\n",
    "\n",
    "The training of the skip-gram model implies to calculate a sum on the whole vocabulary, because of the **softmax**. As soon as the size of the vocabulary increases, it becomes impossible to compute. In order to make the calculations faster, we change the objective and use the method of *negative sampling* (or, very close to it, the *noise contrastive estimation*).\n",
    "\n",
    "\n",
    "If we note $\\mathcal{D}$ the data set and we note $\\mathcal{D}'$ a set of pairs of words that are **not** in the data (and that in practice, we draw randomly), the objective is:\n",
    "\n",
    "\n",
    "$$\\sum_{i, j \\in \\mathcal{D}}-\\log\\sigma(w_{i}c_{j}) + \\sum_{i, j \\in \\mathcal{D}'}\\log\\sigma(w_{i}c_{j})$$\n",
    "\n",
    "\n",
    "where $\\sigma$ is the sigmoid activation function $\\frac{1}{1 + \\exp(-x)}$.\n",
    "A common practice is to generate pairs from $\\mathcal{D}'$ in proportion to the frequencies of the words in the training data (the so-called unigram distribution):\n",
    "\n",
    "\n",
    "$$P(w) = \\frac{\\textbf{T}(w)^{0.75}}{\\sum_{w'\\in V} \\textbf{T}(w')}$$\n",
    "\n",
    "\n",
    "Although different, this new objective function is a sufficient approximation of the previous one, and is based on the same principle. Much research has been done on this objective: for example, [Levy and Golberg 2014](http://papers.nips.cc/paper/5477-neural-word-embedding-as-implicit-matrix-factorization) shows that the objective calculates the PMI matrix shifted by a constant value. One can also see [Cotterell et al. 2017](https://aclanthology.coli.uni-saarland.de/papers/E17-2028/e17-2028) for an interpretation of the algorithm as a variant of PCA."
   ]
  },
  {
   "cell_type": "markdown",
   "id": "465cd4c1",
   "metadata": {},
   "source": [
    "We will use the ```gensim``` library for its implementation of word2vec in python. We'll have to make a specific use of it, since we want to keep the same vocabulary as before: we'll first create the class, then get the vocabulary we generated above. \n",
    "To avoid having to put all the data in memory all at once, we define a generator, which will take all the input data and pre-process it, and return to the ```Word2Vec``` class sentence by sentence. "
   ]
  },
  {
   "cell_type": "code",
   "execution_count": 38,
   "id": "b84c4689",
   "metadata": {},
   "outputs": [],
   "source": [
    "from gensim.models import Word2Vec\n",
    "\n",
    "model = Word2Vec(vector_size=300,\n",
    "                 window=5,\n",
    "                 null_word=len(word_counts_5k))\n",
    "model.build_vocab_from_freq(word_counts_5k)"
   ]
  },
  {
   "cell_type": "code",
   "execution_count": 39,
   "id": "74b74ec8",
   "metadata": {},
   "outputs": [],
   "source": [
    "preprocessed_corpus = [word_tokenize(train_texts[i]) for i in range(len(train_texts))]"
   ]
  },
  {
   "cell_type": "code",
   "execution_count": 40,
   "id": "de520b42",
   "metadata": {},
   "outputs": [
    {
     "data": {
      "text/plain": [
       "(85398777, 141305940)"
      ]
     },
     "execution_count": 40,
     "metadata": {},
     "output_type": "execute_result"
    }
   ],
   "source": [
    "model.train(preprocessed_corpus, total_examples=len(train_texts), epochs=20, report_delay=1)"
   ]
  },
  {
   "cell_type": "code",
   "execution_count": 41,
   "id": "c68e0a71",
   "metadata": {},
   "outputs": [],
   "source": [
    "W2VEmbeddings = model.wv.vectors"
   ]
  },
  {
   "cell_type": "markdown",
   "id": "9f4db6b3",
   "metadata": {},
   "source": [
    "#### Glove\n",
    "\n",
    "The objective defined by Glove ([Pennington et al. (2014)](http://www.aclweb.org/anthology/D/D14/D14-1162.pdf)) is to learn from the vectors $w_{i}$ and $w_{k}$ so that their scalar product corresponds to the logarithm of their **Pointwise Mutual Information**: \n",
    "\n",
    "\n",
    "$$ w_{i}^\\top w_{k} = (PMI(w_{i}, w_{k}))$$\n",
    "\n",
    "\n",
    "In the article, this objective is carefully justified by a reasoning about the operations one wants to perform with these vectors and the properties they should have - in particular, symmetry between rows and columns (see the article for more details).  \n",
    "The final goal obtained is the following, where $M$ is the co-occurrence matrix:\n",
    "\n",
    "\n",
    "$$\\sum_{i, j=1}^{|V|} f\\left(M_{ij}\\right)\n",
    "  \\left(w_i^\\top w_j + b_i + b_j - \\log M_{ij}\\right)^2$$\n",
    "  \n",
    " \n",
    "Here, $f$ is a *scaling* function that reduces the importance of the most frequent co-occurrence counts: \n",
    "\n",
    "\n",
    "$$f(x) \n",
    "\\begin{cases}\n",
    "(x/x_{\\max})^{\\alpha} & \\textrm{if } x < x_{\\max} \\\\\n",
    "1 & \\textrm{otherwise}\n",
    "\\end{cases}$$\n",
    "\n",
    "\n",
    "Usually, we choose $\\alpha=0.75$ and $x_{\\max} = 100$, although these parameters may need to be changed depending on the data."
   ]
  },
  {
   "cell_type": "markdown",
   "id": "014dc0f2",
   "metadata": {},
   "source": [
    "The following code uses the gensim API to retrieve pre-trained representations (It is normal that the loading is long)."
   ]
  },
  {
   "cell_type": "code",
   "execution_count": 42,
   "id": "f174baf3",
   "metadata": {},
   "outputs": [],
   "source": [
    "import gensim.downloader as api\n",
    "loaded_glove_model = api.load(\"glove-wiki-gigaword-300\")"
   ]
  },
  {
   "cell_type": "markdown",
   "id": "af01a4ff",
   "metadata": {},
   "source": [
    "We can extract the embedding matrix this way, and check its size:"
   ]
  },
  {
   "cell_type": "code",
   "execution_count": 43,
   "id": "4e4feb5b",
   "metadata": {},
   "outputs": [
    {
     "name": "stdout",
     "output_type": "stream",
     "text": [
      "(400000, 300)\n"
     ]
    }
   ],
   "source": [
    "loaded_glove_embeddings = loaded_glove_model.vectors\n",
    "print(loaded_glove_embeddings.shape)"
   ]
  },
  {
   "cell_type": "markdown",
   "id": "a093acda",
   "metadata": {},
   "source": [
    "We can see that there are $400,000$ words represented, and that the embeddings are of size $300$. We define a function that returns, from the loaded model, the vocabulary and the embedding matrix according to the structures we used before. We add, here again, an unknown word \"UNK\" in case there are words in our data that are not part of the $400,000$ words represented here. "
   ]
  },
  {
   "cell_type": "code",
   "execution_count": 44,
   "id": "2fa17499",
   "metadata": {},
   "outputs": [],
   "source": [
    "def get_glove_voc_and_embeddings(glove_model):\n",
    "    voc = {word : index for word, index in enumerate(glove_model.index_to_key)}\n",
    "    voc['UNK'] = len(voc)\n",
    "    embeddings = glove_model.vectors\n",
    "    return voc, embeddings"
   ]
  },
  {
   "cell_type": "code",
   "execution_count": 45,
   "id": "0c149df4",
   "metadata": {},
   "outputs": [],
   "source": [
    "loaded_glove_voc, loaded_glove_embeddings = get_glove_voc_and_embeddings(loaded_glove_model)"
   ]
  },
  {
   "cell_type": "markdown",
   "id": "d8c53ef9",
   "metadata": {},
   "source": [
    "In order to compare the representations loaded here and the ones produced with word2vec, the same vocabulary should be used. For this purpose, I reuse the following code to create a $5000$ word vocabulary from the data, and I add at the end a function that returns the matrix of representations loaded with Glove for these $5000$ words only, in the right order. "
   ]
  },
  {
   "cell_type": "code",
   "execution_count": 46,
   "id": "634ee2c8",
   "metadata": {},
   "outputs": [],
   "source": [
    "def get_glove_adapted_embeddings(glove_model, input_voc):\n",
    "    keys = {i: glove_model.key_to_index.get(w, None) for w, i in input_voc.items()}\n",
    "    index_dict = {i: key for i, key in keys.items() if key is not None}\n",
    "    embeddings = np.zeros((len(input_voc),glove_model.vectors.shape[1]))\n",
    "    for i, ind in index_dict.items():\n",
    "        embeddings[i] = glove_model.vectors[ind]\n",
    "    return embeddings"
   ]
  },
  {
   "cell_type": "code",
   "execution_count": 47,
   "id": "00452da0",
   "metadata": {},
   "outputs": [],
   "source": [
    "GloveEmbeddings = get_glove_adapted_embeddings(loaded_glove_model, vocab_5k)"
   ]
  },
  {
   "cell_type": "markdown",
   "id": "5c68258e",
   "metadata": {},
   "source": [
    "This function takes as input the model loaded using the Gensim API, as well as a vocabulary we created ourselves, and returns the embedding matrix from the loaded model, for the words in our vocabulary and in the right order.\n",
    "Note: unknown words are represented by a vector of zeros:"
   ]
  },
  {
   "cell_type": "code",
   "execution_count": 48,
   "id": "720fd8bd",
   "metadata": {},
   "outputs": [
    {
     "name": "stdout",
     "output_type": "stream",
     "text": [
      "(5001, 300)\n"
     ]
    },
    {
     "data": {
      "text/plain": [
       "array([0., 0., 0., 0., 0., 0., 0., 0., 0., 0., 0., 0., 0., 0., 0., 0., 0.,\n",
       "       0., 0., 0., 0., 0., 0., 0., 0., 0., 0., 0., 0., 0., 0., 0., 0., 0.,\n",
       "       0., 0., 0., 0., 0., 0., 0., 0., 0., 0., 0., 0., 0., 0., 0., 0., 0.,\n",
       "       0., 0., 0., 0., 0., 0., 0., 0., 0., 0., 0., 0., 0., 0., 0., 0., 0.,\n",
       "       0., 0., 0., 0., 0., 0., 0., 0., 0., 0., 0., 0., 0., 0., 0., 0., 0.,\n",
       "       0., 0., 0., 0., 0., 0., 0., 0., 0., 0., 0., 0., 0., 0., 0., 0., 0.,\n",
       "       0., 0., 0., 0., 0., 0., 0., 0., 0., 0., 0., 0., 0., 0., 0., 0., 0.,\n",
       "       0., 0., 0., 0., 0., 0., 0., 0., 0., 0., 0., 0., 0., 0., 0., 0., 0.,\n",
       "       0., 0., 0., 0., 0., 0., 0., 0., 0., 0., 0., 0., 0., 0., 0., 0., 0.,\n",
       "       0., 0., 0., 0., 0., 0., 0., 0., 0., 0., 0., 0., 0., 0., 0., 0., 0.,\n",
       "       0., 0., 0., 0., 0., 0., 0., 0., 0., 0., 0., 0., 0., 0., 0., 0., 0.,\n",
       "       0., 0., 0., 0., 0., 0., 0., 0., 0., 0., 0., 0., 0., 0., 0., 0., 0.,\n",
       "       0., 0., 0., 0., 0., 0., 0., 0., 0., 0., 0., 0., 0., 0., 0., 0., 0.,\n",
       "       0., 0., 0., 0., 0., 0., 0., 0., 0., 0., 0., 0., 0., 0., 0., 0., 0.,\n",
       "       0., 0., 0., 0., 0., 0., 0., 0., 0., 0., 0., 0., 0., 0., 0., 0., 0.,\n",
       "       0., 0., 0., 0., 0., 0., 0., 0., 0., 0., 0., 0., 0., 0., 0., 0., 0.,\n",
       "       0., 0., 0., 0., 0., 0., 0., 0., 0., 0., 0., 0., 0., 0., 0., 0., 0.,\n",
       "       0., 0., 0., 0., 0., 0., 0., 0., 0., 0., 0.])"
      ]
     },
     "execution_count": 48,
     "metadata": {},
     "output_type": "execute_result"
    }
   ],
   "source": [
    "print(GloveEmbeddings.shape)\n",
    "GloveEmbeddings[vocab_5k['UNK']]"
   ]
  },
  {
   "cell_type": "markdown",
   "id": "070ebd9b",
   "metadata": {},
   "source": [
    "## 4 - Application to sentiment analysis\n",
    "\n",
    "We will now use these representations for sentiment analysis. \n",
    "The basic model, as before, will be constructed in two steps:\n",
    "- A function to obtain vector representations of criticism, from text, vocabulary, and vector representations of words. Such a function (to be completed below) will associate to each word of a review its embeddings, and create the representation for the whole sentence by summing these embeddings.\n",
    "- A classifier will take these representations as input and make a prediction. To achieve this, we can first use logistic regression ```LogisticRegression``` from ```scikit-learn```  "
   ]
  },
  {
   "cell_type": "markdown",
   "id": "d847ad44",
   "metadata": {},
   "source": [
    "<div class='alert alert-block alert-info'>\n",
    "            Code:</div>"
   ]
  },
  {
   "cell_type": "code",
   "execution_count": 49,
   "id": "05a65c1c",
   "metadata": {},
   "outputs": [],
   "source": [
    "def sentence_representations(texts, vocabulary, embeddings, np_func=np.sum):\n",
    "    \"\"\"\n",
    "    Represent the sentences as a combination of the vector of its words.\n",
    "    Parameters\n",
    "    ----------\n",
    "    texts : a list of sentences   \n",
    "    vocabulary : dict\n",
    "        From words to indices of vector.\n",
    "    embeddings : Matrix containing word representations\n",
    "    np_func : function (default: np.sum)\n",
    "        A numpy matrix operation that can be applied columnwise, \n",
    "        like `np.mean`, `np.sum`, or `np.prod`. \n",
    "    Returns\n",
    "    -------\n",
    "    np.array, dimension `(len(texts), embeddings.shape[1])`            \n",
    "    \"\"\"\n",
    "    representations = np.zeros((len(texts), embeddings.shape[1]))\n",
    "    for i, text in enumerate(texts):\n",
    "        representation = np.zeros((len(text), embeddings.shape[1]))    \n",
    "        for j, word in enumerate(word_tokenize(text)):\n",
    "            if word in vocabulary:\n",
    "                representation[j] = embeddings[vocabulary[word]]\n",
    "            else:\n",
    "                representation[j] = embeddings[vocabulary['UNK']]\n",
    "        representations[i] = np_func(representation, axis = 0)\n",
    "    return representations"
   ]
  },
  {
   "cell_type": "code",
   "execution_count": 50,
   "id": "5db7f488",
   "metadata": {},
   "outputs": [],
   "source": [
    "train_rep = sentence_representations(train_texts_splt, vocab_5k, GloveEmbeddings)\n",
    "val_rep = sentence_representations(val_texts, vocab_5k, GloveEmbeddings)"
   ]
  },
  {
   "cell_type": "code",
   "execution_count": 55,
   "id": "22f1aa76",
   "metadata": {},
   "outputs": [
    {
     "name": "stdout",
     "output_type": "stream",
     "text": [
      "(2000, 300)\n"
     ]
    }
   ],
   "source": [
    "print(train_rep.shape)"
   ]
  },
  {
   "cell_type": "markdown",
   "id": "75f44c99",
   "metadata": {},
   "source": [
    "<div class='alert alert-block alert-info'>\n",
    "            Code:</div>"
   ]
  },
  {
   "cell_type": "code",
   "execution_count": 52,
   "id": "ca7b0013",
   "metadata": {},
   "outputs": [
    {
     "name": "stdout",
     "output_type": "stream",
     "text": [
      "              precision    recall  f1-score   support\n",
      "\n",
      "           0       0.80      0.78      0.79       251\n",
      "           1       0.78      0.81      0.79       249\n",
      "\n",
      "    accuracy                           0.79       500\n",
      "   macro avg       0.79      0.79      0.79       500\n",
      "weighted avg       0.79      0.79      0.79       500\n",
      "\n"
     ]
    },
    {
     "data": {
      "image/png": "[encoded data removed]",
      "text/plain": [
       "<Figure size 640x480 with 2 Axes>"
      ]
     },
     "metadata": {},
     "output_type": "display_data"
    }
   ],
   "source": [
    "from sklearn.linear_model import LogisticRegression\n",
    "\n",
    "# Fit the classifier on the transformed training data and test it on the transformed validation data\n",
    "lr = LogisticRegression(max_iter=10000)\n",
    "lr.fit(train_rep, train_labels_splt)\n",
    "val_pred = lr.predict(val_rep)\n",
    "report(val_labels, val_pred)"
   ]
  },
  {
   "cell_type": "markdown",
   "id": "5970a0cd",
   "metadata": {},
   "source": [
    "<div class='alert alert-block alert-warning'>\n",
    "            Questions:</div>\n",
    "\n",
    "You can now compare the various sets of embeddings, and answer the following questions:\n",
    "- Why could we expect that the results obtained with embeddings pre-trained with Glove are better than others ? Is that verified ? And what changes if we remove the constraint of having the same 5000 words vocabulary as the other methods ? \n",
    "- Which matrix that we can reduce the dimension of gives the best results ? "
   ]
  },
  {
   "cell_type": "markdown",
   "id": "0a43470f",
   "metadata": {},
   "source": [
    "According to [this article](https://machinelearninginterview.com/topics/natural-language-processing/what-is-the-difference-between-word2vec-and-glove/), GloVe is leveraging the co-occurence counts globally whereas word2vec is leveraging it locally. We can expect the Glove outperform word2vec since it uses more information in the global level. Obviously both of them outperform the original co-occurence embedding since no leveraging is taken into account.\n",
    "\n",
    "However in practice, the outperformance of Glove against word2vec is not obvious as their scores are very close.\n",
    "\n",
    "If we remove the constraint, we use the loaded glove vector embedding, the classification will be worse since we don't adapt the pretrained representation to our particular corpus, i.e. the representation will reflect the corpus-specific information worse.\n",
    "\n",
    "In our practice, the best result is given by the word2vec embedding."
   ]
  },
  {
   "cell_type": "code",
   "execution_count": 53,
   "id": "6d53e75c",
   "metadata": {},
   "outputs": [],
   "source": [
    "def predict_with_embedding(train_data, val_data, train_label, val_label, vocabulary, embeddings):\n",
    "  lr = LogisticRegression(max_iter=10000)\n",
    "  train_reptn = sentence_representations(train_data, vocabulary, embeddings)\n",
    "  val_reptn = sentence_representations(val_data, vocabulary, embeddings)\n",
    "  lr.fit(train_reptn, train_label)\n",
    "  val_pred = lr.predict(val_reptn)\n",
    "  report(val_label, val_pred)"
   ]
  },
  {
   "cell_type": "markdown",
   "id": "6d0f91f4",
   "metadata": {},
   "source": [
    "with word2vec embedding"
   ]
  },
  {
   "cell_type": "code",
   "execution_count": 54,
   "id": "ac737536",
   "metadata": {},
   "outputs": [
    {
     "name": "stdout",
     "output_type": "stream",
     "text": [
      "              precision    recall  f1-score   support\n",
      "\n",
      "           0       0.82      0.78      0.80       251\n",
      "           1       0.79      0.83      0.81       249\n",
      "\n",
      "    accuracy                           0.80       500\n",
      "   macro avg       0.80      0.80      0.80       500\n",
      "weighted avg       0.80      0.80      0.80       500\n",
      "\n"
     ]
    },
    {
     "data": {
      "image/png": "[encoded data removed]",
      "text/plain": [
       "<Figure size 640x480 with 2 Axes>"
      ]
     },
     "metadata": {},
     "output_type": "display_data"
    }
   ],
   "source": [
    "predict_with_embedding(train_texts_splt, val_texts, train_labels_splt, val_labels, vocab_5k, W2VEmbeddings)"
   ]
  },
  {
   "cell_type": "markdown",
   "id": "7911738e",
   "metadata": {},
   "source": [
    "with SVD embedding"
   ]
  },
  {
   "cell_type": "code",
   "execution_count": 55,
   "id": "a5c6f657",
   "metadata": {},
   "outputs": [
    {
     "name": "stderr",
     "output_type": "stream",
     "text": [
      "d:\\Anaconda\\lib\\site-packages\\sklearn\\linear_model\\_logistic.py:814: ConvergenceWarning: lbfgs failed to converge (status=1):\n",
      "STOP: TOTAL NO. of ITERATIONS REACHED LIMIT.\n",
      "\n",
      "Increase the number of iterations (max_iter) or scale the data as shown in:\n",
      "    https://scikit-learn.org/stable/modules/preprocessing.html\n",
      "Please also refer to the documentation for alternative solver options:\n",
      "    https://scikit-learn.org/stable/modules/linear_model.html#logistic-regression\n",
      "  n_iter_i = _check_optimize_result(\n"
     ]
    },
    {
     "name": "stdout",
     "output_type": "stream",
     "text": [
      "              precision    recall  f1-score   support\n",
      "\n",
      "           0       0.76      0.76      0.76       251\n",
      "           1       0.76      0.76      0.76       249\n",
      "\n",
      "    accuracy                           0.76       500\n",
      "   macro avg       0.76      0.76      0.76       500\n",
      "weighted avg       0.76      0.76      0.76       500\n",
      "\n"
     ]
    },
    {
     "data": {
      "image/png": "[encoded data removed]",
      "text/plain": [
       "<Figure size 640x480 with 2 Axes>"
      ]
     },
     "metadata": {},
     "output_type": "display_data"
    }
   ],
   "source": [
    "predict_with_embedding(train_texts_splt, val_texts, train_labels_splt, val_labels, vocab_5k, SVDEmbeddings)"
   ]
  },
  {
   "cell_type": "markdown",
   "id": "88dfe3ad",
   "metadata": {},
   "source": [
    "Using loaded_glove_embeddings"
   ]
  },
  {
   "cell_type": "code",
   "execution_count": 61,
   "id": "fec458b4",
   "metadata": {},
   "outputs": [
    {
     "name": "stdout",
     "output_type": "stream",
     "text": [
      "              precision    recall  f1-score   support\n",
      "\n",
      "           0       0.72      0.77      0.74       251\n",
      "           1       0.75      0.70      0.72       249\n",
      "\n",
      "    accuracy                           0.73       500\n",
      "   macro avg       0.74      0.73      0.73       500\n",
      "weighted avg       0.74      0.73      0.73       500\n",
      "\n"
     ]
    },
    {
     "data": {
      "image/png": "[encoded data removed]",
      "text/plain": [
       "<Figure size 640x480 with 2 Axes>"
      ]
     },
     "metadata": {},
     "output_type": "display_data"
    }
   ],
   "source": [
    "predict_with_embedding(train_texts_splt, val_texts, train_labels_splt, val_labels, vocab_5k, loaded_glove_embeddings)"
   ]
  }
 ],
 "metadata": {
  "kernelspec": {
   "display_name": "Python 3.9.0 ('base')",
   "language": "python",
   "name": "python3"
  },
  "language_info": {
   "codemirror_mode": {
    "name": "ipython",
    "version": 3
   },
   "file_extension": ".py",
   "mimetype": "text/x-python",
   "name": "python",
   "nbconvert_exporter": "python",
   "pygments_lexer": "ipython3",
   "version": "3.9.0"
  },
  "vscode": {
   "interpreter": {
    "hash": "88279d2366fe020547cde40dd65aa0e3aa662a6ec1f3ca12d88834876c85e1a6"
   }
  }
 },
 "nbformat": 4,
 "nbformat_minor": 5
}
