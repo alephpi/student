{
 "cells": [
  {
   "cell_type": "markdown",
   "metadata": {},
   "source": [
    "# import"
   ]
  },
  {
   "cell_type": "code",
   "execution_count": 30,
   "metadata": {},
   "outputs": [],
   "source": [
    "import numpy as np\n",
    "import matplotlib.pyplot as plt\n",
    "import torch\n",
    "from torch.utils.data import Dataset, DataLoader\n",
    "from torch import nn, autograd as ag\n",
    "import scipy.stats as st\n",
    "import random\n",
    "from tqdm import tqdm\n",
    "\n",
    "from model import *\n",
    "from dataset import *\n",
    "from utils import *"
   ]
  },
  {
   "cell_type": "code",
   "execution_count": 2,
   "metadata": {},
   "outputs": [],
   "source": [
    "hyperparams = {\n",
    "        'n_tasks': 1000,\n",
    "        'n_episode': 150,\n",
    "        'n_timesteps': 10,\n",
    "        'input_dim': 2, \n",
    "        'hidden_dim': 512,\n",
    "        'output_dim': 2,\n",
    "        'lr': 1e-4,\n",
    "        'batch_size': 128,\n",
    "        'n_epochs': 100,\n",
    "        }"
   ]
  },
  {
   "cell_type": "markdown",
   "metadata": {},
   "source": [
    "# Load model"
   ]
  },
  {
   "cell_type": "code",
   "execution_count": 3,
   "metadata": {},
   "outputs": [],
   "source": [
    "# device = torch.device(\"cuda\" if torch.cuda.is_available() else \"cpu\")\n",
    "device = torch.device(\"cpu\")\n",
    "def load_model(n_particle=1):\n",
    "    model = MyModel(input_dim=hyperparams['input_dim'], hidden_dim=hyperparams['hidden_dim'],\n",
    "                    output_dim=hyperparams['output_dim'], n_particle=n_particle).to(device)\n",
    "    checkpoint = torch.load('Task1_multiTask.pth.tar', map_location=device)\n",
    "    model.load_state_dict(checkpoint['state_dict'])\n",
    "    model.eval()\n",
    "    return model"
   ]
  },
  {
   "cell_type": "markdown",
   "metadata": {},
   "source": [
    "# Load data"
   ]
  },
  {
   "cell_type": "code",
   "execution_count": 4,
   "metadata": {},
   "outputs": [],
   "source": [
    "dataset = torch.load('./two_links_arm_test')\n",
    "adapt_data = [data['adapt'] for data in dataset]\n",
    "test_data = [data['test'] for data in dataset]"
   ]
  },
  {
   "cell_type": "code",
   "execution_count": 18,
   "metadata": {},
   "outputs": [
    {
     "data": {
      "text/plain": [
       "torch.Size([2])"
      ]
     },
     "execution_count": 18,
     "metadata": {},
     "output_type": "execute_result"
    }
   ],
   "source": [
    "adapt_data[0]['angle'][:,0].shape"
   ]
  },
  {
   "cell_type": "code",
   "execution_count": 19,
   "metadata": {},
   "outputs": [],
   "source": [
    "mask = torch.ones(size=(20,512), dtype=torch.float32, requires_grad=False)"
   ]
  },
  {
   "cell_type": "code",
   "execution_count": 30,
   "metadata": {},
   "outputs": [],
   "source": [
    "a = torch.rand(size=(1,512))"
   ]
  },
  {
   "cell_type": "code",
   "execution_count": 31,
   "metadata": {},
   "outputs": [
    {
     "data": {
      "text/plain": [
       "torch.Size([20, 512])"
      ]
     },
     "execution_count": 31,
     "metadata": {},
     "output_type": "execute_result"
    }
   ],
   "source": [
    "(a * mask).shape"
   ]
  },
  {
   "cell_type": "markdown",
   "metadata": {},
   "source": [
    "either one x, multiple mask(multiple particle moving), either a batch of x, one mask(one best particle moving)"
   ]
  },
  {
   "cell_type": "markdown",
   "metadata": {},
   "source": [
    "# Adaptation "
   ]
  },
  {
   "cell_type": "code",
   "execution_count": 35,
   "metadata": {},
   "outputs": [],
   "source": [
    "def smcd(T, N, adapt_data, d=0.05):\n",
    "    '''\n",
    "    model: neural network\n",
    "    T: adaptation timestep\n",
    "\tN: particle numbers\n",
    "\tadapt_data: as name\n",
    "\td: flip rate\n",
    "\t'''\n",
    "    model = load_model(n_particle=N)\n",
    "    q = adapt_data['angle']\n",
    "    # z = adapt_data['noisy_pos']\n",
    "    z = adapt_data['true_pos']\n",
    "    n_features = model.get_dropout_mask().shape[1]\n",
    "\t# initialize M_0\n",
    "    # M = np.random.randint(low=0,high=2,size=(n_features, N))\n",
    "    M = np.ones((n_features, N), dtype=np.int8)\n",
    "    M_best = np.ones(n_features)\n",
    "    assert T <= q.shape[-1], f'T should be less than {q.shape[-1]}'\n",
    "    assert not model.training, f'please call model.eval()'\n",
    "    M_bests = []\n",
    "    for t in tqdm(range(T)):\n",
    "        M = flip(M,d)\n",
    "        M[:,0] = M_best # replace one particle by the last best one (no mutation for the last champion particle)\n",
    "        # w = []\n",
    "        model.update_dropout_mask(M.swapaxes(1,0))\n",
    "        X = model(q[:,t].to(device, dtype=torch.float32)).detach().numpy()\n",
    "        # for i in range(N):\n",
    "        #     w_i = st.multivariate_normal.pdf(z[:,t].detach().numpy(), mean=X[i], cov=0.001)\n",
    "        #     w.append(w_i)\n",
    "        # to benefit from vectorization we replace p(z_t|x_i) by p(x_i|z_t)\n",
    "        logW = st.multivariate_normal.logpdf(X, mean=z[:,t].detach().numpy(), cov=0.001)\n",
    "        W = exp_and_normalise(logW)\n",
    "        # print(W.shape)\n",
    "        # print(w)\n",
    "        # N_eff = int(1 / np.sum((np.asarray(w)) ** 2))\n",
    "        # print(N_eff)\n",
    "        if W.sum() != 0: #if w not valid, no update for M_best\n",
    "            resample_index = resample(range(N), W)\n",
    "            M = np.take(M, resample_index, axis=1)\n",
    "            M_best = (M.mean(axis=1) > 0.5).astype(np.int_)\n",
    "        M_bests.append(M_best)\n",
    "    return M_bests"
   ]
  },
  {
   "cell_type": "code",
   "execution_count": 63,
   "metadata": {},
   "outputs": [],
   "source": [
    "def adapt_GD(adapt_data):\n",
    "    def totorch(x):\n",
    "        return ag.Variable(torch.FloatTensor(x).to(device))\n",
    "    \n",
    "    def train_on_batch(x, y):\n",
    "        x = totorch(x)\n",
    "        y = totorch(y)\n",
    "        optimizer.zero_grad()\n",
    "        ypred = model.forward(x)\n",
    "        loss = criterion(ypred, y)\n",
    "        loss.backward()\n",
    "        optimizer.step()\n",
    "        return loss\n",
    "    \n",
    "    model = load_model()\n",
    "    model.train()\n",
    "    criterion = nn.MSELoss()\n",
    "    losses = []\n",
    "    batch_size = 16\n",
    "    optimizer = torch.optim.Adam(model.parameters(), lr=hyperparams['lr'])\n",
    "    x_train = adapt_data['angle'].to(torch.float32).swapaxes(1,0)\n",
    "    y_train = adapt_data['noisy_pos'].to(torch.float32).swapaxes(1,0)\n",
    "    inds = torch.randperm(len(x_train))\n",
    "    for start in range(0, len(x_train), batch_size):\n",
    "        mbinds = inds[start:start+batch_size]\n",
    "        losses.append(train_on_batch(x_train[mbinds], y_train[mbinds]).item())\n",
    "    return np.mean(losses)"
   ]
  },
  {
   "cell_type": "code",
   "execution_count": 61,
   "metadata": {
    "tags": []
   },
   "outputs": [],
   "source": [
    "def compare_adaptation(adapt_timestep=10, n_particles=300):\n",
    "    losses = []\n",
    "    losses_no_adapt = []\n",
    "    losses_GD = []\n",
    "    criterion = nn.MSELoss()\n",
    "    M_best_per_task = []\n",
    "    for i in range(len(adapt_data)):\n",
    "        model = load_model()\n",
    "        q = adapt_data[i]['angle'].to(torch.float32).swapaxes(1,0)\n",
    "        x = adapt_data[i]['true_pos'].to(torch.float32).swapaxes(1,0)\n",
    "        x_noadapt = model(q).detach()\n",
    "        loss_GD = adapt_GD(adapt_data[i])\n",
    "        \n",
    "        M_best = smcd(adapt_timestep, n_particles, adapt_data[i], d=0.15)\n",
    "        M_best_per_task.append(M_best[-1].reshape(1,-1))\n",
    "        model.update_dropout_mask(M_best[-1].reshape(1,-1))\n",
    "        x_pred = model(q).detach()\n",
    "        \n",
    "        loss = criterion(x_pred, x)\n",
    "        loss_no_adapt = criterion(x_noadapt, x)\n",
    "        # print(f\"For {i}th task, loss after adaptation is {round(loss.item(), 3)}, limb length is {dataset.l[i]}\")\n",
    "        # print(f\"For {i}th task, loss after adaptation is {round(loss.item(), 3)}, No adaptation loss is {round(loss_no_adapt.item(), 3)}, limb length is {dataset.l[i]}\")\n",
    "        print(f\"For {i}th task, loss with SMCD is {round(loss.item(), 3)}, \"\n",
    "          f\"loss with GD is {round(loss_GD, 3)}, \"\n",
    "          f\"loss wto adaptation is {round(loss_no_adapt.item(), 3)}.\")\n",
    "        losses.append(loss)\n",
    "        losses_no_adapt.append(loss_no_adapt)\n",
    "        losses_GD.append(loss_GD)\n",
    "    return losses, losses_no_adapt, losses_GD, M_best_per_task"
   ]
  },
  {
   "cell_type": "code",
   "execution_count": 64,
   "metadata": {
    "collapsed": true,
    "jupyter": {
     "outputs_hidden": true
    },
    "tags": []
   },
   "outputs": [
    {
     "name": "stderr",
     "output_type": "stream",
     "text": [
      "100%|██████████| 100/100 [00:02<00:00, 33.62it/s]\n"
     ]
    },
    {
     "name": "stdout",
     "output_type": "stream",
     "text": [
      "For 0th task, loss with SMCD is 1.59, loss with GD is 1.59, loss wto adaptation is 1.522.\n"
     ]
    },
    {
     "name": "stderr",
     "output_type": "stream",
     "text": [
      "100%|██████████| 100/100 [00:03<00:00, 33.24it/s]\n"
     ]
    },
    {
     "name": "stdout",
     "output_type": "stream",
     "text": [
      "For 1th task, loss with SMCD is 0.759, loss with GD is 0.83, loss wto adaptation is 0.823.\n"
     ]
    },
    {
     "name": "stderr",
     "output_type": "stream",
     "text": [
      "100%|██████████| 100/100 [00:02<00:00, 34.17it/s]\n"
     ]
    },
    {
     "name": "stdout",
     "output_type": "stream",
     "text": [
      "For 2th task, loss with SMCD is 0.408, loss with GD is 0.662, loss wto adaptation is 0.629.\n"
     ]
    },
    {
     "name": "stderr",
     "output_type": "stream",
     "text": [
      "100%|██████████| 100/100 [00:02<00:00, 36.23it/s]\n"
     ]
    },
    {
     "name": "stdout",
     "output_type": "stream",
     "text": [
      "For 3th task, loss with SMCD is 0.096, loss with GD is 0.405, loss wto adaptation is 0.454.\n"
     ]
    },
    {
     "name": "stderr",
     "output_type": "stream",
     "text": [
      "100%|██████████| 100/100 [00:02<00:00, 37.20it/s]\n"
     ]
    },
    {
     "name": "stdout",
     "output_type": "stream",
     "text": [
      "For 4th task, loss with SMCD is 1.89, loss with GD is 1.976, loss wto adaptation is 2.0.\n"
     ]
    },
    {
     "name": "stderr",
     "output_type": "stream",
     "text": [
      "100%|██████████| 100/100 [00:02<00:00, 36.92it/s]\n"
     ]
    },
    {
     "name": "stdout",
     "output_type": "stream",
     "text": [
      "For 5th task, loss with SMCD is 1.249, loss with GD is 1.319, loss wto adaptation is 1.34.\n"
     ]
    },
    {
     "name": "stderr",
     "output_type": "stream",
     "text": [
      "100%|██████████| 100/100 [00:03<00:00, 33.12it/s]\n"
     ]
    },
    {
     "name": "stdout",
     "output_type": "stream",
     "text": [
      "For 6th task, loss with SMCD is 0.679, loss with GD is 0.92, loss wto adaptation is 0.913.\n"
     ]
    },
    {
     "name": "stderr",
     "output_type": "stream",
     "text": [
      "100%|██████████| 100/100 [00:02<00:00, 37.45it/s]\n"
     ]
    },
    {
     "name": "stdout",
     "output_type": "stream",
     "text": [
      "For 7th task, loss with SMCD is 1.062, loss with GD is 1.113, loss wto adaptation is 1.172.\n"
     ]
    },
    {
     "name": "stderr",
     "output_type": "stream",
     "text": [
      "100%|██████████| 100/100 [00:02<00:00, 36.07it/s]\n"
     ]
    },
    {
     "name": "stdout",
     "output_type": "stream",
     "text": [
      "For 8th task, loss with SMCD is 0.473, loss with GD is 0.726, loss wto adaptation is 0.784.\n"
     ]
    },
    {
     "name": "stderr",
     "output_type": "stream",
     "text": [
      "100%|██████████| 100/100 [00:02<00:00, 36.36it/s]\n"
     ]
    },
    {
     "name": "stdout",
     "output_type": "stream",
     "text": [
      "For 9th task, loss with SMCD is 0.247, loss with GD is 0.431, loss wto adaptation is 0.398.\n"
     ]
    },
    {
     "name": "stderr",
     "output_type": "stream",
     "text": [
      "100%|██████████| 100/100 [00:02<00:00, 34.87it/s]\n"
     ]
    },
    {
     "name": "stdout",
     "output_type": "stream",
     "text": [
      "For 10th task, loss with SMCD is 0.872, loss with GD is 0.867, loss wto adaptation is 0.88.\n"
     ]
    },
    {
     "name": "stderr",
     "output_type": "stream",
     "text": [
      "100%|██████████| 100/100 [00:02<00:00, 35.03it/s]\n"
     ]
    },
    {
     "name": "stdout",
     "output_type": "stream",
     "text": [
      "For 11th task, loss with SMCD is 0.909, loss with GD is 1.051, loss wto adaptation is 1.023.\n"
     ]
    },
    {
     "name": "stderr",
     "output_type": "stream",
     "text": [
      "100%|██████████| 100/100 [00:02<00:00, 33.87it/s]\n"
     ]
    },
    {
     "name": "stdout",
     "output_type": "stream",
     "text": [
      "For 12th task, loss with SMCD is 1.059, loss with GD is 1.051, loss wto adaptation is 1.131.\n"
     ]
    },
    {
     "name": "stderr",
     "output_type": "stream",
     "text": [
      "100%|██████████| 100/100 [00:03<00:00, 30.57it/s]\n"
     ]
    },
    {
     "name": "stdout",
     "output_type": "stream",
     "text": [
      "For 13th task, loss with SMCD is 0.795, loss with GD is 0.894, loss wto adaptation is 0.923.\n"
     ]
    },
    {
     "name": "stderr",
     "output_type": "stream",
     "text": [
      "100%|██████████| 100/100 [00:02<00:00, 35.04it/s]\n"
     ]
    },
    {
     "name": "stdout",
     "output_type": "stream",
     "text": [
      "For 14th task, loss with SMCD is 0.443, loss with GD is 0.749, loss wto adaptation is 0.783.\n"
     ]
    },
    {
     "name": "stderr",
     "output_type": "stream",
     "text": [
      "100%|██████████| 100/100 [00:02<00:00, 36.40it/s]\n"
     ]
    },
    {
     "name": "stdout",
     "output_type": "stream",
     "text": [
      "For 15th task, loss with SMCD is 0.596, loss with GD is 0.773, loss wto adaptation is 0.722.\n"
     ]
    },
    {
     "name": "stderr",
     "output_type": "stream",
     "text": [
      "100%|██████████| 100/100 [00:03<00:00, 32.76it/s]\n"
     ]
    },
    {
     "name": "stdout",
     "output_type": "stream",
     "text": [
      "For 16th task, loss with SMCD is 0.903, loss with GD is 0.914, loss wto adaptation is 0.973.\n"
     ]
    },
    {
     "name": "stderr",
     "output_type": "stream",
     "text": [
      "100%|██████████| 100/100 [00:02<00:00, 35.29it/s]\n"
     ]
    },
    {
     "name": "stdout",
     "output_type": "stream",
     "text": [
      "For 17th task, loss with SMCD is 1.157, loss with GD is 1.354, loss wto adaptation is 1.278.\n"
     ]
    },
    {
     "name": "stderr",
     "output_type": "stream",
     "text": [
      "100%|██████████| 100/100 [00:02<00:00, 33.95it/s]\n"
     ]
    },
    {
     "name": "stdout",
     "output_type": "stream",
     "text": [
      "For 18th task, loss with SMCD is 0.966, loss with GD is 1.075, loss wto adaptation is 1.021.\n"
     ]
    },
    {
     "name": "stderr",
     "output_type": "stream",
     "text": [
      "100%|██████████| 100/100 [00:02<00:00, 36.11it/s]\n"
     ]
    },
    {
     "name": "stdout",
     "output_type": "stream",
     "text": [
      "For 19th task, loss with SMCD is 1.614, loss with GD is 1.571, loss wto adaptation is 1.573.\n"
     ]
    },
    {
     "name": "stderr",
     "output_type": "stream",
     "text": [
      "100%|██████████| 100/100 [00:02<00:00, 35.98it/s]\n"
     ]
    },
    {
     "name": "stdout",
     "output_type": "stream",
     "text": [
      "For 20th task, loss with SMCD is 0.982, loss with GD is 0.983, loss wto adaptation is 1.053.\n"
     ]
    },
    {
     "name": "stderr",
     "output_type": "stream",
     "text": [
      "100%|██████████| 100/100 [00:03<00:00, 31.25it/s]\n"
     ]
    },
    {
     "name": "stdout",
     "output_type": "stream",
     "text": [
      "For 21th task, loss with SMCD is 0.898, loss with GD is 1.074, loss wto adaptation is 1.111.\n"
     ]
    },
    {
     "name": "stderr",
     "output_type": "stream",
     "text": [
      "100%|██████████| 100/100 [00:03<00:00, 32.96it/s]\n"
     ]
    },
    {
     "name": "stdout",
     "output_type": "stream",
     "text": [
      "For 22th task, loss with SMCD is 0.876, loss with GD is 1.208, loss wto adaptation is 1.261.\n"
     ]
    },
    {
     "name": "stderr",
     "output_type": "stream",
     "text": [
      "100%|██████████| 100/100 [00:02<00:00, 34.69it/s]\n"
     ]
    },
    {
     "name": "stdout",
     "output_type": "stream",
     "text": [
      "For 23th task, loss with SMCD is 0.777, loss with GD is 0.964, loss wto adaptation is 0.965.\n"
     ]
    },
    {
     "name": "stderr",
     "output_type": "stream",
     "text": [
      "100%|██████████| 100/100 [00:02<00:00, 34.81it/s]\n"
     ]
    },
    {
     "name": "stdout",
     "output_type": "stream",
     "text": [
      "For 24th task, loss with SMCD is 0.743, loss with GD is 0.991, loss wto adaptation is 0.867.\n"
     ]
    },
    {
     "name": "stderr",
     "output_type": "stream",
     "text": [
      "100%|██████████| 100/100 [00:02<00:00, 35.51it/s]\n"
     ]
    },
    {
     "name": "stdout",
     "output_type": "stream",
     "text": [
      "For 25th task, loss with SMCD is 1.117, loss with GD is 1.143, loss wto adaptation is 1.122.\n"
     ]
    },
    {
     "name": "stderr",
     "output_type": "stream",
     "text": [
      "100%|██████████| 100/100 [00:02<00:00, 39.78it/s]\n"
     ]
    },
    {
     "name": "stdout",
     "output_type": "stream",
     "text": [
      "For 26th task, loss with SMCD is 0.952, loss with GD is 1.384, loss wto adaptation is 1.325.\n"
     ]
    },
    {
     "name": "stderr",
     "output_type": "stream",
     "text": [
      "100%|██████████| 100/100 [00:02<00:00, 39.03it/s]\n"
     ]
    },
    {
     "name": "stdout",
     "output_type": "stream",
     "text": [
      "For 27th task, loss with SMCD is 0.566, loss with GD is 0.938, loss wto adaptation is 1.028.\n"
     ]
    },
    {
     "name": "stderr",
     "output_type": "stream",
     "text": [
      "100%|██████████| 100/100 [00:02<00:00, 39.07it/s]\n"
     ]
    },
    {
     "name": "stdout",
     "output_type": "stream",
     "text": [
      "For 28th task, loss with SMCD is 0.745, loss with GD is 0.829, loss wto adaptation is 0.855.\n"
     ]
    },
    {
     "name": "stderr",
     "output_type": "stream",
     "text": [
      "100%|██████████| 100/100 [00:02<00:00, 36.27it/s]\n"
     ]
    },
    {
     "name": "stdout",
     "output_type": "stream",
     "text": [
      "For 29th task, loss with SMCD is 1.177, loss with GD is 1.136, loss wto adaptation is 1.172.\n"
     ]
    },
    {
     "name": "stderr",
     "output_type": "stream",
     "text": [
      "100%|██████████| 100/100 [00:02<00:00, 39.53it/s]\n"
     ]
    },
    {
     "name": "stdout",
     "output_type": "stream",
     "text": [
      "For 30th task, loss with SMCD is 0.623, loss with GD is 0.841, loss wto adaptation is 0.818.\n"
     ]
    },
    {
     "name": "stderr",
     "output_type": "stream",
     "text": [
      "100%|██████████| 100/100 [00:02<00:00, 37.33it/s]\n"
     ]
    },
    {
     "name": "stdout",
     "output_type": "stream",
     "text": [
      "For 31th task, loss with SMCD is 1.364, loss with GD is 1.444, loss wto adaptation is 1.431.\n"
     ]
    },
    {
     "name": "stderr",
     "output_type": "stream",
     "text": [
      "100%|██████████| 100/100 [00:02<00:00, 40.45it/s]\n"
     ]
    },
    {
     "name": "stdout",
     "output_type": "stream",
     "text": [
      "For 32th task, loss with SMCD is 0.901, loss with GD is 0.963, loss wto adaptation is 0.92.\n"
     ]
    },
    {
     "name": "stderr",
     "output_type": "stream",
     "text": [
      "100%|██████████| 100/100 [00:02<00:00, 36.82it/s]\n"
     ]
    },
    {
     "name": "stdout",
     "output_type": "stream",
     "text": [
      "For 33th task, loss with SMCD is 0.969, loss with GD is 1.315, loss wto adaptation is 1.302.\n"
     ]
    },
    {
     "name": "stderr",
     "output_type": "stream",
     "text": [
      "100%|██████████| 100/100 [00:02<00:00, 40.16it/s]\n"
     ]
    },
    {
     "name": "stdout",
     "output_type": "stream",
     "text": [
      "For 34th task, loss with SMCD is 0.749, loss with GD is 0.939, loss wto adaptation is 0.858.\n"
     ]
    },
    {
     "name": "stderr",
     "output_type": "stream",
     "text": [
      "100%|██████████| 100/100 [00:02<00:00, 38.55it/s]\n"
     ]
    },
    {
     "name": "stdout",
     "output_type": "stream",
     "text": [
      "For 35th task, loss with SMCD is 1.347, loss with GD is 1.452, loss wto adaptation is 1.374.\n"
     ]
    },
    {
     "name": "stderr",
     "output_type": "stream",
     "text": [
      "100%|██████████| 100/100 [00:02<00:00, 38.60it/s]\n"
     ]
    },
    {
     "name": "stdout",
     "output_type": "stream",
     "text": [
      "For 36th task, loss with SMCD is 1.858, loss with GD is 1.769, loss wto adaptation is 1.736.\n"
     ]
    },
    {
     "name": "stderr",
     "output_type": "stream",
     "text": [
      "100%|██████████| 100/100 [00:02<00:00, 39.02it/s]\n"
     ]
    },
    {
     "name": "stdout",
     "output_type": "stream",
     "text": [
      "For 37th task, loss with SMCD is 1.714, loss with GD is 1.778, loss wto adaptation is 1.797.\n"
     ]
    },
    {
     "name": "stderr",
     "output_type": "stream",
     "text": [
      "100%|██████████| 100/100 [00:02<00:00, 39.05it/s]\n"
     ]
    },
    {
     "name": "stdout",
     "output_type": "stream",
     "text": [
      "For 38th task, loss with SMCD is 0.806, loss with GD is 0.991, loss wto adaptation is 0.96.\n"
     ]
    },
    {
     "name": "stderr",
     "output_type": "stream",
     "text": [
      "100%|██████████| 100/100 [00:02<00:00, 40.37it/s]\n"
     ]
    },
    {
     "name": "stdout",
     "output_type": "stream",
     "text": [
      "For 39th task, loss with SMCD is 0.669, loss with GD is 0.698, loss wto adaptation is 0.718.\n"
     ]
    },
    {
     "name": "stderr",
     "output_type": "stream",
     "text": [
      "100%|██████████| 100/100 [00:02<00:00, 37.42it/s]\n"
     ]
    },
    {
     "name": "stdout",
     "output_type": "stream",
     "text": [
      "For 40th task, loss with SMCD is 0.701, loss with GD is 0.917, loss wto adaptation is 0.955.\n"
     ]
    },
    {
     "name": "stderr",
     "output_type": "stream",
     "text": [
      "100%|██████████| 100/100 [00:02<00:00, 39.76it/s]\n"
     ]
    },
    {
     "name": "stdout",
     "output_type": "stream",
     "text": [
      "For 41th task, loss with SMCD is 1.281, loss with GD is 1.405, loss wto adaptation is 1.423.\n"
     ]
    },
    {
     "name": "stderr",
     "output_type": "stream",
     "text": [
      "100%|██████████| 100/100 [00:02<00:00, 37.10it/s]\n"
     ]
    },
    {
     "name": "stdout",
     "output_type": "stream",
     "text": [
      "For 42th task, loss with SMCD is 0.65, loss with GD is 0.726, loss wto adaptation is 0.703.\n"
     ]
    },
    {
     "name": "stderr",
     "output_type": "stream",
     "text": [
      "100%|██████████| 100/100 [00:02<00:00, 38.76it/s]\n"
     ]
    },
    {
     "name": "stdout",
     "output_type": "stream",
     "text": [
      "For 43th task, loss with SMCD is 1.032, loss with GD is 1.065, loss wto adaptation is 1.1.\n"
     ]
    },
    {
     "name": "stderr",
     "output_type": "stream",
     "text": [
      "100%|██████████| 100/100 [00:02<00:00, 37.20it/s]\n"
     ]
    },
    {
     "name": "stdout",
     "output_type": "stream",
     "text": [
      "For 44th task, loss with SMCD is 0.675, loss with GD is 0.805, loss wto adaptation is 0.825.\n"
     ]
    },
    {
     "name": "stderr",
     "output_type": "stream",
     "text": [
      "100%|██████████| 100/100 [00:02<00:00, 38.77it/s]\n"
     ]
    },
    {
     "name": "stdout",
     "output_type": "stream",
     "text": [
      "For 45th task, loss with SMCD is 1.849, loss with GD is 1.911, loss wto adaptation is 1.904.\n"
     ]
    },
    {
     "name": "stderr",
     "output_type": "stream",
     "text": [
      "100%|██████████| 100/100 [00:02<00:00, 38.87it/s]\n"
     ]
    },
    {
     "name": "stdout",
     "output_type": "stream",
     "text": [
      "For 46th task, loss with SMCD is 0.734, loss with GD is 1.017, loss wto adaptation is 1.025.\n"
     ]
    },
    {
     "name": "stderr",
     "output_type": "stream",
     "text": [
      "100%|██████████| 100/100 [00:02<00:00, 38.24it/s]\n"
     ]
    },
    {
     "name": "stdout",
     "output_type": "stream",
     "text": [
      "For 47th task, loss with SMCD is 0.896, loss with GD is 0.936, loss wto adaptation is 0.913.\n"
     ]
    },
    {
     "name": "stderr",
     "output_type": "stream",
     "text": [
      "100%|██████████| 100/100 [00:02<00:00, 39.67it/s]\n"
     ]
    },
    {
     "name": "stdout",
     "output_type": "stream",
     "text": [
      "For 48th task, loss with SMCD is 1.148, loss with GD is 1.181, loss wto adaptation is 1.233.\n"
     ]
    },
    {
     "name": "stderr",
     "output_type": "stream",
     "text": [
      "100%|██████████| 100/100 [00:03<00:00, 32.34it/s]\n"
     ]
    },
    {
     "name": "stdout",
     "output_type": "stream",
     "text": [
      "For 49th task, loss with SMCD is 0.796, loss with GD is 0.995, loss wto adaptation is 1.015.\n"
     ]
    },
    {
     "name": "stderr",
     "output_type": "stream",
     "text": [
      "100%|██████████| 100/100 [00:02<00:00, 37.33it/s]\n"
     ]
    },
    {
     "name": "stdout",
     "output_type": "stream",
     "text": [
      "For 50th task, loss with SMCD is 1.398, loss with GD is 1.378, loss wto adaptation is 1.393.\n"
     ]
    },
    {
     "name": "stderr",
     "output_type": "stream",
     "text": [
      "100%|██████████| 100/100 [00:02<00:00, 36.49it/s]\n"
     ]
    },
    {
     "name": "stdout",
     "output_type": "stream",
     "text": [
      "For 51th task, loss with SMCD is 0.522, loss with GD is 0.843, loss wto adaptation is 0.831.\n"
     ]
    },
    {
     "name": "stderr",
     "output_type": "stream",
     "text": [
      "100%|██████████| 100/100 [00:02<00:00, 33.97it/s]\n"
     ]
    },
    {
     "name": "stdout",
     "output_type": "stream",
     "text": [
      "For 52th task, loss with SMCD is 1.065, loss with GD is 1.251, loss wto adaptation is 1.227.\n"
     ]
    },
    {
     "name": "stderr",
     "output_type": "stream",
     "text": [
      "100%|██████████| 100/100 [00:02<00:00, 35.90it/s]\n"
     ]
    },
    {
     "name": "stdout",
     "output_type": "stream",
     "text": [
      "For 53th task, loss with SMCD is 1.595, loss with GD is 1.485, loss wto adaptation is 1.587.\n"
     ]
    },
    {
     "name": "stderr",
     "output_type": "stream",
     "text": [
      "100%|██████████| 100/100 [00:02<00:00, 35.52it/s]\n"
     ]
    },
    {
     "name": "stdout",
     "output_type": "stream",
     "text": [
      "For 54th task, loss with SMCD is 0.4, loss with GD is 0.644, loss wto adaptation is 0.782.\n"
     ]
    },
    {
     "name": "stderr",
     "output_type": "stream",
     "text": [
      "100%|██████████| 100/100 [00:02<00:00, 36.36it/s]\n"
     ]
    },
    {
     "name": "stdout",
     "output_type": "stream",
     "text": [
      "For 55th task, loss with SMCD is 1.001, loss with GD is 1.073, loss wto adaptation is 1.016.\n"
     ]
    },
    {
     "name": "stderr",
     "output_type": "stream",
     "text": [
      "100%|██████████| 100/100 [00:02<00:00, 36.20it/s]\n"
     ]
    },
    {
     "name": "stdout",
     "output_type": "stream",
     "text": [
      "For 56th task, loss with SMCD is 0.982, loss with GD is 1.12, loss wto adaptation is 1.106.\n"
     ]
    },
    {
     "name": "stderr",
     "output_type": "stream",
     "text": [
      "100%|██████████| 100/100 [00:02<00:00, 36.04it/s]\n"
     ]
    },
    {
     "name": "stdout",
     "output_type": "stream",
     "text": [
      "For 57th task, loss with SMCD is 1.543, loss with GD is 1.486, loss wto adaptation is 1.498.\n"
     ]
    },
    {
     "name": "stderr",
     "output_type": "stream",
     "text": [
      "100%|██████████| 100/100 [00:02<00:00, 35.31it/s]\n"
     ]
    },
    {
     "name": "stdout",
     "output_type": "stream",
     "text": [
      "For 58th task, loss with SMCD is 1.008, loss with GD is 1.106, loss wto adaptation is 1.059.\n"
     ]
    },
    {
     "name": "stderr",
     "output_type": "stream",
     "text": [
      "100%|██████████| 100/100 [00:02<00:00, 34.81it/s]\n"
     ]
    },
    {
     "name": "stdout",
     "output_type": "stream",
     "text": [
      "For 59th task, loss with SMCD is 0.39, loss with GD is 0.626, loss wto adaptation is 0.631.\n"
     ]
    },
    {
     "name": "stderr",
     "output_type": "stream",
     "text": [
      "100%|██████████| 100/100 [00:02<00:00, 35.79it/s]\n"
     ]
    },
    {
     "name": "stdout",
     "output_type": "stream",
     "text": [
      "For 60th task, loss with SMCD is 1.048, loss with GD is 1.161, loss wto adaptation is 1.126.\n"
     ]
    },
    {
     "name": "stderr",
     "output_type": "stream",
     "text": [
      "100%|██████████| 100/100 [00:02<00:00, 34.77it/s]\n"
     ]
    },
    {
     "name": "stdout",
     "output_type": "stream",
     "text": [
      "For 61th task, loss with SMCD is 0.993, loss with GD is 1.076, loss wto adaptation is 1.056.\n"
     ]
    },
    {
     "name": "stderr",
     "output_type": "stream",
     "text": [
      "100%|██████████| 100/100 [00:02<00:00, 34.88it/s]\n"
     ]
    },
    {
     "name": "stdout",
     "output_type": "stream",
     "text": [
      "For 62th task, loss with SMCD is 0.594, loss with GD is 0.761, loss wto adaptation is 0.763.\n"
     ]
    },
    {
     "name": "stderr",
     "output_type": "stream",
     "text": [
      "100%|██████████| 100/100 [00:02<00:00, 35.66it/s]\n"
     ]
    },
    {
     "name": "stdout",
     "output_type": "stream",
     "text": [
      "For 63th task, loss with SMCD is 1.681, loss with GD is 1.661, loss wto adaptation is 1.671.\n"
     ]
    },
    {
     "name": "stderr",
     "output_type": "stream",
     "text": [
      "100%|██████████| 100/100 [00:02<00:00, 35.84it/s]\n"
     ]
    },
    {
     "name": "stdout",
     "output_type": "stream",
     "text": [
      "For 64th task, loss with SMCD is 1.028, loss with GD is 1.143, loss wto adaptation is 1.091.\n"
     ]
    },
    {
     "name": "stderr",
     "output_type": "stream",
     "text": [
      "100%|██████████| 100/100 [00:02<00:00, 35.52it/s]\n"
     ]
    },
    {
     "name": "stdout",
     "output_type": "stream",
     "text": [
      "For 65th task, loss with SMCD is 0.884, loss with GD is 0.92, loss wto adaptation is 0.912.\n"
     ]
    },
    {
     "name": "stderr",
     "output_type": "stream",
     "text": [
      "100%|██████████| 100/100 [00:02<00:00, 34.51it/s]\n"
     ]
    },
    {
     "name": "stdout",
     "output_type": "stream",
     "text": [
      "For 66th task, loss with SMCD is 0.717, loss with GD is 0.715, loss wto adaptation is 0.788.\n"
     ]
    },
    {
     "name": "stderr",
     "output_type": "stream",
     "text": [
      "100%|██████████| 100/100 [00:02<00:00, 35.53it/s]\n"
     ]
    },
    {
     "name": "stdout",
     "output_type": "stream",
     "text": [
      "For 67th task, loss with SMCD is 1.079, loss with GD is 1.147, loss wto adaptation is 1.087.\n"
     ]
    },
    {
     "name": "stderr",
     "output_type": "stream",
     "text": [
      "100%|██████████| 100/100 [00:02<00:00, 34.60it/s]\n"
     ]
    },
    {
     "name": "stdout",
     "output_type": "stream",
     "text": [
      "For 68th task, loss with SMCD is 0.316, loss with GD is 0.519, loss wto adaptation is 0.548.\n"
     ]
    },
    {
     "name": "stderr",
     "output_type": "stream",
     "text": [
      "100%|██████████| 100/100 [00:02<00:00, 35.37it/s]\n"
     ]
    },
    {
     "name": "stdout",
     "output_type": "stream",
     "text": [
      "For 69th task, loss with SMCD is 0.438, loss with GD is 0.932, loss wto adaptation is 0.886.\n"
     ]
    },
    {
     "name": "stderr",
     "output_type": "stream",
     "text": [
      "100%|██████████| 100/100 [00:02<00:00, 33.96it/s]\n"
     ]
    },
    {
     "name": "stdout",
     "output_type": "stream",
     "text": [
      "For 70th task, loss with SMCD is 1.147, loss with GD is 1.343, loss wto adaptation is 1.439.\n"
     ]
    },
    {
     "name": "stderr",
     "output_type": "stream",
     "text": [
      "100%|██████████| 100/100 [00:02<00:00, 35.17it/s]\n"
     ]
    },
    {
     "name": "stdout",
     "output_type": "stream",
     "text": [
      "For 71th task, loss with SMCD is 1.001, loss with GD is 1.077, loss wto adaptation is 1.061.\n"
     ]
    },
    {
     "name": "stderr",
     "output_type": "stream",
     "text": [
      "100%|██████████| 100/100 [00:02<00:00, 34.80it/s]\n"
     ]
    },
    {
     "name": "stdout",
     "output_type": "stream",
     "text": [
      "For 72th task, loss with SMCD is 0.993, loss with GD is 1.253, loss wto adaptation is 1.268.\n"
     ]
    },
    {
     "name": "stderr",
     "output_type": "stream",
     "text": [
      "100%|██████████| 100/100 [00:02<00:00, 35.09it/s]\n"
     ]
    },
    {
     "name": "stdout",
     "output_type": "stream",
     "text": [
      "For 73th task, loss with SMCD is 0.427, loss with GD is 0.646, loss wto adaptation is 0.643.\n"
     ]
    },
    {
     "name": "stderr",
     "output_type": "stream",
     "text": [
      "100%|██████████| 100/100 [00:02<00:00, 34.33it/s]\n"
     ]
    },
    {
     "name": "stdout",
     "output_type": "stream",
     "text": [
      "For 74th task, loss with SMCD is 1.705, loss with GD is 1.911, loss wto adaptation is 1.944.\n"
     ]
    },
    {
     "name": "stderr",
     "output_type": "stream",
     "text": [
      "100%|██████████| 100/100 [00:02<00:00, 35.10it/s]\n"
     ]
    },
    {
     "name": "stdout",
     "output_type": "stream",
     "text": [
      "For 75th task, loss with SMCD is 0.602, loss with GD is 0.722, loss wto adaptation is 0.735.\n"
     ]
    },
    {
     "name": "stderr",
     "output_type": "stream",
     "text": [
      "100%|██████████| 100/100 [00:02<00:00, 34.88it/s]\n"
     ]
    },
    {
     "name": "stdout",
     "output_type": "stream",
     "text": [
      "For 76th task, loss with SMCD is 0.367, loss with GD is 0.565, loss wto adaptation is 0.622.\n"
     ]
    },
    {
     "name": "stderr",
     "output_type": "stream",
     "text": [
      "100%|██████████| 100/100 [00:02<00:00, 36.22it/s]\n"
     ]
    },
    {
     "name": "stdout",
     "output_type": "stream",
     "text": [
      "For 77th task, loss with SMCD is 2.122, loss with GD is 2.174, loss wto adaptation is 2.159.\n"
     ]
    },
    {
     "name": "stderr",
     "output_type": "stream",
     "text": [
      "100%|██████████| 100/100 [00:02<00:00, 36.64it/s]\n"
     ]
    },
    {
     "name": "stdout",
     "output_type": "stream",
     "text": [
      "For 78th task, loss with SMCD is 0.408, loss with GD is 0.729, loss wto adaptation is 0.682.\n"
     ]
    },
    {
     "name": "stderr",
     "output_type": "stream",
     "text": [
      "100%|██████████| 100/100 [00:02<00:00, 36.36it/s]\n"
     ]
    },
    {
     "name": "stdout",
     "output_type": "stream",
     "text": [
      "For 79th task, loss with SMCD is 1.019, loss with GD is 1.38, loss wto adaptation is 1.31.\n"
     ]
    },
    {
     "name": "stderr",
     "output_type": "stream",
     "text": [
      "100%|██████████| 100/100 [00:02<00:00, 37.78it/s]\n"
     ]
    },
    {
     "name": "stdout",
     "output_type": "stream",
     "text": [
      "For 80th task, loss with SMCD is 0.569, loss with GD is 0.7, loss wto adaptation is 0.682.\n"
     ]
    },
    {
     "name": "stderr",
     "output_type": "stream",
     "text": [
      "100%|██████████| 100/100 [00:02<00:00, 36.34it/s]\n"
     ]
    },
    {
     "name": "stdout",
     "output_type": "stream",
     "text": [
      "For 81th task, loss with SMCD is 1.201, loss with GD is 1.294, loss wto adaptation is 1.307.\n"
     ]
    },
    {
     "name": "stderr",
     "output_type": "stream",
     "text": [
      "100%|██████████| 100/100 [00:02<00:00, 36.55it/s]\n"
     ]
    },
    {
     "name": "stdout",
     "output_type": "stream",
     "text": [
      "For 82th task, loss with SMCD is 1.278, loss with GD is 1.336, loss wto adaptation is 1.364.\n"
     ]
    },
    {
     "name": "stderr",
     "output_type": "stream",
     "text": [
      "100%|██████████| 100/100 [00:02<00:00, 37.13it/s]\n"
     ]
    },
    {
     "name": "stdout",
     "output_type": "stream",
     "text": [
      "For 83th task, loss with SMCD is 0.626, loss with GD is 0.772, loss wto adaptation is 0.787.\n"
     ]
    },
    {
     "name": "stderr",
     "output_type": "stream",
     "text": [
      "100%|██████████| 100/100 [00:02<00:00, 36.37it/s]\n"
     ]
    },
    {
     "name": "stdout",
     "output_type": "stream",
     "text": [
      "For 84th task, loss with SMCD is 0.688, loss with GD is 0.812, loss wto adaptation is 0.739.\n"
     ]
    },
    {
     "name": "stderr",
     "output_type": "stream",
     "text": [
      "100%|██████████| 100/100 [00:02<00:00, 36.83it/s]\n"
     ]
    },
    {
     "name": "stdout",
     "output_type": "stream",
     "text": [
      "For 85th task, loss with SMCD is 1.031, loss with GD is 1.109, loss wto adaptation is 1.077.\n"
     ]
    },
    {
     "name": "stderr",
     "output_type": "stream",
     "text": [
      "100%|██████████| 100/100 [00:02<00:00, 35.91it/s]\n"
     ]
    },
    {
     "name": "stdout",
     "output_type": "stream",
     "text": [
      "For 86th task, loss with SMCD is 0.425, loss with GD is 0.709, loss wto adaptation is 0.673.\n"
     ]
    },
    {
     "name": "stderr",
     "output_type": "stream",
     "text": [
      "100%|██████████| 100/100 [00:02<00:00, 37.32it/s]\n"
     ]
    },
    {
     "name": "stdout",
     "output_type": "stream",
     "text": [
      "For 87th task, loss with SMCD is 0.865, loss with GD is 1.155, loss wto adaptation is 1.124.\n"
     ]
    },
    {
     "name": "stderr",
     "output_type": "stream",
     "text": [
      "100%|██████████| 100/100 [00:02<00:00, 36.27it/s]\n"
     ]
    },
    {
     "name": "stdout",
     "output_type": "stream",
     "text": [
      "For 88th task, loss with SMCD is 0.672, loss with GD is 0.815, loss wto adaptation is 0.814.\n"
     ]
    },
    {
     "name": "stderr",
     "output_type": "stream",
     "text": [
      "100%|██████████| 100/100 [00:03<00:00, 31.42it/s]\n"
     ]
    },
    {
     "name": "stdout",
     "output_type": "stream",
     "text": [
      "For 89th task, loss with SMCD is 0.902, loss with GD is 1.097, loss wto adaptation is 1.067.\n"
     ]
    },
    {
     "name": "stderr",
     "output_type": "stream",
     "text": [
      "100%|██████████| 100/100 [00:03<00:00, 32.19it/s]\n"
     ]
    },
    {
     "name": "stdout",
     "output_type": "stream",
     "text": [
      "For 90th task, loss with SMCD is 1.02, loss with GD is 1.141, loss wto adaptation is 1.146.\n"
     ]
    },
    {
     "name": "stderr",
     "output_type": "stream",
     "text": [
      "100%|██████████| 100/100 [00:02<00:00, 34.09it/s]\n"
     ]
    },
    {
     "name": "stdout",
     "output_type": "stream",
     "text": [
      "For 91th task, loss with SMCD is 1.214, loss with GD is 1.366, loss wto adaptation is 1.408.\n"
     ]
    },
    {
     "name": "stderr",
     "output_type": "stream",
     "text": [
      "100%|██████████| 100/100 [00:02<00:00, 34.36it/s]\n"
     ]
    },
    {
     "name": "stdout",
     "output_type": "stream",
     "text": [
      "For 92th task, loss with SMCD is 0.809, loss with GD is 0.995, loss wto adaptation is 0.986.\n"
     ]
    },
    {
     "name": "stderr",
     "output_type": "stream",
     "text": [
      "100%|██████████| 100/100 [00:02<00:00, 35.06it/s]\n"
     ]
    },
    {
     "name": "stdout",
     "output_type": "stream",
     "text": [
      "For 93th task, loss with SMCD is 0.453, loss with GD is 0.525, loss wto adaptation is 0.556.\n"
     ]
    },
    {
     "name": "stderr",
     "output_type": "stream",
     "text": [
      "100%|██████████| 100/100 [00:02<00:00, 34.07it/s]\n"
     ]
    },
    {
     "name": "stdout",
     "output_type": "stream",
     "text": [
      "For 94th task, loss with SMCD is 1.237, loss with GD is 1.204, loss wto adaptation is 1.138.\n"
     ]
    },
    {
     "name": "stderr",
     "output_type": "stream",
     "text": [
      "100%|██████████| 100/100 [00:02<00:00, 34.98it/s]\n"
     ]
    },
    {
     "name": "stdout",
     "output_type": "stream",
     "text": [
      "For 95th task, loss with SMCD is 0.392, loss with GD is 0.609, loss wto adaptation is 0.582.\n"
     ]
    },
    {
     "name": "stderr",
     "output_type": "stream",
     "text": [
      "100%|██████████| 100/100 [00:02<00:00, 35.10it/s]\n"
     ]
    },
    {
     "name": "stdout",
     "output_type": "stream",
     "text": [
      "For 96th task, loss with SMCD is 1.081, loss with GD is 1.197, loss wto adaptation is 1.183.\n"
     ]
    },
    {
     "name": "stderr",
     "output_type": "stream",
     "text": [
      "100%|██████████| 100/100 [00:02<00:00, 33.82it/s]\n"
     ]
    },
    {
     "name": "stdout",
     "output_type": "stream",
     "text": [
      "For 97th task, loss with SMCD is 0.266, loss with GD is 0.59, loss wto adaptation is 0.563.\n"
     ]
    },
    {
     "name": "stderr",
     "output_type": "stream",
     "text": [
      "100%|██████████| 100/100 [00:02<00:00, 34.50it/s]\n"
     ]
    },
    {
     "name": "stdout",
     "output_type": "stream",
     "text": [
      "For 98th task, loss with SMCD is 0.769, loss with GD is 1.051, loss wto adaptation is 0.98.\n"
     ]
    },
    {
     "name": "stderr",
     "output_type": "stream",
     "text": [
      "100%|██████████| 100/100 [00:02<00:00, 34.46it/s]\n"
     ]
    },
    {
     "name": "stdout",
     "output_type": "stream",
     "text": [
      "For 99th task, loss with SMCD is 1.985, loss with GD is 1.942, loss wto adaptation is 1.958.\n"
     ]
    }
   ],
   "source": [
    "losses, losses_no_adapt, losses_GD, M_best_per_task = compare_adaptation(100, 1000)"
   ]
  },
  {
   "cell_type": "code",
   "execution_count": 25,
   "metadata": {},
   "outputs": [],
   "source": [
    "np.save('loss_smcd',losses)\n",
    "np.save('loss_N',losses_no_adapt)\n",
    "np.save('loss_GD',losses_GD)"
   ]
  },
  {
   "cell_type": "code",
   "execution_count": 36,
   "metadata": {},
   "outputs": [],
   "source": [
    "def repeat_smcd(n_repeat=10, adapt_timestep=10, n_particles=300):\n",
    "    l_losses = []\n",
    "    for _ in range(n_repeat):\n",
    "        losses = []\n",
    "        criterion = nn.MSELoss()\n",
    "        for i in range(len(adapt_data)):\n",
    "            q = adapt_data[i]['angle'].to(torch.float32).swapaxes(1,0)\n",
    "            x = adapt_data[i]['true_pos'].to(torch.float32).swapaxes(1,0)\n",
    "            M_best = smcd(adapt_timestep, n_particles, adapt_data[i], d=0.15)\n",
    "            model = load_model()\n",
    "            model.update_dropout_mask(M_best[-1].reshape(1,-1))\n",
    "            x_pred = model(q).detach()\n",
    "            loss = criterion(x_pred, x)\n",
    "\n",
    "            losses.append(loss.item())\n",
    "        l_losses.append(losses)\n",
    "    return l_losses"
   ]
  },
  {
   "cell_type": "code",
   "execution_count": 37,
   "metadata": {},
   "outputs": [
    {
     "name": "stderr",
     "output_type": "stream",
     "text": [
      "100%|██████████| 100/100 [00:03<00:00, 29.88it/s]\n",
      "100%|██████████| 100/100 [00:03<00:00, 33.06it/s]\n",
      "100%|██████████| 100/100 [00:02<00:00, 33.55it/s]\n",
      "100%|██████████| 100/100 [00:02<00:00, 33.80it/s]\n",
      "100%|██████████| 100/100 [00:03<00:00, 32.09it/s]\n",
      "100%|██████████| 100/100 [00:03<00:00, 32.86it/s]\n",
      "100%|██████████| 100/100 [00:02<00:00, 36.87it/s]\n",
      "100%|██████████| 100/100 [00:02<00:00, 35.21it/s]\n",
      "100%|██████████| 100/100 [00:02<00:00, 33.45it/s]\n",
      "100%|██████████| 100/100 [00:02<00:00, 38.64it/s]\n",
      "100%|██████████| 100/100 [00:02<00:00, 38.28it/s]\n",
      "100%|██████████| 100/100 [00:02<00:00, 38.26it/s]\n",
      "100%|██████████| 100/100 [00:03<00:00, 32.02it/s]\n",
      "100%|██████████| 100/100 [00:03<00:00, 31.05it/s]\n",
      "100%|██████████| 100/100 [00:02<00:00, 34.95it/s]\n",
      "100%|██████████| 100/100 [00:03<00:00, 32.99it/s]\n",
      "100%|██████████| 100/100 [00:02<00:00, 35.15it/s]\n",
      "100%|██████████| 100/100 [00:02<00:00, 38.45it/s]\n",
      "100%|██████████| 100/100 [00:03<00:00, 32.43it/s]\n",
      "100%|██████████| 100/100 [00:03<00:00, 31.17it/s]\n",
      "100%|██████████| 100/100 [00:03<00:00, 29.17it/s]\n",
      "100%|██████████| 100/100 [00:03<00:00, 32.50it/s]\n",
      "100%|██████████| 100/100 [00:03<00:00, 31.95it/s]\n",
      "100%|██████████| 100/100 [00:02<00:00, 33.78it/s]\n",
      "100%|██████████| 100/100 [00:03<00:00, 33.25it/s]\n",
      "100%|██████████| 100/100 [00:02<00:00, 34.16it/s]\n",
      "100%|██████████| 100/100 [00:02<00:00, 35.33it/s]\n",
      "100%|██████████| 100/100 [00:02<00:00, 35.80it/s]\n",
      "100%|██████████| 100/100 [00:02<00:00, 36.76it/s]\n",
      "100%|██████████| 100/100 [00:02<00:00, 36.17it/s]\n",
      "100%|██████████| 100/100 [00:02<00:00, 33.57it/s]\n",
      "100%|██████████| 100/100 [00:02<00:00, 36.34it/s]\n",
      "100%|██████████| 100/100 [00:02<00:00, 33.94it/s]\n",
      "100%|██████████| 100/100 [00:03<00:00, 29.68it/s]\n",
      "100%|██████████| 100/100 [00:03<00:00, 33.11it/s]\n",
      "100%|██████████| 100/100 [00:02<00:00, 34.03it/s]\n",
      "100%|██████████| 100/100 [00:02<00:00, 35.17it/s]\n",
      "100%|██████████| 100/100 [00:02<00:00, 33.44it/s]\n",
      "100%|██████████| 100/100 [00:02<00:00, 35.41it/s]\n",
      "100%|██████████| 100/100 [00:02<00:00, 35.04it/s]\n",
      "100%|██████████| 100/100 [00:02<00:00, 35.46it/s]\n",
      "100%|██████████| 100/100 [00:02<00:00, 35.93it/s]\n",
      "100%|██████████| 100/100 [00:02<00:00, 33.46it/s]\n",
      "100%|██████████| 100/100 [00:02<00:00, 35.32it/s]\n",
      "100%|██████████| 100/100 [00:02<00:00, 34.27it/s]\n",
      "100%|██████████| 100/100 [00:03<00:00, 30.60it/s]\n",
      "100%|██████████| 100/100 [00:03<00:00, 27.32it/s]\n",
      "100%|██████████| 100/100 [00:03<00:00, 31.49it/s]\n",
      "100%|██████████| 100/100 [00:02<00:00, 34.39it/s]\n",
      "100%|██████████| 100/100 [00:02<00:00, 35.63it/s]\n",
      "100%|██████████| 100/100 [00:02<00:00, 34.91it/s]\n",
      "100%|██████████| 100/100 [00:03<00:00, 33.02it/s]\n",
      "100%|██████████| 100/100 [00:03<00:00, 30.95it/s]\n",
      "100%|██████████| 100/100 [00:02<00:00, 35.22it/s]\n",
      "100%|██████████| 100/100 [00:02<00:00, 35.19it/s]\n",
      "100%|██████████| 100/100 [00:02<00:00, 35.07it/s]\n",
      "100%|██████████| 100/100 [00:03<00:00, 33.33it/s]\n",
      "100%|██████████| 100/100 [00:02<00:00, 33.76it/s]\n",
      "100%|██████████| 100/100 [00:02<00:00, 34.38it/s]\n",
      "100%|██████████| 100/100 [00:02<00:00, 33.79it/s]\n",
      "100%|██████████| 100/100 [00:02<00:00, 35.71it/s]\n",
      "100%|██████████| 100/100 [00:02<00:00, 35.42it/s]\n",
      "100%|██████████| 100/100 [00:02<00:00, 35.23it/s]\n",
      "100%|██████████| 100/100 [00:02<00:00, 36.38it/s]\n",
      "100%|██████████| 100/100 [00:03<00:00, 29.28it/s]\n",
      "100%|██████████| 100/100 [00:02<00:00, 34.56it/s]\n",
      "100%|██████████| 100/100 [00:02<00:00, 34.47it/s]\n",
      "100%|██████████| 100/100 [00:03<00:00, 33.15it/s]\n",
      "100%|██████████| 100/100 [00:02<00:00, 34.73it/s]\n",
      "100%|██████████| 100/100 [00:02<00:00, 34.58it/s]\n",
      "100%|██████████| 100/100 [00:02<00:00, 34.78it/s]\n",
      "100%|██████████| 100/100 [00:02<00:00, 34.78it/s]\n",
      "100%|██████████| 100/100 [00:02<00:00, 36.02it/s]\n",
      "100%|██████████| 100/100 [00:02<00:00, 35.01it/s]\n",
      "100%|██████████| 100/100 [00:02<00:00, 33.91it/s]\n",
      "100%|██████████| 100/100 [00:02<00:00, 34.74it/s]\n",
      "100%|██████████| 100/100 [00:02<00:00, 34.48it/s]\n",
      "100%|██████████| 100/100 [00:02<00:00, 34.92it/s]\n",
      "100%|██████████| 100/100 [00:02<00:00, 34.77it/s]\n",
      "100%|██████████| 100/100 [00:02<00:00, 34.95it/s]\n",
      "100%|██████████| 100/100 [00:02<00:00, 35.40it/s]\n",
      "100%|██████████| 100/100 [00:02<00:00, 35.09it/s]\n",
      "100%|██████████| 100/100 [00:02<00:00, 35.78it/s]\n",
      "100%|██████████| 100/100 [00:02<00:00, 33.83it/s]\n",
      "100%|██████████| 100/100 [00:02<00:00, 33.74it/s]\n",
      "100%|██████████| 100/100 [00:02<00:00, 35.01it/s]\n",
      "100%|██████████| 100/100 [00:02<00:00, 35.08it/s]\n",
      "100%|██████████| 100/100 [00:03<00:00, 32.49it/s]\n",
      "100%|██████████| 100/100 [00:02<00:00, 34.78it/s]\n",
      "100%|██████████| 100/100 [00:02<00:00, 34.94it/s]\n",
      "100%|██████████| 100/100 [00:02<00:00, 34.18it/s]\n",
      "100%|██████████| 100/100 [00:02<00:00, 34.08it/s]\n",
      "100%|██████████| 100/100 [00:02<00:00, 33.77it/s]\n",
      "100%|██████████| 100/100 [00:02<00:00, 34.40it/s]\n",
      "100%|██████████| 100/100 [00:02<00:00, 34.97it/s]\n",
      "100%|██████████| 100/100 [00:02<00:00, 34.99it/s]\n",
      "100%|██████████| 100/100 [00:02<00:00, 33.58it/s]\n",
      "100%|██████████| 100/100 [00:02<00:00, 33.91it/s]\n",
      "100%|██████████| 100/100 [00:02<00:00, 34.36it/s]\n",
      "100%|██████████| 100/100 [00:02<00:00, 34.17it/s]\n",
      "100%|██████████| 100/100 [00:02<00:00, 34.75it/s]\n",
      "100%|██████████| 100/100 [00:02<00:00, 34.57it/s]\n",
      "100%|██████████| 100/100 [00:02<00:00, 34.79it/s]\n",
      "100%|██████████| 100/100 [00:03<00:00, 31.58it/s]\n",
      "100%|██████████| 100/100 [00:03<00:00, 32.41it/s]\n",
      "100%|██████████| 100/100 [00:02<00:00, 33.70it/s]\n",
      "100%|██████████| 100/100 [00:02<00:00, 34.55it/s]\n",
      "100%|██████████| 100/100 [00:02<00:00, 34.02it/s]\n",
      "100%|██████████| 100/100 [00:03<00:00, 32.87it/s]\n",
      "100%|██████████| 100/100 [00:02<00:00, 34.32it/s]\n",
      "100%|██████████| 100/100 [00:02<00:00, 34.82it/s]\n",
      "100%|██████████| 100/100 [00:02<00:00, 34.59it/s]\n",
      "100%|██████████| 100/100 [00:02<00:00, 33.92it/s]\n",
      "100%|██████████| 100/100 [00:02<00:00, 35.25it/s]\n",
      "100%|██████████| 100/100 [00:02<00:00, 33.79it/s]\n",
      "100%|██████████| 100/100 [00:03<00:00, 31.69it/s]\n",
      "100%|██████████| 100/100 [00:03<00:00, 32.50it/s]\n",
      "100%|██████████| 100/100 [00:03<00:00, 31.43it/s]\n",
      "100%|██████████| 100/100 [00:03<00:00, 30.43it/s]\n",
      "100%|██████████| 100/100 [00:03<00:00, 31.73it/s]\n",
      "100%|██████████| 100/100 [00:03<00:00, 31.94it/s]\n",
      "100%|██████████| 100/100 [00:03<00:00, 31.85it/s]\n",
      "100%|██████████| 100/100 [00:03<00:00, 30.72it/s]\n",
      "100%|██████████| 100/100 [00:03<00:00, 29.70it/s]\n",
      "100%|██████████| 100/100 [00:03<00:00, 29.96it/s]\n",
      "100%|██████████| 100/100 [00:03<00:00, 29.50it/s]\n",
      "100%|██████████| 100/100 [00:03<00:00, 29.65it/s]\n",
      "100%|██████████| 100/100 [00:03<00:00, 28.73it/s]\n",
      "100%|██████████| 100/100 [00:03<00:00, 33.23it/s]\n",
      "100%|██████████| 100/100 [00:03<00:00, 29.81it/s]\n",
      "100%|██████████| 100/100 [00:03<00:00, 31.86it/s]\n",
      "100%|██████████| 100/100 [00:03<00:00, 30.10it/s]\n",
      "100%|██████████| 100/100 [00:03<00:00, 29.37it/s]\n",
      "100%|██████████| 100/100 [00:03<00:00, 28.66it/s]\n",
      "100%|██████████| 100/100 [00:03<00:00, 31.46it/s]\n",
      "100%|██████████| 100/100 [00:02<00:00, 35.39it/s]\n",
      "100%|██████████| 100/100 [00:02<00:00, 35.08it/s]\n",
      "100%|██████████| 100/100 [00:02<00:00, 38.06it/s]\n",
      "100%|██████████| 100/100 [00:02<00:00, 36.79it/s]\n",
      "100%|██████████| 100/100 [00:02<00:00, 37.59it/s]\n",
      "100%|██████████| 100/100 [00:02<00:00, 37.12it/s]\n",
      "100%|██████████| 100/100 [00:02<00:00, 35.52it/s]\n",
      "100%|██████████| 100/100 [00:02<00:00, 37.73it/s]\n",
      "100%|██████████| 100/100 [00:02<00:00, 37.73it/s]\n",
      "100%|██████████| 100/100 [00:02<00:00, 36.67it/s]\n",
      "100%|██████████| 100/100 [00:02<00:00, 34.34it/s]\n",
      "100%|██████████| 100/100 [00:02<00:00, 39.94it/s]\n",
      "100%|██████████| 100/100 [00:02<00:00, 39.55it/s]\n",
      "100%|██████████| 100/100 [00:02<00:00, 40.49it/s]\n",
      "100%|██████████| 100/100 [00:02<00:00, 39.21it/s]\n",
      "100%|██████████| 100/100 [00:02<00:00, 38.73it/s]\n",
      "100%|██████████| 100/100 [00:02<00:00, 38.03it/s]\n",
      "100%|██████████| 100/100 [00:02<00:00, 36.06it/s]\n",
      "100%|██████████| 100/100 [00:02<00:00, 35.98it/s]\n",
      "100%|██████████| 100/100 [00:02<00:00, 33.99it/s]\n",
      "100%|██████████| 100/100 [00:02<00:00, 34.00it/s]\n",
      "100%|██████████| 100/100 [00:03<00:00, 28.80it/s]\n",
      "100%|██████████| 100/100 [00:03<00:00, 29.62it/s]\n",
      "100%|██████████| 100/100 [00:03<00:00, 31.00it/s]\n",
      "100%|██████████| 100/100 [00:03<00:00, 33.09it/s]\n",
      "100%|██████████| 100/100 [00:02<00:00, 36.80it/s]\n",
      "100%|██████████| 100/100 [00:03<00:00, 31.14it/s]\n",
      "100%|██████████| 100/100 [00:02<00:00, 34.33it/s]\n",
      "100%|██████████| 100/100 [00:03<00:00, 33.30it/s]\n",
      "100%|██████████| 100/100 [00:02<00:00, 38.25it/s]\n",
      "100%|██████████| 100/100 [00:02<00:00, 37.14it/s]\n",
      "100%|██████████| 100/100 [00:02<00:00, 39.20it/s]\n",
      "100%|██████████| 100/100 [00:02<00:00, 37.62it/s]\n",
      "100%|██████████| 100/100 [00:02<00:00, 39.12it/s]\n",
      "100%|██████████| 100/100 [00:02<00:00, 37.86it/s]\n",
      "100%|██████████| 100/100 [00:02<00:00, 37.93it/s]\n",
      "100%|██████████| 100/100 [00:02<00:00, 37.96it/s]\n",
      "100%|██████████| 100/100 [00:02<00:00, 38.27it/s]\n",
      "100%|██████████| 100/100 [00:02<00:00, 37.28it/s]\n",
      "100%|██████████| 100/100 [00:02<00:00, 40.01it/s]\n",
      "100%|██████████| 100/100 [00:02<00:00, 34.61it/s]\n",
      "100%|██████████| 100/100 [00:02<00:00, 37.36it/s]\n",
      "100%|██████████| 100/100 [00:02<00:00, 37.74it/s]\n",
      "100%|██████████| 100/100 [00:02<00:00, 36.73it/s]\n",
      "100%|██████████| 100/100 [00:02<00:00, 35.28it/s]\n",
      "100%|██████████| 100/100 [00:03<00:00, 31.82it/s]\n",
      "100%|██████████| 100/100 [00:03<00:00, 29.10it/s]\n",
      "100%|██████████| 100/100 [00:04<00:00, 24.83it/s]\n",
      "100%|██████████| 100/100 [00:02<00:00, 35.85it/s]\n",
      "100%|██████████| 100/100 [00:03<00:00, 33.21it/s]\n",
      "100%|██████████| 100/100 [00:02<00:00, 36.84it/s]\n",
      "100%|██████████| 100/100 [00:02<00:00, 37.02it/s]\n",
      "100%|██████████| 100/100 [00:03<00:00, 31.32it/s]\n",
      "100%|██████████| 100/100 [00:03<00:00, 31.79it/s]\n",
      "100%|██████████| 100/100 [00:03<00:00, 30.20it/s]\n",
      "100%|██████████| 100/100 [00:03<00:00, 27.43it/s]\n",
      "100%|██████████| 100/100 [00:03<00:00, 25.69it/s]\n",
      "100%|██████████| 100/100 [00:03<00:00, 29.02it/s]\n",
      "100%|██████████| 100/100 [00:02<00:00, 36.56it/s]\n",
      "100%|██████████| 100/100 [00:02<00:00, 33.84it/s]\n",
      "100%|██████████| 100/100 [00:02<00:00, 35.78it/s]\n",
      "100%|██████████| 100/100 [00:02<00:00, 36.96it/s]\n",
      "100%|██████████| 100/100 [00:02<00:00, 35.46it/s]\n",
      "100%|██████████| 100/100 [00:02<00:00, 35.91it/s]\n",
      "100%|██████████| 100/100 [00:02<00:00, 37.29it/s]\n",
      "100%|██████████| 100/100 [00:02<00:00, 36.21it/s]\n",
      "100%|██████████| 100/100 [00:02<00:00, 37.26it/s]\n",
      "100%|██████████| 100/100 [00:02<00:00, 38.07it/s]\n",
      "100%|██████████| 100/100 [00:02<00:00, 37.59it/s]\n",
      "100%|██████████| 100/100 [00:02<00:00, 34.58it/s]\n",
      "100%|██████████| 100/100 [00:02<00:00, 38.58it/s]\n",
      "100%|██████████| 100/100 [00:02<00:00, 35.12it/s]\n",
      "100%|██████████| 100/100 [00:02<00:00, 38.04it/s]\n",
      "100%|██████████| 100/100 [00:02<00:00, 33.40it/s]\n",
      "100%|██████████| 100/100 [00:02<00:00, 35.58it/s]\n",
      "100%|██████████| 100/100 [00:02<00:00, 37.30it/s]\n",
      "100%|██████████| 100/100 [00:02<00:00, 38.44it/s]\n",
      "100%|██████████| 100/100 [00:02<00:00, 36.41it/s]\n",
      "100%|██████████| 100/100 [00:02<00:00, 37.14it/s]\n",
      "100%|██████████| 100/100 [00:02<00:00, 37.16it/s]\n",
      "100%|██████████| 100/100 [00:02<00:00, 38.10it/s]\n",
      "100%|██████████| 100/100 [00:02<00:00, 37.43it/s]\n",
      "100%|██████████| 100/100 [00:02<00:00, 36.64it/s]\n",
      "100%|██████████| 100/100 [00:02<00:00, 37.48it/s]\n",
      "100%|██████████| 100/100 [00:02<00:00, 37.93it/s]\n",
      "100%|██████████| 100/100 [00:02<00:00, 36.94it/s]\n",
      "100%|██████████| 100/100 [00:02<00:00, 38.59it/s]\n",
      "100%|██████████| 100/100 [00:02<00:00, 38.94it/s]\n",
      "100%|██████████| 100/100 [00:02<00:00, 37.20it/s]\n",
      "100%|██████████| 100/100 [00:02<00:00, 38.81it/s]\n",
      "100%|██████████| 100/100 [00:02<00:00, 37.26it/s]\n",
      "100%|██████████| 100/100 [00:02<00:00, 37.15it/s]\n",
      "100%|██████████| 100/100 [00:02<00:00, 38.59it/s]\n",
      "100%|██████████| 100/100 [00:02<00:00, 39.14it/s]\n",
      "100%|██████████| 100/100 [00:02<00:00, 39.39it/s]\n",
      "100%|██████████| 100/100 [00:02<00:00, 37.00it/s]\n",
      "100%|██████████| 100/100 [00:02<00:00, 39.20it/s]\n",
      "100%|██████████| 100/100 [00:02<00:00, 37.20it/s]\n",
      "100%|██████████| 100/100 [00:02<00:00, 36.76it/s]\n",
      "100%|██████████| 100/100 [00:02<00:00, 37.51it/s]\n",
      "100%|██████████| 100/100 [00:02<00:00, 39.27it/s]\n",
      "100%|██████████| 100/100 [00:02<00:00, 38.76it/s]\n",
      "100%|██████████| 100/100 [00:02<00:00, 39.15it/s]\n",
      "100%|██████████| 100/100 [00:02<00:00, 38.22it/s]\n",
      "100%|██████████| 100/100 [00:02<00:00, 39.10it/s]\n",
      "100%|██████████| 100/100 [00:02<00:00, 37.77it/s]\n",
      "100%|██████████| 100/100 [00:02<00:00, 38.72it/s]\n",
      "100%|██████████| 100/100 [00:02<00:00, 38.60it/s]\n",
      "100%|██████████| 100/100 [00:02<00:00, 39.02it/s]\n",
      "100%|██████████| 100/100 [00:02<00:00, 38.81it/s]\n",
      "100%|██████████| 100/100 [00:02<00:00, 36.72it/s]\n",
      "100%|██████████| 100/100 [00:02<00:00, 39.21it/s]\n",
      "100%|██████████| 100/100 [00:02<00:00, 38.02it/s]\n",
      "100%|██████████| 100/100 [00:02<00:00, 38.49it/s]\n",
      "100%|██████████| 100/100 [00:02<00:00, 38.37it/s]\n",
      "100%|██████████| 100/100 [00:02<00:00, 39.47it/s]\n",
      "100%|██████████| 100/100 [00:02<00:00, 38.30it/s]\n",
      "100%|██████████| 100/100 [00:02<00:00, 39.98it/s]\n",
      "100%|██████████| 100/100 [00:02<00:00, 37.76it/s]\n",
      "100%|██████████| 100/100 [00:02<00:00, 39.57it/s]\n",
      "100%|██████████| 100/100 [00:02<00:00, 37.84it/s]\n",
      "100%|██████████| 100/100 [00:02<00:00, 40.03it/s]\n",
      "100%|██████████| 100/100 [00:02<00:00, 36.60it/s]\n",
      "100%|██████████| 100/100 [00:02<00:00, 38.82it/s]\n",
      "100%|██████████| 100/100 [00:02<00:00, 37.45it/s]\n",
      "100%|██████████| 100/100 [00:02<00:00, 37.86it/s]\n",
      "100%|██████████| 100/100 [00:02<00:00, 38.75it/s]\n",
      "100%|██████████| 100/100 [00:02<00:00, 38.46it/s]\n",
      "100%|██████████| 100/100 [00:02<00:00, 40.18it/s]\n",
      "100%|██████████| 100/100 [00:02<00:00, 38.79it/s]\n",
      "100%|██████████| 100/100 [00:02<00:00, 40.54it/s]\n",
      "100%|██████████| 100/100 [00:02<00:00, 38.11it/s]\n",
      "100%|██████████| 100/100 [00:02<00:00, 36.98it/s]\n",
      "100%|██████████| 100/100 [00:02<00:00, 37.72it/s]\n",
      "100%|██████████| 100/100 [00:02<00:00, 37.97it/s]\n",
      "100%|██████████| 100/100 [00:02<00:00, 38.46it/s]\n",
      "100%|██████████| 100/100 [00:02<00:00, 39.21it/s]\n",
      "100%|██████████| 100/100 [00:02<00:00, 39.01it/s]\n",
      "100%|██████████| 100/100 [00:02<00:00, 39.85it/s]\n",
      "100%|██████████| 100/100 [00:02<00:00, 37.42it/s]\n",
      "100%|██████████| 100/100 [00:02<00:00, 38.00it/s]\n",
      "100%|██████████| 100/100 [00:02<00:00, 37.17it/s]\n",
      "100%|██████████| 100/100 [00:02<00:00, 37.52it/s]\n",
      "100%|██████████| 100/100 [00:02<00:00, 36.44it/s]\n",
      "100%|██████████| 100/100 [00:02<00:00, 37.36it/s]\n",
      "100%|██████████| 100/100 [00:02<00:00, 37.69it/s]\n",
      "100%|██████████| 100/100 [00:02<00:00, 36.62it/s]\n",
      "100%|██████████| 100/100 [00:02<00:00, 39.58it/s]\n",
      "100%|██████████| 100/100 [00:02<00:00, 36.70it/s]\n",
      "100%|██████████| 100/100 [00:02<00:00, 36.87it/s]\n",
      "100%|██████████| 100/100 [00:02<00:00, 37.72it/s]\n",
      "100%|██████████| 100/100 [00:02<00:00, 36.80it/s]\n",
      "100%|██████████| 100/100 [00:02<00:00, 38.50it/s]\n",
      "100%|██████████| 100/100 [00:02<00:00, 38.15it/s]\n",
      "100%|██████████| 100/100 [00:02<00:00, 34.55it/s]\n",
      "100%|██████████| 100/100 [00:03<00:00, 32.75it/s]\n",
      "100%|██████████| 100/100 [00:02<00:00, 38.07it/s]\n",
      "100%|██████████| 100/100 [00:02<00:00, 37.02it/s]\n",
      "100%|██████████| 100/100 [00:02<00:00, 35.82it/s]\n",
      "100%|██████████| 100/100 [00:02<00:00, 38.39it/s]\n",
      "100%|██████████| 100/100 [00:02<00:00, 33.77it/s]\n",
      "100%|██████████| 100/100 [00:02<00:00, 37.25it/s]\n",
      "100%|██████████| 100/100 [00:02<00:00, 37.97it/s]\n",
      "100%|██████████| 100/100 [00:02<00:00, 36.79it/s]\n",
      "100%|██████████| 100/100 [00:02<00:00, 36.95it/s]\n",
      "100%|██████████| 100/100 [00:02<00:00, 37.45it/s]\n",
      "100%|██████████| 100/100 [00:02<00:00, 39.38it/s]\n",
      "100%|██████████| 100/100 [00:02<00:00, 38.62it/s]\n",
      "100%|██████████| 100/100 [00:02<00:00, 38.40it/s]\n",
      "100%|██████████| 100/100 [00:02<00:00, 38.51it/s]\n",
      "100%|██████████| 100/100 [00:02<00:00, 38.77it/s]\n",
      "100%|██████████| 100/100 [00:02<00:00, 38.00it/s]\n",
      "100%|██████████| 100/100 [00:02<00:00, 36.23it/s]\n",
      "100%|██████████| 100/100 [00:02<00:00, 35.78it/s]\n",
      "100%|██████████| 100/100 [00:02<00:00, 38.68it/s]\n",
      "100%|██████████| 100/100 [00:03<00:00, 33.11it/s]\n",
      "100%|██████████| 100/100 [00:02<00:00, 35.33it/s]\n",
      "100%|██████████| 100/100 [00:02<00:00, 38.00it/s]\n",
      "100%|██████████| 100/100 [00:02<00:00, 40.02it/s]\n",
      "100%|██████████| 100/100 [00:02<00:00, 37.43it/s]\n",
      "100%|██████████| 100/100 [00:02<00:00, 37.12it/s]\n",
      "100%|██████████| 100/100 [00:02<00:00, 38.70it/s]\n",
      "100%|██████████| 100/100 [00:02<00:00, 38.46it/s]\n",
      "100%|██████████| 100/100 [00:02<00:00, 38.33it/s]\n",
      "100%|██████████| 100/100 [00:02<00:00, 38.98it/s]\n",
      "100%|██████████| 100/100 [00:02<00:00, 38.50it/s]\n",
      "100%|██████████| 100/100 [00:02<00:00, 35.93it/s]\n",
      "100%|██████████| 100/100 [00:02<00:00, 37.54it/s]\n",
      "100%|██████████| 100/100 [00:02<00:00, 37.82it/s]\n",
      "100%|██████████| 100/100 [00:02<00:00, 37.48it/s]\n",
      "100%|██████████| 100/100 [00:02<00:00, 38.52it/s]\n",
      "100%|██████████| 100/100 [00:02<00:00, 35.68it/s]\n",
      "100%|██████████| 100/100 [00:02<00:00, 37.89it/s]\n",
      "100%|██████████| 100/100 [00:02<00:00, 37.74it/s]\n",
      "100%|██████████| 100/100 [00:02<00:00, 36.43it/s]\n",
      "100%|██████████| 100/100 [00:02<00:00, 35.98it/s]\n",
      "100%|██████████| 100/100 [00:02<00:00, 34.02it/s]\n",
      "100%|██████████| 100/100 [00:03<00:00, 30.29it/s]\n",
      "100%|██████████| 100/100 [00:03<00:00, 27.51it/s]\n",
      "100%|██████████| 100/100 [00:02<00:00, 33.81it/s]\n",
      "100%|██████████| 100/100 [00:03<00:00, 33.12it/s]\n",
      "100%|██████████| 100/100 [00:03<00:00, 33.25it/s]\n",
      "100%|██████████| 100/100 [00:03<00:00, 32.63it/s]\n",
      "100%|██████████| 100/100 [00:03<00:00, 33.33it/s]\n",
      "100%|██████████| 100/100 [00:03<00:00, 33.23it/s]\n",
      "100%|██████████| 100/100 [00:03<00:00, 32.66it/s]\n",
      "100%|██████████| 100/100 [00:03<00:00, 30.72it/s]\n",
      "100%|██████████| 100/100 [00:03<00:00, 32.97it/s]\n",
      "100%|██████████| 100/100 [00:03<00:00, 31.65it/s]\n",
      "100%|██████████| 100/100 [00:03<00:00, 32.98it/s]\n",
      "100%|██████████| 100/100 [00:03<00:00, 31.96it/s]\n",
      "100%|██████████| 100/100 [00:03<00:00, 32.86it/s]\n",
      "100%|██████████| 100/100 [00:03<00:00, 30.80it/s]\n",
      "100%|██████████| 100/100 [00:03<00:00, 32.40it/s]\n",
      "100%|██████████| 100/100 [00:03<00:00, 32.99it/s]\n",
      "100%|██████████| 100/100 [00:02<00:00, 33.41it/s]\n",
      "100%|██████████| 100/100 [00:03<00:00, 33.28it/s]\n",
      "100%|██████████| 100/100 [00:02<00:00, 33.49it/s]\n",
      "100%|██████████| 100/100 [00:02<00:00, 33.63it/s]\n",
      "100%|██████████| 100/100 [00:03<00:00, 31.89it/s]\n",
      "100%|██████████| 100/100 [00:03<00:00, 32.53it/s]\n",
      "100%|██████████| 100/100 [00:03<00:00, 32.12it/s]\n",
      "100%|██████████| 100/100 [00:02<00:00, 33.72it/s]\n",
      "100%|██████████| 100/100 [00:03<00:00, 32.64it/s]\n",
      "100%|██████████| 100/100 [00:03<00:00, 33.25it/s]\n",
      "100%|██████████| 100/100 [00:02<00:00, 33.77it/s]\n",
      "100%|██████████| 100/100 [00:03<00:00, 32.65it/s]\n",
      "100%|██████████| 100/100 [00:02<00:00, 33.82it/s]\n",
      "100%|██████████| 100/100 [00:02<00:00, 33.37it/s]\n",
      "100%|██████████| 100/100 [00:03<00:00, 31.40it/s]\n",
      "100%|██████████| 100/100 [00:03<00:00, 33.11it/s]\n",
      "100%|██████████| 100/100 [00:03<00:00, 33.00it/s]\n",
      "100%|██████████| 100/100 [00:03<00:00, 33.09it/s]\n",
      "100%|██████████| 100/100 [00:03<00:00, 33.00it/s]\n",
      "100%|██████████| 100/100 [00:02<00:00, 33.64it/s]\n",
      "100%|██████████| 100/100 [00:02<00:00, 33.44it/s]\n",
      "100%|██████████| 100/100 [00:03<00:00, 32.27it/s]\n",
      "100%|██████████| 100/100 [00:03<00:00, 32.56it/s]\n",
      "100%|██████████| 100/100 [00:02<00:00, 33.36it/s]\n",
      "100%|██████████| 100/100 [00:02<00:00, 33.76it/s]\n",
      "100%|██████████| 100/100 [00:02<00:00, 33.72it/s]\n",
      "100%|██████████| 100/100 [00:02<00:00, 33.74it/s]\n",
      "100%|██████████| 100/100 [00:02<00:00, 33.69it/s]\n",
      "100%|██████████| 100/100 [00:02<00:00, 34.06it/s]\n",
      "100%|██████████| 100/100 [00:03<00:00, 31.16it/s]\n",
      "100%|██████████| 100/100 [00:03<00:00, 32.79it/s]\n",
      "100%|██████████| 100/100 [00:02<00:00, 33.97it/s]\n",
      "100%|██████████| 100/100 [00:03<00:00, 32.65it/s]\n",
      "100%|██████████| 100/100 [00:02<00:00, 34.53it/s]\n",
      "100%|██████████| 100/100 [00:03<00:00, 32.04it/s]\n",
      "100%|██████████| 100/100 [00:03<00:00, 32.26it/s]\n",
      "100%|██████████| 100/100 [00:03<00:00, 32.44it/s]\n",
      "100%|██████████| 100/100 [00:02<00:00, 33.67it/s]\n",
      "100%|██████████| 100/100 [00:02<00:00, 34.10it/s]\n",
      "100%|██████████| 100/100 [00:03<00:00, 33.11it/s]\n",
      "100%|██████████| 100/100 [00:03<00:00, 32.48it/s]\n",
      "100%|██████████| 100/100 [00:02<00:00, 34.36it/s]\n",
      "100%|██████████| 100/100 [00:03<00:00, 33.03it/s]\n",
      "100%|██████████| 100/100 [00:03<00:00, 32.43it/s]\n",
      "100%|██████████| 100/100 [00:03<00:00, 32.23it/s]\n",
      "100%|██████████| 100/100 [00:03<00:00, 32.38it/s]\n",
      "100%|██████████| 100/100 [00:03<00:00, 33.22it/s]\n",
      "100%|██████████| 100/100 [00:02<00:00, 33.88it/s]\n",
      "100%|██████████| 100/100 [00:02<00:00, 33.72it/s]\n",
      "100%|██████████| 100/100 [00:03<00:00, 32.83it/s]\n",
      "100%|██████████| 100/100 [00:03<00:00, 31.57it/s]\n",
      "100%|██████████| 100/100 [00:02<00:00, 33.67it/s]\n",
      "100%|██████████| 100/100 [00:03<00:00, 32.63it/s]\n",
      "100%|██████████| 100/100 [00:03<00:00, 33.16it/s]\n",
      "100%|██████████| 100/100 [00:03<00:00, 32.71it/s]\n",
      "100%|██████████| 100/100 [00:03<00:00, 31.59it/s]\n",
      "100%|██████████| 100/100 [00:02<00:00, 34.18it/s]\n",
      "100%|██████████| 100/100 [00:03<00:00, 32.23it/s]\n",
      "100%|██████████| 100/100 [00:03<00:00, 33.24it/s]\n",
      "100%|██████████| 100/100 [00:02<00:00, 33.46it/s]\n",
      "100%|██████████| 100/100 [00:02<00:00, 33.75it/s]\n",
      "100%|██████████| 100/100 [00:03<00:00, 33.28it/s]\n",
      "100%|██████████| 100/100 [00:02<00:00, 34.21it/s]\n",
      "100%|██████████| 100/100 [00:03<00:00, 30.59it/s]\n",
      "100%|██████████| 100/100 [00:03<00:00, 31.06it/s]\n",
      "100%|██████████| 100/100 [00:03<00:00, 33.12it/s]\n",
      "100%|██████████| 100/100 [00:03<00:00, 32.69it/s]\n",
      "100%|██████████| 100/100 [00:03<00:00, 32.75it/s]\n",
      "100%|██████████| 100/100 [00:03<00:00, 32.11it/s]\n",
      "100%|██████████| 100/100 [00:03<00:00, 33.05it/s]\n",
      "100%|██████████| 100/100 [00:03<00:00, 30.74it/s]\n",
      "100%|██████████| 100/100 [00:03<00:00, 32.71it/s]\n",
      "100%|██████████| 100/100 [00:03<00:00, 33.03it/s]\n",
      "100%|██████████| 100/100 [00:03<00:00, 32.73it/s]\n",
      "100%|██████████| 100/100 [00:03<00:00, 32.42it/s]\n",
      "100%|██████████| 100/100 [00:03<00:00, 32.89it/s]\n",
      "100%|██████████| 100/100 [00:03<00:00, 30.50it/s]\n",
      "100%|██████████| 100/100 [00:03<00:00, 32.09it/s]\n",
      "100%|██████████| 100/100 [00:03<00:00, 33.05it/s]\n",
      "100%|██████████| 100/100 [00:03<00:00, 33.10it/s]\n",
      "100%|██████████| 100/100 [00:02<00:00, 33.73it/s]\n",
      "100%|██████████| 100/100 [00:03<00:00, 33.28it/s]\n",
      "100%|██████████| 100/100 [00:03<00:00, 32.03it/s]\n",
      "100%|██████████| 100/100 [00:03<00:00, 32.66it/s]\n",
      "100%|██████████| 100/100 [00:03<00:00, 32.51it/s]\n",
      "100%|██████████| 100/100 [00:03<00:00, 33.32it/s]\n",
      "100%|██████████| 100/100 [00:02<00:00, 33.97it/s]\n",
      "100%|██████████| 100/100 [00:03<00:00, 32.29it/s]\n",
      "100%|██████████| 100/100 [00:03<00:00, 32.84it/s]\n",
      "100%|██████████| 100/100 [00:03<00:00, 30.74it/s]\n",
      "100%|██████████| 100/100 [00:03<00:00, 32.25it/s]\n",
      "100%|██████████| 100/100 [00:02<00:00, 33.34it/s]\n",
      "100%|██████████| 100/100 [00:03<00:00, 32.86it/s]\n",
      "100%|██████████| 100/100 [00:03<00:00, 32.98it/s]\n",
      "100%|██████████| 100/100 [00:02<00:00, 33.91it/s]\n",
      "100%|██████████| 100/100 [00:03<00:00, 30.95it/s]\n",
      "100%|██████████| 100/100 [00:03<00:00, 32.68it/s]\n",
      "100%|██████████| 100/100 [00:03<00:00, 32.56it/s]\n",
      "100%|██████████| 100/100 [00:03<00:00, 32.80it/s]\n",
      "100%|██████████| 100/100 [00:03<00:00, 33.23it/s]\n",
      "100%|██████████| 100/100 [00:03<00:00, 32.04it/s]\n",
      "100%|██████████| 100/100 [00:03<00:00, 29.10it/s]\n",
      "100%|██████████| 100/100 [00:03<00:00, 28.92it/s]\n",
      "100%|██████████| 100/100 [00:03<00:00, 32.43it/s]\n",
      "100%|██████████| 100/100 [00:03<00:00, 32.70it/s]\n",
      "100%|██████████| 100/100 [00:03<00:00, 33.00it/s]\n",
      "100%|██████████| 100/100 [00:03<00:00, 31.57it/s]\n",
      "100%|██████████| 100/100 [00:03<00:00, 25.27it/s]\n",
      "100%|██████████| 100/100 [00:03<00:00, 28.41it/s]\n",
      "100%|██████████| 100/100 [00:03<00:00, 31.21it/s]\n",
      "100%|██████████| 100/100 [00:03<00:00, 31.83it/s]\n",
      "100%|██████████| 100/100 [00:03<00:00, 32.87it/s]\n",
      "100%|██████████| 100/100 [00:03<00:00, 31.13it/s]\n",
      "100%|██████████| 100/100 [00:02<00:00, 33.54it/s]\n",
      "100%|██████████| 100/100 [00:02<00:00, 34.13it/s]\n",
      "100%|██████████| 100/100 [00:03<00:00, 32.17it/s]\n",
      "100%|██████████| 100/100 [00:02<00:00, 33.42it/s]\n",
      "100%|██████████| 100/100 [00:03<00:00, 30.13it/s]\n",
      "100%|██████████| 100/100 [00:03<00:00, 32.51it/s]\n",
      "100%|██████████| 100/100 [00:03<00:00, 32.23it/s]\n",
      "100%|██████████| 100/100 [00:03<00:00, 30.97it/s]\n",
      "100%|██████████| 100/100 [00:03<00:00, 26.60it/s]\n",
      "100%|██████████| 100/100 [00:02<00:00, 33.71it/s]\n",
      "100%|██████████| 100/100 [00:03<00:00, 31.65it/s]\n",
      "100%|██████████| 100/100 [00:03<00:00, 31.64it/s]\n",
      "100%|██████████| 100/100 [00:03<00:00, 30.15it/s]\n",
      "100%|██████████| 100/100 [00:03<00:00, 31.99it/s]\n",
      "100%|██████████| 100/100 [00:03<00:00, 32.87it/s]\n",
      "100%|██████████| 100/100 [00:02<00:00, 34.11it/s]\n",
      "100%|██████████| 100/100 [00:03<00:00, 31.89it/s]\n",
      "100%|██████████| 100/100 [00:03<00:00, 30.24it/s]\n",
      "100%|██████████| 100/100 [00:03<00:00, 31.17it/s]\n",
      "100%|██████████| 100/100 [00:02<00:00, 33.74it/s]\n",
      "100%|██████████| 100/100 [00:03<00:00, 33.33it/s]\n",
      "100%|██████████| 100/100 [00:03<00:00, 32.96it/s]\n",
      "100%|██████████| 100/100 [00:03<00:00, 31.56it/s]\n",
      "100%|██████████| 100/100 [00:03<00:00, 31.98it/s]\n",
      "100%|██████████| 100/100 [00:03<00:00, 32.45it/s]\n",
      "100%|██████████| 100/100 [00:03<00:00, 32.68it/s]\n",
      "100%|██████████| 100/100 [00:03<00:00, 32.64it/s]\n",
      "100%|██████████| 100/100 [00:03<00:00, 31.65it/s]\n",
      "100%|██████████| 100/100 [00:03<00:00, 32.66it/s]\n",
      "100%|██████████| 100/100 [00:03<00:00, 31.59it/s]\n",
      "100%|██████████| 100/100 [00:03<00:00, 32.21it/s]\n",
      "100%|██████████| 100/100 [00:03<00:00, 32.97it/s]\n",
      "100%|██████████| 100/100 [00:03<00:00, 33.22it/s]\n",
      "100%|██████████| 100/100 [00:03<00:00, 31.35it/s]\n",
      "100%|██████████| 100/100 [00:03<00:00, 32.02it/s]\n",
      "100%|██████████| 100/100 [00:03<00:00, 32.86it/s]\n",
      "100%|██████████| 100/100 [00:02<00:00, 33.62it/s]\n",
      "100%|██████████| 100/100 [00:03<00:00, 32.76it/s]\n",
      "100%|██████████| 100/100 [00:03<00:00, 33.22it/s]\n",
      "100%|██████████| 100/100 [00:03<00:00, 30.82it/s]\n",
      "100%|██████████| 100/100 [00:03<00:00, 33.25it/s]\n",
      "100%|██████████| 100/100 [00:03<00:00, 32.79it/s]\n",
      "100%|██████████| 100/100 [00:03<00:00, 32.93it/s]\n",
      "100%|██████████| 100/100 [00:03<00:00, 33.12it/s]\n",
      "100%|██████████| 100/100 [00:02<00:00, 36.76it/s]\n",
      "100%|██████████| 100/100 [00:03<00:00, 31.46it/s]\n",
      "100%|██████████| 100/100 [00:03<00:00, 32.27it/s]\n",
      "100%|██████████| 100/100 [00:03<00:00, 32.96it/s]\n",
      "100%|██████████| 100/100 [00:03<00:00, 31.64it/s]\n",
      "100%|██████████| 100/100 [00:03<00:00, 33.27it/s]\n",
      "100%|██████████| 100/100 [00:03<00:00, 30.99it/s]\n",
      "100%|██████████| 100/100 [00:03<00:00, 33.16it/s]\n",
      "100%|██████████| 100/100 [00:02<00:00, 33.46it/s]\n",
      "100%|██████████| 100/100 [00:03<00:00, 32.22it/s]\n",
      "100%|██████████| 100/100 [00:03<00:00, 29.74it/s]\n",
      "100%|██████████| 100/100 [00:02<00:00, 33.81it/s]\n",
      "100%|██████████| 100/100 [00:03<00:00, 32.22it/s]\n",
      "100%|██████████| 100/100 [00:02<00:00, 33.76it/s]\n",
      "100%|██████████| 100/100 [00:03<00:00, 32.14it/s]\n",
      "100%|██████████| 100/100 [00:02<00:00, 33.35it/s]\n",
      "100%|██████████| 100/100 [00:02<00:00, 33.91it/s]\n",
      "100%|██████████| 100/100 [00:03<00:00, 30.06it/s]\n",
      "100%|██████████| 100/100 [00:03<00:00, 32.80it/s]\n",
      "100%|██████████| 100/100 [00:03<00:00, 33.08it/s]\n",
      "100%|██████████| 100/100 [00:03<00:00, 31.78it/s]\n",
      "100%|██████████| 100/100 [00:03<00:00, 32.34it/s]\n",
      "100%|██████████| 100/100 [00:03<00:00, 31.48it/s]\n",
      "100%|██████████| 100/100 [00:03<00:00, 33.21it/s]\n",
      "100%|██████████| 100/100 [00:02<00:00, 33.41it/s]\n",
      "100%|██████████| 100/100 [00:03<00:00, 32.58it/s]\n",
      "100%|██████████| 100/100 [00:03<00:00, 33.32it/s]\n",
      "100%|██████████| 100/100 [00:03<00:00, 31.76it/s]\n",
      "100%|██████████| 100/100 [00:03<00:00, 32.81it/s]\n",
      "100%|██████████| 100/100 [00:02<00:00, 33.48it/s]\n",
      "100%|██████████| 100/100 [00:03<00:00, 33.22it/s]\n",
      "100%|██████████| 100/100 [00:03<00:00, 32.57it/s]\n",
      "100%|██████████| 100/100 [00:02<00:00, 33.42it/s]\n",
      "100%|██████████| 100/100 [00:03<00:00, 31.58it/s]\n",
      "100%|██████████| 100/100 [00:03<00:00, 31.11it/s]\n",
      "100%|██████████| 100/100 [00:03<00:00, 32.83it/s]\n",
      "100%|██████████| 100/100 [00:03<00:00, 32.56it/s]\n",
      "100%|██████████| 100/100 [00:03<00:00, 32.64it/s]\n",
      "100%|██████████| 100/100 [00:03<00:00, 30.94it/s]\n",
      "100%|██████████| 100/100 [00:03<00:00, 31.82it/s]\n",
      "100%|██████████| 100/100 [00:02<00:00, 33.65it/s]\n",
      "100%|██████████| 100/100 [00:03<00:00, 31.76it/s]\n",
      "100%|██████████| 100/100 [00:03<00:00, 31.65it/s]\n",
      "100%|██████████| 100/100 [00:03<00:00, 32.02it/s]\n",
      "100%|██████████| 100/100 [00:03<00:00, 32.28it/s]\n",
      "100%|██████████| 100/100 [00:03<00:00, 32.96it/s]\n",
      "100%|██████████| 100/100 [00:02<00:00, 33.67it/s]\n",
      "100%|██████████| 100/100 [00:03<00:00, 32.83it/s]\n",
      "100%|██████████| 100/100 [00:03<00:00, 31.32it/s]\n",
      "100%|██████████| 100/100 [00:03<00:00, 30.90it/s]\n",
      "100%|██████████| 100/100 [00:03<00:00, 32.28it/s]\n",
      "100%|██████████| 100/100 [00:02<00:00, 33.51it/s]\n",
      "100%|██████████| 100/100 [00:03<00:00, 32.32it/s]\n",
      "100%|██████████| 100/100 [00:03<00:00, 30.88it/s]\n",
      "100%|██████████| 100/100 [00:03<00:00, 32.78it/s]\n",
      "100%|██████████| 100/100 [00:03<00:00, 32.71it/s]\n",
      "100%|██████████| 100/100 [00:03<00:00, 32.17it/s]\n",
      "100%|██████████| 100/100 [00:03<00:00, 31.61it/s]\n",
      "100%|██████████| 100/100 [00:03<00:00, 32.44it/s]\n",
      "100%|██████████| 100/100 [00:03<00:00, 32.76it/s]\n",
      "100%|██████████| 100/100 [00:03<00:00, 31.80it/s]\n",
      "100%|██████████| 100/100 [00:03<00:00, 32.28it/s]\n",
      "100%|██████████| 100/100 [00:03<00:00, 31.98it/s]\n",
      "100%|██████████| 100/100 [00:03<00:00, 33.10it/s]\n",
      "100%|██████████| 100/100 [00:03<00:00, 32.38it/s]\n",
      "100%|██████████| 100/100 [00:02<00:00, 33.37it/s]\n",
      "100%|██████████| 100/100 [00:03<00:00, 30.90it/s]\n",
      "100%|██████████| 100/100 [00:02<00:00, 34.17it/s]\n",
      "100%|██████████| 100/100 [00:03<00:00, 31.30it/s]\n",
      "100%|██████████| 100/100 [00:03<00:00, 32.69it/s]\n",
      "100%|██████████| 100/100 [00:03<00:00, 33.18it/s]\n",
      "100%|██████████| 100/100 [00:03<00:00, 31.94it/s]\n",
      "100%|██████████| 100/100 [00:02<00:00, 33.91it/s]\n",
      "100%|██████████| 100/100 [00:03<00:00, 32.51it/s]\n",
      "100%|██████████| 100/100 [00:03<00:00, 32.73it/s]\n",
      "100%|██████████| 100/100 [00:02<00:00, 33.68it/s]\n",
      "100%|██████████| 100/100 [00:03<00:00, 31.35it/s]\n",
      "100%|██████████| 100/100 [00:03<00:00, 32.40it/s]\n",
      "100%|██████████| 100/100 [00:03<00:00, 32.83it/s]\n",
      "100%|██████████| 100/100 [00:03<00:00, 32.09it/s]\n",
      "100%|██████████| 100/100 [00:02<00:00, 33.44it/s]\n",
      "100%|██████████| 100/100 [00:03<00:00, 31.65it/s]\n",
      "100%|██████████| 100/100 [00:03<00:00, 33.22it/s]\n",
      "100%|██████████| 100/100 [00:02<00:00, 34.05it/s]\n",
      "100%|██████████| 100/100 [00:03<00:00, 32.94it/s]\n",
      "100%|██████████| 100/100 [00:03<00:00, 32.57it/s]\n",
      "100%|██████████| 100/100 [00:03<00:00, 33.28it/s]\n",
      "100%|██████████| 100/100 [00:03<00:00, 33.32it/s]\n",
      "100%|██████████| 100/100 [00:03<00:00, 33.06it/s]\n",
      "100%|██████████| 100/100 [00:03<00:00, 33.17it/s]\n",
      "100%|██████████| 100/100 [00:03<00:00, 30.94it/s]\n",
      "100%|██████████| 100/100 [00:02<00:00, 33.78it/s]\n",
      "100%|██████████| 100/100 [00:03<00:00, 32.47it/s]\n",
      "100%|██████████| 100/100 [00:02<00:00, 33.71it/s]\n",
      "100%|██████████| 100/100 [00:03<00:00, 32.87it/s]\n",
      "100%|██████████| 100/100 [00:03<00:00, 30.36it/s]\n",
      "100%|██████████| 100/100 [00:03<00:00, 32.58it/s]\n",
      "100%|██████████| 100/100 [00:03<00:00, 32.25it/s]\n",
      "100%|██████████| 100/100 [00:03<00:00, 32.79it/s]\n",
      "100%|██████████| 100/100 [00:03<00:00, 30.93it/s]\n",
      "100%|██████████| 100/100 [00:03<00:00, 31.60it/s]\n",
      "100%|██████████| 100/100 [00:03<00:00, 32.16it/s]\n",
      "100%|██████████| 100/100 [00:03<00:00, 32.08it/s]\n",
      "100%|██████████| 100/100 [00:03<00:00, 32.77it/s]\n",
      "100%|██████████| 100/100 [00:03<00:00, 32.26it/s]\n",
      "100%|██████████| 100/100 [00:03<00:00, 32.75it/s]\n",
      "100%|██████████| 100/100 [00:03<00:00, 32.96it/s]\n",
      "100%|██████████| 100/100 [00:03<00:00, 32.99it/s]\n",
      "100%|██████████| 100/100 [00:03<00:00, 31.45it/s]\n",
      "100%|██████████| 100/100 [00:02<00:00, 33.53it/s]\n",
      "100%|██████████| 100/100 [00:03<00:00, 32.59it/s]\n",
      "100%|██████████| 100/100 [00:03<00:00, 30.76it/s]\n",
      "100%|██████████| 100/100 [00:03<00:00, 32.15it/s]\n",
      "100%|██████████| 100/100 [00:03<00:00, 29.91it/s]\n",
      "100%|██████████| 100/100 [00:03<00:00, 30.85it/s]\n",
      "100%|██████████| 100/100 [00:03<00:00, 32.94it/s]\n",
      "100%|██████████| 100/100 [00:03<00:00, 32.39it/s]\n",
      "100%|██████████| 100/100 [00:03<00:00, 30.74it/s]\n",
      "100%|██████████| 100/100 [00:03<00:00, 32.89it/s]\n",
      "100%|██████████| 100/100 [00:03<00:00, 32.34it/s]\n",
      "100%|██████████| 100/100 [00:03<00:00, 32.81it/s]\n",
      "100%|██████████| 100/100 [00:03<00:00, 31.66it/s]\n",
      "100%|██████████| 100/100 [00:03<00:00, 30.62it/s]\n",
      "100%|██████████| 100/100 [00:03<00:00, 28.59it/s]\n",
      "100%|██████████| 100/100 [00:03<00:00, 32.24it/s]\n",
      "100%|██████████| 100/100 [00:03<00:00, 32.48it/s]\n",
      "100%|██████████| 100/100 [00:03<00:00, 30.40it/s]\n",
      "100%|██████████| 100/100 [00:03<00:00, 28.82it/s]\n",
      "100%|██████████| 100/100 [00:03<00:00, 32.00it/s]\n",
      "100%|██████████| 100/100 [00:03<00:00, 32.85it/s]\n",
      "100%|██████████| 100/100 [00:03<00:00, 30.68it/s]\n",
      "100%|██████████| 100/100 [00:03<00:00, 31.89it/s]\n",
      "100%|██████████| 100/100 [00:03<00:00, 32.53it/s]\n",
      "100%|██████████| 100/100 [00:03<00:00, 33.32it/s]\n",
      "100%|██████████| 100/100 [00:03<00:00, 31.92it/s]\n",
      "100%|██████████| 100/100 [00:03<00:00, 31.27it/s]\n",
      "100%|██████████| 100/100 [00:03<00:00, 32.91it/s]\n",
      "100%|██████████| 100/100 [00:03<00:00, 32.24it/s]\n",
      "100%|██████████| 100/100 [00:03<00:00, 33.28it/s]\n",
      "100%|██████████| 100/100 [00:03<00:00, 31.21it/s]\n",
      "100%|██████████| 100/100 [00:02<00:00, 33.51it/s]\n",
      "100%|██████████| 100/100 [00:03<00:00, 32.06it/s]\n",
      "100%|██████████| 100/100 [00:03<00:00, 32.10it/s]\n",
      "100%|██████████| 100/100 [00:03<00:00, 31.92it/s]\n",
      "100%|██████████| 100/100 [00:03<00:00, 32.16it/s]\n",
      "100%|██████████| 100/100 [00:03<00:00, 33.03it/s]\n",
      "100%|██████████| 100/100 [00:03<00:00, 32.69it/s]\n",
      "100%|██████████| 100/100 [00:03<00:00, 30.51it/s]\n",
      "100%|██████████| 100/100 [00:03<00:00, 31.77it/s]\n",
      "100%|██████████| 100/100 [00:03<00:00, 31.93it/s]\n",
      "100%|██████████| 100/100 [00:03<00:00, 32.39it/s]\n",
      "100%|██████████| 100/100 [00:03<00:00, 30.17it/s]\n",
      "100%|██████████| 100/100 [00:03<00:00, 31.67it/s]\n",
      "100%|██████████| 100/100 [00:03<00:00, 31.46it/s]\n",
      "100%|██████████| 100/100 [00:03<00:00, 30.07it/s]\n",
      "100%|██████████| 100/100 [00:03<00:00, 30.84it/s]\n",
      "100%|██████████| 100/100 [00:03<00:00, 32.71it/s]\n",
      "100%|██████████| 100/100 [00:03<00:00, 32.59it/s]\n",
      "100%|██████████| 100/100 [00:03<00:00, 32.87it/s]\n",
      "100%|██████████| 100/100 [00:03<00:00, 32.39it/s]\n",
      "100%|██████████| 100/100 [00:03<00:00, 31.09it/s]\n",
      "100%|██████████| 100/100 [00:03<00:00, 32.98it/s]\n",
      "100%|██████████| 100/100 [00:03<00:00, 32.75it/s]\n",
      "100%|██████████| 100/100 [00:03<00:00, 32.96it/s]\n",
      "100%|██████████| 100/100 [00:03<00:00, 30.76it/s]\n",
      "100%|██████████| 100/100 [00:03<00:00, 32.97it/s]\n",
      "100%|██████████| 100/100 [00:03<00:00, 33.08it/s]\n",
      "100%|██████████| 100/100 [00:03<00:00, 32.04it/s]\n",
      "100%|██████████| 100/100 [00:03<00:00, 30.82it/s]\n",
      "100%|██████████| 100/100 [00:03<00:00, 32.87it/s]\n",
      "100%|██████████| 100/100 [00:03<00:00, 32.70it/s]\n",
      "100%|██████████| 100/100 [00:03<00:00, 33.02it/s]\n",
      "100%|██████████| 100/100 [00:03<00:00, 31.33it/s]\n",
      "100%|██████████| 100/100 [00:03<00:00, 32.88it/s]\n",
      "100%|██████████| 100/100 [00:03<00:00, 32.64it/s]\n",
      "100%|██████████| 100/100 [00:03<00:00, 31.46it/s]\n",
      "100%|██████████| 100/100 [00:03<00:00, 32.19it/s]\n",
      "100%|██████████| 100/100 [00:03<00:00, 32.08it/s]\n",
      "100%|██████████| 100/100 [00:03<00:00, 33.09it/s]\n",
      "100%|██████████| 100/100 [00:03<00:00, 32.57it/s]\n",
      "100%|██████████| 100/100 [00:03<00:00, 31.47it/s]\n",
      "100%|██████████| 100/100 [00:03<00:00, 31.81it/s]\n",
      "100%|██████████| 100/100 [00:03<00:00, 32.97it/s]\n",
      "100%|██████████| 100/100 [00:03<00:00, 32.97it/s]\n",
      "100%|██████████| 100/100 [00:03<00:00, 31.91it/s]\n",
      "100%|██████████| 100/100 [00:03<00:00, 31.43it/s]\n",
      "100%|██████████| 100/100 [00:03<00:00, 32.26it/s]\n",
      "100%|██████████| 100/100 [00:03<00:00, 32.54it/s]\n",
      "100%|██████████| 100/100 [00:03<00:00, 31.97it/s]\n",
      "100%|██████████| 100/100 [00:03<00:00, 32.01it/s]\n",
      "100%|██████████| 100/100 [00:02<00:00, 33.66it/s]\n",
      "100%|██████████| 100/100 [00:03<00:00, 32.15it/s]\n",
      "100%|██████████| 100/100 [00:03<00:00, 32.15it/s]\n",
      "100%|██████████| 100/100 [00:03<00:00, 30.80it/s]\n",
      "100%|██████████| 100/100 [00:03<00:00, 31.93it/s]\n",
      "100%|██████████| 100/100 [00:03<00:00, 31.97it/s]\n",
      "100%|██████████| 100/100 [00:03<00:00, 32.31it/s]\n",
      "100%|██████████| 100/100 [00:03<00:00, 30.59it/s]\n",
      "100%|██████████| 100/100 [00:03<00:00, 32.06it/s]\n",
      "100%|██████████| 100/100 [00:03<00:00, 31.99it/s]\n",
      "100%|██████████| 100/100 [00:03<00:00, 30.96it/s]\n",
      "100%|██████████| 100/100 [00:03<00:00, 29.05it/s]\n",
      "100%|██████████| 100/100 [00:03<00:00, 31.34it/s]\n",
      "100%|██████████| 100/100 [00:03<00:00, 31.04it/s]\n",
      "100%|██████████| 100/100 [00:03<00:00, 31.24it/s]\n",
      "100%|██████████| 100/100 [00:03<00:00, 29.17it/s]\n",
      "100%|██████████| 100/100 [00:03<00:00, 29.19it/s]\n",
      "100%|██████████| 100/100 [00:03<00:00, 27.86it/s]\n",
      "100%|██████████| 100/100 [00:03<00:00, 31.12it/s]\n",
      "100%|██████████| 100/100 [00:03<00:00, 32.23it/s]\n",
      "100%|██████████| 100/100 [00:02<00:00, 33.65it/s]\n",
      "100%|██████████| 100/100 [00:03<00:00, 32.57it/s]\n",
      "100%|██████████| 100/100 [00:04<00:00, 24.77it/s]\n",
      "100%|██████████| 100/100 [00:04<00:00, 23.60it/s]\n",
      "100%|██████████| 100/100 [00:03<00:00, 31.07it/s]\n",
      "100%|██████████| 100/100 [00:03<00:00, 32.76it/s]\n",
      "100%|██████████| 100/100 [00:03<00:00, 29.95it/s]\n",
      "100%|██████████| 100/100 [00:03<00:00, 32.14it/s]\n",
      "100%|██████████| 100/100 [00:03<00:00, 32.73it/s]\n",
      "100%|██████████| 100/100 [00:03<00:00, 32.59it/s]\n",
      "100%|██████████| 100/100 [00:03<00:00, 27.99it/s]\n",
      "100%|██████████| 100/100 [00:03<00:00, 31.68it/s]\n",
      "100%|██████████| 100/100 [00:03<00:00, 32.99it/s]\n",
      "100%|██████████| 100/100 [00:03<00:00, 30.90it/s]\n",
      "100%|██████████| 100/100 [00:03<00:00, 32.08it/s]\n",
      "100%|██████████| 100/100 [00:03<00:00, 32.63it/s]\n",
      "100%|██████████| 100/100 [00:03<00:00, 31.26it/s]\n",
      "100%|██████████| 100/100 [00:03<00:00, 30.78it/s]\n",
      "100%|██████████| 100/100 [00:03<00:00, 32.21it/s]\n",
      "100%|██████████| 100/100 [00:03<00:00, 32.25it/s]\n",
      "100%|██████████| 100/100 [00:03<00:00, 31.02it/s]\n",
      "100%|██████████| 100/100 [00:03<00:00, 30.04it/s]\n",
      "100%|██████████| 100/100 [00:03<00:00, 30.68it/s]\n",
      "100%|██████████| 100/100 [00:03<00:00, 32.25it/s]\n",
      "100%|██████████| 100/100 [00:03<00:00, 32.16it/s]\n",
      "100%|██████████| 100/100 [00:03<00:00, 30.91it/s]\n",
      "100%|██████████| 100/100 [00:03<00:00, 32.59it/s]\n",
      "100%|██████████| 100/100 [00:03<00:00, 32.51it/s]\n",
      "100%|██████████| 100/100 [00:03<00:00, 33.13it/s]\n",
      "100%|██████████| 100/100 [00:03<00:00, 30.47it/s]\n",
      "100%|██████████| 100/100 [00:03<00:00, 31.72it/s]\n",
      "100%|██████████| 100/100 [00:02<00:00, 33.52it/s]\n",
      "100%|██████████| 100/100 [00:03<00:00, 33.08it/s]\n",
      "100%|██████████| 100/100 [00:03<00:00, 30.11it/s]\n",
      "100%|██████████| 100/100 [00:03<00:00, 31.95it/s]\n",
      "100%|██████████| 100/100 [00:03<00:00, 32.19it/s]\n",
      "100%|██████████| 100/100 [00:03<00:00, 29.64it/s]\n",
      "100%|██████████| 100/100 [00:03<00:00, 31.82it/s]\n",
      "100%|██████████| 100/100 [00:03<00:00, 32.88it/s]\n",
      "100%|██████████| 100/100 [00:03<00:00, 32.53it/s]\n",
      "100%|██████████| 100/100 [00:03<00:00, 31.44it/s]\n",
      "100%|██████████| 100/100 [00:03<00:00, 32.36it/s]\n",
      "100%|██████████| 100/100 [00:03<00:00, 31.45it/s]\n",
      "100%|██████████| 100/100 [00:03<00:00, 29.64it/s]\n",
      "100%|██████████| 100/100 [00:03<00:00, 32.72it/s]\n",
      "100%|██████████| 100/100 [00:03<00:00, 32.78it/s]\n",
      "100%|██████████| 100/100 [00:03<00:00, 32.76it/s]\n",
      "100%|██████████| 100/100 [00:03<00:00, 30.43it/s]\n",
      "100%|██████████| 100/100 [00:03<00:00, 32.75it/s]\n",
      "100%|██████████| 100/100 [00:03<00:00, 31.91it/s]\n",
      "100%|██████████| 100/100 [00:03<00:00, 31.95it/s]\n",
      "100%|██████████| 100/100 [00:03<00:00, 27.83it/s]\n",
      "100%|██████████| 100/100 [00:03<00:00, 30.20it/s]\n",
      "100%|██████████| 100/100 [00:03<00:00, 30.24it/s]\n",
      "100%|██████████| 100/100 [00:03<00:00, 27.82it/s]\n",
      "100%|██████████| 100/100 [00:03<00:00, 28.10it/s]\n",
      "100%|██████████| 100/100 [00:03<00:00, 29.12it/s]\n",
      "100%|██████████| 100/100 [00:03<00:00, 30.12it/s]\n",
      "100%|██████████| 100/100 [00:03<00:00, 31.91it/s]\n",
      "100%|██████████| 100/100 [00:03<00:00, 32.94it/s]\n",
      "100%|██████████| 100/100 [00:02<00:00, 33.34it/s]\n",
      "100%|██████████| 100/100 [00:03<00:00, 30.03it/s]\n",
      "100%|██████████| 100/100 [00:04<00:00, 24.18it/s]\n",
      "100%|██████████| 100/100 [00:03<00:00, 25.34it/s]\n",
      "100%|██████████| 100/100 [00:03<00:00, 27.40it/s]\n",
      "100%|██████████| 100/100 [00:03<00:00, 29.81it/s]\n",
      "100%|██████████| 100/100 [00:03<00:00, 31.05it/s]\n",
      "100%|██████████| 100/100 [00:03<00:00, 31.58it/s]\n",
      "100%|██████████| 100/100 [00:03<00:00, 30.35it/s]\n",
      "100%|██████████| 100/100 [00:03<00:00, 32.09it/s]\n",
      "100%|██████████| 100/100 [00:02<00:00, 33.58it/s]\n",
      "100%|██████████| 100/100 [00:03<00:00, 31.83it/s]\n",
      "100%|██████████| 100/100 [00:03<00:00, 31.22it/s]\n",
      "100%|██████████| 100/100 [00:03<00:00, 30.69it/s]\n",
      "100%|██████████| 100/100 [00:03<00:00, 31.89it/s]\n",
      "100%|██████████| 100/100 [00:03<00:00, 31.78it/s]\n",
      "100%|██████████| 100/100 [00:03<00:00, 32.75it/s]\n",
      "100%|██████████| 100/100 [00:03<00:00, 33.04it/s]\n",
      "100%|██████████| 100/100 [00:03<00:00, 32.87it/s]\n",
      "100%|██████████| 100/100 [00:03<00:00, 30.99it/s]\n",
      "100%|██████████| 100/100 [00:03<00:00, 32.75it/s]\n",
      "100%|██████████| 100/100 [00:03<00:00, 33.24it/s]\n",
      "100%|██████████| 100/100 [00:03<00:00, 32.63it/s]\n",
      "100%|██████████| 100/100 [00:03<00:00, 31.01it/s]\n",
      "100%|██████████| 100/100 [00:03<00:00, 31.34it/s]\n",
      "100%|██████████| 100/100 [00:03<00:00, 32.21it/s]\n",
      "100%|██████████| 100/100 [00:03<00:00, 30.16it/s]\n",
      "100%|██████████| 100/100 [00:03<00:00, 28.76it/s]\n",
      "100%|██████████| 100/100 [00:03<00:00, 32.61it/s]\n",
      "100%|██████████| 100/100 [00:03<00:00, 32.21it/s]\n",
      "100%|██████████| 100/100 [00:03<00:00, 31.14it/s]\n",
      "100%|██████████| 100/100 [00:03<00:00, 32.22it/s]\n",
      "100%|██████████| 100/100 [00:03<00:00, 31.45it/s]\n",
      "100%|██████████| 100/100 [00:03<00:00, 30.71it/s]\n",
      "100%|██████████| 100/100 [00:03<00:00, 31.50it/s]\n",
      "100%|██████████| 100/100 [00:03<00:00, 32.65it/s]\n",
      "100%|██████████| 100/100 [00:03<00:00, 32.69it/s]\n",
      "100%|██████████| 100/100 [00:03<00:00, 30.83it/s]\n",
      "100%|██████████| 100/100 [00:02<00:00, 33.78it/s]\n",
      "100%|██████████| 100/100 [00:03<00:00, 31.95it/s]\n",
      "100%|██████████| 100/100 [00:03<00:00, 30.76it/s]\n",
      "100%|██████████| 100/100 [00:03<00:00, 32.80it/s]\n",
      "100%|██████████| 100/100 [00:03<00:00, 32.86it/s]\n",
      "100%|██████████| 100/100 [00:03<00:00, 33.06it/s]\n",
      "100%|██████████| 100/100 [00:03<00:00, 31.55it/s]\n",
      "100%|██████████| 100/100 [00:03<00:00, 31.95it/s]\n",
      "100%|██████████| 100/100 [00:02<00:00, 36.34it/s]\n",
      "100%|██████████| 100/100 [00:03<00:00, 32.16it/s]\n",
      "100%|██████████| 100/100 [00:03<00:00, 30.34it/s]\n",
      "100%|██████████| 100/100 [00:03<00:00, 32.65it/s]\n",
      "100%|██████████| 100/100 [00:03<00:00, 32.55it/s]\n",
      "100%|██████████| 100/100 [00:03<00:00, 30.79it/s]\n",
      "100%|██████████| 100/100 [00:03<00:00, 31.83it/s]\n",
      "100%|██████████| 100/100 [00:03<00:00, 31.93it/s]\n",
      "100%|██████████| 100/100 [00:03<00:00, 32.55it/s]\n",
      "100%|██████████| 100/100 [00:03<00:00, 30.49it/s]\n",
      "100%|██████████| 100/100 [00:03<00:00, 32.51it/s]\n",
      "100%|██████████| 100/100 [00:03<00:00, 32.42it/s]\n",
      "100%|██████████| 100/100 [00:03<00:00, 31.04it/s]\n",
      "100%|██████████| 100/100 [00:03<00:00, 32.61it/s]\n",
      "100%|██████████| 100/100 [00:03<00:00, 32.03it/s]\n",
      "100%|██████████| 100/100 [00:03<00:00, 32.06it/s]\n",
      "100%|██████████| 100/100 [00:03<00:00, 30.36it/s]\n",
      "100%|██████████| 100/100 [00:03<00:00, 32.47it/s]\n",
      "100%|██████████| 100/100 [00:03<00:00, 32.64it/s]\n",
      "100%|██████████| 100/100 [00:03<00:00, 31.15it/s]\n",
      "100%|██████████| 100/100 [00:03<00:00, 32.12it/s]\n",
      "100%|██████████| 100/100 [00:03<00:00, 31.16it/s]\n",
      "100%|██████████| 100/100 [00:03<00:00, 31.77it/s]\n",
      "100%|██████████| 100/100 [00:03<00:00, 32.58it/s]\n",
      "100%|██████████| 100/100 [00:03<00:00, 32.66it/s]\n",
      "100%|██████████| 100/100 [00:03<00:00, 31.24it/s]\n",
      "100%|██████████| 100/100 [00:03<00:00, 31.87it/s]\n",
      "100%|██████████| 100/100 [00:03<00:00, 32.49it/s]\n",
      "100%|██████████| 100/100 [00:03<00:00, 32.14it/s]\n",
      "100%|██████████| 100/100 [00:03<00:00, 30.53it/s]\n",
      "100%|██████████| 100/100 [00:02<00:00, 33.40it/s]\n",
      "100%|██████████| 100/100 [00:03<00:00, 31.58it/s]\n",
      "100%|██████████| 100/100 [00:03<00:00, 30.76it/s]\n",
      "100%|██████████| 100/100 [00:03<00:00, 32.51it/s]\n",
      "100%|██████████| 100/100 [00:03<00:00, 31.78it/s]\n",
      "100%|██████████| 100/100 [00:03<00:00, 32.25it/s]\n",
      "100%|██████████| 100/100 [00:03<00:00, 30.58it/s]\n",
      "100%|██████████| 100/100 [00:03<00:00, 31.98it/s]\n",
      "100%|██████████| 100/100 [00:03<00:00, 32.83it/s]\n",
      "100%|██████████| 100/100 [00:03<00:00, 31.30it/s]\n",
      "100%|██████████| 100/100 [00:03<00:00, 30.76it/s]\n",
      "100%|██████████| 100/100 [00:03<00:00, 31.90it/s]\n",
      "100%|██████████| 100/100 [00:03<00:00, 29.57it/s]\n",
      "100%|██████████| 100/100 [00:03<00:00, 32.07it/s]\n",
      "100%|██████████| 100/100 [00:02<00:00, 35.39it/s]\n",
      "100%|██████████| 100/100 [00:03<00:00, 33.02it/s]\n",
      "100%|██████████| 100/100 [00:02<00:00, 35.20it/s]\n",
      "100%|██████████| 100/100 [00:02<00:00, 35.79it/s]\n",
      "100%|██████████| 100/100 [00:03<00:00, 33.18it/s]\n",
      "100%|██████████| 100/100 [00:02<00:00, 33.46it/s]\n",
      "100%|██████████| 100/100 [00:03<00:00, 32.17it/s]\n",
      "100%|██████████| 100/100 [00:03<00:00, 30.17it/s]\n",
      "100%|██████████| 100/100 [00:03<00:00, 32.87it/s]\n",
      "100%|██████████| 100/100 [00:03<00:00, 32.99it/s]\n",
      "100%|██████████| 100/100 [00:03<00:00, 29.64it/s]\n",
      "100%|██████████| 100/100 [00:03<00:00, 31.59it/s]\n",
      "100%|██████████| 100/100 [00:03<00:00, 32.43it/s]\n",
      "100%|██████████| 100/100 [00:03<00:00, 32.49it/s]\n",
      "100%|██████████| 100/100 [00:03<00:00, 30.93it/s]\n",
      "100%|██████████| 100/100 [00:03<00:00, 32.50it/s]\n",
      "100%|██████████| 100/100 [00:03<00:00, 32.66it/s]\n",
      "100%|██████████| 100/100 [00:03<00:00, 30.06it/s]\n",
      "100%|██████████| 100/100 [00:03<00:00, 31.40it/s]\n",
      "100%|██████████| 100/100 [00:03<00:00, 33.01it/s]\n",
      "100%|██████████| 100/100 [00:03<00:00, 30.68it/s]\n",
      "100%|██████████| 100/100 [00:03<00:00, 32.15it/s]\n",
      "100%|██████████| 100/100 [00:03<00:00, 32.65it/s]\n",
      "100%|██████████| 100/100 [00:03<00:00, 31.96it/s]\n",
      "100%|██████████| 100/100 [00:03<00:00, 31.49it/s]\n",
      "100%|██████████| 100/100 [00:03<00:00, 32.28it/s]\n",
      "100%|██████████| 100/100 [00:03<00:00, 31.68it/s]\n",
      "100%|██████████| 100/100 [00:03<00:00, 31.08it/s]\n",
      "100%|██████████| 100/100 [00:03<00:00, 31.52it/s]\n",
      "100%|██████████| 100/100 [00:03<00:00, 28.23it/s]\n",
      "100%|██████████| 100/100 [00:04<00:00, 24.97it/s]\n",
      "100%|██████████| 100/100 [00:03<00:00, 28.29it/s]\n",
      "100%|██████████| 100/100 [00:03<00:00, 31.02it/s]\n",
      "100%|██████████| 100/100 [00:03<00:00, 28.70it/s]\n",
      "100%|██████████| 100/100 [00:03<00:00, 30.28it/s]\n",
      "100%|██████████| 100/100 [00:03<00:00, 31.74it/s]\n",
      "100%|██████████| 100/100 [00:03<00:00, 29.89it/s]\n",
      "100%|██████████| 100/100 [00:03<00:00, 32.60it/s]\n",
      "100%|██████████| 100/100 [00:03<00:00, 31.71it/s]\n",
      "100%|██████████| 100/100 [00:03<00:00, 31.08it/s]\n",
      "100%|██████████| 100/100 [00:03<00:00, 32.54it/s]\n",
      "100%|██████████| 100/100 [00:03<00:00, 31.73it/s]\n",
      "100%|██████████| 100/100 [00:03<00:00, 30.74it/s]\n",
      "100%|██████████| 100/100 [00:03<00:00, 31.96it/s]\n",
      "100%|██████████| 100/100 [00:03<00:00, 32.10it/s]\n",
      "100%|██████████| 100/100 [00:03<00:00, 32.89it/s]\n",
      "100%|██████████| 100/100 [00:03<00:00, 30.65it/s]\n",
      "100%|██████████| 100/100 [00:03<00:00, 32.14it/s]\n",
      "100%|██████████| 100/100 [00:03<00:00, 31.04it/s]\n",
      "100%|██████████| 100/100 [00:03<00:00, 29.88it/s]\n",
      "100%|██████████| 100/100 [00:03<00:00, 30.45it/s]\n",
      "100%|██████████| 100/100 [00:03<00:00, 31.87it/s]\n",
      "100%|██████████| 100/100 [00:03<00:00, 30.93it/s]\n",
      "100%|██████████| 100/100 [00:03<00:00, 32.15it/s]\n",
      "100%|██████████| 100/100 [00:03<00:00, 30.31it/s]\n",
      "100%|██████████| 100/100 [00:03<00:00, 30.10it/s]\n",
      "100%|██████████| 100/100 [00:03<00:00, 31.54it/s]\n",
      "100%|██████████| 100/100 [00:03<00:00, 32.51it/s]\n",
      "100%|██████████| 100/100 [00:03<00:00, 30.42it/s]\n",
      "100%|██████████| 100/100 [00:03<00:00, 32.76it/s]\n",
      "100%|██████████| 100/100 [00:03<00:00, 32.46it/s]\n",
      "100%|██████████| 100/100 [00:03<00:00, 30.94it/s]\n",
      "100%|██████████| 100/100 [00:03<00:00, 32.87it/s]\n",
      "100%|██████████| 100/100 [00:03<00:00, 32.17it/s]\n",
      "100%|██████████| 100/100 [00:03<00:00, 31.74it/s]\n",
      "100%|██████████| 100/100 [00:03<00:00, 32.71it/s]\n",
      "100%|██████████| 100/100 [00:03<00:00, 33.23it/s]\n",
      "100%|██████████| 100/100 [00:02<00:00, 34.68it/s]\n",
      "100%|██████████| 100/100 [00:03<00:00, 30.62it/s]\n",
      "100%|██████████| 100/100 [00:03<00:00, 28.41it/s]\n",
      "100%|██████████| 100/100 [00:03<00:00, 27.52it/s]\n",
      "100%|██████████| 100/100 [00:03<00:00, 31.86it/s]\n",
      "100%|██████████| 100/100 [00:03<00:00, 27.47it/s]\n",
      "100%|██████████| 100/100 [00:03<00:00, 28.07it/s]\n",
      "100%|██████████| 100/100 [00:03<00:00, 30.91it/s]\n",
      "100%|██████████| 100/100 [00:03<00:00, 30.23it/s]\n",
      "100%|██████████| 100/100 [00:03<00:00, 29.23it/s]\n",
      "100%|██████████| 100/100 [00:03<00:00, 32.17it/s]\n",
      "100%|██████████| 100/100 [00:03<00:00, 32.48it/s]\n",
      "100%|██████████| 100/100 [00:03<00:00, 30.41it/s]\n",
      "100%|██████████| 100/100 [00:03<00:00, 28.80it/s]\n",
      "100%|██████████| 100/100 [00:03<00:00, 31.62it/s]\n",
      "100%|██████████| 100/100 [00:03<00:00, 32.57it/s]\n",
      "100%|██████████| 100/100 [00:03<00:00, 30.81it/s]\n",
      "100%|██████████| 100/100 [00:03<00:00, 31.60it/s]\n",
      "100%|██████████| 100/100 [00:03<00:00, 32.84it/s]\n",
      "100%|██████████| 100/100 [00:03<00:00, 30.83it/s]\n",
      "100%|██████████| 100/100 [00:03<00:00, 31.11it/s]\n",
      "100%|██████████| 100/100 [00:03<00:00, 31.73it/s]\n",
      "100%|██████████| 100/100 [00:03<00:00, 30.24it/s]\n",
      "100%|██████████| 100/100 [00:03<00:00, 31.10it/s]\n",
      "100%|██████████| 100/100 [00:03<00:00, 29.47it/s]\n",
      "100%|██████████| 100/100 [00:03<00:00, 28.84it/s]\n",
      "100%|██████████| 100/100 [00:03<00:00, 31.72it/s]\n",
      "100%|██████████| 100/100 [00:03<00:00, 28.47it/s]\n",
      "100%|██████████| 100/100 [00:03<00:00, 29.27it/s]\n",
      "100%|██████████| 100/100 [00:03<00:00, 31.81it/s]\n",
      "100%|██████████| 100/100 [00:03<00:00, 31.90it/s]\n",
      "100%|██████████| 100/100 [00:03<00:00, 27.83it/s]\n",
      "100%|██████████| 100/100 [00:03<00:00, 31.01it/s]\n",
      "100%|██████████| 100/100 [00:03<00:00, 31.97it/s]\n",
      "100%|██████████| 100/100 [00:03<00:00, 30.03it/s]\n",
      "100%|██████████| 100/100 [00:03<00:00, 31.38it/s]\n",
      "100%|██████████| 100/100 [00:03<00:00, 32.73it/s]\n",
      "100%|██████████| 100/100 [00:03<00:00, 30.14it/s]\n",
      "100%|██████████| 100/100 [00:03<00:00, 31.26it/s]\n",
      "100%|██████████| 100/100 [00:03<00:00, 30.64it/s]\n",
      "100%|██████████| 100/100 [00:03<00:00, 30.79it/s]\n",
      "100%|██████████| 100/100 [00:03<00:00, 31.14it/s]\n",
      "100%|██████████| 100/100 [00:03<00:00, 32.14it/s]\n",
      "100%|██████████| 100/100 [00:03<00:00, 30.32it/s]\n",
      "100%|██████████| 100/100 [00:03<00:00, 32.23it/s]\n",
      "100%|██████████| 100/100 [00:03<00:00, 32.08it/s]\n",
      "100%|██████████| 100/100 [00:03<00:00, 30.21it/s]\n",
      "100%|██████████| 100/100 [00:03<00:00, 31.64it/s]\n",
      "100%|██████████| 100/100 [00:03<00:00, 32.43it/s]\n",
      "100%|██████████| 100/100 [00:03<00:00, 30.40it/s]\n",
      "100%|██████████| 100/100 [00:03<00:00, 30.97it/s]\n",
      "100%|██████████| 100/100 [00:03<00:00, 31.74it/s]\n",
      "100%|██████████| 100/100 [00:03<00:00, 30.21it/s]\n",
      "100%|██████████| 100/100 [00:03<00:00, 30.29it/s]\n",
      "100%|██████████| 100/100 [00:03<00:00, 31.52it/s]\n",
      "100%|██████████| 100/100 [00:03<00:00, 29.79it/s]\n",
      "100%|██████████| 100/100 [00:03<00:00, 31.94it/s]\n",
      "100%|██████████| 100/100 [00:03<00:00, 31.85it/s]\n",
      "100%|██████████| 100/100 [00:03<00:00, 31.03it/s]\n",
      "100%|██████████| 100/100 [00:03<00:00, 32.14it/s]\n",
      "100%|██████████| 100/100 [00:03<00:00, 31.16it/s]\n",
      "100%|██████████| 100/100 [00:03<00:00, 30.43it/s]\n",
      "100%|██████████| 100/100 [00:03<00:00, 31.21it/s]\n",
      "100%|██████████| 100/100 [00:03<00:00, 30.74it/s]\n",
      "100%|██████████| 100/100 [00:03<00:00, 29.83it/s]\n",
      "100%|██████████| 100/100 [00:03<00:00, 32.76it/s]\n"
     ]
    }
   ],
   "source": [
    "l_losses = repeat_smcd(10, 100, 1000)\n",
    "np.save('./losses_smcd_repeated.npy', l_losses)"
   ]
  },
  {
   "cell_type": "markdown",
   "metadata": {},
   "source": [
    "# Prediction"
   ]
  },
  {
   "cell_type": "code",
   "execution_count": 38,
   "metadata": {},
   "outputs": [
    {
     "data": {
      "text/plain": [
       "dict_keys(['init_angle', 'init_pos', 'target_pos', 'true_pos', 'noisy_pos'])"
      ]
     },
     "execution_count": 38,
     "metadata": {},
     "output_type": "execute_result"
    }
   ],
   "source": [
    "test_data[0].keys()"
   ]
  },
  {
   "cell_type": "code",
   "execution_count": 39,
   "metadata": {},
   "outputs": [],
   "source": [
    "def plot_trace(t, start=0, end=-1):\n",
    "\tinit_pos = t['init_pos'].numpy()\n",
    "\ttarget_pos = t['target_pos'].numpy()\n",
    "\ttrue_pos = t['true_pos'].numpy()\n",
    "\tplt.figure()\n",
    "\tplt.scatter(*init_pos, label='init_pos')\n",
    "\tplt.scatter(*target_pos, label='target_pos')\n",
    "\tplt.plot(true_pos[start:end,0], true_pos[start:end,1], label='true_pos')\n",
    "\tplt.legend()"
   ]
  },
  {
   "cell_type": "code",
   "execution_count": 55,
   "metadata": {},
   "outputs": [
    {
     "data": {
      "image/png": "[encoded data removed]",
      "text/plain": [
       "<Figure size 640x480 with 1 Axes>"
      ]
     },
     "metadata": {},
     "output_type": "display_data"
    }
   ],
   "source": [
    "plot_trace(test_data[8], 0, 20)"
   ]
  },
  {
   "cell_type": "code",
   "execution_count": 134,
   "metadata": {},
   "outputs": [],
   "source": [
    "def test_smcd(mask_per_task, n_tasks = 100):\n",
    "\ttrace_pred = []\n",
    "\ttrace_true = []\n",
    "\tcriterion = nn.MSELoss()\n",
    "\twith tqdm(test_data[0:n_tasks], unit='task')as tepoch:\n",
    "\t\tfor i, task in enumerate(tepoch):\n",
    "\t\t\ttrace_pred_i = np.array([])\n",
    "\t\t\ttrace_true_i = np.array([])\n",
    "\t\t\tmodel = load_model()\n",
    "\t\t\tq0 = task['init_angle'].to(dtype=torch.float32)\n",
    "\t\t\txg = task['target_pos']\n",
    "\t\t\tx_oracle = task['true_pos']\n",
    "\t\t\tmodel.update_dropout_mask(mask_per_task[i])\n",
    "\t\t\tq = q0\n",
    "\t\t\tu = np.zeros_like(q)\n",
    "\t\t\tl = dataset.l[i]\n",
    "\t\t\t# x0 = task['init_pos']\n",
    "\t\t\t# x0_pred = model(q0)\n",
    "\t\t\t# loss = criterion(x0_pred, x0)\n",
    "\t\t\t# print(loss)\n",
    "\t\t\tfor t in range(len(x_oracle)):\n",
    "\t\t\t\tx_pred = model(q).detach()\n",
    "\t\t\t\tx_true = fk(q, l)\n",
    "\t\t\t\t# emit control from predicted position\n",
    "\t\t\t\tu = pd(q.squeeze(), x_pred.squeeze(), xg, u.squeeze(), k=[1,1e-3], l=l)\n",
    "\t\t\t\tq += u\n",
    "\t\t\t\t# normalize\n",
    "\t\t\t\tq = np.mod(q, 2 * np.pi)\n",
    "\t\t\t\tq[q>np.pi] -= 2*np.pi\n",
    "\t\t\t\t# the system evolve subject to control and real setting\n",
    "\t\t\t\t# print(x_pred)\n",
    "\t\t\t\t# print(x_true)\n",
    "\t\t\t\ttrace_pred_i = np.append(trace_pred_i, x_pred.squeeze().numpy(), axis=0)\n",
    "\t\t\t\ttrace_true_i = np.append(trace_true_i, x_true, axis=0)\n",
    "\t\t\ttrace_pred.append(trace_pred_i.reshape(-1,2))\n",
    "\t\t\ttrace_true.append(trace_true_i.reshape(-1,2))\n",
    "\treturn trace_pred, trace_true\n"
   ]
  },
  {
   "cell_type": "code",
   "execution_count": 135,
   "metadata": {},
   "outputs": [
    {
     "name": "stderr",
     "output_type": "stream",
     "text": [
      "100%|██████████| 100/100 [00:43<00:00,  2.28task/s]\n"
     ]
    }
   ],
   "source": [
    "trace_pred, trace_true = test_smcd(M_best_per_task)"
   ]
  },
  {
   "cell_type": "code",
   "execution_count": 186,
   "metadata": {},
   "outputs": [],
   "source": [
    "def plot_trace(i, start=0, end=-1):\n",
    "\tt = test_data[i]\n",
    "\tinit_pos = t['init_pos'].numpy()\n",
    "\ttarget_pos = t['target_pos'].numpy()\n",
    "\ttrue_pos = t['true_pos'].numpy()\n",
    "\tplt.figure()\n",
    "\tplt.scatter(*init_pos, label='init_pos', c='tab:grey')\n",
    "\tplt.scatter(*trace_pred[i][start], marker='o', label='init_pos_pred', c='tab:orange')\n",
    "\tplt.scatter(*target_pos, label='target_pos', marker='^', c='tab:green')\n",
    "\tplt.plot(true_pos[start:end,0], true_pos[start:end,1], label='oracle_trace', c='tab:grey')\n",
    "\tplt.plot(trace_true[i][start:end,0], trace_true[i][start:end,1], label='true_trace', c='tab:blue')\n",
    "\tplt.plot(trace_pred[i][start:end,0], trace_pred[i][start:end,1], label='pred_trace', c='tab:orange')\n",
    "\tplt.legend()"
   ]
  },
  {
   "cell_type": "code",
   "execution_count": 143,
   "metadata": {},
   "outputs": [],
   "source": [
    "def compute_loss(trace_true, trace_oracle):\n",
    "\tlosses = []\n",
    "\tcriterion = nn.MSELoss()\n",
    "\tfor true, oracle in zip(trace_true, trace_oracle):\n",
    "\t\tlosses.append(criterion(true, oracle))\n",
    "\treturn losses"
   ]
  },
  {
   "cell_type": "code",
   "execution_count": 147,
   "metadata": {},
   "outputs": [],
   "source": [
    "trace_oracle = [data['true_pos'].numpy() for data in test_data]"
   ]
  },
  {
   "cell_type": "code",
   "execution_count": 187,
   "metadata": {},
   "outputs": [
    {
     "data": {
      "text/plain": [
       "((200, 2), (200, 2))"
      ]
     },
     "execution_count": 187,
     "metadata": {},
     "output_type": "execute_result"
    }
   ],
   "source": [
    "len(trace_true), len(trace_oracle)\n",
    "trace_oracle[0].shape, trace_true[0].shape"
   ]
  },
  {
   "cell_type": "code",
   "execution_count": null,
   "metadata": {},
   "outputs": [],
   "source": [
    "compute_loss(trace_true, trace_oracle)"
   ]
  },
  {
   "cell_type": "code",
   "execution_count": 188,
   "metadata": {},
   "outputs": [
    {
     "data": {
      "image/png": "[encoded data removed]",
      "text/plain": [
       "<Figure size 640x480 with 1 Axes>"
      ]
     },
     "metadata": {},
     "output_type": "display_data"
    }
   ],
   "source": [
    "plot_trace(3, 0, 200)\n",
    "plt.savefig('./img/trace1.png')"
   ]
  },
  {
   "cell_type": "code",
   "execution_count": 189,
   "metadata": {},
   "outputs": [
    {
     "data": {
      "image/png": "[encoded data removed]",
      "text/plain": [
       "<Figure size 640x480 with 1 Axes>"
      ]
     },
     "metadata": {},
     "output_type": "display_data"
    }
   ],
   "source": [
    "plot_trace(9, 0, 200)\n",
    "plt.savefig('./img/trace2.png')"
   ]
  }
 ],
 "metadata": {
  "kernelspec": {
   "display_name": "base",
   "language": "python",
   "name": "python3"
  },
  "language_info": {
   "codemirror_mode": {
    "name": "ipython",
    "version": 3
   },
   "file_extension": ".py",
   "mimetype": "text/x-python",
   "name": "python",
   "nbconvert_exporter": "python",
   "pygments_lexer": "ipython3",
   "version": "3.9.12 (main, Apr  4 2022, 05:22:27) [MSC v.1916 64 bit (AMD64)]"
  },
  "vscode": {
   "interpreter": {
    "hash": "5179d32cf6ec497baf3f8a3ef987cc77c5d2dc691fdde20a56316522f61a7323"
   }
  }
 },
 "nbformat": 4,
 "nbformat_minor": 4
}
